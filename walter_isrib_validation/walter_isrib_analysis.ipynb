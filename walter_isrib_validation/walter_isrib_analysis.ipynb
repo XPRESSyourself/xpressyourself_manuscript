{
 "cells": [
  {
   "cell_type": "code",
   "execution_count": 1,
   "metadata": {},
   "outputs": [
    {
     "ename": "ModuleNotFoundError",
     "evalue": "No module named 'seaborn'",
     "output_type": "error",
     "traceback": [
      "\u001b[0;31m---------------------------------------------------------------------------\u001b[0m",
      "\u001b[0;31mModuleNotFoundError\u001b[0m                       Traceback (most recent call last)",
      "\u001b[0;32m<ipython-input-1-c00557c2caa3>\u001b[0m in \u001b[0;36m<module>\u001b[0;34m\u001b[0m\n\u001b[1;32m      1\u001b[0m \u001b[0;32mimport\u001b[0m \u001b[0mpandas\u001b[0m \u001b[0;32mas\u001b[0m \u001b[0mpd\u001b[0m\u001b[0;34m\u001b[0m\u001b[0m\n\u001b[0;32m----> 2\u001b[0;31m \u001b[0;32mimport\u001b[0m \u001b[0mxpresstools\u001b[0m \u001b[0;32mas\u001b[0m \u001b[0mxp\u001b[0m\u001b[0;34m\u001b[0m\u001b[0m\n\u001b[0m\u001b[1;32m      3\u001b[0m \u001b[0;32mfrom\u001b[0m \u001b[0mscipy\u001b[0m \u001b[0;32mimport\u001b[0m \u001b[0mstats\u001b[0m\u001b[0;34m\u001b[0m\u001b[0m\n\u001b[1;32m      4\u001b[0m \u001b[0;32mimport\u001b[0m \u001b[0mnumpy\u001b[0m \u001b[0;32mas\u001b[0m \u001b[0mnp\u001b[0m\u001b[0;34m\u001b[0m\u001b[0m\n\u001b[1;32m      5\u001b[0m \u001b[0;32mimport\u001b[0m \u001b[0mmatplotlib\u001b[0m\u001b[0;34m\u001b[0m\u001b[0m\n",
      "\u001b[0;32m~/scripts/XPRESSyourself/XPRESStools/xpresstools/__init__.py\u001b[0m in \u001b[0;36m<module>\u001b[0;34m\u001b[0m\n\u001b[1;32m     20\u001b[0m \"\"\"\n\u001b[1;32m     21\u001b[0m \u001b[0;34m\u001b[0m\u001b[0m\n\u001b[0;32m---> 22\u001b[0;31m \u001b[0;32mfrom\u001b[0m \u001b[0;34m.\u001b[0m\u001b[0mfetch\u001b[0m \u001b[0;32mimport\u001b[0m \u001b[0;34m*\u001b[0m\u001b[0;34m\u001b[0m\u001b[0m\n\u001b[0m\u001b[1;32m     23\u001b[0m \u001b[0;32mfrom\u001b[0m \u001b[0;34m.\u001b[0m\u001b[0mformat\u001b[0m \u001b[0;32mimport\u001b[0m \u001b[0;34m*\u001b[0m\u001b[0;34m\u001b[0m\u001b[0m\n\u001b[1;32m     24\u001b[0m \u001b[0;32mfrom\u001b[0m \u001b[0;34m.\u001b[0m\u001b[0mnormalize\u001b[0m \u001b[0;32mimport\u001b[0m \u001b[0;34m*\u001b[0m\u001b[0;34m\u001b[0m\u001b[0m\n",
      "\u001b[0;32m~/scripts/XPRESSyourself/XPRESStools/xpresstools/fetch.py\u001b[0m in \u001b[0;36m<module>\u001b[0;34m\u001b[0m\n\u001b[1;32m     28\u001b[0m \u001b[0;34m\u001b[0m\u001b[0m\n\u001b[1;32m     29\u001b[0m \u001b[0;34m\"\"\"IMPORT INTERNAL DEPENDENCIES\"\"\"\u001b[0m\u001b[0;34m\u001b[0m\u001b[0m\n\u001b[0;32m---> 30\u001b[0;31m \u001b[0;32mfrom\u001b[0m \u001b[0;34m.\u001b[0m\u001b[0mnormalize\u001b[0m \u001b[0;32mimport\u001b[0m \u001b[0mclean_df\u001b[0m\u001b[0;34m\u001b[0m\u001b[0m\n\u001b[0m\u001b[1;32m     31\u001b[0m \u001b[0;32mfrom\u001b[0m \u001b[0;34m.\u001b[0m\u001b[0mutils\u001b[0m \u001b[0;32mimport\u001b[0m \u001b[0mcheck_directories\u001b[0m\u001b[0;34m\u001b[0m\u001b[0m\n\u001b[1;32m     32\u001b[0m \u001b[0;34m\u001b[0m\u001b[0m\n",
      "\u001b[0;32m~/scripts/XPRESSyourself/XPRESStools/xpresstools/normalize.py\u001b[0m in \u001b[0;36m<module>\u001b[0;34m\u001b[0m\n\u001b[1;32m     33\u001b[0m \u001b[0;34m\u001b[0m\u001b[0m\n\u001b[1;32m     34\u001b[0m \u001b[0;34m\"\"\"IMPORT INTERNAL DEPENDENCIES\"\"\"\u001b[0m\u001b[0;34m\u001b[0m\u001b[0m\n\u001b[0;32m---> 35\u001b[0;31m \u001b[0;32mfrom\u001b[0m \u001b[0;34m.\u001b[0m\u001b[0mutils_analyze\u001b[0m \u001b[0;32mimport\u001b[0m \u001b[0mparallelize\u001b[0m\u001b[0;34m,\u001b[0m \u001b[0mcount_threshold_util\u001b[0m\u001b[0;34m\u001b[0m\u001b[0m\n\u001b[0m\u001b[1;32m     36\u001b[0m \u001b[0;34m\u001b[0m\u001b[0m\n\u001b[1;32m     37\u001b[0m \u001b[0;34m\"\"\"INITIALIZATION PARAMETERS\"\"\"\u001b[0m\u001b[0;34m\u001b[0m\u001b[0m\n",
      "\u001b[0;32m~/scripts/XPRESSyourself/XPRESStools/xpresstools/utils_analyze.py\u001b[0m in \u001b[0;36m<module>\u001b[0;34m\u001b[0m\n\u001b[1;32m     32\u001b[0m \u001b[0;32mimport\u001b[0m \u001b[0mmatplotlib\u001b[0m\u001b[0;34m.\u001b[0m\u001b[0mpatches\u001b[0m \u001b[0;32mas\u001b[0m \u001b[0mpatches\u001b[0m\u001b[0;34m\u001b[0m\u001b[0m\n\u001b[1;32m     33\u001b[0m \u001b[0;32mfrom\u001b[0m \u001b[0mmpl_toolkits\u001b[0m\u001b[0;34m.\u001b[0m\u001b[0mmplot3d\u001b[0m \u001b[0;32mimport\u001b[0m \u001b[0mAxes3D\u001b[0m\u001b[0;34m\u001b[0m\u001b[0m\n\u001b[0;32m---> 34\u001b[0;31m \u001b[0;32mimport\u001b[0m \u001b[0mseaborn\u001b[0m \u001b[0;32mas\u001b[0m \u001b[0msns\u001b[0m\u001b[0;34m\u001b[0m\u001b[0m\n\u001b[0m\u001b[1;32m     35\u001b[0m \u001b[0;34m\u001b[0m\u001b[0m\n\u001b[1;32m     36\u001b[0m \u001b[0;34m\"\"\"Default data prep for all analysis functions\"\"\"\u001b[0m\u001b[0;34m\u001b[0m\u001b[0m\n",
      "\u001b[0;31mModuleNotFoundError\u001b[0m: No module named 'seaborn'"
     ]
    }
   ],
   "source": [
    "import pandas as pd \n",
    "import xpresstools as xp\n",
    "from scipy import stats\n",
    "import numpy as np\n",
    "import matplotlib\n",
    "import matplotlib.pyplot as plt \n",
    "import matplotlib.patches as patches\n",
    "\n",
    "from rpy2.robjects.packages import importr\n",
    "from rpy2.robjects.vectors import FloatVector\n",
    "\n",
    "%matplotlib inline"
   ]
  },
  {
   "cell_type": "markdown",
   "metadata": {},
   "source": [
    "### Get data and clean up formatting"
   ]
  },
  {
   "cell_type": "code",
   "execution_count": null,
   "metadata": {},
   "outputs": [],
   "source": [
    "data = pd.read_csv('isrib_raw_counts.txt',sep='\\t', index_col=0)\n",
    "\n",
    "data.shape"
   ]
  },
  {
   "cell_type": "markdown",
   "metadata": {},
   "source": [
    "### Threshold"
   ]
  },
  {
   "cell_type": "code",
   "execution_count": null,
   "metadata": {},
   "outputs": [],
   "source": [
    "data_t = data.loc[data.max(axis=1) > 25]\n",
    "\n",
    "print(str(data.shape[0]) + ' genes before thresholding')\n",
    "print(str(data_t.shape[0]) + ' genes before thresholding')"
   ]
  },
  {
   "cell_type": "code",
   "execution_count": null,
   "metadata": {},
   "outputs": [],
   "source": [
    "data_t.loc['UCP2']"
   ]
  },
  {
   "cell_type": "code",
   "execution_count": null,
   "metadata": {},
   "outputs": [],
   "source": [
    "data_t.sum()"
   ]
  },
  {
   "cell_type": "markdown",
   "metadata": {},
   "source": [
    "### TPM Normalize"
   ]
  },
  {
   "cell_type": "code",
   "execution_count": null,
   "metadata": {},
   "outputs": [],
   "source": [
    "#Create length dictionary\n",
    "len_dict = pd.read_csv('length_dict.txt',sep='\\t', header=None, index_col=0)\n",
    "del len_dict.index.name\n",
    "len_dict.columns = ['length']\n",
    "len_dict.length = len_dict.length / 1e3\n",
    "\n",
    "#Perform RPK calculations\n",
    "\"\"\"data_c = data_t.copy()\n",
    "data_rpk = data_c.div(len_dict.length, axis=0)\n",
    "data_rpk = data_rpk.dropna(axis=0)\"\"\"\n",
    "\n",
    "#Perform per-million calculations\n",
    "data_rpm = xp.rpm(data_t)\n",
    "\n",
    "data_rpm.head()"
   ]
  },
  {
   "cell_type": "code",
   "execution_count": null,
   "metadata": {},
   "outputs": [],
   "source": [
    "data_rpm.loc['UCP2']"
   ]
  },
  {
   "cell_type": "markdown",
   "metadata": {},
   "source": [
    "### Check replicate and RPF to RNA correlations (Fig 1E)"
   ]
  },
  {
   "cell_type": "code",
   "execution_count": null,
   "metadata": {},
   "outputs": [],
   "source": [
    "data_c = data_rpm.copy()\n",
    "\n",
    "gene_a = data_c[['isrib_a_hek_mrna']].sum(axis=1).values.tolist()\n",
    "gene_a = [x + 1 for x in gene_a]\n",
    "gene_a = np.array(gene_a).astype(np.float)\n",
    "gene_a = np.ndarray.tolist(gene_a)\n",
    "\n",
    "gene_b = data_c[['isrib_b_hek_mrna']].sum(axis=1).values.tolist()\n",
    "gene_b = [x + 1 for x in gene_b]\n",
    "gene_b = np.array(gene_b).astype(np.float)\n",
    "gene_b = np.ndarray.tolist(gene_b)\n",
    "\n",
    "gene_a = np.log2(gene_a)\n",
    "gene_b = np.log2(gene_b)\n",
    "\n",
    "slope, intercept, r_value, p_value, std_err = stats.linregress(gene_a, gene_b)\n",
    "x = np.linspace(np.amin(gene_a), np.amax(gene_b), 100)\n",
    "y = (slope * x) + intercept\n",
    "\n",
    "fig, ax = plt.subplots(1,1, figsize=(4,4))\n",
    "\n",
    "ax.scatter(gene_a, gene_b, s=1,c='black')\n",
    "ax.set_title('R2 = ' + str(r_value ** 2) + '\\np-value ' + str(p_value))\n",
    "ax.plot(x, y, '-r')\n",
    "\n",
    "plt.show()"
   ]
  },
  {
   "cell_type": "code",
   "execution_count": null,
   "metadata": {},
   "outputs": [],
   "source": [
    "data_c = data_rpm.copy()\n",
    "\n",
    "gene_a = data_c[['ribo_isrib_a_ribo']].sum(axis=1).values.tolist()\n",
    "gene_a = [x + 1 for x in gene_a]\n",
    "gene_a = np.array(gene_a).astype(np.float)\n",
    "gene_a = np.ndarray.tolist(gene_a)\n",
    "\n",
    "gene_b = data_c[['ribo_isrib_b_ribo']].sum(axis=1).values.tolist()\n",
    "gene_b = [x + 1 for x in gene_b]\n",
    "gene_b = np.array(gene_b).astype(np.float)\n",
    "gene_b = np.ndarray.tolist(gene_b)\n",
    "\n",
    "gene_a = np.log2(gene_a)\n",
    "gene_b = np.log2(gene_b)\n",
    "\n",
    "slope, intercept, r_value, p_value, std_err = stats.linregress(gene_a, gene_b)\n",
    "x = np.linspace(np.amin(gene_a), np.amax(gene_b), 100)\n",
    "y = (slope * x) + intercept\n",
    "\n",
    "fig, ax = plt.subplots(1,1, figsize=(4,4))\n",
    "\n",
    "ax.scatter(gene_a, gene_b, s=1,c='black')\n",
    "ax.set_title('R2 = ' + str(r_value ** 2) + '\\np-value ' + str(p_value))\n",
    "ax.plot(x, y, '-r')\n",
    "\n",
    "plt.show()"
   ]
  },
  {
   "cell_type": "code",
   "execution_count": null,
   "metadata": {},
   "outputs": [],
   "source": [
    "data_c = data_rpm.copy()\n",
    "\n",
    "gene_a = data_c[['isrib_a_hek_mrna']].sum(axis=1).values.tolist()\n",
    "gene_a = [x + 1 for x in gene_a]\n",
    "gene_a = np.array(gene_a).astype(np.float)\n",
    "gene_a = np.ndarray.tolist(gene_a)\n",
    "\n",
    "gene_b = data_c[['ribo_isrib_a_ribo']].sum(axis=1).values.tolist()\n",
    "gene_b = [x + 1 for x in gene_b]\n",
    "gene_b = np.array(gene_b).astype(np.float)\n",
    "gene_b = np.ndarray.tolist(gene_b)\n",
    "\n",
    "gene_a = np.log2(gene_a)\n",
    "gene_b = np.log2(gene_b)\n",
    "\n",
    "slope, intercept, r_value, p_value, std_err = stats.linregress(gene_a, gene_b)\n",
    "x = np.linspace(np.amin(gene_a), np.amax(gene_b), 100)\n",
    "y = (slope * x) + intercept\n",
    "\n",
    "fig, ax = plt.subplots(1,1, figsize=(4,4))\n",
    "\n",
    "ax.scatter(gene_a, gene_b, s=1,c='black')\n",
    "ax.set_title('R = ' + str(r_value) + '\\np-value ' + str(p_value))\n",
    "ax.plot(x, y, '-r')\n",
    "\n",
    "plt.show()"
   ]
  },
  {
   "cell_type": "markdown",
   "metadata": {},
   "source": [
    "### Perform Translation Efficiency Normalizations"
   ]
  },
  {
   "cell_type": "code",
   "execution_count": null,
   "metadata": {},
   "outputs": [],
   "source": [
    "data_te = data_rpm.copy()\n",
    "\n",
    "data_te['isrib_a'] = data_te['ribo_isrib_a_ribo'] / data_te['isrib_a_hek_mrna']\n",
    "data_te['isrib_b'] = data_te['ribo_isrib_b_ribo'] / data_te['isrib_b_hek_mrna']\n",
    "data_te['tm_a'] = data_te['ribo_tm_a_ribo'] / data_te['tm_a_hek_mrna']\n",
    "data_te['tm_b'] = data_te['ribo_tm_b_ribo'] / data_te['tm_b_hek_mrna']\n",
    "data_te['tmisrib_a'] = data_te['ribo_tmisrib_a_ribo'] / data_te['tmisrib_a_hek_mrna']\n",
    "data_te['tmisrib_b'] = data_te['ribo_tmisrib_b_ribo'] / data_te['tmisrib_b_hek_mrna']\n",
    "data_te['untr_a'] = data_te['ribo_untr_a_ribo'] / data_te['untr_a_hek_mrna']\n",
    "data_te['untr_b'] = data_te['ribo_untr_b_ribo'] / data_te['untr_b_hek_mrna']\n",
    "\n",
    "data_te = data_te[['untr_a','untr_b','tm_a','tm_b','isrib_a','isrib_b','tmisrib_a','tmisrib_b']]\n",
    "\n",
    "data_te.head()"
   ]
  },
  {
   "cell_type": "code",
   "execution_count": null,
   "metadata": {},
   "outputs": [],
   "source": [
    "#Remove samples with 0 log-fold change and log2 transform\n",
    "data_logte = data_te.copy()\n",
    "\n",
    "data_logte = data_logte[(data_logte != 0).all(1)]\n",
    "\n",
    "data_logte = np.log2(data_logte)\n",
    "\n",
    "data_logte.head()"
   ]
  },
  {
   "cell_type": "code",
   "execution_count": null,
   "metadata": {},
   "outputs": [],
   "source": [
    "xp.check_samples(data_logte)"
   ]
  },
  {
   "cell_type": "markdown",
   "metadata": {},
   "source": [
    "### Test accuracy of XPRESSpipe counts table vs Ingolia table"
   ]
  },
  {
   "cell_type": "code",
   "execution_count": null,
   "metadata": {},
   "outputs": [],
   "source": [
    "xpresspipe_table = pd.read_csv('isrib_counts_xpresspipe.tsv',sep='\\t',index_col=0)\n",
    "xpresspipe_table = xp.convert_names_gtf(xpresspipe_table, '/Users/jordan/Desktop/Homo_sapiens.GRCh38.95.gtf')\n",
    "\n",
    "xpresspipe_table.head()"
   ]
  },
  {
   "cell_type": "code",
   "execution_count": null,
   "metadata": {},
   "outputs": [],
   "source": [
    "xpresspipe_table_deduped = xpresspipe_table[~xpresspipe_table.index.duplicated(keep='first')]\n",
    "data_deduped = data[~data.index.duplicated(keep='first')]\n",
    "\n",
    "xpresspipe_table_deduped = xpresspipe_table_deduped.dropna()\n",
    "data_deduped = data_deduped.dropna()\n",
    "\n",
    "xpresspipe_table_deduped = xpresspipe_table_deduped.reindex(labels=data_deduped.index.tolist())\n",
    "data_deduped = data_deduped.reindex(labels=xpresspipe_table_deduped.index.tolist())\n",
    "\n",
    "xpresspipe_table_deduped = xpresspipe_table_deduped.dropna()\n",
    "data_deduped = data_deduped.dropna()\n",
    "\n",
    "data_deduped = data_deduped.reindex(labels=xpresspipe_table_deduped.index.tolist())\n",
    "\n",
    "print(xpresspipe_table_deduped.shape)\n",
    "print(data_deduped.shape)"
   ]
  },
  {
   "cell_type": "code",
   "execution_count": null,
   "metadata": {},
   "outputs": [],
   "source": [
    "gene_a = data_deduped.sum(axis=1).values.tolist()\n",
    "gene_a = [x + 1 for x in gene_a]\n",
    "gene_a = np.array(gene_a).astype(np.float)\n",
    "gene_a = np.ndarray.tolist(gene_a)\n",
    "\n",
    "gene_b = xpresspipe_table_deduped.sum(axis=1).values.tolist()\n",
    "gene_b = [x + 1 for x in gene_b]\n",
    "gene_b = np.array(gene_b).astype(np.float)\n",
    "gene_b = np.ndarray.tolist(gene_b)\n",
    "\n",
    "gene_a = np.log2(gene_a)\n",
    "gene_b = np.log2(gene_b)\n",
    "\n",
    "slope, intercept, r_value, p_value, std_err = stats.linregress(gene_a, gene_b)\n",
    "x = np.linspace(np.amin(gene_a), np.amax(gene_b), 100)\n",
    "y = (slope * x) + intercept\n",
    "\n",
    "fig, ax = plt.subplots(1,1, figsize=(4,4))\n",
    "\n",
    "ax.scatter(gene_a, gene_b, s=1,c='black')\n",
    "ax.set_title('R = ' + str(r_value) + '\\np-value ' + str(p_value))\n",
    "ax.plot(x, y, '-r')\n",
    "\n",
    "plt.show()"
   ]
  },
  {
   "cell_type": "code",
   "execution_count": null,
   "metadata": {},
   "outputs": [],
   "source": [
    "gene_a = data_deduped.sum(axis=1).values.tolist()\n",
    "gene_a = [x + 1 for x in gene_a]\n",
    "gene_a = np.array(gene_a).astype(np.float)\n",
    "gene_a = np.ndarray.tolist(gene_a)\n",
    "\n",
    "gene_b = xpresspipe_table_deduped[xpresspipe_table_deduped.columns[1::2]].sum(axis=1).values.tolist()\n",
    "gene_b = [x + 1 for x in gene_b]\n",
    "gene_b = np.array(gene_b).astype(np.float)\n",
    "gene_b = np.ndarray.tolist(gene_b)\n",
    "\n",
    "gene_a = np.log2(gene_a)\n",
    "gene_b = np.log2(gene_b)\n",
    "\n",
    "slope, intercept, r_value, p_value, std_err = stats.linregress(gene_a, gene_b)\n",
    "x = np.linspace(np.amin(gene_a), np.amax(gene_b), 100)\n",
    "y = (slope * x) + intercept\n",
    "\n",
    "fig, ax = plt.subplots(1,1, figsize=(4,4))\n",
    "\n",
    "ax.scatter(gene_a, gene_b, s=1,c='black')\n",
    "ax.set_title('R = ' + str(r_value) + '\\np-value ' + str(p_value))\n",
    "ax.plot(x, y, '-r')\n",
    "\n",
    "plt.show()"
   ]
  },
  {
   "cell_type": "code",
   "execution_count": null,
   "metadata": {},
   "outputs": [],
   "source": [
    "gene_a = data_deduped.sum(axis=1).values.tolist()\n",
    "gene_a = [x + 1 for x in gene_a]\n",
    "gene_a = np.array(gene_a).astype(np.float)\n",
    "gene_a = np.ndarray.tolist(gene_a)\n",
    "\n",
    "gene_b = xpresspipe_table_deduped[xpresspipe_table_deduped.columns[::2]].sum(axis=1).values.tolist()\n",
    "gene_b = [x + 1 for x in gene_b]\n",
    "gene_b = np.array(gene_b).astype(np.float)\n",
    "gene_b = np.ndarray.tolist(gene_b)\n",
    "\n",
    "gene_a = np.log2(gene_a)\n",
    "gene_b = np.log2(gene_b)\n",
    "\n",
    "slope, intercept, r_value, p_value, std_err = stats.linregress(gene_a, gene_b)\n",
    "x = np.linspace(np.amin(gene_a), np.amax(gene_b), 100)\n",
    "y = (slope * x) + intercept\n",
    "\n",
    "fig, ax = plt.subplots(1,1, figsize=(4,4))\n",
    "\n",
    "ax.scatter(gene_a, gene_b, s=1,c='black')\n",
    "ax.set_title('R = ' + str(r_value) + '\\np-value ' + str(p_value))\n",
    "ax.plot(x, y, '-r')\n",
    "\n",
    "plt.show()"
   ]
  },
  {
   "cell_type": "code",
   "execution_count": null,
   "metadata": {},
   "outputs": [],
   "source": [
    "gene_a = data_deduped['isrib_a_hek_mrna'].values.tolist()\n",
    "gene_a = [x + 1 for x in gene_a]\n",
    "gene_a = np.array(gene_a).astype(np.float)\n",
    "gene_a = np.ndarray.tolist(gene_a)\n",
    "\n",
    "gene_b = xpresspipe_table_deduped['trimmed_SRR1795413_1_final'].values.tolist()\n",
    "gene_b = [x + 1 for x in gene_b]\n",
    "gene_b = np.array(gene_b).astype(np.float)\n",
    "gene_b = np.ndarray.tolist(gene_b)\n",
    "\n",
    "gene_a = np.log2(gene_a)\n",
    "gene_b = np.log2(gene_b)\n",
    "\n",
    "slope, intercept, r_value, p_value, std_err = stats.linregress(gene_a, gene_b)\n",
    "x = np.linspace(np.amin(gene_a), np.amax(gene_b), 100)\n",
    "y = (slope * x) + intercept\n",
    "\n",
    "fig, ax = plt.subplots(1,1, figsize=(4,4))\n",
    "\n",
    "ax.scatter(gene_a, gene_b, s=1,c='black')\n",
    "ax.set_title('R = ' + str(r_value) + '\\np-value ' + str(p_value))\n",
    "ax.plot(x, y, '-r')\n",
    "\n",
    "plt.show()"
   ]
  },
  {
   "cell_type": "code",
   "execution_count": null,
   "metadata": {},
   "outputs": [],
   "source": [
    "gene_a = xpresspipe_table_deduped['trimmed_SRR1795429_1_final'].values.tolist()\n",
    "gene_a = [x + 1 for x in gene_a]\n",
    "gene_a = np.array(gene_a).astype(np.float)\n",
    "gene_a = np.ndarray.tolist(gene_a)\n",
    "\n",
    "gene_b = xpresspipe_table_deduped['trimmed_SRR1795413_1_final'].values.tolist()\n",
    "gene_b = [x + 1 for x in gene_b]\n",
    "gene_b = np.array(gene_b).astype(np.float)\n",
    "gene_b = np.ndarray.tolist(gene_b)\n",
    "\n",
    "gene_a = np.log2(gene_a)\n",
    "gene_b = np.log2(gene_b)\n",
    "\n",
    "slope, intercept, r_value, p_value, std_err = stats.linregress(gene_a, gene_b)\n",
    "x = np.linspace(np.amin(gene_a), np.amax(gene_b), 100)\n",
    "y = (slope * x) + intercept\n",
    "\n",
    "fig, ax = plt.subplots(1,1, figsize=(4,4))\n",
    "\n",
    "ax.scatter(gene_a, gene_b, s=1,c='black')\n",
    "ax.set_title('R = ' + str(r_value) + '\\np-value ' + str(p_value))\n",
    "ax.plot(x, y, '-r')\n",
    "\n",
    "plt.show()"
   ]
  },
  {
   "cell_type": "markdown",
   "metadata": {},
   "source": [
    "### Reproduce Figure 1 from DOI: 10.7554/eLife.05033 (original paper)"
   ]
  },
  {
   "cell_type": "markdown",
   "metadata": {},
   "source": [
    "##### Tm treatment vs Untreated"
   ]
  },
  {
   "cell_type": "code",
   "execution_count": null,
   "metadata": {},
   "outputs": [],
   "source": [
    "data_fig1a = data_rpm.copy()\n",
    "data_fig1a = data_fig1a[['ribo_tm_a_ribo','ribo_tm_b_ribo','tm_a_hek_mrna','tm_b_hek_mrna',\n",
    "                         'ribo_untr_a_ribo','ribo_untr_b_ribo','untr_a_hek_mrna','untr_b_hek_mrna']]\n",
    "\n",
    "data_fig1a['ribo_tm'] = data_fig1a['ribo_tm_a_ribo'] + data_fig1a['ribo_tm_b_ribo']\n",
    "data_fig1a['rna_tm'] = data_fig1a['tm_a_hek_mrna'] + data_fig1a['tm_b_hek_mrna']\n",
    "data_fig1a['ribo_untr'] = data_fig1a['ribo_untr_a_ribo'] + data_fig1a['ribo_untr_b_ribo']\n",
    "data_fig1a['rna_untr'] = data_fig1a['untr_a_hek_mrna'] + data_fig1a['untr_b_hek_mrna']\n",
    "\n",
    "data_fig1a['ribo_fc'] = data_fig1a['ribo_tm'] / data_fig1a['ribo_untr']\n",
    "data_fig1a['rna_fc'] = data_fig1a['rna_tm'] / data_fig1a['rna_untr']\n",
    "\n",
    "data_fig1a_plot = data_fig1a[['ribo_fc','rna_fc']]\n",
    "\n",
    "data_fig1a_plot = data_fig1a_plot[(data_fig1a_plot != 0).all(1)]\n",
    "data_fig1a_plot = data_fig1a_plot.replace([np.inf, -np.inf], np.nan).dropna()\n",
    "\n",
    "#Remove duplicate indices\n",
    "data_fig1a_plot = data_fig1a_plot[~data_fig1a_plot.index.duplicated(keep='first')]\n",
    "\n",
    "data_fig1a_plot.head()"
   ]
  },
  {
   "cell_type": "code",
   "execution_count": null,
   "metadata": {},
   "outputs": [],
   "source": [
    "data_fig1a = data_fig1a[(data_fig1a != 0).all(1)]\n",
    "data_fig1a = data_fig1a.replace([np.inf, -np.inf], np.nan).dropna()\n",
    "\n",
    "data_signif = xp.calculate_p(data_fig1a, 'ribo_tm_', 'ribo_untr_')\n",
    "data_signif['p_value'] = 10 ** -data_signif['-log$_1$$_0$(P-Value)']\n",
    "\n",
    "#Use R's padjust BH\n",
    "stats = importr('stats')\n",
    "p_adjust = stats.p_adjust(FloatVector(data_signif['p_value'].values.tolist()), method = 'BH')\n",
    "data_signif['fdr'] = np.asarray(p_adjust).tolist()"
   ]
  },
  {
   "cell_type": "code",
   "execution_count": null,
   "metadata": {},
   "outputs": [],
   "source": [
    "sig_list = data_signif.loc[data_signif['p_value'] < 0.05].index.tolist()\n",
    "data_fig1a_threshold = data_fig1a_plot.reindex(labels=sig_list, axis=0)\n",
    "print(data_fig1a_threshold.shape)\n",
    "\n",
    "data_fig1a_orf = data_fig1a_plot.loc[['SLC35A4','PTP4A1','UCP2','PNRC2','C7orf31','BCL2L11','SAT1']]\n",
    "print(data_fig1a_orf.shape)\n",
    "\n",
    "data_fig1a_isr = data_fig1a_plot.loc[['ATF5','ATF4','DDIT3','PPP1R15A']]\n",
    "print(data_fig1a_isr.shape)"
   ]
  },
  {
   "cell_type": "code",
   "execution_count": null,
   "metadata": {},
   "outputs": [],
   "source": [
    "plt.close()\n",
    "plt.clf()\n",
    "\n",
    "#Prepare plot\n",
    "fig, ax = plt.subplots(1,1, figsize=(7,7))\n",
    "plt.grid(False)\n",
    "\n",
    "for index, row in data_fig1a_orf.iterrows():\n",
    "    if index == 'BCL2L11' or index == 'PNRC2':\n",
    "        ax.text(row[1], row[0] - 0.3, str(index), horizontalalignment='right', size='medium', color='green', weight='semibold')\n",
    "    else:\n",
    "        ax.text(row[1] - 0.05, row[0] - 0.1, str(index), horizontalalignment='right', size='medium', color='green', weight='semibold')\n",
    "for index, row in data_fig1a_isr.iterrows():\n",
    "    ax.text(row[1] + 0.1, row[0] , str(index), horizontalalignment='left', size='medium', color='#be00be', weight='semibold')\n",
    "    \n",
    "    \n",
    "ax.axhline(1, ls='-', color='black')\n",
    "ax.axvline(1, ls='-', color='black')\n",
    "\n",
    "rect = patches.Rectangle((.5,.5),1.5,1.5,linewidth=1.5,edgecolor='gray',facecolor='none')\n",
    "ax.add_patch(rect)\n",
    "\n",
    "ax.set_ylabel(\"Ribo-Seq (Tm/UT)\", fontsize=16)\n",
    "ax.set_xlabel(\"mRNA-Seq (Tm/UT)\", fontsize=16)\n",
    "ax.set_xlim(.125,8.5)\n",
    "ax.set_ylim(.125,8.5)\n",
    "ax.set_facecolor(\"#FFFFFF\")\n",
    "\n",
    "x = [.125,.250,.500,1,2,4,8]\n",
    "ticks = [\"1/8\",\"1/4\",\"1/2\",\"1\",\"2\",\"4\",\"8\"]\n",
    "\n",
    "ax.set_xscale('log', basex=2)\n",
    "ax.set_xticks(x)\n",
    "ax.set_xticklabels(ticks, fontsize=12)\n",
    "ax.set_xticklabels([\"\"]*len(x), minor=True)\n",
    "\n",
    "ax.set_yscale('log', basey=2)\n",
    "ax.set_yticks(x)\n",
    "ax.set_yticklabels(ticks, fontsize=12)\n",
    "ax.set_yticklabels([\"\"]*len(x), minor=True)\n",
    "\n",
    "#Prep data\n",
    "#All\n",
    "ribo_all = data_fig1a[['ribo_fc']].sum(axis=1).values.tolist()\n",
    "ribo_all = np.array(ribo_all).astype(np.float)\n",
    "ribo_all = np.ndarray.tolist(ribo_all)\n",
    "\n",
    "rna_all = data_fig1a[['rna_fc']].sum(axis=1).values.tolist()\n",
    "rna_all = np.array(rna_all).astype(np.float)\n",
    "rna_all = np.ndarray.tolist(rna_all)\n",
    "\n",
    "#ORFs\n",
    "ribo_orf = data_fig1a_orf[['ribo_fc']].sum(axis=1).values.tolist()\n",
    "ribo_orf = np.array(ribo_orf).astype(np.float)\n",
    "ribo_orf = np.ndarray.tolist(ribo_orf)\n",
    "\n",
    "rna_orf = data_fig1a_orf[['rna_fc']].sum(axis=1).values.tolist()\n",
    "rna_orf = np.array(rna_orf).astype(np.float)\n",
    "rna_orf = np.ndarray.tolist(rna_orf)\n",
    "\n",
    "#ISR\n",
    "ribo_isr = data_fig1a_isr[['ribo_fc']].sum(axis=1).values.tolist()\n",
    "ribo_isr = np.array(ribo_isr).astype(np.float)\n",
    "ribo_isr = np.ndarray.tolist(ribo_isr)\n",
    "\n",
    "rna_isr = data_fig1a_isr[['rna_fc']].sum(axis=1).values.tolist()\n",
    "rna_isr = np.array(rna_isr).astype(np.float)\n",
    "rna_isr = np.ndarray.tolist(rna_isr)\n",
    "\n",
    "#Plot data\n",
    "ax.scatter(rna_all, ribo_all, s=.5,c='gray')\n",
    "#ax.scatter(rna_thres, ribo_thres, s=5,c='black',alpha=0.7)\n",
    "ax.scatter(rna_orf, ribo_orf, s=25,c='green')\n",
    "ax.scatter(rna_isr, ribo_isr, s=25,c='#be00be')\n",
    "\n",
    "plt.savefig('./plots/tm_1a.pdf', dpi=1800, bbox_inches='tight')\n",
    "\n",
    "plt.show"
   ]
  },
  {
   "cell_type": "markdown",
   "metadata": {},
   "source": [
    "##### Tm + ISRIB treament vs untreated"
   ]
  },
  {
   "cell_type": "code",
   "execution_count": null,
   "metadata": {},
   "outputs": [],
   "source": [
    "data_fig1b = data_tpm.copy()\n",
    "data_fig1b = data_fig1b[['ribo_tmisrib_a_ribo','ribo_tmisrib_b_ribo','tmisrib_a_hek_mrna','tmisrib_b_hek_mrna',\n",
    "                         'ribo_untr_a_ribo','ribo_untr_b_ribo','untr_a_hek_mrna','untr_b_hek_mrna']]\n",
    "\n",
    "data_fig1b['ribo_tmisrib'] = data_fig1b['ribo_tmisrib_a_ribo'] + data_fig1b['ribo_tmisrib_b_ribo']\n",
    "data_fig1b['rna_tmisrib'] = data_fig1b['tmisrib_a_hek_mrna'] + data_fig1b['tmisrib_b_hek_mrna']\n",
    "data_fig1b['ribo_untr'] = data_fig1b['ribo_untr_a_ribo'] + data_fig1b['ribo_untr_b_ribo']\n",
    "data_fig1b['rna_untr'] = data_fig1b['untr_a_hek_mrna'] + data_fig1b['untr_b_hek_mrna']\n",
    "\n",
    "data_fig1b['ribo_fc'] = data_fig1b['ribo_tmisrib'] / data_fig1b['ribo_untr']\n",
    "data_fig1b['rna_fc'] = data_fig1b['rna_tmisrib'] / data_fig1b['rna_untr']\n",
    "\n",
    "data_fig1b_plot = data_fig1b[['ribo_fc','rna_fc']]\n",
    "\n",
    "data_fig1b_plot = data_fig1b_plot[(data_fig1b_plot != 0).all(1)]\n",
    "data_fig1b_plot = data_fig1b_plot.replace([np.inf, -np.inf], np.nan).dropna()\n",
    "\n",
    "#Remove duplicate indices\n",
    "data_fig1b_plot = data_fig1b_plot[~data_fig1b_plot.index.duplicated(keep='first')]\n",
    "\n",
    "data_fig1b_plot.head()"
   ]
  },
  {
   "cell_type": "code",
   "execution_count": null,
   "metadata": {},
   "outputs": [],
   "source": [
    "data_fig1b = data_fig1b[(data_fig1b != 0).all(1)]\n",
    "data_fig1b = data_fig1b.replace([np.inf, -np.inf], np.nan).dropna()\n",
    "\n",
    "data_signif_1b = xp.calculate_p(data_fig1b, 'ribo_tmisrib_', 'ribo_untr_')\n",
    "data_signif_1b['p_value'] = 10 ** -data_signif_1b['-log$_1$$_0$(P-Value)']\n",
    "\n",
    "#Use R's padjust BH\n",
    "stats = importr('stats')\n",
    "p_adjust_1b = stats.p_adjust(FloatVector(data_signif_1b['p_value'].values.tolist()), method = 'BH')\n",
    "data_signif_1b['fdr'] = np.asarray(p_adjust_1b).tolist()"
   ]
  },
  {
   "cell_type": "code",
   "execution_count": null,
   "metadata": {},
   "outputs": [],
   "source": [
    "sig_list = data_signif_1b.loc[data_signif_1b['p_value'] < 0.05].index.tolist()\n",
    "data_fig1b_threshold = data_fig1b_plot.reindex(labels=sig_list, axis=0)\n",
    "print(data_fig1b_threshold.shape)\n",
    "\n",
    "data_fig1b_orf = data_fig1b_plot.loc[['SLC35A4','PTP4A1','UCP2','PNRC2','C7orf31','BCL2L11','SAT1']]\n",
    "print(data_fig1b_orf.shape)\n",
    "\n",
    "data_fig1b_isr = data_fig1b_plot.loc[['ATF5','ATF4','DDIT3','PPP1R15A']]\n",
    "print(data_fig1b_isr.shape)"
   ]
  },
  {
   "cell_type": "code",
   "execution_count": null,
   "metadata": {},
   "outputs": [],
   "source": [
    "plt.close()\n",
    "plt.clf()\n",
    "\n",
    "#Prepare plot\n",
    "fig, ax = plt.subplots(1,1, figsize=(7,7))\n",
    "plt.grid(False)\n",
    "\n",
    "for index, row in data_fig1b_orf.iterrows():\n",
    "    ax.text(row[1] - 0.1, row[0] - 0.05, str(index), horizontalalignment='right', size='medium', color='green', weight='semibold')\n",
    "for index, row in data_fig1b_isr.iterrows():\n",
    "    if index == 'DDIT3':\n",
    "        ax.text(row[1], row[0], str(index), horizontalalignment='right', size='medium', color='#be00be', weight='semibold')\n",
    "    else:\n",
    "        ax.text(row[1] + 0.1, row[0] , str(index), horizontalalignment='left', size='medium', color='#be00be', weight='semibold')\n",
    "    \n",
    "ax.axhline(1, ls='-', color='black')\n",
    "ax.axvline(1, ls='-', color='black')\n",
    "\n",
    "rect = patches.Rectangle((.5,.5),1.5,1.5,linewidth=1.5,edgecolor='gray',facecolor='none')\n",
    "ax.add_patch(rect)\n",
    "\n",
    "ax.set_ylabel(\"Ribo-Seq (Tm + ISRIB/UT)\", fontsize=16)\n",
    "ax.set_xlabel(\"mRNA-Seq (Tm + ISRIB/UT)\", fontsize=16)\n",
    "ax.set_xlim(.125,8.5)\n",
    "ax.set_ylim(.125,8.5)\n",
    "ax.set_facecolor(\"#FFFFFF\")\n",
    "\n",
    "x = [.125,.250,.500,1,2,4,8]\n",
    "ticks = [\"1/8\",\"1/4\",\"1/2\",\"1\",\"2\",\"4\",\"8\"]\n",
    "\n",
    "ax.set_xscale('log', basex=2)\n",
    "ax.set_xticks(x)\n",
    "ax.set_xticklabels(ticks, fontsize=12)\n",
    "ax.set_xticklabels([\"\"]*len(xm), minor=True)\n",
    "\n",
    "ax.set_yscale('log', basey=2)\n",
    "ax.set_yticks(x)\n",
    "ax.set_yticklabels(ticks, fontsize=12)\n",
    "ax.set_yticklabels([\"\"]*len(xm), minor=True)\n",
    "\n",
    "#Prep data\n",
    "#All\n",
    "ribo_all = data_fig1b[['ribo_fc']].sum(axis=1).values.tolist()\n",
    "ribo_all = np.array(ribo_all).astype(np.float)\n",
    "ribo_all = np.ndarray.tolist(ribo_all)\n",
    "\n",
    "rna_all = data_fig1b[['rna_fc']].sum(axis=1).values.tolist()\n",
    "rna_all = np.array(rna_all).astype(np.float)\n",
    "rna_all = np.ndarray.tolist(rna_all)\n",
    "\n",
    "#ORFs\n",
    "ribo_orf = data_fig1b_orf[['ribo_fc']].sum(axis=1).values.tolist()\n",
    "ribo_orf = np.array(ribo_orf).astype(np.float)\n",
    "ribo_orf = np.ndarray.tolist(ribo_orf)\n",
    "\n",
    "rna_orf = data_fig1b_orf[['rna_fc']].sum(axis=1).values.tolist()\n",
    "rna_orf = np.array(rna_orf).astype(np.float)\n",
    "rna_orf = np.ndarray.tolist(rna_orf)\n",
    "\n",
    "#ISR\n",
    "ribo_isr = data_fig1b_isr[['ribo_fc']].sum(axis=1).values.tolist()\n",
    "ribo_isr = np.array(ribo_isr).astype(np.float)\n",
    "ribo_isr = np.ndarray.tolist(ribo_isr)\n",
    "\n",
    "rna_isr = data_fig1b_isr[['rna_fc']].sum(axis=1).values.tolist()\n",
    "rna_isr = np.array(rna_isr).astype(np.float)\n",
    "rna_isr = np.ndarray.tolist(rna_isr)\n",
    "\n",
    "#Plot data\n",
    "ax.scatter(rna_all, ribo_all, s=.5,c='gray')\n",
    "#ax.scatter(rna_thres, ribo_thres, s=5,c='black',alpha=0.7)\n",
    "ax.scatter(rna_orf, ribo_orf, s=25,c='green')\n",
    "ax.scatter(rna_isr, ribo_isr, s=25,c='#be00be')\n",
    "\n",
    "plt.savefig('./plots/tmisrib_1b.pdf', dpi=1800, bbox_inches='tight')\n",
    "\n",
    "plt.show"
   ]
  },
  {
   "cell_type": "markdown",
   "metadata": {},
   "source": [
    "##### ISRIB treament vs untreated"
   ]
  },
  {
   "cell_type": "code",
   "execution_count": null,
   "metadata": {},
   "outputs": [],
   "source": [
    "data_fig1c = data_tpm.copy()\n",
    "data_fig1c = data_fig1c[['ribo_isrib_a_ribo','ribo_isrib_b_ribo','isrib_a_hek_mrna','isrib_b_hek_mrna',\n",
    "                         'ribo_untr_a_ribo','ribo_untr_b_ribo','untr_a_hek_mrna','untr_b_hek_mrna']]\n",
    "\n",
    "data_fig1c['ribo_isrib'] = data_fig1c['ribo_isrib_a_ribo'] + data_fig1c['ribo_isrib_b_ribo']\n",
    "data_fig1c['rna_isrib'] = data_fig1c['isrib_a_hek_mrna'] + data_fig1c['isrib_b_hek_mrna']\n",
    "data_fig1c['ribo_untr'] = data_fig1c['ribo_untr_a_ribo'] + data_fig1c['ribo_untr_b_ribo']\n",
    "data_fig1c['rna_untr'] = data_fig1c['untr_a_hek_mrna'] + data_fig1c['untr_b_hek_mrna']\n",
    "\n",
    "data_fig1c['ribo_fc'] = data_fig1c['ribo_isrib'] / data_fig1c['ribo_untr']\n",
    "data_fig1c['rna_fc'] = data_fig1c['rna_isrib'] / data_fig1c['rna_untr']\n",
    "\n",
    "data_fig1c_plot = data_fig1c[['ribo_fc','rna_fc']]\n",
    "\n",
    "data_fig1c_plot = data_fig1c_plot[(data_fig1c_plot != 0).all(1)]\n",
    "data_fig1c_plot = data_fig1c_plot.replace([np.inf, -np.inf], np.nan).dropna()\n",
    "\n",
    "#Remove duplicate indices\n",
    "data_fig1c_plot = data_fig1c_plot[~data_fig1c_plot.index.duplicated(keep='first')]\n",
    "\n",
    "data_fig1c_plot.head()"
   ]
  },
  {
   "cell_type": "code",
   "execution_count": null,
   "metadata": {},
   "outputs": [],
   "source": [
    "data_fig1c = data_fig1c[(data_fig1c != 0).all(1)]\n",
    "data_fig1c = data_fig1c.replace([np.inf, -np.inf], np.nan).dropna()\n",
    "\n",
    "data_signif_1c = xp.calculate_p(data_fig1c, 'ribo_isrib_', 'ribo_untr_')\n",
    "data_signif_1c['p_value'] = 10 ** -data_signif_1c['-log$_1$$_0$(P-Value)']\n",
    "\n",
    "#Use R's padjust BH\n",
    "stats = importr('stats')\n",
    "p_adjust_1c = stats.p_adjust(FloatVector(data_signif_1c['p_value'].values.tolist()), method = 'BH')\n",
    "data_signif_1c['fdr'] = np.asarray(p_adjust_1c).tolist()"
   ]
  },
  {
   "cell_type": "code",
   "execution_count": null,
   "metadata": {},
   "outputs": [],
   "source": [
    "sig_list = data_signif_1c.loc[data_signif_1c['p_value'] < 0.05].index.tolist()\n",
    "data_fig1c_threshold = data_fig1c_plot.reindex(labels=sig_list, axis=0)\n",
    "print(data_fig1c_threshold.shape)\n",
    "\n",
    "data_fig1c_orf = data_fig1c_plot.loc[['SLC35A4','PTP4A1','UCP2','PNRC2','C7orf31','BCL2L11','SAT1']]\n",
    "print(data_fig1c_orf.shape)\n",
    "\n",
    "data_fig1c_isr = data_fig1c_plot.loc[['ATF5','ATF4','DDIT3','PPP1R15A']]\n",
    "print(data_fig1c_isr.shape)"
   ]
  },
  {
   "cell_type": "code",
   "execution_count": null,
   "metadata": {},
   "outputs": [],
   "source": [
    "plt.close()\n",
    "plt.clf()\n",
    "\n",
    "#Prepare plot\n",
    "fig, ax = plt.subplots(1,1, figsize=(7,7))\n",
    "plt.grid(False)\n",
    "\n",
    "for index, row in data_fig1c_orf.iterrows():\n",
    "    ax.text(row[1] + 0.1, row[0], str(index), horizontalalignment='left', size='medium', color='green', weight='semibold')\n",
    "for index, row in data_fig1c_isr.iterrows():\n",
    "    ax.text(row[1] - 0.1, row[0] - 0.05, str(index), horizontalalignment='right', size='medium', color='#be00be', weight='semibold')\n",
    "\n",
    "ax.axhline(1, ls='-', color='black')\n",
    "ax.axvline(1, ls='-', color='black')\n",
    "\n",
    "rect = patches.Rectangle((.5,.5),1.5,1.5,linewidth=1.5,edgecolor='gray',facecolor='none')\n",
    "ax.add_patch(rect)\n",
    "\n",
    "ax.set_ylabel(\"Ribo-Seq (ISRIB/UT)\", fontsize=16)\n",
    "ax.set_xlabel(\"mRNA-Seq (ISRIB/UT)\", fontsize=16)\n",
    "ax.set_xlim(.125,8.5)\n",
    "ax.set_ylim(.125,8.5)\n",
    "ax.set_facecolor(\"#FFFFFF\")\n",
    "\n",
    "x = [.125,.250,.500,1,2,4,8]\n",
    "ticks = [\"1/8\",\"1/4\",\"1/2\",\"1\",\"2\",\"4\",\"8\"]\n",
    "\n",
    "ax.set_xscale('log', basex=2)\n",
    "ax.set_xticks(x)\n",
    "ax.set_xticklabels(ticks, fontsize=12)\n",
    "ax.set_xticklabels([\"\"]*len(xm), minor=True)\n",
    "\n",
    "ax.set_yscale('log', basey=2)\n",
    "ax.set_yticks(x)\n",
    "ax.set_yticklabels(ticks, fontsize=12)\n",
    "ax.set_yticklabels([\"\"]*len(xm), minor=True)\n",
    "\n",
    "#Prep data\n",
    "#All\n",
    "ribo_all = data_fig1c[['ribo_fc']].sum(axis=1).values.tolist()\n",
    "ribo_all = np.array(ribo_all).astype(np.float)\n",
    "ribo_all = np.ndarray.tolist(ribo_all)\n",
    "\n",
    "rna_all = data_fig1c[['rna_fc']].sum(axis=1).values.tolist()\n",
    "rna_all = np.array(rna_all).astype(np.float)\n",
    "rna_all = np.ndarray.tolist(rna_all)\n",
    "\n",
    "#ORFs\n",
    "ribo_orf = data_fig1c_orf[['ribo_fc']].sum(axis=1).values.tolist()\n",
    "ribo_orf = np.array(ribo_orf).astype(np.float)\n",
    "ribo_orf = np.ndarray.tolist(ribo_orf)\n",
    "\n",
    "rna_orf = data_fig1c_orf[['rna_fc']].sum(axis=1).values.tolist()\n",
    "rna_orf = np.array(rna_orf).astype(np.float)\n",
    "rna_orf = np.ndarray.tolist(rna_orf)\n",
    "\n",
    "#ISR\n",
    "ribo_isr = data_fig1c_isr[['ribo_fc']].sum(axis=1).values.tolist()\n",
    "ribo_isr = np.array(ribo_isr).astype(np.float)\n",
    "ribo_isr = np.ndarray.tolist(ribo_isr)\n",
    "\n",
    "rna_isr = data_fig1c_isr[['rna_fc']].sum(axis=1).values.tolist()\n",
    "rna_isr = np.array(rna_isr).astype(np.float)\n",
    "rna_isr = np.ndarray.tolist(rna_isr)\n",
    "\n",
    "#Plot data\n",
    "ax.scatter(rna_all, ribo_all, s=.5,c='gray')\n",
    "#ax.scatter(rna_thres, ribo_thres, s=5,c='black',alpha=0.7)\n",
    "ax.scatter(rna_orf, ribo_orf, s=25,c='green')\n",
    "ax.scatter(rna_isr, ribo_isr, s=25,c='#be00be')\n",
    "\n",
    "plt.savefig('./plots/isrib_1c.pdf', dpi=1800, bbox_inches='tight')\n",
    "\n",
    "plt.show"
   ]
  },
  {
   "cell_type": "markdown",
   "metadata": {},
   "source": [
    "### Metabolism analysis"
   ]
  },
  {
   "cell_type": "code",
   "execution_count": null,
   "metadata": {},
   "outputs": [],
   "source": [
    "mitocarta = pd.read_csv('./human_mitocarta_gene_list.txt',sep='\\t', header=None)\n",
    "mitocarta = mitocarta[0].tolist()\n",
    "\n",
    "enzymes = pd.read_csv('./reactome_metabolism_enzymes_gene_list.txt',sep='\\t', header=None)\n",
    "enzymes = enzymes[0].tolist()"
   ]
  },
  {
   "cell_type": "markdown",
   "metadata": {},
   "source": [
    "##### Mitocarta"
   ]
  },
  {
   "cell_type": "code",
   "execution_count": null,
   "metadata": {},
   "outputs": [],
   "source": [
    "data_fig1a_mitocarta = data_fig1a_plot.reindex(labels=mitocarta)\n",
    "print(data_fig1a_mitocarta.shape)"
   ]
  },
  {
   "cell_type": "code",
   "execution_count": null,
   "metadata": {},
   "outputs": [],
   "source": [
    "plt.close()\n",
    "plt.clf()\n",
    "\n",
    "#Prepare plot\n",
    "fig, ax = plt.subplots(1,1, figsize=(7,7))\n",
    "plt.grid(False)\n",
    "\n",
    "ax.axhline(1, ls='-', color='black')\n",
    "ax.axvline(1, ls='-', color='black')\n",
    "\n",
    "ax.axhline(2, ls='--', color='gray')\n",
    "ax.axhline(0.5, ls='--', color='gray')\n",
    "\n",
    "ax.set_ylabel(\"Ribo-Seq (Tm/UT)\", fontsize=16)\n",
    "ax.set_xlabel(\"mRNA-Seq (Tm/UT)\", fontsize=16)\n",
    "ax.set_xlim(.125,8.5)\n",
    "ax.set_ylim(.125,8.5)\n",
    "ax.set_facecolor(\"#FFFFFF\")\n",
    "\n",
    "for index, row in data_fig1a_mitocarta.iterrows():\n",
    "    if index == 'ACCS':\n",
    "        ax.text(row[1] + 0.05, row[0], str(index), horizontalalignment='left', size='medium', color='#be00be', weight='semibold')\n",
    "    elif index == 'CPT1B':\n",
    "        ax.text(row[1] + 0.05, row[0] + 0.05, str(index), horizontalalignment='left', size='medium', color='#be00be', weight='semibold')\n",
    "    elif index == 'NGRN':\n",
    "        ax.text(row[1] + 0.05, row[0] - 0.05, str(index), horizontalalignment='left', size='medium', color='#be00be', weight='semibold')\n",
    "    elif index == 'CPS1':\n",
    "        ax.text(row[1] - 0.05, row[0] - 0.025, str(index), horizontalalignment='right', size='medium', color='#be00be', weight='semibold')\n",
    "    elif index in ['SLMO1', 'UCP2', 'OBSCN']:\n",
    "        ax.text(row[1] + 0.05, row[0] - 0.05, str(index), horizontalalignment='left', size='medium', color='#be00be', weight='semibold')\n",
    "    elif index == 'MTHFD2L':\n",
    "        ax.text(row[1] + 0.05, row[0] + 0.05, str(index), horizontalalignment='left', size='medium', color='#be00be', weight='semibold')\n",
    "    else:\n",
    "        pass\n",
    "\n",
    "x = [.125,.250,.500,1,2,4,8]\n",
    "ticks = [\"1/8\",\"1/4\",\"1/2\",\"1\",\"2\",\"4\",\"8\"]\n",
    "\n",
    "ax.set_xscale('log', basex=2)\n",
    "ax.set_xticks(x)\n",
    "ax.set_xticklabels(ticks, fontsize=12)\n",
    "ax.set_xticklabels([\"\"]*len(xm), minor=True)\n",
    "\n",
    "ax.set_yscale('log', basey=2)\n",
    "ax.set_yticks(x)\n",
    "ax.set_yticklabels(ticks, fontsize=12)\n",
    "ax.set_yticklabels([\"\"]*len(xm), minor=True)\n",
    "\n",
    "#Prep data\n",
    "#All\n",
    "ribo_all = data_fig1a[['ribo_fc']].sum(axis=1).values.tolist()\n",
    "ribo_all = np.array(ribo_all).astype(np.float)\n",
    "ribo_all = np.ndarray.tolist(ribo_all)\n",
    "\n",
    "rna_all = data_fig1a[['rna_fc']].sum(axis=1).values.tolist()\n",
    "rna_all = np.array(rna_all).astype(np.float)\n",
    "rna_all = np.ndarray.tolist(rna_all)\n",
    "\n",
    "#ORFs\n",
    "ribo_mito = data_fig1a_mitocarta[['ribo_fc']].sum(axis=1).values.tolist()\n",
    "ribo_mito = np.array(ribo_mito).astype(np.float)\n",
    "ribo_mito = np.ndarray.tolist(ribo_mito)\n",
    "\n",
    "rna_mito = data_fig1a_mitocarta[['rna_fc']].sum(axis=1).values.tolist()\n",
    "rna_mito = np.array(rna_mito).astype(np.float)\n",
    "rna_mito = np.ndarray.tolist(rna_mito)\n",
    "\n",
    "#Plot data\n",
    "ax.scatter(rna_all, ribo_all, s=.5,c='gray')\n",
    "ax.scatter(rna_mito, ribo_mito, s=10,c='#002c80')\n",
    "\n",
    "plt.savefig('./plots/tm_mitocarta.pdf', dpi=1800, bbox_inches='tight')\n",
    "\n",
    "plt.show"
   ]
  },
  {
   "cell_type": "code",
   "execution_count": null,
   "metadata": {},
   "outputs": [],
   "source": [
    "data_fig1a_mitocarta.loc[data_fig1a_mitocarta['ribo_fc'] > 2]"
   ]
  },
  {
   "cell_type": "code",
   "execution_count": null,
   "metadata": {},
   "outputs": [],
   "source": [
    "data_fig1a_mitocarta.loc[data_fig1a_mitocarta['ribo_fc'] < .5]"
   ]
  },
  {
   "cell_type": "code",
   "execution_count": null,
   "metadata": {},
   "outputs": [],
   "source": [
    "data_fig1b_mitocarta = data_fig1b_plot.reindex(labels=mitocarta)\n",
    "print(data_fig1b_mitocarta.shape)"
   ]
  },
  {
   "cell_type": "code",
   "execution_count": null,
   "metadata": {},
   "outputs": [],
   "source": [
    "plt.close()\n",
    "plt.clf()\n",
    "\n",
    "#Prepare plot\n",
    "fig, ax = plt.subplots(1,1, figsize=(7,7))\n",
    "plt.grid(False)\n",
    "\n",
    "ax.axhline(1, ls='-', color='black')\n",
    "ax.axvline(1, ls='-', color='black')\n",
    "\n",
    "ax.axhline(2, ls='--', color='gray')\n",
    "ax.axhline(0.5, ls='--', color='gray')\n",
    "\n",
    "ax.set_ylabel(\"Ribo-Seq (Tm + ISRIB/UT)\", fontsize=16)\n",
    "ax.set_xlabel(\"mRNA-Seq (Tm + ISRIB/UT)\", fontsize=16)\n",
    "ax.set_xlim(.125,8.5)\n",
    "ax.set_ylim(.125,8.5)\n",
    "ax.set_facecolor(\"#FFFFFF\")\n",
    "\n",
    "for index, row in data_fig1b_mitocarta.iterrows():\n",
    "    if index == 'ACCS':\n",
    "        ax.text(row[1] + 0.05, row[0], str(index), horizontalalignment='left', size='medium', color='#be00be', weight='semibold')\n",
    "    elif index == 'CPT1B':\n",
    "        ax.text(row[1] + 0.05, row[0] + 0.05, str(index), horizontalalignment='left', size='medium', color='#be00be', weight='semibold')\n",
    "    elif index == 'NGRN':\n",
    "        ax.text(row[1] + 0.05, row[0] - 0.05, str(index), horizontalalignment='left', size='medium', color='#be00be', weight='semibold')\n",
    "    elif index == 'MTHFD2L':\n",
    "        ax.text(row[1] - 0.05, row[0] - 0.05, str(index), horizontalalignment='right', size='medium', color='#be00be', weight='semibold')\n",
    "    elif index ==  'UCP2':\n",
    "        ax.text(row[1] - 0.05, row[0] - 0.05, str(index), horizontalalignment='right', size='medium', color='#be00be', weight='semibold')\n",
    "    elif index == 'CPS1':\n",
    "        ax.text(row[1] - 0.05, row[0] - 0.025, str(index), horizontalalignment='right', size='medium', color='#be00be', weight='semibold')\n",
    "    elif index in ['SLMO1', 'OBSCN']:\n",
    "        ax.text(row[1] + 0.05, row[0] - 0.05, str(index), horizontalalignment='left', size='medium', color='#be00be', weight='semibold')\n",
    "    else:\n",
    "        pass\n",
    "\n",
    "x = [.125,.250,.500,1,2,4,8]\n",
    "ticks = [\"1/8\",\"1/4\",\"1/2\",\"1\",\"2\",\"4\",\"8\"]\n",
    "\n",
    "ax.set_xscale('log', basex=2)\n",
    "ax.set_xticks(x)\n",
    "ax.set_xticklabels(ticks, fontsize=12)\n",
    "ax.set_xticklabels([\"\"]*len(xm), minor=True)\n",
    "\n",
    "ax.set_yscale('log', basey=2)\n",
    "ax.set_yticks(x)\n",
    "ax.set_yticklabels(ticks, fontsize=12)\n",
    "ax.set_yticklabels([\"\"]*len(xm), minor=True)\n",
    "\n",
    "#Prep data\n",
    "#All\n",
    "ribo_all = data_fig1b[['ribo_fc']].sum(axis=1).values.tolist()\n",
    "ribo_all = np.array(ribo_all).astype(np.float)\n",
    "ribo_all = np.ndarray.tolist(ribo_all)\n",
    "\n",
    "rna_all = data_fig1b[['rna_fc']].sum(axis=1).values.tolist()\n",
    "rna_all = np.array(rna_all).astype(np.float)\n",
    "rna_all = np.ndarray.tolist(rna_all)\n",
    "\n",
    "#ORFs\n",
    "ribo_mito = data_fig1b_mitocarta[['ribo_fc']].sum(axis=1).values.tolist()\n",
    "ribo_mito = np.array(ribo_mito).astype(np.float)\n",
    "ribo_mito = np.ndarray.tolist(ribo_mito)\n",
    "\n",
    "rna_mito = data_fig1b_mitocarta[['rna_fc']].sum(axis=1).values.tolist()\n",
    "rna_mito = np.array(rna_mito).astype(np.float)\n",
    "rna_mito = np.ndarray.tolist(rna_mito)\n",
    "\n",
    "#Plot data\n",
    "ax.scatter(rna_all, ribo_all, s=.5,c='gray')\n",
    "ax.scatter(rna_mito, ribo_mito, s=10,c='#002c80')\n",
    "\n",
    "plt.savefig('./plots/tmisrib_mitocarta.pdf', dpi=1800, bbox_inches='tight')\n",
    "\n",
    "plt.show"
   ]
  },
  {
   "cell_type": "code",
   "execution_count": null,
   "metadata": {},
   "outputs": [],
   "source": [
    "data_fig1b_mitocarta.loc[data_fig1b_mitocarta['ribo_fc'] > 2]"
   ]
  },
  {
   "cell_type": "code",
   "execution_count": null,
   "metadata": {},
   "outputs": [],
   "source": [
    "data_fig1b_mitocarta.loc[data_fig1b_mitocarta['ribo_fc'] < .5]"
   ]
  },
  {
   "cell_type": "code",
   "execution_count": null,
   "metadata": {},
   "outputs": [],
   "source": [
    "data_fig1c_mitocarta = data_fig1c_plot.reindex(labels=mitocarta)\n",
    "print(data_fig1c_mitocarta.shape)"
   ]
  },
  {
   "cell_type": "code",
   "execution_count": null,
   "metadata": {},
   "outputs": [],
   "source": [
    "plt.close()\n",
    "plt.clf()\n",
    "\n",
    "#Prepare plot\n",
    "fig, ax = plt.subplots(1,1, figsize=(7,7))\n",
    "plt.grid(False)\n",
    "\n",
    "ax.axhline(1, ls='-', color='black')\n",
    "ax.axvline(1, ls='-', color='black')\n",
    "\n",
    "ax.axhline(2, ls='--', color='gray')\n",
    "ax.axhline(0.5, ls='--', color='gray')\n",
    "\n",
    "ax.set_ylabel(\"Ribo-Seq (ISRIB/UT)\", fontsize=16)\n",
    "ax.set_xlabel(\"mRNA-Seq (ISRIB/UT)\", fontsize=16)\n",
    "ax.set_xlim(.125,8.5)\n",
    "ax.set_ylim(.125,8.5)\n",
    "ax.set_facecolor(\"#FFFFFF\")\n",
    "\n",
    "for index, row in data_fig1c_mitocarta.iterrows():\n",
    "    if index == 'ACCS':\n",
    "        ax.text(row[1] + 0.05, row[0], str(index), horizontalalignment='left', size='medium', color='#be00be', weight='semibold')\n",
    "    elif index == 'CPT1B':\n",
    "        ax.text(row[1] + 0.05, row[0] + 0.05, str(index), horizontalalignment='left', size='medium', color='#be00be', weight='semibold')\n",
    "    elif index == 'NGRN':\n",
    "        ax.text(row[1] + 0.05, row[0] - 0.05, str(index), horizontalalignment='left', size='medium', color='#be00be', weight='semibold')\n",
    "    elif index == 'MTHFD2L':\n",
    "        ax.text(row[1] - 0.05, row[0] - 0.05, str(index), horizontalalignment='right', size='medium', color='#be00be', weight='semibold')\n",
    "    elif index ==  'UCP2':\n",
    "        ax.text(row[1] - 0.05, row[0] - 0.05, str(index), horizontalalignment='right', size='medium', color='#be00be', weight='semibold')\n",
    "    elif index == 'CPS1':\n",
    "        ax.text(row[1] - 0.05, row[0] - 0.025, str(index), horizontalalignment='right', size='medium', color='#be00be', weight='semibold')\n",
    "    elif index in ['SLMO1', 'OBSCN']:\n",
    "        ax.text(row[1] + 0.05, row[0] - 0.05, str(index), horizontalalignment='left', size='medium', color='#be00be', weight='semibold')\n",
    "    else:\n",
    "        pass\n",
    "\n",
    "x = [.125,.250,.500,1,2,4,8]\n",
    "ticks = [\"1/8\",\"1/4\",\"1/2\",\"1\",\"2\",\"4\",\"8\"]\n",
    "\n",
    "ax.set_xscale('log', basex=2)\n",
    "ax.set_xticks(x)\n",
    "ax.set_xticklabels(ticks, fontsize=12)\n",
    "ax.set_xticklabels([\"\"]*len(xm), minor=True)\n",
    "\n",
    "ax.set_yscale('log', basey=2)\n",
    "ax.set_yticks(x)\n",
    "ax.set_yticklabels(ticks, fontsize=12)\n",
    "ax.set_yticklabels([\"\"]*len(xm), minor=True)\n",
    "\n",
    "#Prep data\n",
    "#All\n",
    "ribo_all = data_fig1c[['ribo_fc']].sum(axis=1).values.tolist()\n",
    "ribo_all = np.array(ribo_all).astype(np.float)\n",
    "ribo_all = np.ndarray.tolist(ribo_all)\n",
    "\n",
    "rna_all = data_fig1c[['rna_fc']].sum(axis=1).values.tolist()\n",
    "rna_all = np.array(rna_all).astype(np.float)\n",
    "rna_all = np.ndarray.tolist(rna_all)\n",
    "\n",
    "#ORFs\n",
    "ribo_mito = data_fig1c_mitocarta[['ribo_fc']].sum(axis=1).values.tolist()\n",
    "ribo_mito = np.array(ribo_mito).astype(np.float)\n",
    "ribo_mito = np.ndarray.tolist(ribo_mito)\n",
    "\n",
    "rna_mito = data_fig1c_mitocarta[['rna_fc']].sum(axis=1).values.tolist()\n",
    "rna_mito = np.array(rna_mito).astype(np.float)\n",
    "rna_mito = np.ndarray.tolist(rna_mito)\n",
    "\n",
    "#Plot data\n",
    "ax.scatter(rna_all, ribo_all, s=.5,c='gray')\n",
    "ax.scatter(rna_mito, ribo_mito, s=10,c='#002c80')\n",
    "\n",
    "plt.savefig('./plots/isrib_mitocarta_1hr.pdf', dpi=1800, bbox_inches='tight')\n",
    "\n",
    "plt.show"
   ]
  },
  {
   "cell_type": "code",
   "execution_count": null,
   "metadata": {},
   "outputs": [],
   "source": [
    "data_fig1c_mitocarta.loc[data_fig1c_mitocarta['ribo_fc'] > 2]"
   ]
  },
  {
   "cell_type": "code",
   "execution_count": null,
   "metadata": {},
   "outputs": [],
   "source": [
    "data_fig1c_mitocarta.loc[data_fig1c_mitocarta['ribo_fc'] < 0.5]"
   ]
  },
  {
   "cell_type": "markdown",
   "metadata": {},
   "source": [
    "##### Metabolic Enzymes"
   ]
  },
  {
   "cell_type": "code",
   "execution_count": null,
   "metadata": {},
   "outputs": [],
   "source": [
    "data_fig1a_enzymes = data_fig1a_plot.reindex(labels=enzymes)\n",
    "print(data_fig1a_enzymes.shape)"
   ]
  },
  {
   "cell_type": "code",
   "execution_count": null,
   "metadata": {},
   "outputs": [],
   "source": [
    "plt.close()\n",
    "plt.clf()\n",
    "\n",
    "#Prepare plot\n",
    "fig, ax = plt.subplots(1,1, figsize=(7,7))\n",
    "plt.grid(False)\n",
    "\n",
    "ax.axhline(1, ls='-', color='black')\n",
    "ax.axvline(1, ls='-', color='black')\n",
    "\n",
    "ax.axhline(2, ls='--', color='gray')\n",
    "ax.axhline(0.5, ls='--', color='gray')\n",
    "\n",
    "ax.set_ylabel(\"Ribo-Seq (Tm/UT)\", fontsize=16)\n",
    "ax.set_xlabel(\"mRNA-Seq (Tm/UT)\", fontsize=16)\n",
    "ax.set_xlim(.125,8.5)\n",
    "ax.set_ylim(.125,8.5)\n",
    "ax.set_facecolor(\"#FFFFFF\")\n",
    "\n",
    "\n",
    "\n",
    "x = [.125,.250,.500,1,2,4,8]\n",
    "ticks = [\"1/8\",\"1/4\",\"1/2\",\"1\",\"2\",\"4\",\"8\"]\n",
    "\n",
    "ax.set_xscale('log', basex=2)\n",
    "ax.set_xticks(x)\n",
    "ax.set_xticklabels(ticks, fontsize=12)\n",
    "ax.set_xticklabels([\"\"]*len(xm), minor=True)\n",
    "\n",
    "ax.set_yscale('log', basey=2)\n",
    "ax.set_yticks(x)\n",
    "ax.set_yticklabels(ticks, fontsize=12)\n",
    "ax.set_yticklabels([\"\"]*len(xm), minor=True)\n",
    "\n",
    "#Prep data\n",
    "#All\n",
    "ribo_all = data_fig1a[['ribo_fc']].sum(axis=1).values.tolist()\n",
    "ribo_all = np.array(ribo_all).astype(np.float)\n",
    "ribo_all = np.ndarray.tolist(ribo_all)\n",
    "\n",
    "rna_all = data_fig1a[['rna_fc']].sum(axis=1).values.tolist()\n",
    "rna_all = np.array(rna_all).astype(np.float)\n",
    "rna_all = np.ndarray.tolist(rna_all)\n",
    "\n",
    "#ORFs\n",
    "ribo_mito = data_fig1a_enzymes[['ribo_fc']].sum(axis=1).values.tolist()\n",
    "ribo_mito = np.array(ribo_mito).astype(np.float)\n",
    "ribo_mito = np.ndarray.tolist(ribo_mito)\n",
    "\n",
    "rna_mito = data_fig1a_enzymes[['rna_fc']].sum(axis=1).values.tolist()\n",
    "rna_mito = np.array(rna_mito).astype(np.float)\n",
    "rna_mito = np.ndarray.tolist(rna_mito)\n",
    "\n",
    "#Plot data\n",
    "ax.scatter(rna_all, ribo_all, s=.5,c='gray')\n",
    "ax.scatter(rna_mito, ribo_mito, s=10,c='#ffa500')\n",
    "\n",
    "for index, row in data_fig1a_enzymes.iterrows():\n",
    "    if index in [ 'CPS1', 'CPT1B', 'UCP2', 'ST3GAL3', 'OAZ1', 'SAT1', 'ABCA1', 'PLCD1', 'ADRA2C', 'PLCD1']:\n",
    "        ax.text(row[1] + 0.025, row[0], str(index), horizontalalignment='left', size='medium', color='#016a86', weight='semibold')\n",
    "    else:\n",
    "        pass\n",
    "\n",
    "plt.savefig('./plots/tm_enzymes.pdf', dpi=1800, bbox_inches='tight')\n",
    "\n",
    "plt.show"
   ]
  },
  {
   "cell_type": "code",
   "execution_count": null,
   "metadata": {},
   "outputs": [],
   "source": [
    "data_fig1a_enzymes.loc[data_fig1a_enzymes['ribo_fc'] > 2]"
   ]
  },
  {
   "cell_type": "code",
   "execution_count": null,
   "metadata": {},
   "outputs": [],
   "source": [
    "data_fig1a_enzymes.loc[data_fig1a_enzymes['ribo_fc'] < 0.5]"
   ]
  },
  {
   "cell_type": "code",
   "execution_count": null,
   "metadata": {},
   "outputs": [],
   "source": [
    "data_fig1b_enzymes = data_fig1b_plot.reindex(labels=enzymes)\n",
    "print(data_fig1b_enzymes.shape)"
   ]
  },
  {
   "cell_type": "code",
   "execution_count": null,
   "metadata": {},
   "outputs": [],
   "source": [
    "plt.close()\n",
    "plt.clf()\n",
    "\n",
    "#Prepare plot\n",
    "fig, ax = plt.subplots(1,1, figsize=(7,7))\n",
    "plt.grid(False)\n",
    "\n",
    "ax.axhline(1, ls='-', color='black')\n",
    "ax.axvline(1, ls='-', color='black')\n",
    "\n",
    "ax.axhline(2, ls='--', color='gray')\n",
    "ax.axhline(0.5, ls='--', color='gray')\n",
    "\n",
    "ax.set_ylabel(\"Ribo-Seq (Tm + ISRIB/UT)\", fontsize=16)\n",
    "ax.set_xlabel(\"mRNA-Seq (Tm + ISRIB/UT)\", fontsize=16)\n",
    "ax.set_xlim(.125,8.5)\n",
    "ax.set_ylim(.125,8.5)\n",
    "ax.set_facecolor(\"#FFFFFF\")\n",
    "\n",
    "x = [.125,.250,.500,1,2,4,8]\n",
    "ticks = [\"1/8\",\"1/4\",\"1/2\",\"1\",\"2\",\"4\",\"8\"]\n",
    "\n",
    "ax.set_xscale('log', basex=2)\n",
    "ax.set_xticks(x)\n",
    "ax.set_xticklabels(ticks, fontsize=12)\n",
    "ax.set_xticklabels([\"\"]*len(xm), minor=True)\n",
    "\n",
    "ax.set_yscale('log', basey=2)\n",
    "ax.set_yticks(x)\n",
    "ax.set_yticklabels(ticks, fontsize=12)\n",
    "ax.set_yticklabels([\"\"]*len(xm), minor=True)\n",
    "\n",
    "#Prep data\n",
    "#All\n",
    "ribo_all = data_fig1b[['ribo_fc']].sum(axis=1).values.tolist()\n",
    "ribo_all = np.array(ribo_all).astype(np.float)\n",
    "ribo_all = np.ndarray.tolist(ribo_all)\n",
    "\n",
    "rna_all = data_fig1b[['rna_fc']].sum(axis=1).values.tolist()\n",
    "rna_all = np.array(rna_all).astype(np.float)\n",
    "rna_all = np.ndarray.tolist(rna_all)\n",
    "\n",
    "#ORFs\n",
    "ribo_mito = data_fig1b_enzymes[['ribo_fc']].sum(axis=1).values.tolist()\n",
    "ribo_mito = np.array(ribo_mito).astype(np.float)\n",
    "ribo_mito = np.ndarray.tolist(ribo_mito)\n",
    "\n",
    "rna_mito = data_fig1b_enzymes[['rna_fc']].sum(axis=1).values.tolist()\n",
    "rna_mito = np.array(rna_mito).astype(np.float)\n",
    "rna_mito = np.ndarray.tolist(rna_mito)\n",
    "\n",
    "#Plot data\n",
    "ax.scatter(rna_all, ribo_all, s=.5,c='gray')\n",
    "ax.scatter(rna_mito, ribo_mito, s=10,c='#ffa500')\n",
    "\n",
    "for index, row in data_fig1b_enzymes.iterrows():\n",
    "    if index in [ 'CPS1', 'CPT1B', 'UCP2', 'ST3GAL3', 'OAZ1', 'SAT1', 'ABCA1', 'PLCD1', 'ADRA2C', 'PLCD1']:\n",
    "        ax.text(row[1] + 0.025, row[0], str(index), horizontalalignment='left', size='medium', color='#016a86', weight='semibold')\n",
    "    else:\n",
    "        pass\n",
    "\n",
    "plt.savefig('./plots/tmisrib_enzymes.pdf', dpi=1800, bbox_inches='tight')\n",
    "\n",
    "plt.show"
   ]
  },
  {
   "cell_type": "code",
   "execution_count": null,
   "metadata": {},
   "outputs": [],
   "source": [
    "data_fig1b_enzymes.loc['CHST2']"
   ]
  },
  {
   "cell_type": "code",
   "execution_count": null,
   "metadata": {},
   "outputs": [],
   "source": [
    "data_fig1b_enzymes.loc[data_fig1b_enzymes['ribo_fc'] > 2]"
   ]
  },
  {
   "cell_type": "code",
   "execution_count": null,
   "metadata": {},
   "outputs": [],
   "source": [
    "data_fig1b_enzymes.loc[data_fig1b_enzymes['ribo_fc'] < 0.5]"
   ]
  },
  {
   "cell_type": "code",
   "execution_count": null,
   "metadata": {},
   "outputs": [],
   "source": [
    "data_fig1c_enzymes = data_fig1c_plot.reindex(labels=enzymes)\n",
    "print(data_fig1c_enzymes.shape)"
   ]
  },
  {
   "cell_type": "code",
   "execution_count": null,
   "metadata": {},
   "outputs": [],
   "source": [
    "plt.close()\n",
    "plt.clf()\n",
    "\n",
    "#Prepare plot\n",
    "fig, ax = plt.subplots(1,1, figsize=(7,7))\n",
    "plt.grid(False)\n",
    "\n",
    "ax.axhline(1, ls='-', color='black')\n",
    "ax.axvline(1, ls='-', color='black')\n",
    "\n",
    "ax.axhline(2, ls='--', color='gray')\n",
    "ax.axhline(0.5, ls='--', color='gray')\n",
    "\n",
    "ax.set_ylabel(\"Ribo-Seq (ISRIB/UT)\", fontsize=16)\n",
    "ax.set_xlabel(\"mRNA-Seq (ISRIB/UT)\", fontsize=16)\n",
    "ax.set_xlim(.125,8.5)\n",
    "ax.set_ylim(.125,8.5)\n",
    "ax.set_facecolor(\"#FFFFFF\")\n",
    "\n",
    "x = [.125,.250,.500,1,2,4,8]\n",
    "ticks = [\"1/8\",\"1/4\",\"1/2\",\"1\",\"2\",\"4\",\"8\"]\n",
    "\n",
    "ax.set_xscale('log', basex=2)\n",
    "ax.set_xticks(x)\n",
    "ax.set_xticklabels(ticks, fontsize=12)\n",
    "ax.set_xticklabels([\"\"]*len(xm), minor=True)\n",
    "\n",
    "ax.set_yscale('log', basey=2)\n",
    "ax.set_yticks(x)\n",
    "ax.set_yticklabels(ticks, fontsize=12)\n",
    "ax.set_yticklabels([\"\"]*len(xm), minor=True)\n",
    "\n",
    "#Prep data\n",
    "#All\n",
    "ribo_all = data_fig1c[['ribo_fc']].sum(axis=1).values.tolist()\n",
    "ribo_all = np.array(ribo_all).astype(np.float)\n",
    "ribo_all = np.ndarray.tolist(ribo_all)\n",
    "\n",
    "rna_all = data_fig1c[['rna_fc']].sum(axis=1).values.tolist()\n",
    "rna_all = np.array(rna_all).astype(np.float)\n",
    "rna_all = np.ndarray.tolist(rna_all)\n",
    "\n",
    "#ORFs\n",
    "ribo_mito = data_fig1c_enzymes[['ribo_fc']].sum(axis=1).values.tolist()\n",
    "ribo_mito = np.array(ribo_mito).astype(np.float)\n",
    "ribo_mito = np.ndarray.tolist(ribo_mito)\n",
    "\n",
    "rna_mito = data_fig1c_enzymes[['rna_fc']].sum(axis=1).values.tolist()\n",
    "rna_mito = np.array(rna_mito).astype(np.float)\n",
    "rna_mito = np.ndarray.tolist(rna_mito)\n",
    "\n",
    "#Plot data\n",
    "ax.scatter(rna_all, ribo_all, s=.5,c='gray')\n",
    "ax.scatter(rna_mito, ribo_mito, s=10,c='#ffa500')\n",
    "\n",
    "for index, row in data_fig1c_enzymes.iterrows():\n",
    "    if index in [ 'CPS1', 'CPT1B', 'UCP2', 'ST3GAL3', 'OAZ1', 'SAT1', 'ABCA1', 'PLCD1', 'ADRA2C', 'PLCD1']:\n",
    "        ax.text(row[1] + 0.025, row[0], str(index), horizontalalignment='left', size='medium', color='#016a86', weight='semibold')\n",
    "    else:\n",
    "        pass\n",
    "    \n",
    "plt.savefig('./plots/isrib_enzymes.pdf', dpi=1800, bbox_inches='tight')\n",
    "\n",
    "plt.show"
   ]
  },
  {
   "cell_type": "code",
   "execution_count": null,
   "metadata": {},
   "outputs": [],
   "source": [
    "data_fig1c_enzymes.loc[data_fig1c_enzymes['ribo_fc'] > 2]"
   ]
  },
  {
   "cell_type": "code",
   "execution_count": null,
   "metadata": {},
   "outputs": [],
   "source": [
    "data_fig1c_enzymes.loc[data_fig1c_enzymes['ribo_fc'] < 0.5]"
   ]
  },
  {
   "cell_type": "markdown",
   "metadata": {},
   "source": [
    "##### Tracking analysis of gene groups"
   ]
  },
  {
   "cell_type": "code",
   "execution_count": null,
   "metadata": {},
   "outputs": [],
   "source": [
    "data_logte_avg = data_logte.copy()\n",
    "\n",
    "data_logte_avg['untr'] = (data_logte_avg['untr_a'] + data_logte_avg['untr_b']) / 2\n",
    "data_logte_avg['tm'] = (data_logte_avg['tm_a'] + data_logte_avg['tm_b']) / 2\n",
    "data_logte_avg['tmisrib'] = (data_logte_avg['tmisrib_a'] + data_logte_avg['tmisrib_b']) / 2\n",
    "data_logte_avg['isrib'] = (data_logte_avg['isrib_a'] + data_logte_avg['isrib_b']) / 2\n",
    "\n",
    "data_logte_avg = data_logte_avg[['untr','tm','tmisrib','isrib']]\n",
    "\n",
    "data_logte_avg = data_logte_avg[~data_logte_avg.index.duplicated(keep='first')]"
   ]
  },
  {
   "cell_type": "code",
   "execution_count": null,
   "metadata": {},
   "outputs": [],
   "source": [
    "data_logte_avg_mitocarta = data_logte_avg.reindex(labels=mitocarta)\n",
    "print(data_logte_avg_mitocarta.shape)"
   ]
  },
  {
   "cell_type": "code",
   "execution_count": null,
   "metadata": {},
   "outputs": [],
   "source": []
  },
  {
   "cell_type": "code",
   "execution_count": null,
   "metadata": {},
   "outputs": [],
   "source": [
    "data_logte_avg_enzymes = data_logte_avg.reindex(labels=enzymes)\n",
    "print(data_logte_avg_enzymes.shape)"
   ]
  },
  {
   "cell_type": "code",
   "execution_count": null,
   "metadata": {},
   "outputs": [],
   "source": []
  },
  {
   "cell_type": "code",
   "execution_count": null,
   "metadata": {},
   "outputs": [],
   "source": [
    "data_tpm.loc['NPIP']"
   ]
  },
  {
   "cell_type": "code",
   "execution_count": null,
   "metadata": {},
   "outputs": [],
   "source": [
    "data_tpm_c = data_tpm.copy()\n",
    "\n",
    "data_tpm_c['idx'] = data_tpm_c.index\n",
    "data_tpm_c = data_tpm_c.sort_values(by=['idx'], axis=0)\n",
    "\n",
    "data_tpm_c = data_tpm_c.groupby('idx').mean()\n",
    "\n",
    "data_tpm_c.tail()"
   ]
  },
  {
   "cell_type": "code",
   "execution_count": null,
   "metadata": {},
   "outputs": [],
   "source": [
    "(data_tpm_c.loc['NPIP']['ribo_isrib_a_ribo'] + data_tpm_c.loc['NPIP']['ribo_isrib_b_ribo']) / (data_tpm_c.loc['NPIP']['ribo_untr_a_ribo'] + data_tpm_c.loc['NPIP']['ribo_untr_b_ribo'])"
   ]
  },
  {
   "cell_type": "code",
   "execution_count": null,
   "metadata": {},
   "outputs": [],
   "source": [
    "np.log(0.18118091020321184)"
   ]
  },
  {
   "cell_type": "code",
   "execution_count": null,
   "metadata": {},
   "outputs": [],
   "source": [
    "data_tpm_c.loc['ST3GAL3']"
   ]
  },
  {
   "cell_type": "code",
   "execution_count": null,
   "metadata": {},
   "outputs": [],
   "source": [
    "### TM\n",
    "#Footprint\n",
    "statistic, p_value = stats.ttest_ind([1.511040,1.549846], [0.967716,0.530006])\n",
    "print(p_value)\n",
    "\n",
    "#mRNA\n",
    "statistic, p_value = stats.ttest_ind([6.674015,5.682717], [8.467867,6.772637])\n",
    "print(p_value)"
   ]
  },
  {
   "cell_type": "code",
   "execution_count": null,
   "metadata": {},
   "outputs": [],
   "source": [
    "### TM ISRIB\n",
    "#Footprint\n",
    "statistic, p_value = stats.ttest_ind([1.082089,0.724264], [0.967716,0.530006])\n",
    "print(p_value)\n",
    "\n",
    "#mRNA\n",
    "statistic, p_value = stats.ttest_ind([6.043531,5.682717], [8.467867,6.772637])\n",
    "print(p_value)"
   ]
  },
  {
   "cell_type": "code",
   "execution_count": null,
   "metadata": {},
   "outputs": [],
   "source": [
    "data_tpm_c.loc['ADRA2C']"
   ]
  },
  {
   "cell_type": "code",
   "execution_count": null,
   "metadata": {},
   "outputs": [],
   "source": [
    "### TM\n",
    "#Footprint\n",
    "statistic, p_value = stats.ttest_ind([0.790908,0.000000], [0.324174,0.388382])\n",
    "print(p_value)\n",
    "\n",
    "#mRNA\n",
    "statistic, p_value = stats.ttest_ind([2.579677,3.118664], [2.319682,3.015436])\n",
    "print(p_value)"
   ]
  },
  {
   "cell_type": "code",
   "execution_count": null,
   "metadata": {},
   "outputs": [],
   "source": [
    "### TM ISRIB \n",
    "#Footprint\n",
    "statistic, p_value = stats.ttest_ind([0.792941,1.010918], [0.324174,0.388382])\n",
    "print(p_value)\n",
    "\n",
    "#mRNA\n",
    "statistic, p_value = stats.ttest_ind([3.317482,2.993154], [2.319682,3.015436])\n",
    "print(p_value)"
   ]
  },
  {
   "cell_type": "code",
   "execution_count": null,
   "metadata": {},
   "outputs": [],
   "source": [
    "data_tpm_c.loc['UCP2']"
   ]
  },
  {
   "cell_type": "code",
   "execution_count": null,
   "metadata": {},
   "outputs": [],
   "source": [
    "### TM\n",
    "#Footprint\n",
    "statistic, p_value = stats.ttest_ind([31.412700,32.384651], [11.761092,9.153570])\n",
    "print(p_value)\n",
    "\n",
    "### TM ISRIB \n",
    "#Footprint\n",
    "statistic, p_value = stats.ttest_ind([16.611926,12.045261], [11.761092,9.153570])\n",
    "print(p_value)"
   ]
  },
  {
   "cell_type": "code",
   "execution_count": null,
   "metadata": {},
   "outputs": [],
   "source": [
    "data_tpm_c.loc['SLMO1']"
   ]
  },
  {
   "cell_type": "code",
   "execution_count": null,
   "metadata": {},
   "outputs": [],
   "source": [
    "### TM\n",
    "#Footprint\n",
    "statistic, p_value = stats.ttest_ind([10.534073,5.637184], [3.754487,3.052298])\n",
    "print(p_value)\n",
    "\n",
    "### TM ISRIB \n",
    "#Footprint\n",
    "statistic, p_value = stats.ttest_ind([4.591804,2.927037], [3.754487,3.052298])\n",
    "print(p_value)"
   ]
  },
  {
   "cell_type": "code",
   "execution_count": null,
   "metadata": {},
   "outputs": [],
   "source": [
    "data_tpm_c.loc['MTHFD2L']"
   ]
  },
  {
   "cell_type": "code",
   "execution_count": null,
   "metadata": {},
   "outputs": [],
   "source": [
    "### TM\n",
    "#Footprint\n",
    "statistic, p_value = stats.ttest_ind([8.545669,11.394674], [9.413403,6.444502])\n",
    "print(p_value)\n",
    "\n",
    "### TM ISRIB \n",
    "#Footprint\n",
    "statistic, p_value = stats.ttest_ind([3.365857,4.505673], [9.413403,6.444502])\n",
    "print(p_value)"
   ]
  },
  {
   "cell_type": "code",
   "execution_count": null,
   "metadata": {},
   "outputs": [],
   "source": []
  },
  {
   "cell_type": "code",
   "execution_count": null,
   "metadata": {},
   "outputs": [],
   "source": []
  },
  {
   "cell_type": "code",
   "execution_count": null,
   "metadata": {},
   "outputs": [],
   "source": []
  },
  {
   "cell_type": "code",
   "execution_count": null,
   "metadata": {},
   "outputs": [],
   "source": [
    "\n"
   ]
  },
  {
   "cell_type": "code",
   "execution_count": null,
   "metadata": {},
   "outputs": [],
   "source": []
  },
  {
   "cell_type": "code",
   "execution_count": null,
   "metadata": {},
   "outputs": [],
   "source": []
  }
 ],
 "metadata": {
  "kernelspec": {
   "display_name": "Python 3",
   "language": "python",
   "name": "python3"
  },
  "language_info": {
   "codemirror_mode": {
    "name": "ipython",
    "version": 3
   },
   "file_extension": ".py",
   "mimetype": "text/x-python",
   "name": "python",
   "nbconvert_exporter": "python",
   "pygments_lexer": "ipython3",
   "version": "3.6.6"
  }
 },
 "nbformat": 4,
 "nbformat_minor": 2
}
