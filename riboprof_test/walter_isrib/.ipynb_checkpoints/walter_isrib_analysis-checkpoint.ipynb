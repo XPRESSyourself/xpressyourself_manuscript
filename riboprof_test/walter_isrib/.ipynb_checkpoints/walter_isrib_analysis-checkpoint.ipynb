{
 "cells": [
  {
   "cell_type": "code",
   "execution_count": 704,
   "metadata": {},
   "outputs": [],
   "source": [
    "import pandas as pd \n",
    "import xpresstools as xp\n",
    "from scipy import stats\n",
    "import numpy as np\n",
    "import matplotlib\n",
    "import matplotlib.pyplot as plt \n",
    "import matplotlib.patches as patches\n",
    "\n",
    "from rpy2.robjects.packages import importr\n",
    "from rpy2.robjects.vectors import FloatVector\n",
    "\n",
    "%matplotlib inline"
   ]
  },
  {
   "cell_type": "markdown",
   "metadata": {},
   "source": [
    "### Get data and clean up formatting"
   ]
  },
  {
   "cell_type": "code",
   "execution_count": 705,
   "metadata": {},
   "outputs": [
    {
     "data": {
      "text/plain": [
       "(10941, 16)"
      ]
     },
     "execution_count": 705,
     "metadata": {},
     "output_type": "execute_result"
    }
   ],
   "source": [
    "data = pd.read_csv('isrib_raw_counts.txt',sep='\\t', index_col=0)\n",
    "\n",
    "data.shape"
   ]
  },
  {
   "cell_type": "markdown",
   "metadata": {},
   "source": [
    "### Threshold"
   ]
  },
  {
   "cell_type": "code",
   "execution_count": 706,
   "metadata": {},
   "outputs": [
    {
     "name": "stdout",
     "output_type": "stream",
     "text": [
      "10941 genes before thresholding\n",
      "10941 genes before thresholding\n"
     ]
    }
   ],
   "source": [
    "data_t = data.loc[data.max(axis=1) > 25]\n",
    "\n",
    "print(str(data.shape[0]) + ' genes before thresholding')\n",
    "print(str(data_t.shape[0]) + ' genes before thresholding')"
   ]
  },
  {
   "cell_type": "markdown",
   "metadata": {},
   "source": [
    "### TPM Normalize"
   ]
  },
  {
   "cell_type": "code",
   "execution_count": 707,
   "metadata": {},
   "outputs": [
    {
     "data": {
      "text/html": [
       "<div>\n",
       "<style scoped>\n",
       "    .dataframe tbody tr th:only-of-type {\n",
       "        vertical-align: middle;\n",
       "    }\n",
       "\n",
       "    .dataframe tbody tr th {\n",
       "        vertical-align: top;\n",
       "    }\n",
       "\n",
       "    .dataframe thead th {\n",
       "        text-align: right;\n",
       "    }\n",
       "</style>\n",
       "<table border=\"1\" class=\"dataframe\">\n",
       "  <thead>\n",
       "    <tr style=\"text-align: right;\">\n",
       "      <th></th>\n",
       "      <th>isrib_a_hek_mrna</th>\n",
       "      <th>isrib_b_hek_mrna</th>\n",
       "      <th>tm_a_hek_mrna</th>\n",
       "      <th>tm_b_hek_mrna</th>\n",
       "      <th>tmisrib_a_hek_mrna</th>\n",
       "      <th>tmisrib_b_hek_mrna</th>\n",
       "      <th>untr_a_hek_mrna</th>\n",
       "      <th>untr_b_hek_mrna</th>\n",
       "      <th>ribo_isrib_a_ribo</th>\n",
       "      <th>ribo_isrib_b_ribo</th>\n",
       "      <th>ribo_tm_a_ribo</th>\n",
       "      <th>ribo_tm_b_ribo</th>\n",
       "      <th>ribo_tmisrib_a_ribo</th>\n",
       "      <th>ribo_tmisrib_b_ribo</th>\n",
       "      <th>ribo_untr_a_ribo</th>\n",
       "      <th>ribo_untr_b_ribo</th>\n",
       "    </tr>\n",
       "  </thead>\n",
       "  <tbody>\n",
       "    <tr>\n",
       "      <th>LOC388312</th>\n",
       "      <td>9.742608</td>\n",
       "      <td>18.786491</td>\n",
       "      <td>8.122820</td>\n",
       "      <td>8.833557</td>\n",
       "      <td>7.481222</td>\n",
       "      <td>11.797209</td>\n",
       "      <td>15.759706</td>\n",
       "      <td>13.798049</td>\n",
       "      <td>1.390087</td>\n",
       "      <td>0.348006</td>\n",
       "      <td>1.030507</td>\n",
       "      <td>0.704648</td>\n",
       "      <td>5.903748</td>\n",
       "      <td>3.622208</td>\n",
       "      <td>2.639873</td>\n",
       "      <td>0.000000</td>\n",
       "    </tr>\n",
       "    <tr>\n",
       "      <th>SAMD11</th>\n",
       "      <td>25.928557</td>\n",
       "      <td>32.097845</td>\n",
       "      <td>29.634458</td>\n",
       "      <td>24.589847</td>\n",
       "      <td>25.928541</td>\n",
       "      <td>28.482259</td>\n",
       "      <td>28.163063</td>\n",
       "      <td>30.076059</td>\n",
       "      <td>16.373065</td>\n",
       "      <td>15.728615</td>\n",
       "      <td>16.830579</td>\n",
       "      <td>13.752345</td>\n",
       "      <td>17.283179</td>\n",
       "      <td>16.032821</td>\n",
       "      <td>16.595313</td>\n",
       "      <td>17.524626</td>\n",
       "    </tr>\n",
       "    <tr>\n",
       "      <th>NOC2L</th>\n",
       "      <td>149.866311</td>\n",
       "      <td>155.806060</td>\n",
       "      <td>146.893739</td>\n",
       "      <td>148.565905</td>\n",
       "      <td>146.732157</td>\n",
       "      <td>137.700798</td>\n",
       "      <td>134.736761</td>\n",
       "      <td>149.486663</td>\n",
       "      <td>165.398731</td>\n",
       "      <td>169.735454</td>\n",
       "      <td>190.065040</td>\n",
       "      <td>179.980616</td>\n",
       "      <td>168.212348</td>\n",
       "      <td>157.847069</td>\n",
       "      <td>164.953761</td>\n",
       "      <td>172.255233</td>\n",
       "    </tr>\n",
       "    <tr>\n",
       "      <th>KLHL17</th>\n",
       "      <td>8.797207</td>\n",
       "      <td>10.184308</td>\n",
       "      <td>8.927144</td>\n",
       "      <td>6.797443</td>\n",
       "      <td>7.591076</td>\n",
       "      <td>8.087762</td>\n",
       "      <td>9.331282</td>\n",
       "      <td>7.964181</td>\n",
       "      <td>4.349506</td>\n",
       "      <td>3.798462</td>\n",
       "      <td>3.936769</td>\n",
       "      <td>4.460886</td>\n",
       "      <td>4.269083</td>\n",
       "      <td>4.600569</td>\n",
       "      <td>4.091592</td>\n",
       "      <td>3.866364</td>\n",
       "    </tr>\n",
       "    <tr>\n",
       "      <th>HES4</th>\n",
       "      <td>46.959197</td>\n",
       "      <td>53.755404</td>\n",
       "      <td>46.390760</td>\n",
       "      <td>45.794558</td>\n",
       "      <td>51.394651</td>\n",
       "      <td>55.270519</td>\n",
       "      <td>63.226923</td>\n",
       "      <td>69.279684</td>\n",
       "      <td>38.371897</td>\n",
       "      <td>37.253882</td>\n",
       "      <td>30.180595</td>\n",
       "      <td>27.041740</td>\n",
       "      <td>34.531083</td>\n",
       "      <td>40.349635</td>\n",
       "      <td>38.923758</td>\n",
       "      <td>40.032183</td>\n",
       "    </tr>\n",
       "  </tbody>\n",
       "</table>\n",
       "</div>"
      ],
      "text/plain": [
       "           isrib_a_hek_mrna  isrib_b_hek_mrna  tm_a_hek_mrna  tm_b_hek_mrna  \\\n",
       "LOC388312          9.742608         18.786491       8.122820       8.833557   \n",
       "SAMD11            25.928557         32.097845      29.634458      24.589847   \n",
       "NOC2L            149.866311        155.806060     146.893739     148.565905   \n",
       "KLHL17             8.797207         10.184308       8.927144       6.797443   \n",
       "HES4              46.959197         53.755404      46.390760      45.794558   \n",
       "\n",
       "           tmisrib_a_hek_mrna  tmisrib_b_hek_mrna  untr_a_hek_mrna  \\\n",
       "LOC388312            7.481222           11.797209        15.759706   \n",
       "SAMD11              25.928541           28.482259        28.163063   \n",
       "NOC2L              146.732157          137.700798       134.736761   \n",
       "KLHL17               7.591076            8.087762         9.331282   \n",
       "HES4                51.394651           55.270519        63.226923   \n",
       "\n",
       "           untr_b_hek_mrna  ribo_isrib_a_ribo  ribo_isrib_b_ribo  \\\n",
       "LOC388312        13.798049           1.390087           0.348006   \n",
       "SAMD11           30.076059          16.373065          15.728615   \n",
       "NOC2L           149.486663         165.398731         169.735454   \n",
       "KLHL17            7.964181           4.349506           3.798462   \n",
       "HES4             69.279684          38.371897          37.253882   \n",
       "\n",
       "           ribo_tm_a_ribo  ribo_tm_b_ribo  ribo_tmisrib_a_ribo  \\\n",
       "LOC388312        1.030507        0.704648             5.903748   \n",
       "SAMD11          16.830579       13.752345            17.283179   \n",
       "NOC2L          190.065040      179.980616           168.212348   \n",
       "KLHL17           3.936769        4.460886             4.269083   \n",
       "HES4            30.180595       27.041740            34.531083   \n",
       "\n",
       "           ribo_tmisrib_b_ribo  ribo_untr_a_ribo  ribo_untr_b_ribo  \n",
       "LOC388312             3.622208          2.639873          0.000000  \n",
       "SAMD11               16.032821         16.595313         17.524626  \n",
       "NOC2L               157.847069        164.953761        172.255233  \n",
       "KLHL17                4.600569          4.091592          3.866364  \n",
       "HES4                 40.349635         38.923758         40.032183  "
      ]
     },
     "execution_count": 707,
     "metadata": {},
     "output_type": "execute_result"
    }
   ],
   "source": [
    "#Create length dictionary\n",
    "len_dict = pd.read_csv('length_dict.txt',sep='\\t', header=None, index_col=0)\n",
    "del len_dict.index.name\n",
    "len_dict.columns = ['length']\n",
    "len_dict.length = len_dict.length / 1e3\n",
    "\n",
    "#Perform RPK calculations\n",
    "data_c = data_t.copy()\n",
    "data_rpk = data_c.div(len_dict.length, axis=0)\n",
    "data_rpk = data_rpk.dropna(axis=0)\n",
    "\n",
    "#Perform per-million calculations\n",
    "data_tpm = xp.rpm(data_rpk)\n",
    "\n",
    "data_tpm.head()"
   ]
  },
  {
   "cell_type": "markdown",
   "metadata": {},
   "source": [
    "### Check replicate and RPF to RNA correlations (Fig 1E)"
   ]
  },
  {
   "cell_type": "code",
   "execution_count": 738,
   "metadata": {},
   "outputs": [
    {
     "data": {
      "image/png": "[encoded data removed]",
      "text/plain": [
       "<Figure size 288x288 with 1 Axes>"
      ]
     },
     "metadata": {
      "needs_background": "light"
     },
     "output_type": "display_data"
    }
   ],
   "source": [
    "data_c = data_tpm.copy()\n",
    "\n",
    "gene_a = data_c[['isrib_a_hek_mrna']].sum(axis=1).values.tolist()\n",
    "gene_a = [x + 1 for x in gene_a]\n",
    "gene_a = np.array(gene_a).astype(np.float)\n",
    "gene_a = np.ndarray.tolist(gene_a)\n",
    "\n",
    "gene_b = data_c[['isrib_b_hek_mrna']].sum(axis=1).values.tolist()\n",
    "gene_b = [x + 1 for x in gene_b]\n",
    "gene_b = np.array(gene_b).astype(np.float)\n",
    "gene_b = np.ndarray.tolist(gene_b)\n",
    "\n",
    "gene_a = np.log2(gene_a)\n",
    "gene_b = np.log2(gene_b)\n",
    "\n",
    "slope, intercept, r_value, p_value, std_err = stats.linregress(gene_a, gene_b)\n",
    "x = np.linspace(np.amin(gene_a), np.amax(gene_b), 100)\n",
    "y = (slope * x) + intercept\n",
    "\n",
    "fig, ax = plt.subplots(1,1, figsize=(4,4))\n",
    "\n",
    "ax.scatter(gene_a, gene_b, s=1,c='black')\n",
    "ax.set_title('R2 = ' + str(r_value ** 2) + '\\np-value ' + str(p_value))\n",
    "ax.plot(x, y, '-r')\n",
    "\n",
    "plt.show()"
   ]
  },
  {
   "cell_type": "code",
   "execution_count": 739,
   "metadata": {},
   "outputs": [
    {
     "data": {
      "image/png": "[encoded data removed]",
      "text/plain": [
       "<Figure size 288x288 with 1 Axes>"
      ]
     },
     "metadata": {
      "needs_background": "light"
     },
     "output_type": "display_data"
    }
   ],
   "source": [
    "data_c = data_tpm.copy()\n",
    "\n",
    "gene_a = data_c[['ribo_isrib_a_ribo']].sum(axis=1).values.tolist()\n",
    "gene_a = [x + 1 for x in gene_a]\n",
    "gene_a = np.array(gene_a).astype(np.float)\n",
    "gene_a = np.ndarray.tolist(gene_a)\n",
    "\n",
    "gene_b = data_c[['ribo_isrib_b_ribo']].sum(axis=1).values.tolist()\n",
    "gene_b = [x + 1 for x in gene_b]\n",
    "gene_b = np.array(gene_b).astype(np.float)\n",
    "gene_b = np.ndarray.tolist(gene_b)\n",
    "\n",
    "gene_a = np.log2(gene_a)\n",
    "gene_b = np.log2(gene_b)\n",
    "\n",
    "slope, intercept, r_value, p_value, std_err = stats.linregress(gene_a, gene_b)\n",
    "x = np.linspace(np.amin(gene_a), np.amax(gene_b), 100)\n",
    "y = (slope * x) + intercept\n",
    "\n",
    "fig, ax = plt.subplots(1,1, figsize=(4,4))\n",
    "\n",
    "ax.scatter(gene_a, gene_b, s=1,c='black')\n",
    "ax.set_title('R2 = ' + str(r_value ** 2) + '\\np-value ' + str(p_value))\n",
    "ax.plot(x, y, '-r')\n",
    "\n",
    "plt.show()"
   ]
  },
  {
   "cell_type": "code",
   "execution_count": 500,
   "metadata": {},
   "outputs": [
    {
     "data": {
      "image/png": "[encoded data removed]",
      "text/plain": [
       "<Figure size 288x288 with 1 Axes>"
      ]
     },
     "metadata": {
      "needs_background": "light"
     },
     "output_type": "display_data"
    }
   ],
   "source": [
    "data_c = data_tpm.copy()\n",
    "\n",
    "gene_a = data_c[['isrib_a_hek_mrna']].sum(axis=1).values.tolist()\n",
    "gene_a = [x + 1 for x in gene_a]\n",
    "gene_a = np.array(gene_a).astype(np.float)\n",
    "gene_a = np.ndarray.tolist(gene_a)\n",
    "\n",
    "gene_b = data_c[['ribo_isrib_a_ribo']].sum(axis=1).values.tolist()\n",
    "gene_b = [x + 1 for x in gene_b]\n",
    "gene_b = np.array(gene_b).astype(np.float)\n",
    "gene_b = np.ndarray.tolist(gene_b)\n",
    "\n",
    "gene_a = np.log2(gene_a)\n",
    "gene_b = np.log2(gene_b)\n",
    "\n",
    "slope, intercept, r_value, p_value, std_err = stats.linregress(gene_a, gene_b)\n",
    "x = np.linspace(np.amin(gene_a), np.amax(gene_b), 100)\n",
    "y = (slope * x) + intercept\n",
    "\n",
    "fig, ax = plt.subplots(1,1, figsize=(4,4))\n",
    "\n",
    "ax.scatter(gene_a, gene_b, s=1,c='black')\n",
    "ax.set_title('R = ' + str(r_value) + '\\np-value ' + str(p_value))\n",
    "ax.plot(x, y, '-r')\n",
    "\n",
    "plt.show()"
   ]
  },
  {
   "cell_type": "markdown",
   "metadata": {},
   "source": [
    "### Perform Translation Efficiency Normalizations"
   ]
  },
  {
   "cell_type": "code",
   "execution_count": 504,
   "metadata": {},
   "outputs": [
    {
     "data": {
      "text/html": [
       "<div>\n",
       "<style scoped>\n",
       "    .dataframe tbody tr th:only-of-type {\n",
       "        vertical-align: middle;\n",
       "    }\n",
       "\n",
       "    .dataframe tbody tr th {\n",
       "        vertical-align: top;\n",
       "    }\n",
       "\n",
       "    .dataframe thead th {\n",
       "        text-align: right;\n",
       "    }\n",
       "</style>\n",
       "<table border=\"1\" class=\"dataframe\">\n",
       "  <thead>\n",
       "    <tr style=\"text-align: right;\">\n",
       "      <th></th>\n",
       "      <th>untr_a</th>\n",
       "      <th>untr_b</th>\n",
       "      <th>tm_a</th>\n",
       "      <th>tm_b</th>\n",
       "      <th>isrib_a</th>\n",
       "      <th>isrib_b</th>\n",
       "      <th>tmisrib_a</th>\n",
       "      <th>tmisrib_b</th>\n",
       "    </tr>\n",
       "  </thead>\n",
       "  <tbody>\n",
       "    <tr>\n",
       "      <th>LOC388312</th>\n",
       "      <td>0.167508</td>\n",
       "      <td>0.000000</td>\n",
       "      <td>0.126866</td>\n",
       "      <td>0.079769</td>\n",
       "      <td>0.142681</td>\n",
       "      <td>0.018524</td>\n",
       "      <td>0.789142</td>\n",
       "      <td>0.307039</td>\n",
       "    </tr>\n",
       "    <tr>\n",
       "      <th>SAMD11</th>\n",
       "      <td>0.589258</td>\n",
       "      <td>0.582677</td>\n",
       "      <td>0.567939</td>\n",
       "      <td>0.559269</td>\n",
       "      <td>0.631468</td>\n",
       "      <td>0.490021</td>\n",
       "      <td>0.666570</td>\n",
       "      <td>0.562906</td>\n",
       "    </tr>\n",
       "    <tr>\n",
       "      <th>NOC2L</th>\n",
       "      <td>1.224267</td>\n",
       "      <td>1.152312</td>\n",
       "      <td>1.293895</td>\n",
       "      <td>1.211453</td>\n",
       "      <td>1.103642</td>\n",
       "      <td>1.089402</td>\n",
       "      <td>1.146390</td>\n",
       "      <td>1.146305</td>\n",
       "    </tr>\n",
       "    <tr>\n",
       "      <th>KLHL17</th>\n",
       "      <td>0.438481</td>\n",
       "      <td>0.485469</td>\n",
       "      <td>0.440989</td>\n",
       "      <td>0.656259</td>\n",
       "      <td>0.494419</td>\n",
       "      <td>0.372972</td>\n",
       "      <td>0.562382</td>\n",
       "      <td>0.568831</td>\n",
       "    </tr>\n",
       "    <tr>\n",
       "      <th>HES4</th>\n",
       "      <td>0.615620</td>\n",
       "      <td>0.577834</td>\n",
       "      <td>0.650573</td>\n",
       "      <td>0.590501</td>\n",
       "      <td>0.817133</td>\n",
       "      <td>0.693026</td>\n",
       "      <td>0.671881</td>\n",
       "      <td>0.730039</td>\n",
       "    </tr>\n",
       "  </tbody>\n",
       "</table>\n",
       "</div>"
      ],
      "text/plain": [
       "             untr_a    untr_b      tm_a      tm_b   isrib_a   isrib_b  \\\n",
       "LOC388312  0.167508  0.000000  0.126866  0.079769  0.142681  0.018524   \n",
       "SAMD11     0.589258  0.582677  0.567939  0.559269  0.631468  0.490021   \n",
       "NOC2L      1.224267  1.152312  1.293895  1.211453  1.103642  1.089402   \n",
       "KLHL17     0.438481  0.485469  0.440989  0.656259  0.494419  0.372972   \n",
       "HES4       0.615620  0.577834  0.650573  0.590501  0.817133  0.693026   \n",
       "\n",
       "           tmisrib_a  tmisrib_b  \n",
       "LOC388312   0.789142   0.307039  \n",
       "SAMD11      0.666570   0.562906  \n",
       "NOC2L       1.146390   1.146305  \n",
       "KLHL17      0.562382   0.568831  \n",
       "HES4        0.671881   0.730039  "
      ]
     },
     "execution_count": 504,
     "metadata": {},
     "output_type": "execute_result"
    }
   ],
   "source": [
    "data_te = data_tpm.copy()\n",
    "\n",
    "data_te['isrib_a'] = data_te['ribo_isrib_a_ribo'] / data_te['isrib_a_hek_mrna']\n",
    "data_te['isrib_b'] = data_te['ribo_isrib_b_ribo'] / data_te['isrib_b_hek_mrna']\n",
    "data_te['tm_a'] = data_te['ribo_tm_a_ribo'] / data_te['tm_a_hek_mrna']\n",
    "data_te['tm_b'] = data_te['ribo_tm_b_ribo'] / data_te['tm_b_hek_mrna']\n",
    "data_te['tmisrib_a'] = data_te['ribo_tmisrib_a_ribo'] / data_te['tmisrib_a_hek_mrna']\n",
    "data_te['tmisrib_b'] = data_te['ribo_tmisrib_b_ribo'] / data_te['tmisrib_b_hek_mrna']\n",
    "data_te['untr_a'] = data_te['ribo_untr_a_ribo'] / data_te['untr_a_hek_mrna']\n",
    "data_te['untr_b'] = data_te['ribo_untr_b_ribo'] / data_te['untr_b_hek_mrna']\n",
    "\n",
    "data_te = data_te[['untr_a','untr_b','tm_a','tm_b','isrib_a','isrib_b','tmisrib_a','tmisrib_b']]\n",
    "\n",
    "data_te.head()"
   ]
  },
  {
   "cell_type": "code",
   "execution_count": 505,
   "metadata": {},
   "outputs": [
    {
     "data": {
      "text/html": [
       "<div>\n",
       "<style scoped>\n",
       "    .dataframe tbody tr th:only-of-type {\n",
       "        vertical-align: middle;\n",
       "    }\n",
       "\n",
       "    .dataframe tbody tr th {\n",
       "        vertical-align: top;\n",
       "    }\n",
       "\n",
       "    .dataframe thead th {\n",
       "        text-align: right;\n",
       "    }\n",
       "</style>\n",
       "<table border=\"1\" class=\"dataframe\">\n",
       "  <thead>\n",
       "    <tr style=\"text-align: right;\">\n",
       "      <th></th>\n",
       "      <th>untr_a</th>\n",
       "      <th>untr_b</th>\n",
       "      <th>tm_a</th>\n",
       "      <th>tm_b</th>\n",
       "      <th>isrib_a</th>\n",
       "      <th>isrib_b</th>\n",
       "      <th>tmisrib_a</th>\n",
       "      <th>tmisrib_b</th>\n",
       "    </tr>\n",
       "  </thead>\n",
       "  <tbody>\n",
       "    <tr>\n",
       "      <th>SAMD11</th>\n",
       "      <td>-0.763028</td>\n",
       "      <td>-0.779232</td>\n",
       "      <td>-0.816191</td>\n",
       "      <td>-0.838385</td>\n",
       "      <td>-0.663217</td>\n",
       "      <td>-1.029085</td>\n",
       "      <td>-0.585172</td>\n",
       "      <td>-0.829035</td>\n",
       "    </tr>\n",
       "    <tr>\n",
       "      <th>NOC2L</th>\n",
       "      <td>0.291918</td>\n",
       "      <td>0.204531</td>\n",
       "      <td>0.371720</td>\n",
       "      <td>0.276738</td>\n",
       "      <td>0.142272</td>\n",
       "      <td>0.123537</td>\n",
       "      <td>0.197099</td>\n",
       "      <td>0.196991</td>\n",
       "    </tr>\n",
       "    <tr>\n",
       "      <th>KLHL17</th>\n",
       "      <td>-1.189413</td>\n",
       "      <td>-1.042548</td>\n",
       "      <td>-1.181187</td>\n",
       "      <td>-0.607662</td>\n",
       "      <td>-1.016194</td>\n",
       "      <td>-1.422861</td>\n",
       "      <td>-0.830378</td>\n",
       "      <td>-0.813928</td>\n",
       "    </tr>\n",
       "    <tr>\n",
       "      <th>HES4</th>\n",
       "      <td>-0.699888</td>\n",
       "      <td>-0.791272</td>\n",
       "      <td>-0.620216</td>\n",
       "      <td>-0.759988</td>\n",
       "      <td>-0.291358</td>\n",
       "      <td>-0.529019</td>\n",
       "      <td>-0.573723</td>\n",
       "      <td>-0.453955</td>\n",
       "    </tr>\n",
       "    <tr>\n",
       "      <th>AGRN</th>\n",
       "      <td>0.362573</td>\n",
       "      <td>0.918413</td>\n",
       "      <td>1.275283</td>\n",
       "      <td>0.777286</td>\n",
       "      <td>0.951994</td>\n",
       "      <td>0.485732</td>\n",
       "      <td>1.703246</td>\n",
       "      <td>1.177124</td>\n",
       "    </tr>\n",
       "  </tbody>\n",
       "</table>\n",
       "</div>"
      ],
      "text/plain": [
       "          untr_a    untr_b      tm_a      tm_b   isrib_a   isrib_b  tmisrib_a  \\\n",
       "SAMD11 -0.763028 -0.779232 -0.816191 -0.838385 -0.663217 -1.029085  -0.585172   \n",
       "NOC2L   0.291918  0.204531  0.371720  0.276738  0.142272  0.123537   0.197099   \n",
       "KLHL17 -1.189413 -1.042548 -1.181187 -0.607662 -1.016194 -1.422861  -0.830378   \n",
       "HES4   -0.699888 -0.791272 -0.620216 -0.759988 -0.291358 -0.529019  -0.573723   \n",
       "AGRN    0.362573  0.918413  1.275283  0.777286  0.951994  0.485732   1.703246   \n",
       "\n",
       "        tmisrib_b  \n",
       "SAMD11  -0.829035  \n",
       "NOC2L    0.196991  \n",
       "KLHL17  -0.813928  \n",
       "HES4    -0.453955  \n",
       "AGRN     1.177124  "
      ]
     },
     "execution_count": 505,
     "metadata": {},
     "output_type": "execute_result"
    }
   ],
   "source": [
    "#Remove samples with 0 log-fold change and log2 transform\n",
    "data_logte = data_te.copy()\n",
    "\n",
    "data_logte = data_logte[(data_logte != 0).all(1)]\n",
    "\n",
    "data_logte = np.log2(data_logte)\n",
    "\n",
    "data_logte.head()"
   ]
  },
  {
   "cell_type": "code",
   "execution_count": 506,
   "metadata": {},
   "outputs": [
    {
     "data": {
      "image/png": "[encoded data removed]",
      "text/plain": [
       "<Figure size 576x192 with 1 Axes>"
      ]
     },
     "metadata": {
      "needs_background": "light"
     },
     "output_type": "display_data"
    }
   ],
   "source": [
    "xp.check_samples(data_logte)"
   ]
  },
  {
   "cell_type": "markdown",
   "metadata": {},
   "source": [
    "### Test accuracy of XPRESSpipe counts table vs Ingolia table"
   ]
  },
  {
   "cell_type": "code",
   "execution_count": 660,
   "metadata": {},
   "outputs": [
    {
     "data": {
      "text/html": [
       "<div>\n",
       "<style scoped>\n",
       "    .dataframe tbody tr th:only-of-type {\n",
       "        vertical-align: middle;\n",
       "    }\n",
       "\n",
       "    .dataframe tbody tr th {\n",
       "        vertical-align: top;\n",
       "    }\n",
       "\n",
       "    .dataframe thead th {\n",
       "        text-align: right;\n",
       "    }\n",
       "</style>\n",
       "<table border=\"1\" class=\"dataframe\">\n",
       "  <thead>\n",
       "    <tr style=\"text-align: right;\">\n",
       "      <th></th>\n",
       "      <th>trimmed_SRR1795409_1_final</th>\n",
       "      <th>trimmed_SRR1795410_1_final</th>\n",
       "      <th>trimmed_SRR1795411_1_final</th>\n",
       "      <th>trimmed_SRR1795412_1_final</th>\n",
       "      <th>trimmed_SRR1795413_1_final</th>\n",
       "      <th>trimmed_SRR1795414_1_final</th>\n",
       "      <th>trimmed_SRR1795415_1_final</th>\n",
       "      <th>trimmed_SRR1795416_1_final</th>\n",
       "      <th>trimmed_SRR1795417_1_final</th>\n",
       "      <th>trimmed_SRR1795418_1_final</th>\n",
       "      <th>...</th>\n",
       "      <th>trimmed_SRR1795431_1_final</th>\n",
       "      <th>trimmed_SRR1795432_1_final</th>\n",
       "      <th>trimmed_SRR1795433_1_final</th>\n",
       "      <th>trimmed_SRR1795434_1_final</th>\n",
       "      <th>trimmed_SRR1795435_1_final</th>\n",
       "      <th>trimmed_SRR1795436_1_final</th>\n",
       "      <th>trimmed_SRR1795437_1_final</th>\n",
       "      <th>trimmed_SRR1795438_1_final</th>\n",
       "      <th>trimmed_SRR1795439_1_final</th>\n",
       "      <th>trimmed_SRR1795440_1_final</th>\n",
       "    </tr>\n",
       "  </thead>\n",
       "  <tbody>\n",
       "    <tr>\n",
       "      <th>TSPAN6</th>\n",
       "      <td>965</td>\n",
       "      <td>1169</td>\n",
       "      <td>1054</td>\n",
       "      <td>904</td>\n",
       "      <td>1236</td>\n",
       "      <td>999</td>\n",
       "      <td>841</td>\n",
       "      <td>599</td>\n",
       "      <td>944</td>\n",
       "      <td>956</td>\n",
       "      <td>...</td>\n",
       "      <td>378</td>\n",
       "      <td>217</td>\n",
       "      <td>315</td>\n",
       "      <td>216</td>\n",
       "      <td>180</td>\n",
       "      <td>175</td>\n",
       "      <td>459</td>\n",
       "      <td>328</td>\n",
       "      <td>505</td>\n",
       "      <td>352</td>\n",
       "    </tr>\n",
       "    <tr>\n",
       "      <th>TNMD</th>\n",
       "      <td>2</td>\n",
       "      <td>0</td>\n",
       "      <td>2</td>\n",
       "      <td>1</td>\n",
       "      <td>0</td>\n",
       "      <td>2</td>\n",
       "      <td>0</td>\n",
       "      <td>4</td>\n",
       "      <td>2</td>\n",
       "      <td>1</td>\n",
       "      <td>...</td>\n",
       "      <td>0</td>\n",
       "      <td>0</td>\n",
       "      <td>0</td>\n",
       "      <td>0</td>\n",
       "      <td>0</td>\n",
       "      <td>0</td>\n",
       "      <td>0</td>\n",
       "      <td>0</td>\n",
       "      <td>0</td>\n",
       "      <td>0</td>\n",
       "    </tr>\n",
       "    <tr>\n",
       "      <th>DPM1</th>\n",
       "      <td>505</td>\n",
       "      <td>614</td>\n",
       "      <td>566</td>\n",
       "      <td>518</td>\n",
       "      <td>630</td>\n",
       "      <td>501</td>\n",
       "      <td>394</td>\n",
       "      <td>342</td>\n",
       "      <td>436</td>\n",
       "      <td>427</td>\n",
       "      <td>...</td>\n",
       "      <td>791</td>\n",
       "      <td>441</td>\n",
       "      <td>613</td>\n",
       "      <td>489</td>\n",
       "      <td>391</td>\n",
       "      <td>306</td>\n",
       "      <td>918</td>\n",
       "      <td>727</td>\n",
       "      <td>1004</td>\n",
       "      <td>695</td>\n",
       "    </tr>\n",
       "    <tr>\n",
       "      <th>SCYL3</th>\n",
       "      <td>306</td>\n",
       "      <td>344</td>\n",
       "      <td>336</td>\n",
       "      <td>243</td>\n",
       "      <td>310</td>\n",
       "      <td>241</td>\n",
       "      <td>257</td>\n",
       "      <td>176</td>\n",
       "      <td>207</td>\n",
       "      <td>232</td>\n",
       "      <td>...</td>\n",
       "      <td>83</td>\n",
       "      <td>30</td>\n",
       "      <td>55</td>\n",
       "      <td>47</td>\n",
       "      <td>36</td>\n",
       "      <td>33</td>\n",
       "      <td>78</td>\n",
       "      <td>58</td>\n",
       "      <td>80</td>\n",
       "      <td>50</td>\n",
       "    </tr>\n",
       "    <tr>\n",
       "      <th>C1orf112</th>\n",
       "      <td>555</td>\n",
       "      <td>612</td>\n",
       "      <td>513</td>\n",
       "      <td>454</td>\n",
       "      <td>692</td>\n",
       "      <td>493</td>\n",
       "      <td>455</td>\n",
       "      <td>421</td>\n",
       "      <td>512</td>\n",
       "      <td>503</td>\n",
       "      <td>...</td>\n",
       "      <td>288</td>\n",
       "      <td>195</td>\n",
       "      <td>239</td>\n",
       "      <td>219</td>\n",
       "      <td>186</td>\n",
       "      <td>135</td>\n",
       "      <td>368</td>\n",
       "      <td>271</td>\n",
       "      <td>435</td>\n",
       "      <td>270</td>\n",
       "    </tr>\n",
       "  </tbody>\n",
       "</table>\n",
       "<p>5 rows × 32 columns</p>\n",
       "</div>"
      ],
      "text/plain": [
       "          trimmed_SRR1795409_1_final  trimmed_SRR1795410_1_final  \\\n",
       "TSPAN6                           965                        1169   \n",
       "TNMD                               2                           0   \n",
       "DPM1                             505                         614   \n",
       "SCYL3                            306                         344   \n",
       "C1orf112                         555                         612   \n",
       "\n",
       "          trimmed_SRR1795411_1_final  trimmed_SRR1795412_1_final  \\\n",
       "TSPAN6                          1054                         904   \n",
       "TNMD                               2                           1   \n",
       "DPM1                             566                         518   \n",
       "SCYL3                            336                         243   \n",
       "C1orf112                         513                         454   \n",
       "\n",
       "          trimmed_SRR1795413_1_final  trimmed_SRR1795414_1_final  \\\n",
       "TSPAN6                          1236                         999   \n",
       "TNMD                               0                           2   \n",
       "DPM1                             630                         501   \n",
       "SCYL3                            310                         241   \n",
       "C1orf112                         692                         493   \n",
       "\n",
       "          trimmed_SRR1795415_1_final  trimmed_SRR1795416_1_final  \\\n",
       "TSPAN6                           841                         599   \n",
       "TNMD                               0                           4   \n",
       "DPM1                             394                         342   \n",
       "SCYL3                            257                         176   \n",
       "C1orf112                         455                         421   \n",
       "\n",
       "          trimmed_SRR1795417_1_final  trimmed_SRR1795418_1_final  \\\n",
       "TSPAN6                           944                         956   \n",
       "TNMD                               2                           1   \n",
       "DPM1                             436                         427   \n",
       "SCYL3                            207                         232   \n",
       "C1orf112                         512                         503   \n",
       "\n",
       "                     ...              trimmed_SRR1795431_1_final  \\\n",
       "TSPAN6               ...                                     378   \n",
       "TNMD                 ...                                       0   \n",
       "DPM1                 ...                                     791   \n",
       "SCYL3                ...                                      83   \n",
       "C1orf112             ...                                     288   \n",
       "\n",
       "          trimmed_SRR1795432_1_final  trimmed_SRR1795433_1_final  \\\n",
       "TSPAN6                           217                         315   \n",
       "TNMD                               0                           0   \n",
       "DPM1                             441                         613   \n",
       "SCYL3                             30                          55   \n",
       "C1orf112                         195                         239   \n",
       "\n",
       "          trimmed_SRR1795434_1_final  trimmed_SRR1795435_1_final  \\\n",
       "TSPAN6                           216                         180   \n",
       "TNMD                               0                           0   \n",
       "DPM1                             489                         391   \n",
       "SCYL3                             47                          36   \n",
       "C1orf112                         219                         186   \n",
       "\n",
       "          trimmed_SRR1795436_1_final  trimmed_SRR1795437_1_final  \\\n",
       "TSPAN6                           175                         459   \n",
       "TNMD                               0                           0   \n",
       "DPM1                             306                         918   \n",
       "SCYL3                             33                          78   \n",
       "C1orf112                         135                         368   \n",
       "\n",
       "          trimmed_SRR1795438_1_final  trimmed_SRR1795439_1_final  \\\n",
       "TSPAN6                           328                         505   \n",
       "TNMD                               0                           0   \n",
       "DPM1                             727                        1004   \n",
       "SCYL3                             58                          80   \n",
       "C1orf112                         271                         435   \n",
       "\n",
       "          trimmed_SRR1795440_1_final  \n",
       "TSPAN6                           352  \n",
       "TNMD                               0  \n",
       "DPM1                             695  \n",
       "SCYL3                             50  \n",
       "C1orf112                         270  \n",
       "\n",
       "[5 rows x 32 columns]"
      ]
     },
     "execution_count": 660,
     "metadata": {},
     "output_type": "execute_result"
    }
   ],
   "source": [
    "xpresspipe_table = pd.read_csv('isrib_counts_xpresspipe.tsv',sep='\\t',index_col=0)\n",
    "xpresspipe_table = xp.convert_names_gtf(xpresspipe_table, '/Users/jordan/Desktop/Homo_sapiens.GRCh38.95.gtf')\n",
    "\n",
    "xpresspipe_table.head()"
   ]
  },
  {
   "cell_type": "code",
   "execution_count": 676,
   "metadata": {},
   "outputs": [
    {
     "name": "stdout",
     "output_type": "stream",
     "text": [
      "(10229, 32)\n",
      "(10229, 16)\n"
     ]
    }
   ],
   "source": [
    "xpresspipe_table_deduped = xpresspipe_table[~xpresspipe_table.index.duplicated(keep='first')]\n",
    "data_deduped = data[~data.index.duplicated(keep='first')]\n",
    "\n",
    "xpresspipe_table_deduped = xpresspipe_table_deduped.dropna()\n",
    "data_deduped = data_deduped.dropna()\n",
    "\n",
    "xpresspipe_table_deduped = xpresspipe_table_deduped.reindex(labels=data_deduped.index.tolist())\n",
    "data_deduped = data_deduped.reindex(labels=xpresspipe_table_deduped.index.tolist())\n",
    "\n",
    "xpresspipe_table_deduped = xpresspipe_table_deduped.dropna()\n",
    "data_deduped = data_deduped.dropna()\n",
    "\n",
    "data_deduped = data_deduped.reindex(labels=xpresspipe_table_deduped.index.tolist())\n",
    "\n",
    "print(xpresspipe_table_deduped.shape)\n",
    "print(data_deduped.shape)"
   ]
  },
  {
   "cell_type": "code",
   "execution_count": 697,
   "metadata": {},
   "outputs": [
    {
     "data": {
      "image/png": "[encoded data removed]",
      "text/plain": [
       "<Figure size 288x288 with 1 Axes>"
      ]
     },
     "metadata": {
      "needs_background": "light"
     },
     "output_type": "display_data"
    }
   ],
   "source": [
    "gene_a = data_deduped.sum(axis=1).values.tolist()\n",
    "gene_a = [x + 1 for x in gene_a]\n",
    "gene_a = np.array(gene_a).astype(np.float)\n",
    "gene_a = np.ndarray.tolist(gene_a)\n",
    "\n",
    "gene_b = xpresspipe_table_deduped.sum(axis=1).values.tolist()\n",
    "gene_b = [x + 1 for x in gene_b]\n",
    "gene_b = np.array(gene_b).astype(np.float)\n",
    "gene_b = np.ndarray.tolist(gene_b)\n",
    "\n",
    "gene_a = np.log2(gene_a)\n",
    "gene_b = np.log2(gene_b)\n",
    "\n",
    "slope, intercept, r_value, p_value, std_err = stats.linregress(gene_a, gene_b)\n",
    "x = np.linspace(np.amin(gene_a), np.amax(gene_b), 100)\n",
    "y = (slope * x) + intercept\n",
    "\n",
    "fig, ax = plt.subplots(1,1, figsize=(4,4))\n",
    "\n",
    "ax.scatter(gene_a, gene_b, s=1,c='black')\n",
    "ax.set_title('R = ' + str(r_value) + '\\np-value ' + str(p_value))\n",
    "ax.plot(x, y, '-r')\n",
    "\n",
    "plt.show()"
   ]
  },
  {
   "cell_type": "code",
   "execution_count": 696,
   "metadata": {},
   "outputs": [
    {
     "data": {
      "image/png": "[encoded data removed]",
      "text/plain": [
       "<Figure size 288x288 with 1 Axes>"
      ]
     },
     "metadata": {
      "needs_background": "light"
     },
     "output_type": "display_data"
    }
   ],
   "source": [
    "gene_a = data_deduped.sum(axis=1).values.tolist()\n",
    "gene_a = [x + 1 for x in gene_a]\n",
    "gene_a = np.array(gene_a).astype(np.float)\n",
    "gene_a = np.ndarray.tolist(gene_a)\n",
    "\n",
    "gene_b = xpresspipe_table_deduped[xpresspipe_table_deduped.columns[1::2]].sum(axis=1).values.tolist()\n",
    "gene_b = [x + 1 for x in gene_b]\n",
    "gene_b = np.array(gene_b).astype(np.float)\n",
    "gene_b = np.ndarray.tolist(gene_b)\n",
    "\n",
    "gene_a = np.log2(gene_a)\n",
    "gene_b = np.log2(gene_b)\n",
    "\n",
    "slope, intercept, r_value, p_value, std_err = stats.linregress(gene_a, gene_b)\n",
    "x = np.linspace(np.amin(gene_a), np.amax(gene_b), 100)\n",
    "y = (slope * x) + intercept\n",
    "\n",
    "fig, ax = plt.subplots(1,1, figsize=(4,4))\n",
    "\n",
    "ax.scatter(gene_a, gene_b, s=1,c='black')\n",
    "ax.set_title('R = ' + str(r_value) + '\\np-value ' + str(p_value))\n",
    "ax.plot(x, y, '-r')\n",
    "\n",
    "plt.show()"
   ]
  },
  {
   "cell_type": "code",
   "execution_count": 699,
   "metadata": {},
   "outputs": [
    {
     "data": {
      "image/png": "[encoded data removed]",
      "text/plain": [
       "<Figure size 288x288 with 1 Axes>"
      ]
     },
     "metadata": {
      "needs_background": "light"
     },
     "output_type": "display_data"
    }
   ],
   "source": [
    "gene_a = data_deduped.sum(axis=1).values.tolist()\n",
    "gene_a = [x + 1 for x in gene_a]\n",
    "gene_a = np.array(gene_a).astype(np.float)\n",
    "gene_a = np.ndarray.tolist(gene_a)\n",
    "\n",
    "gene_b = xpresspipe_table_deduped[xpresspipe_table_deduped.columns[::2]].sum(axis=1).values.tolist()\n",
    "gene_b = [x + 1 for x in gene_b]\n",
    "gene_b = np.array(gene_b).astype(np.float)\n",
    "gene_b = np.ndarray.tolist(gene_b)\n",
    "\n",
    "gene_a = np.log2(gene_a)\n",
    "gene_b = np.log2(gene_b)\n",
    "\n",
    "slope, intercept, r_value, p_value, std_err = stats.linregress(gene_a, gene_b)\n",
    "x = np.linspace(np.amin(gene_a), np.amax(gene_b), 100)\n",
    "y = (slope * x) + intercept\n",
    "\n",
    "fig, ax = plt.subplots(1,1, figsize=(4,4))\n",
    "\n",
    "ax.scatter(gene_a, gene_b, s=1,c='black')\n",
    "ax.set_title('R = ' + str(r_value) + '\\np-value ' + str(p_value))\n",
    "ax.plot(x, y, '-r')\n",
    "\n",
    "plt.show()"
   ]
  },
  {
   "cell_type": "code",
   "execution_count": 700,
   "metadata": {},
   "outputs": [
    {
     "data": {
      "image/png": "[encoded data removed]",
      "text/plain": [
       "<Figure size 288x288 with 1 Axes>"
      ]
     },
     "metadata": {
      "needs_background": "light"
     },
     "output_type": "display_data"
    }
   ],
   "source": [
    "gene_a = data_deduped['isrib_a_hek_mrna'].values.tolist()\n",
    "gene_a = [x + 1 for x in gene_a]\n",
    "gene_a = np.array(gene_a).astype(np.float)\n",
    "gene_a = np.ndarray.tolist(gene_a)\n",
    "\n",
    "gene_b = xpresspipe_table_deduped['trimmed_SRR1795413_1_final'].values.tolist()\n",
    "gene_b = [x + 1 for x in gene_b]\n",
    "gene_b = np.array(gene_b).astype(np.float)\n",
    "gene_b = np.ndarray.tolist(gene_b)\n",
    "\n",
    "gene_a = np.log2(gene_a)\n",
    "gene_b = np.log2(gene_b)\n",
    "\n",
    "slope, intercept, r_value, p_value, std_err = stats.linregress(gene_a, gene_b)\n",
    "x = np.linspace(np.amin(gene_a), np.amax(gene_b), 100)\n",
    "y = (slope * x) + intercept\n",
    "\n",
    "fig, ax = plt.subplots(1,1, figsize=(4,4))\n",
    "\n",
    "ax.scatter(gene_a, gene_b, s=1,c='black')\n",
    "ax.set_title('R = ' + str(r_value) + '\\np-value ' + str(p_value))\n",
    "ax.plot(x, y, '-r')\n",
    "\n",
    "plt.show()"
   ]
  },
  {
   "cell_type": "code",
   "execution_count": 702,
   "metadata": {},
   "outputs": [
    {
     "data": {
      "image/png": "[encoded data removed]",
      "text/plain": [
       "<Figure size 288x288 with 1 Axes>"
      ]
     },
     "metadata": {
      "needs_background": "light"
     },
     "output_type": "display_data"
    }
   ],
   "source": [
    "gene_a = xpresspipe_table_deduped['trimmed_SRR1795429_1_final'].values.tolist()\n",
    "gene_a = [x + 1 for x in gene_a]\n",
    "gene_a = np.array(gene_a).astype(np.float)\n",
    "gene_a = np.ndarray.tolist(gene_a)\n",
    "\n",
    "gene_b = xpresspipe_table_deduped['trimmed_SRR1795413_1_final'].values.tolist()\n",
    "gene_b = [x + 1 for x in gene_b]\n",
    "gene_b = np.array(gene_b).astype(np.float)\n",
    "gene_b = np.ndarray.tolist(gene_b)\n",
    "\n",
    "gene_a = np.log2(gene_a)\n",
    "gene_b = np.log2(gene_b)\n",
    "\n",
    "slope, intercept, r_value, p_value, std_err = stats.linregress(gene_a, gene_b)\n",
    "x = np.linspace(np.amin(gene_a), np.amax(gene_b), 100)\n",
    "y = (slope * x) + intercept\n",
    "\n",
    "fig, ax = plt.subplots(1,1, figsize=(4,4))\n",
    "\n",
    "ax.scatter(gene_a, gene_b, s=1,c='black')\n",
    "ax.set_title('R = ' + str(r_value) + '\\np-value ' + str(p_value))\n",
    "ax.plot(x, y, '-r')\n",
    "\n",
    "plt.show()"
   ]
  },
  {
   "cell_type": "markdown",
   "metadata": {},
   "source": [
    "### Reproduce Figure 1 from DOI: 10.7554/eLife.05033 (original paper)"
   ]
  },
  {
   "cell_type": "markdown",
   "metadata": {},
   "source": [
    "##### Tm treatment vs Untreated"
   ]
  },
  {
   "cell_type": "code",
   "execution_count": 507,
   "metadata": {},
   "outputs": [
    {
     "data": {
      "text/html": [
       "<div>\n",
       "<style scoped>\n",
       "    .dataframe tbody tr th:only-of-type {\n",
       "        vertical-align: middle;\n",
       "    }\n",
       "\n",
       "    .dataframe tbody tr th {\n",
       "        vertical-align: top;\n",
       "    }\n",
       "\n",
       "    .dataframe thead th {\n",
       "        text-align: right;\n",
       "    }\n",
       "</style>\n",
       "<table border=\"1\" class=\"dataframe\">\n",
       "  <thead>\n",
       "    <tr style=\"text-align: right;\">\n",
       "      <th></th>\n",
       "      <th>ribo_fc</th>\n",
       "      <th>rna_fc</th>\n",
       "    </tr>\n",
       "  </thead>\n",
       "  <tbody>\n",
       "    <tr>\n",
       "      <th>LOC388312</th>\n",
       "      <td>0.657287</td>\n",
       "      <td>0.573669</td>\n",
       "    </tr>\n",
       "    <tr>\n",
       "      <th>SAMD11</th>\n",
       "      <td>0.896336</td>\n",
       "      <td>0.931063</td>\n",
       "    </tr>\n",
       "    <tr>\n",
       "      <th>NOC2L</th>\n",
       "      <td>1.097378</td>\n",
       "      <td>1.039533</td>\n",
       "    </tr>\n",
       "    <tr>\n",
       "      <th>KLHL17</th>\n",
       "      <td>1.055253</td>\n",
       "      <td>0.909174</td>\n",
       "    </tr>\n",
       "    <tr>\n",
       "      <th>HES4</th>\n",
       "      <td>0.724738</td>\n",
       "      <td>0.695704</td>\n",
       "    </tr>\n",
       "  </tbody>\n",
       "</table>\n",
       "</div>"
      ],
      "text/plain": [
       "            ribo_fc    rna_fc\n",
       "LOC388312  0.657287  0.573669\n",
       "SAMD11     0.896336  0.931063\n",
       "NOC2L      1.097378  1.039533\n",
       "KLHL17     1.055253  0.909174\n",
       "HES4       0.724738  0.695704"
      ]
     },
     "execution_count": 507,
     "metadata": {},
     "output_type": "execute_result"
    }
   ],
   "source": [
    "data_fig1a = data_tpm.copy()\n",
    "data_fig1a = data_fig1a[['ribo_tm_a_ribo','ribo_tm_b_ribo','tm_a_hek_mrna','tm_b_hek_mrna',\n",
    "                         'ribo_untr_a_ribo','ribo_untr_b_ribo','untr_a_hek_mrna','untr_b_hek_mrna']]\n",
    "\n",
    "data_fig1a['ribo_tm'] = data_fig1a['ribo_tm_a_ribo'] + data_fig1a['ribo_tm_b_ribo']\n",
    "data_fig1a['rna_tm'] = data_fig1a['tm_a_hek_mrna'] + data_fig1a['tm_b_hek_mrna']\n",
    "data_fig1a['ribo_untr'] = data_fig1a['ribo_untr_a_ribo'] + data_fig1a['ribo_untr_b_ribo']\n",
    "data_fig1a['rna_untr'] = data_fig1a['untr_a_hek_mrna'] + data_fig1a['untr_b_hek_mrna']\n",
    "\n",
    "data_fig1a['ribo_fc'] = data_fig1a['ribo_tm'] / data_fig1a['ribo_untr']\n",
    "data_fig1a['rna_fc'] = data_fig1a['rna_tm'] / data_fig1a['rna_untr']\n",
    "\n",
    "data_fig1a_plot = data_fig1a[['ribo_fc','rna_fc']]\n",
    "\n",
    "data_fig1a_plot = data_fig1a_plot[(data_fig1a_plot != 0).all(1)]\n",
    "data_fig1a_plot = data_fig1a_plot.replace([np.inf, -np.inf], np.nan).dropna()\n",
    "\n",
    "#Remove duplicate indices\n",
    "data_fig1a_plot = data_fig1a_plot[~data_fig1a_plot.index.duplicated(keep='first')]\n",
    "\n",
    "data_fig1a_plot.head()"
   ]
  },
  {
   "cell_type": "code",
   "execution_count": 508,
   "metadata": {},
   "outputs": [],
   "source": [
    "data_fig1a = data_fig1a[(data_fig1a != 0).all(1)]\n",
    "data_fig1a = data_fig1a.replace([np.inf, -np.inf], np.nan).dropna()\n",
    "\n",
    "data_signif = xp.calculate_p(data_fig1a, 'ribo_tm_', 'ribo_untr_')\n",
    "data_signif['p_value'] = 10 ** -data_signif['-log$_1$$_0$(P-Value)']\n",
    "\n",
    "#Use R's padjust BH\n",
    "stats = importr('stats')\n",
    "p_adjust = stats.p_adjust(FloatVector(data_signif['p_value'].values.tolist()), method = 'BH')\n",
    "data_signif['fdr'] = np.asarray(p_adjust).tolist()"
   ]
  },
  {
   "cell_type": "code",
   "execution_count": 509,
   "metadata": {},
   "outputs": [
    {
     "name": "stdout",
     "output_type": "stream",
     "text": [
      "(1386, 2)\n",
      "(7, 2)\n",
      "(4, 2)\n"
     ]
    }
   ],
   "source": [
    "sig_list = data_signif.loc[data_signif['p_value'] < 0.05].index.tolist()\n",
    "data_fig1a_threshold = data_fig1a_plot.reindex(labels=sig_list, axis=0)\n",
    "print(data_fig1a_threshold.shape)\n",
    "\n",
    "data_fig1a_orf = data_fig1a_plot.loc[['SLC35A4','PTP4A1','UCP2','PNRC2','C7orf31','BCL2L11','SAT1']]\n",
    "print(data_fig1a_orf.shape)\n",
    "\n",
    "data_fig1a_isr = data_fig1a_plot.loc[['ATF5','ATF4','DDIT3','PPP1R15A']]\n",
    "print(data_fig1a_isr.shape)"
   ]
  },
  {
   "cell_type": "code",
   "execution_count": 510,
   "metadata": {},
   "outputs": [
    {
     "data": {
      "text/plain": [
       "<function matplotlib.pyplot.show(*args, **kw)>"
      ]
     },
     "execution_count": 510,
     "metadata": {},
     "output_type": "execute_result"
    },
    {
     "data": {
      "text/plain": [
       "<Figure size 432x288 with 0 Axes>"
      ]
     },
     "metadata": {},
     "output_type": "display_data"
    },
    {
     "data": {
      "image/png": "[encoded data removed]",
      "text/plain": [
       "<Figure size 504x504 with 1 Axes>"
      ]
     },
     "metadata": {
      "needs_background": "light"
     },
     "output_type": "display_data"
    }
   ],
   "source": [
    "plt.close()\n",
    "plt.clf()\n",
    "\n",
    "#Prepare plot\n",
    "fig, ax = plt.subplots(1,1, figsize=(7,7))\n",
    "plt.grid(False)\n",
    "\n",
    "for index, row in data_fig1a_orf.iterrows():\n",
    "    if index == 'BCL2L11' or index == 'PNRC2':\n",
    "        ax.text(row[1], row[0] - 0.3, str(index), horizontalalignment='right', size='medium', color='green', weight='semibold')\n",
    "    else:\n",
    "        ax.text(row[1] - 0.05, row[0] - 0.1, str(index), horizontalalignment='right', size='medium', color='green', weight='semibold')\n",
    "for index, row in data_fig1a_isr.iterrows():\n",
    "    ax.text(row[1] + 0.1, row[0] , str(index), horizontalalignment='left', size='medium', color='#be00be', weight='semibold')\n",
    "    \n",
    "    \n",
    "ax.axhline(1, ls='-', color='black')\n",
    "ax.axvline(1, ls='-', color='black')\n",
    "\n",
    "rect = patches.Rectangle((.5,.5),1.5,1.5,linewidth=1.5,edgecolor='gray',facecolor='none')\n",
    "ax.add_patch(rect)\n",
    "\n",
    "ax.set_ylabel(\"Ribo-Seq (Tm/UT)\", fontsize=16)\n",
    "ax.set_xlabel(\"mRNA-Seq (Tm/UT)\", fontsize=16)\n",
    "ax.set_xlim(.125,8.5)\n",
    "ax.set_ylim(.125,8.5)\n",
    "ax.set_facecolor(\"#FFFFFF\")\n",
    "\n",
    "x = [.125,.250,.500,1,2,4,8]\n",
    "ticks = [\"1/8\",\"1/4\",\"1/2\",\"1\",\"2\",\"4\",\"8\"]\n",
    "\n",
    "ax.set_xscale('log', basex=2)\n",
    "ax.set_xticks(x)\n",
    "ax.set_xticklabels(ticks, fontsize=12)\n",
    "ax.set_xticklabels([\"\"]*len(xm), minor=True)\n",
    "\n",
    "ax.set_yscale('log', basey=2)\n",
    "ax.set_yticks(x)\n",
    "ax.set_yticklabels(ticks, fontsize=12)\n",
    "ax.set_yticklabels([\"\"]*len(xm), minor=True)\n",
    "\n",
    "#Prep data\n",
    "#All\n",
    "ribo_all = data_fig1a[['ribo_fc']].sum(axis=1).values.tolist()\n",
    "ribo_all = np.array(ribo_all).astype(np.float)\n",
    "ribo_all = np.ndarray.tolist(ribo_all)\n",
    "\n",
    "rna_all = data_fig1a[['rna_fc']].sum(axis=1).values.tolist()\n",
    "rna_all = np.array(rna_all).astype(np.float)\n",
    "rna_all = np.ndarray.tolist(rna_all)\n",
    "\n",
    "#ORFs\n",
    "ribo_orf = data_fig1a_orf[['ribo_fc']].sum(axis=1).values.tolist()\n",
    "ribo_orf = np.array(ribo_orf).astype(np.float)\n",
    "ribo_orf = np.ndarray.tolist(ribo_orf)\n",
    "\n",
    "rna_orf = data_fig1a_orf[['rna_fc']].sum(axis=1).values.tolist()\n",
    "rna_orf = np.array(rna_orf).astype(np.float)\n",
    "rna_orf = np.ndarray.tolist(rna_orf)\n",
    "\n",
    "#ISR\n",
    "ribo_isr = data_fig1a_isr[['ribo_fc']].sum(axis=1).values.tolist()\n",
    "ribo_isr = np.array(ribo_isr).astype(np.float)\n",
    "ribo_isr = np.ndarray.tolist(ribo_isr)\n",
    "\n",
    "rna_isr = data_fig1a_isr[['rna_fc']].sum(axis=1).values.tolist()\n",
    "rna_isr = np.array(rna_isr).astype(np.float)\n",
    "rna_isr = np.ndarray.tolist(rna_isr)\n",
    "\n",
    "#Plot data\n",
    "ax.scatter(rna_all, ribo_all, s=.5,c='gray')\n",
    "#ax.scatter(rna_thres, ribo_thres, s=5,c='black',alpha=0.7)\n",
    "ax.scatter(rna_orf, ribo_orf, s=25,c='green')\n",
    "ax.scatter(rna_isr, ribo_isr, s=25,c='#be00be')\n",
    "\n",
    "plt.savefig('./plots/tm_1a.pdf', dpi=1800, bbox_inches='tight')\n",
    "\n",
    "plt.show"
   ]
  },
  {
   "cell_type": "markdown",
   "metadata": {},
   "source": [
    "##### Tm + ISRIB treament vs untreated"
   ]
  },
  {
   "cell_type": "code",
   "execution_count": 511,
   "metadata": {},
   "outputs": [
    {
     "data": {
      "text/html": [
       "<div>\n",
       "<style scoped>\n",
       "    .dataframe tbody tr th:only-of-type {\n",
       "        vertical-align: middle;\n",
       "    }\n",
       "\n",
       "    .dataframe tbody tr th {\n",
       "        vertical-align: top;\n",
       "    }\n",
       "\n",
       "    .dataframe thead th {\n",
       "        text-align: right;\n",
       "    }\n",
       "</style>\n",
       "<table border=\"1\" class=\"dataframe\">\n",
       "  <thead>\n",
       "    <tr style=\"text-align: right;\">\n",
       "      <th></th>\n",
       "      <th>ribo_fc</th>\n",
       "      <th>rna_fc</th>\n",
       "    </tr>\n",
       "  </thead>\n",
       "  <tbody>\n",
       "    <tr>\n",
       "      <th>LOC388312</th>\n",
       "      <td>3.608490</td>\n",
       "      <td>0.652229</td>\n",
       "    </tr>\n",
       "    <tr>\n",
       "      <th>SAMD11</th>\n",
       "      <td>0.976438</td>\n",
       "      <td>0.934265</td>\n",
       "    </tr>\n",
       "    <tr>\n",
       "      <th>NOC2L</th>\n",
       "      <td>0.966936</td>\n",
       "      <td>1.000737</td>\n",
       "    </tr>\n",
       "    <tr>\n",
       "      <th>KLHL17</th>\n",
       "      <td>1.114564</td>\n",
       "      <td>0.906529</td>\n",
       "    </tr>\n",
       "    <tr>\n",
       "      <th>HES4</th>\n",
       "      <td>0.948386</td>\n",
       "      <td>0.804980</td>\n",
       "    </tr>\n",
       "  </tbody>\n",
       "</table>\n",
       "</div>"
      ],
      "text/plain": [
       "            ribo_fc    rna_fc\n",
       "LOC388312  3.608490  0.652229\n",
       "SAMD11     0.976438  0.934265\n",
       "NOC2L      0.966936  1.000737\n",
       "KLHL17     1.114564  0.906529\n",
       "HES4       0.948386  0.804980"
      ]
     },
     "execution_count": 511,
     "metadata": {},
     "output_type": "execute_result"
    }
   ],
   "source": [
    "data_fig1b = data_tpm.copy()\n",
    "data_fig1b = data_fig1b[['ribo_tmisrib_a_ribo','ribo_tmisrib_b_ribo','tmisrib_a_hek_mrna','tmisrib_b_hek_mrna',\n",
    "                         'ribo_untr_a_ribo','ribo_untr_b_ribo','untr_a_hek_mrna','untr_b_hek_mrna']]\n",
    "\n",
    "data_fig1b['ribo_tmisrib'] = data_fig1b['ribo_tmisrib_a_ribo'] + data_fig1b['ribo_tmisrib_b_ribo']\n",
    "data_fig1b['rna_tmisrib'] = data_fig1b['tmisrib_a_hek_mrna'] + data_fig1b['tmisrib_b_hek_mrna']\n",
    "data_fig1b['ribo_untr'] = data_fig1b['ribo_untr_a_ribo'] + data_fig1b['ribo_untr_b_ribo']\n",
    "data_fig1b['rna_untr'] = data_fig1b['untr_a_hek_mrna'] + data_fig1b['untr_b_hek_mrna']\n",
    "\n",
    "data_fig1b['ribo_fc'] = data_fig1b['ribo_tmisrib'] / data_fig1b['ribo_untr']\n",
    "data_fig1b['rna_fc'] = data_fig1b['rna_tmisrib'] / data_fig1b['rna_untr']\n",
    "\n",
    "data_fig1b_plot = data_fig1b[['ribo_fc','rna_fc']]\n",
    "\n",
    "data_fig1b_plot = data_fig1b_plot[(data_fig1b_plot != 0).all(1)]\n",
    "data_fig1b_plot = data_fig1b_plot.replace([np.inf, -np.inf], np.nan).dropna()\n",
    "\n",
    "#Remove duplicate indices\n",
    "data_fig1b_plot = data_fig1b_plot[~data_fig1b_plot.index.duplicated(keep='first')]\n",
    "\n",
    "data_fig1b_plot.head()"
   ]
  },
  {
   "cell_type": "code",
   "execution_count": 512,
   "metadata": {},
   "outputs": [],
   "source": [
    "data_fig1b = data_fig1b[(data_fig1b != 0).all(1)]\n",
    "data_fig1b = data_fig1b.replace([np.inf, -np.inf], np.nan).dropna()\n",
    "\n",
    "data_signif_1b = xp.calculate_p(data_fig1b, 'ribo_tmisrib_', 'ribo_untr_')\n",
    "data_signif_1b['p_value'] = 10 ** -data_signif_1b['-log$_1$$_0$(P-Value)']\n",
    "\n",
    "#Use R's padjust BH\n",
    "stats = importr('stats')\n",
    "p_adjust_1b = stats.p_adjust(FloatVector(data_signif_1b['p_value'].values.tolist()), method = 'BH')\n",
    "data_signif_1b['fdr'] = np.asarray(p_adjust_1b).tolist()"
   ]
  },
  {
   "cell_type": "code",
   "execution_count": 513,
   "metadata": {},
   "outputs": [
    {
     "name": "stdout",
     "output_type": "stream",
     "text": [
      "(782, 2)\n",
      "(7, 2)\n",
      "(4, 2)\n"
     ]
    }
   ],
   "source": [
    "sig_list = data_signif_1b.loc[data_signif_1b['p_value'] < 0.05].index.tolist()\n",
    "data_fig1b_threshold = data_fig1b_plot.reindex(labels=sig_list, axis=0)\n",
    "print(data_fig1b_threshold.shape)\n",
    "\n",
    "data_fig1b_orf = data_fig1b_plot.loc[['SLC35A4','PTP4A1','UCP2','PNRC2','C7orf31','BCL2L11','SAT1']]\n",
    "print(data_fig1b_orf.shape)\n",
    "\n",
    "data_fig1b_isr = data_fig1b_plot.loc[['ATF5','ATF4','DDIT3','PPP1R15A']]\n",
    "print(data_fig1b_isr.shape)"
   ]
  },
  {
   "cell_type": "code",
   "execution_count": 514,
   "metadata": {},
   "outputs": [
    {
     "data": {
      "text/plain": [
       "<function matplotlib.pyplot.show(*args, **kw)>"
      ]
     },
     "execution_count": 514,
     "metadata": {},
     "output_type": "execute_result"
    },
    {
     "data": {
      "text/plain": [
       "<Figure size 432x288 with 0 Axes>"
      ]
     },
     "metadata": {},
     "output_type": "display_data"
    },
    {
     "data": {
      "image/png": "[encoded data removed]",
      "text/plain": [
       "<Figure size 504x504 with 1 Axes>"
      ]
     },
     "metadata": {
      "needs_background": "light"
     },
     "output_type": "display_data"
    }
   ],
   "source": [
    "plt.close()\n",
    "plt.clf()\n",
    "\n",
    "#Prepare plot\n",
    "fig, ax = plt.subplots(1,1, figsize=(7,7))\n",
    "plt.grid(False)\n",
    "\n",
    "for index, row in data_fig1b_orf.iterrows():\n",
    "    ax.text(row[1] - 0.1, row[0] - 0.05, str(index), horizontalalignment='right', size='medium', color='green', weight='semibold')\n",
    "for index, row in data_fig1b_isr.iterrows():\n",
    "    if index == 'DDIT3':\n",
    "        ax.text(row[1], row[0], str(index), horizontalalignment='right', size='medium', color='#be00be', weight='semibold')\n",
    "    else:\n",
    "        ax.text(row[1] + 0.1, row[0] , str(index), horizontalalignment='left', size='medium', color='#be00be', weight='semibold')\n",
    "    \n",
    "ax.axhline(1, ls='-', color='black')\n",
    "ax.axvline(1, ls='-', color='black')\n",
    "\n",
    "rect = patches.Rectangle((.5,.5),1.5,1.5,linewidth=1.5,edgecolor='gray',facecolor='none')\n",
    "ax.add_patch(rect)\n",
    "\n",
    "ax.set_ylabel(\"Ribo-Seq (Tm + ISRIB/UT)\", fontsize=16)\n",
    "ax.set_xlabel(\"mRNA-Seq (Tm + ISRIB/UT)\", fontsize=16)\n",
    "ax.set_xlim(.125,8.5)\n",
    "ax.set_ylim(.125,8.5)\n",
    "ax.set_facecolor(\"#FFFFFF\")\n",
    "\n",
    "x = [.125,.250,.500,1,2,4,8]\n",
    "ticks = [\"1/8\",\"1/4\",\"1/2\",\"1\",\"2\",\"4\",\"8\"]\n",
    "\n",
    "ax.set_xscale('log', basex=2)\n",
    "ax.set_xticks(x)\n",
    "ax.set_xticklabels(ticks, fontsize=12)\n",
    "ax.set_xticklabels([\"\"]*len(xm), minor=True)\n",
    "\n",
    "ax.set_yscale('log', basey=2)\n",
    "ax.set_yticks(x)\n",
    "ax.set_yticklabels(ticks, fontsize=12)\n",
    "ax.set_yticklabels([\"\"]*len(xm), minor=True)\n",
    "\n",
    "#Prep data\n",
    "#All\n",
    "ribo_all = data_fig1b[['ribo_fc']].sum(axis=1).values.tolist()\n",
    "ribo_all = np.array(ribo_all).astype(np.float)\n",
    "ribo_all = np.ndarray.tolist(ribo_all)\n",
    "\n",
    "rna_all = data_fig1b[['rna_fc']].sum(axis=1).values.tolist()\n",
    "rna_all = np.array(rna_all).astype(np.float)\n",
    "rna_all = np.ndarray.tolist(rna_all)\n",
    "\n",
    "#ORFs\n",
    "ribo_orf = data_fig1b_orf[['ribo_fc']].sum(axis=1).values.tolist()\n",
    "ribo_orf = np.array(ribo_orf).astype(np.float)\n",
    "ribo_orf = np.ndarray.tolist(ribo_orf)\n",
    "\n",
    "rna_orf = data_fig1b_orf[['rna_fc']].sum(axis=1).values.tolist()\n",
    "rna_orf = np.array(rna_orf).astype(np.float)\n",
    "rna_orf = np.ndarray.tolist(rna_orf)\n",
    "\n",
    "#ISR\n",
    "ribo_isr = data_fig1b_isr[['ribo_fc']].sum(axis=1).values.tolist()\n",
    "ribo_isr = np.array(ribo_isr).astype(np.float)\n",
    "ribo_isr = np.ndarray.tolist(ribo_isr)\n",
    "\n",
    "rna_isr = data_fig1b_isr[['rna_fc']].sum(axis=1).values.tolist()\n",
    "rna_isr = np.array(rna_isr).astype(np.float)\n",
    "rna_isr = np.ndarray.tolist(rna_isr)\n",
    "\n",
    "#Plot data\n",
    "ax.scatter(rna_all, ribo_all, s=.5,c='gray')\n",
    "#ax.scatter(rna_thres, ribo_thres, s=5,c='black',alpha=0.7)\n",
    "ax.scatter(rna_orf, ribo_orf, s=25,c='green')\n",
    "ax.scatter(rna_isr, ribo_isr, s=25,c='#be00be')\n",
    "\n",
    "plt.savefig('./plots/tmisrib_1b.pdf', dpi=1800, bbox_inches='tight')\n",
    "\n",
    "plt.show"
   ]
  },
  {
   "cell_type": "markdown",
   "metadata": {},
   "source": [
    "##### ISRIB treament vs untreated"
   ]
  },
  {
   "cell_type": "code",
   "execution_count": 515,
   "metadata": {},
   "outputs": [
    {
     "data": {
      "text/html": [
       "<div>\n",
       "<style scoped>\n",
       "    .dataframe tbody tr th:only-of-type {\n",
       "        vertical-align: middle;\n",
       "    }\n",
       "\n",
       "    .dataframe tbody tr th {\n",
       "        vertical-align: top;\n",
       "    }\n",
       "\n",
       "    .dataframe thead th {\n",
       "        text-align: right;\n",
       "    }\n",
       "</style>\n",
       "<table border=\"1\" class=\"dataframe\">\n",
       "  <thead>\n",
       "    <tr style=\"text-align: right;\">\n",
       "      <th></th>\n",
       "      <th>ribo_fc</th>\n",
       "      <th>rna_fc</th>\n",
       "    </tr>\n",
       "  </thead>\n",
       "  <tbody>\n",
       "    <tr>\n",
       "      <th>LOC388312</th>\n",
       "      <td>0.658400</td>\n",
       "      <td>0.965198</td>\n",
       "    </tr>\n",
       "    <tr>\n",
       "      <th>SAMD11</th>\n",
       "      <td>0.940848</td>\n",
       "      <td>0.996347</td>\n",
       "    </tr>\n",
       "    <tr>\n",
       "      <th>NOC2L</th>\n",
       "      <td>0.993847</td>\n",
       "      <td>1.075465</td>\n",
       "    </tr>\n",
       "    <tr>\n",
       "      <th>KLHL17</th>\n",
       "      <td>1.023877</td>\n",
       "      <td>1.097485</td>\n",
       "    </tr>\n",
       "    <tr>\n",
       "      <th>HES4</th>\n",
       "      <td>0.957823</td>\n",
       "      <td>0.760072</td>\n",
       "    </tr>\n",
       "  </tbody>\n",
       "</table>\n",
       "</div>"
      ],
      "text/plain": [
       "            ribo_fc    rna_fc\n",
       "LOC388312  0.658400  0.965198\n",
       "SAMD11     0.940848  0.996347\n",
       "NOC2L      0.993847  1.075465\n",
       "KLHL17     1.023877  1.097485\n",
       "HES4       0.957823  0.760072"
      ]
     },
     "execution_count": 515,
     "metadata": {},
     "output_type": "execute_result"
    }
   ],
   "source": [
    "data_fig1c = data_tpm.copy()\n",
    "data_fig1c = data_fig1c[['ribo_isrib_a_ribo','ribo_isrib_b_ribo','isrib_a_hek_mrna','isrib_b_hek_mrna',\n",
    "                         'ribo_untr_a_ribo','ribo_untr_b_ribo','untr_a_hek_mrna','untr_b_hek_mrna']]\n",
    "\n",
    "data_fig1c['ribo_isrib'] = data_fig1c['ribo_isrib_a_ribo'] + data_fig1c['ribo_isrib_b_ribo']\n",
    "data_fig1c['rna_isrib'] = data_fig1c['isrib_a_hek_mrna'] + data_fig1c['isrib_b_hek_mrna']\n",
    "data_fig1c['ribo_untr'] = data_fig1c['ribo_untr_a_ribo'] + data_fig1c['ribo_untr_b_ribo']\n",
    "data_fig1c['rna_untr'] = data_fig1c['untr_a_hek_mrna'] + data_fig1c['untr_b_hek_mrna']\n",
    "\n",
    "data_fig1c['ribo_fc'] = data_fig1c['ribo_isrib'] / data_fig1c['ribo_untr']\n",
    "data_fig1c['rna_fc'] = data_fig1c['rna_isrib'] / data_fig1c['rna_untr']\n",
    "\n",
    "data_fig1c_plot = data_fig1c[['ribo_fc','rna_fc']]\n",
    "\n",
    "data_fig1c_plot = data_fig1c_plot[(data_fig1c_plot != 0).all(1)]\n",
    "data_fig1c_plot = data_fig1c_plot.replace([np.inf, -np.inf], np.nan).dropna()\n",
    "\n",
    "#Remove duplicate indices\n",
    "data_fig1c_plot = data_fig1c_plot[~data_fig1c_plot.index.duplicated(keep='first')]\n",
    "\n",
    "data_fig1c_plot.head()"
   ]
  },
  {
   "cell_type": "code",
   "execution_count": 516,
   "metadata": {},
   "outputs": [],
   "source": [
    "data_fig1c = data_fig1c[(data_fig1c != 0).all(1)]\n",
    "data_fig1c = data_fig1c.replace([np.inf, -np.inf], np.nan).dropna()\n",
    "\n",
    "data_signif_1c = xp.calculate_p(data_fig1c, 'ribo_isrib_', 'ribo_untr_')\n",
    "data_signif_1c['p_value'] = 10 ** -data_signif_1c['-log$_1$$_0$(P-Value)']\n",
    "\n",
    "#Use R's padjust BH\n",
    "stats = importr('stats')\n",
    "p_adjust_1c = stats.p_adjust(FloatVector(data_signif_1c['p_value'].values.tolist()), method = 'BH')\n",
    "data_signif_1c['fdr'] = np.asarray(p_adjust_1c).tolist()"
   ]
  },
  {
   "cell_type": "code",
   "execution_count": 517,
   "metadata": {},
   "outputs": [
    {
     "name": "stdout",
     "output_type": "stream",
     "text": [
      "(468, 2)\n",
      "(7, 2)\n",
      "(4, 2)\n"
     ]
    }
   ],
   "source": [
    "sig_list = data_signif_1c.loc[data_signif_1c['p_value'] < 0.05].index.tolist()\n",
    "data_fig1c_threshold = data_fig1c_plot.reindex(labels=sig_list, axis=0)\n",
    "print(data_fig1c_threshold.shape)\n",
    "\n",
    "data_fig1c_orf = data_fig1c_plot.loc[['SLC35A4','PTP4A1','UCP2','PNRC2','C7orf31','BCL2L11','SAT1']]\n",
    "print(data_fig1c_orf.shape)\n",
    "\n",
    "data_fig1c_isr = data_fig1c_plot.loc[['ATF5','ATF4','DDIT3','PPP1R15A']]\n",
    "print(data_fig1c_isr.shape)"
   ]
  },
  {
   "cell_type": "code",
   "execution_count": 518,
   "metadata": {},
   "outputs": [
    {
     "data": {
      "text/plain": [
       "<function matplotlib.pyplot.show(*args, **kw)>"
      ]
     },
     "execution_count": 518,
     "metadata": {},
     "output_type": "execute_result"
    },
    {
     "data": {
      "text/plain": [
       "<Figure size 432x288 with 0 Axes>"
      ]
     },
     "metadata": {},
     "output_type": "display_data"
    },
    {
     "data": {
      "image/png": "[encoded data removed]",
      "text/plain": [
       "<Figure size 504x504 with 1 Axes>"
      ]
     },
     "metadata": {
      "needs_background": "light"
     },
     "output_type": "display_data"
    }
   ],
   "source": [
    "plt.close()\n",
    "plt.clf()\n",
    "\n",
    "#Prepare plot\n",
    "fig, ax = plt.subplots(1,1, figsize=(7,7))\n",
    "plt.grid(False)\n",
    "\n",
    "for index, row in data_fig1c_orf.iterrows():\n",
    "    ax.text(row[1] + 0.1, row[0], str(index), horizontalalignment='left', size='medium', color='green', weight='semibold')\n",
    "for index, row in data_fig1c_isr.iterrows():\n",
    "    ax.text(row[1] - 0.1, row[0] - 0.05, str(index), horizontalalignment='right', size='medium', color='#be00be', weight='semibold')\n",
    "\n",
    "ax.axhline(1, ls='-', color='black')\n",
    "ax.axvline(1, ls='-', color='black')\n",
    "\n",
    "rect = patches.Rectangle((.5,.5),1.5,1.5,linewidth=1.5,edgecolor='gray',facecolor='none')\n",
    "ax.add_patch(rect)\n",
    "\n",
    "ax.set_ylabel(\"Ribo-Seq (ISRIB/UT)\", fontsize=16)\n",
    "ax.set_xlabel(\"mRNA-Seq (ISRIB/UT)\", fontsize=16)\n",
    "ax.set_xlim(.125,8.5)\n",
    "ax.set_ylim(.125,8.5)\n",
    "ax.set_facecolor(\"#FFFFFF\")\n",
    "\n",
    "x = [.125,.250,.500,1,2,4,8]\n",
    "ticks = [\"1/8\",\"1/4\",\"1/2\",\"1\",\"2\",\"4\",\"8\"]\n",
    "\n",
    "ax.set_xscale('log', basex=2)\n",
    "ax.set_xticks(x)\n",
    "ax.set_xticklabels(ticks, fontsize=12)\n",
    "ax.set_xticklabels([\"\"]*len(xm), minor=True)\n",
    "\n",
    "ax.set_yscale('log', basey=2)\n",
    "ax.set_yticks(x)\n",
    "ax.set_yticklabels(ticks, fontsize=12)\n",
    "ax.set_yticklabels([\"\"]*len(xm), minor=True)\n",
    "\n",
    "#Prep data\n",
    "#All\n",
    "ribo_all = data_fig1c[['ribo_fc']].sum(axis=1).values.tolist()\n",
    "ribo_all = np.array(ribo_all).astype(np.float)\n",
    "ribo_all = np.ndarray.tolist(ribo_all)\n",
    "\n",
    "rna_all = data_fig1c[['rna_fc']].sum(axis=1).values.tolist()\n",
    "rna_all = np.array(rna_all).astype(np.float)\n",
    "rna_all = np.ndarray.tolist(rna_all)\n",
    "\n",
    "#ORFs\n",
    "ribo_orf = data_fig1c_orf[['ribo_fc']].sum(axis=1).values.tolist()\n",
    "ribo_orf = np.array(ribo_orf).astype(np.float)\n",
    "ribo_orf = np.ndarray.tolist(ribo_orf)\n",
    "\n",
    "rna_orf = data_fig1c_orf[['rna_fc']].sum(axis=1).values.tolist()\n",
    "rna_orf = np.array(rna_orf).astype(np.float)\n",
    "rna_orf = np.ndarray.tolist(rna_orf)\n",
    "\n",
    "#ISR\n",
    "ribo_isr = data_fig1c_isr[['ribo_fc']].sum(axis=1).values.tolist()\n",
    "ribo_isr = np.array(ribo_isr).astype(np.float)\n",
    "ribo_isr = np.ndarray.tolist(ribo_isr)\n",
    "\n",
    "rna_isr = data_fig1c_isr[['rna_fc']].sum(axis=1).values.tolist()\n",
    "rna_isr = np.array(rna_isr).astype(np.float)\n",
    "rna_isr = np.ndarray.tolist(rna_isr)\n",
    "\n",
    "#Plot data\n",
    "ax.scatter(rna_all, ribo_all, s=.5,c='gray')\n",
    "#ax.scatter(rna_thres, ribo_thres, s=5,c='black',alpha=0.7)\n",
    "ax.scatter(rna_orf, ribo_orf, s=25,c='green')\n",
    "ax.scatter(rna_isr, ribo_isr, s=25,c='#be00be')\n",
    "\n",
    "plt.savefig('./plots/isrib_1c.pdf', dpi=1800, bbox_inches='tight')\n",
    "\n",
    "plt.show"
   ]
  },
  {
   "cell_type": "markdown",
   "metadata": {},
   "source": [
    "### Metabolism analysis"
   ]
  },
  {
   "cell_type": "code",
   "execution_count": 533,
   "metadata": {},
   "outputs": [],
   "source": [
    "mitocarta = pd.read_csv('./human_mitocarta_gene_list.txt',sep='\\t', header=None)\n",
    "mitocarta = mitocarta[0].tolist()\n",
    "\n",
    "enzymes = pd.read_csv('./reactome_metabolism_enzymes_gene_list.txt',sep='\\t', header=None)\n",
    "enzymes = enzymes[0].tolist()"
   ]
  },
  {
   "cell_type": "markdown",
   "metadata": {},
   "source": [
    "##### Mitocarta"
   ]
  },
  {
   "cell_type": "code",
   "execution_count": 557,
   "metadata": {},
   "outputs": [
    {
     "name": "stdout",
     "output_type": "stream",
     "text": [
      "(1158, 2)\n"
     ]
    }
   ],
   "source": [
    "data_fig1a_mitocarta = data_fig1a_plot.reindex(labels=mitocarta)\n",
    "print(data_fig1a_mitocarta.shape)"
   ]
  },
  {
   "cell_type": "code",
   "execution_count": 596,
   "metadata": {},
   "outputs": [
    {
     "data": {
      "text/plain": [
       "<function matplotlib.pyplot.show(*args, **kw)>"
      ]
     },
     "execution_count": 596,
     "metadata": {},
     "output_type": "execute_result"
    },
    {
     "data": {
      "text/plain": [
       "<Figure size 432x288 with 0 Axes>"
      ]
     },
     "metadata": {},
     "output_type": "display_data"
    },
    {
     "data": {
      "image/png": "[encoded data removed]",
      "text/plain": [
       "<Figure size 504x504 with 1 Axes>"
      ]
     },
     "metadata": {
      "needs_background": "light"
     },
     "output_type": "display_data"
    }
   ],
   "source": [
    "plt.close()\n",
    "plt.clf()\n",
    "\n",
    "#Prepare plot\n",
    "fig, ax = plt.subplots(1,1, figsize=(7,7))\n",
    "plt.grid(False)\n",
    "\n",
    "ax.axhline(1, ls='-', color='black')\n",
    "ax.axvline(1, ls='-', color='black')\n",
    "\n",
    "ax.axhline(2, ls='--', color='gray')\n",
    "ax.axhline(0.5, ls='--', color='gray')\n",
    "\n",
    "ax.set_ylabel(\"Ribo-Seq (Tm/UT)\", fontsize=16)\n",
    "ax.set_xlabel(\"mRNA-Seq (Tm/UT)\", fontsize=16)\n",
    "ax.set_xlim(.125,8.5)\n",
    "ax.set_ylim(.125,8.5)\n",
    "ax.set_facecolor(\"#FFFFFF\")\n",
    "\n",
    "for index, row in data_fig1a_mitocarta.iterrows():\n",
    "    if index == 'ACCS':\n",
    "        ax.text(row[1] + 0.05, row[0], str(index), horizontalalignment='left', size='medium', color='#be00be', weight='semibold')\n",
    "    elif index == 'CPT1B':\n",
    "        ax.text(row[1] + 0.05, row[0] + 0.05, str(index), horizontalalignment='left', size='medium', color='#be00be', weight='semibold')\n",
    "    elif index == 'NGRN':\n",
    "        ax.text(row[1] + 0.05, row[0] - 0.05, str(index), horizontalalignment='left', size='medium', color='#be00be', weight='semibold')\n",
    "    elif index == 'CPS1':\n",
    "        ax.text(row[1] - 0.05, row[0] - 0.025, str(index), horizontalalignment='right', size='medium', color='#be00be', weight='semibold')\n",
    "    elif index in ['SLMO1', 'UCP2', 'OBSCN']:\n",
    "        ax.text(row[1] + 0.05, row[0] - 0.05, str(index), horizontalalignment='left', size='medium', color='#be00be', weight='semibold')\n",
    "    else:\n",
    "        pass\n",
    "\n",
    "x = [.125,.250,.500,1,2,4,8]\n",
    "ticks = [\"1/8\",\"1/4\",\"1/2\",\"1\",\"2\",\"4\",\"8\"]\n",
    "\n",
    "ax.set_xscale('log', basex=2)\n",
    "ax.set_xticks(x)\n",
    "ax.set_xticklabels(ticks, fontsize=12)\n",
    "ax.set_xticklabels([\"\"]*len(xm), minor=True)\n",
    "\n",
    "ax.set_yscale('log', basey=2)\n",
    "ax.set_yticks(x)\n",
    "ax.set_yticklabels(ticks, fontsize=12)\n",
    "ax.set_yticklabels([\"\"]*len(xm), minor=True)\n",
    "\n",
    "#Prep data\n",
    "#All\n",
    "ribo_all = data_fig1a[['ribo_fc']].sum(axis=1).values.tolist()\n",
    "ribo_all = np.array(ribo_all).astype(np.float)\n",
    "ribo_all = np.ndarray.tolist(ribo_all)\n",
    "\n",
    "rna_all = data_fig1a[['rna_fc']].sum(axis=1).values.tolist()\n",
    "rna_all = np.array(rna_all).astype(np.float)\n",
    "rna_all = np.ndarray.tolist(rna_all)\n",
    "\n",
    "#ORFs\n",
    "ribo_mito = data_fig1a_mitocarta[['ribo_fc']].sum(axis=1).values.tolist()\n",
    "ribo_mito = np.array(ribo_mito).astype(np.float)\n",
    "ribo_mito = np.ndarray.tolist(ribo_mito)\n",
    "\n",
    "rna_mito = data_fig1a_mitocarta[['rna_fc']].sum(axis=1).values.tolist()\n",
    "rna_mito = np.array(rna_mito).astype(np.float)\n",
    "rna_mito = np.ndarray.tolist(rna_mito)\n",
    "\n",
    "#Plot data\n",
    "ax.scatter(rna_all, ribo_all, s=.5,c='gray')\n",
    "ax.scatter(rna_mito, ribo_mito, s=10,c='#002c80')\n",
    "\n",
    "plt.savefig('./plots/tm_mitocarta.pdf', dpi=1800, bbox_inches='tight')\n",
    "\n",
    "plt.show"
   ]
  },
  {
   "cell_type": "code",
   "execution_count": 547,
   "metadata": {},
   "outputs": [
    {
     "data": {
      "text/html": [
       "<div>\n",
       "<style scoped>\n",
       "    .dataframe tbody tr th:only-of-type {\n",
       "        vertical-align: middle;\n",
       "    }\n",
       "\n",
       "    .dataframe tbody tr th {\n",
       "        vertical-align: top;\n",
       "    }\n",
       "\n",
       "    .dataframe thead th {\n",
       "        text-align: right;\n",
       "    }\n",
       "</style>\n",
       "<table border=\"1\" class=\"dataframe\">\n",
       "  <thead>\n",
       "    <tr style=\"text-align: right;\">\n",
       "      <th></th>\n",
       "      <th>ribo_fc</th>\n",
       "      <th>rna_fc</th>\n",
       "    </tr>\n",
       "  </thead>\n",
       "  <tbody>\n",
       "    <tr>\n",
       "      <th>CPS1</th>\n",
       "      <td>2.113614</td>\n",
       "      <td>0.897192</td>\n",
       "    </tr>\n",
       "    <tr>\n",
       "      <th>NGRN</th>\n",
       "      <td>2.057518</td>\n",
       "      <td>1.002305</td>\n",
       "    </tr>\n",
       "    <tr>\n",
       "      <th>SLMO1</th>\n",
       "      <td>2.375756</td>\n",
       "      <td>0.678539</td>\n",
       "    </tr>\n",
       "    <tr>\n",
       "      <th>CPT1B</th>\n",
       "      <td>2.168714</td>\n",
       "      <td>1.002855</td>\n",
       "    </tr>\n",
       "    <tr>\n",
       "      <th>UCP2</th>\n",
       "      <td>3.050365</td>\n",
       "      <td>0.440413</td>\n",
       "    </tr>\n",
       "    <tr>\n",
       "      <th>OBSCN</th>\n",
       "      <td>2.634064</td>\n",
       "      <td>0.622835</td>\n",
       "    </tr>\n",
       "  </tbody>\n",
       "</table>\n",
       "</div>"
      ],
      "text/plain": [
       "        ribo_fc    rna_fc\n",
       "CPS1   2.113614  0.897192\n",
       "NGRN   2.057518  1.002305\n",
       "SLMO1  2.375756  0.678539\n",
       "CPT1B  2.168714  1.002855\n",
       "UCP2   3.050365  0.440413\n",
       "OBSCN  2.634064  0.622835"
      ]
     },
     "execution_count": 547,
     "metadata": {},
     "output_type": "execute_result"
    }
   ],
   "source": [
    "data_fig1a_mitocarta.loc[data_fig1a_mitocarta['ribo_fc'] > 2]"
   ]
  },
  {
   "cell_type": "code",
   "execution_count": 548,
   "metadata": {},
   "outputs": [
    {
     "data": {
      "text/html": [
       "<div>\n",
       "<style scoped>\n",
       "    .dataframe tbody tr th:only-of-type {\n",
       "        vertical-align: middle;\n",
       "    }\n",
       "\n",
       "    .dataframe tbody tr th {\n",
       "        vertical-align: top;\n",
       "    }\n",
       "\n",
       "    .dataframe thead th {\n",
       "        text-align: right;\n",
       "    }\n",
       "</style>\n",
       "<table border=\"1\" class=\"dataframe\">\n",
       "  <thead>\n",
       "    <tr style=\"text-align: right;\">\n",
       "      <th></th>\n",
       "      <th>ribo_fc</th>\n",
       "      <th>rna_fc</th>\n",
       "    </tr>\n",
       "  </thead>\n",
       "  <tbody>\n",
       "    <tr>\n",
       "      <th>ACCS</th>\n",
       "      <td>0.315986</td>\n",
       "      <td>0.760235</td>\n",
       "    </tr>\n",
       "  </tbody>\n",
       "</table>\n",
       "</div>"
      ],
      "text/plain": [
       "       ribo_fc    rna_fc\n",
       "ACCS  0.315986  0.760235"
      ]
     },
     "execution_count": 548,
     "metadata": {},
     "output_type": "execute_result"
    }
   ],
   "source": [
    "data_fig1a_mitocarta.loc[data_fig1a_mitocarta['ribo_fc'] < .5]"
   ]
  },
  {
   "cell_type": "code",
   "execution_count": 540,
   "metadata": {},
   "outputs": [
    {
     "name": "stdout",
     "output_type": "stream",
     "text": [
      "(1158, 2)\n"
     ]
    }
   ],
   "source": [
    "data_fig1b_mitocarta = data_fig1b_plot.reindex(labels=mitocarta)\n",
    "print(data_fig1b_mitocarta.shape)"
   ]
  },
  {
   "cell_type": "code",
   "execution_count": 600,
   "metadata": {},
   "outputs": [
    {
     "data": {
      "text/plain": [
       "<function matplotlib.pyplot.show(*args, **kw)>"
      ]
     },
     "execution_count": 600,
     "metadata": {},
     "output_type": "execute_result"
    },
    {
     "data": {
      "text/plain": [
       "<Figure size 432x288 with 0 Axes>"
      ]
     },
     "metadata": {},
     "output_type": "display_data"
    },
    {
     "data": {
      "image/png": "[encoded data removed]",
      "text/plain": [
       "<Figure size 504x504 with 1 Axes>"
      ]
     },
     "metadata": {
      "needs_background": "light"
     },
     "output_type": "display_data"
    }
   ],
   "source": [
    "plt.close()\n",
    "plt.clf()\n",
    "\n",
    "#Prepare plot\n",
    "fig, ax = plt.subplots(1,1, figsize=(7,7))\n",
    "plt.grid(False)\n",
    "\n",
    "ax.axhline(1, ls='-', color='black')\n",
    "ax.axvline(1, ls='-', color='black')\n",
    "\n",
    "ax.axhline(2, ls='--', color='gray')\n",
    "ax.axhline(0.5, ls='--', color='gray')\n",
    "\n",
    "ax.set_ylabel(\"Ribo-Seq (Tm + ISRIB/UT)\", fontsize=16)\n",
    "ax.set_xlabel(\"mRNA-Seq (Tm + ISRIB/UT)\", fontsize=16)\n",
    "ax.set_xlim(.125,8.5)\n",
    "ax.set_ylim(.125,8.5)\n",
    "ax.set_facecolor(\"#FFFFFF\")\n",
    "\n",
    "for index, row in data_fig1b_mitocarta.iterrows():\n",
    "    if index == 'ACCS':\n",
    "        ax.text(row[1] + 0.05, row[0], str(index), horizontalalignment='left', size='medium', color='#be00be', weight='semibold')\n",
    "    elif index == 'CPT1B':\n",
    "        ax.text(row[1] + 0.05, row[0] + 0.05, str(index), horizontalalignment='left', size='medium', color='#be00be', weight='semibold')\n",
    "    elif index == 'NGRN':\n",
    "        ax.text(row[1] + 0.05, row[0] - 0.05, str(index), horizontalalignment='left', size='medium', color='#be00be', weight='semibold')\n",
    "    elif index == 'MTHFD2L':\n",
    "        ax.text(row[1] - 0.05, row[0] - 0.05, str(index), horizontalalignment='right', size='medium', color='#be00be', weight='semibold')\n",
    "    elif index ==  'UCP2':\n",
    "        ax.text(row[1] - 0.05, row[0] - 0.05, str(index), horizontalalignment='right', size='medium', color='#be00be', weight='semibold')\n",
    "    elif index == 'CPS1':\n",
    "        ax.text(row[1] - 0.05, row[0] - 0.025, str(index), horizontalalignment='right', size='medium', color='#be00be', weight='semibold')\n",
    "    elif index in ['SLMO1', 'OBSCN']:\n",
    "        ax.text(row[1] + 0.05, row[0] - 0.05, str(index), horizontalalignment='left', size='medium', color='#be00be', weight='semibold')\n",
    "    else:\n",
    "        pass\n",
    "\n",
    "x = [.125,.250,.500,1,2,4,8]\n",
    "ticks = [\"1/8\",\"1/4\",\"1/2\",\"1\",\"2\",\"4\",\"8\"]\n",
    "\n",
    "ax.set_xscale('log', basex=2)\n",
    "ax.set_xticks(x)\n",
    "ax.set_xticklabels(ticks, fontsize=12)\n",
    "ax.set_xticklabels([\"\"]*len(xm), minor=True)\n",
    "\n",
    "ax.set_yscale('log', basey=2)\n",
    "ax.set_yticks(x)\n",
    "ax.set_yticklabels(ticks, fontsize=12)\n",
    "ax.set_yticklabels([\"\"]*len(xm), minor=True)\n",
    "\n",
    "#Prep data\n",
    "#All\n",
    "ribo_all = data_fig1b[['ribo_fc']].sum(axis=1).values.tolist()\n",
    "ribo_all = np.array(ribo_all).astype(np.float)\n",
    "ribo_all = np.ndarray.tolist(ribo_all)\n",
    "\n",
    "rna_all = data_fig1b[['rna_fc']].sum(axis=1).values.tolist()\n",
    "rna_all = np.array(rna_all).astype(np.float)\n",
    "rna_all = np.ndarray.tolist(rna_all)\n",
    "\n",
    "#ORFs\n",
    "ribo_mito = data_fig1b_mitocarta[['ribo_fc']].sum(axis=1).values.tolist()\n",
    "ribo_mito = np.array(ribo_mito).astype(np.float)\n",
    "ribo_mito = np.ndarray.tolist(ribo_mito)\n",
    "\n",
    "rna_mito = data_fig1b_mitocarta[['rna_fc']].sum(axis=1).values.tolist()\n",
    "rna_mito = np.array(rna_mito).astype(np.float)\n",
    "rna_mito = np.ndarray.tolist(rna_mito)\n",
    "\n",
    "#Plot data\n",
    "ax.scatter(rna_all, ribo_all, s=.5,c='gray')\n",
    "ax.scatter(rna_mito, ribo_mito, s=10,c='#002c80')\n",
    "\n",
    "plt.savefig('./plots/tmisrib_mitocarta.pdf', dpi=1800, bbox_inches='tight')\n",
    "\n",
    "plt.show"
   ]
  },
  {
   "cell_type": "code",
   "execution_count": 551,
   "metadata": {},
   "outputs": [
    {
     "data": {
      "text/html": [
       "<div>\n",
       "<style scoped>\n",
       "    .dataframe tbody tr th:only-of-type {\n",
       "        vertical-align: middle;\n",
       "    }\n",
       "\n",
       "    .dataframe tbody tr th {\n",
       "        vertical-align: top;\n",
       "    }\n",
       "\n",
       "    .dataframe thead th {\n",
       "        text-align: right;\n",
       "    }\n",
       "</style>\n",
       "<table border=\"1\" class=\"dataframe\">\n",
       "  <thead>\n",
       "    <tr style=\"text-align: right;\">\n",
       "      <th></th>\n",
       "      <th>ribo_fc</th>\n",
       "      <th>rna_fc</th>\n",
       "    </tr>\n",
       "  </thead>\n",
       "  <tbody>\n",
       "    <tr>\n",
       "      <th>CPT1B</th>\n",
       "      <td>3.297108</td>\n",
       "      <td>0.942314</td>\n",
       "    </tr>\n",
       "  </tbody>\n",
       "</table>\n",
       "</div>"
      ],
      "text/plain": [
       "        ribo_fc    rna_fc\n",
       "CPT1B  3.297108  0.942314"
      ]
     },
     "execution_count": 551,
     "metadata": {},
     "output_type": "execute_result"
    }
   ],
   "source": [
    "data_fig1b_mitocarta.loc[data_fig1b_mitocarta['ribo_fc'] > 2]"
   ]
  },
  {
   "cell_type": "code",
   "execution_count": 552,
   "metadata": {},
   "outputs": [
    {
     "data": {
      "text/html": [
       "<div>\n",
       "<style scoped>\n",
       "    .dataframe tbody tr th:only-of-type {\n",
       "        vertical-align: middle;\n",
       "    }\n",
       "\n",
       "    .dataframe tbody tr th {\n",
       "        vertical-align: top;\n",
       "    }\n",
       "\n",
       "    .dataframe thead th {\n",
       "        text-align: right;\n",
       "    }\n",
       "</style>\n",
       "<table border=\"1\" class=\"dataframe\">\n",
       "  <thead>\n",
       "    <tr style=\"text-align: right;\">\n",
       "      <th></th>\n",
       "      <th>ribo_fc</th>\n",
       "      <th>rna_fc</th>\n",
       "    </tr>\n",
       "  </thead>\n",
       "  <tbody>\n",
       "    <tr>\n",
       "      <th>MTHFD2L</th>\n",
       "      <td>0.496379</td>\n",
       "      <td>0.910554</td>\n",
       "    </tr>\n",
       "    <tr>\n",
       "      <th>ACCS</th>\n",
       "      <td>0.360912</td>\n",
       "      <td>0.765878</td>\n",
       "    </tr>\n",
       "  </tbody>\n",
       "</table>\n",
       "</div>"
      ],
      "text/plain": [
       "          ribo_fc    rna_fc\n",
       "MTHFD2L  0.496379  0.910554\n",
       "ACCS     0.360912  0.765878"
      ]
     },
     "execution_count": 552,
     "metadata": {},
     "output_type": "execute_result"
    }
   ],
   "source": [
    "data_fig1b_mitocarta.loc[data_fig1b_mitocarta['ribo_fc'] < .5]"
   ]
  },
  {
   "cell_type": "code",
   "execution_count": 545,
   "metadata": {},
   "outputs": [
    {
     "name": "stdout",
     "output_type": "stream",
     "text": [
      "(1158, 2)\n"
     ]
    }
   ],
   "source": [
    "data_fig1c_mitocarta = data_fig1c_plot.reindex(labels=mitocarta)\n",
    "print(data_fig1c_mitocarta.shape)"
   ]
  },
  {
   "cell_type": "code",
   "execution_count": 601,
   "metadata": {},
   "outputs": [
    {
     "data": {
      "text/plain": [
       "<function matplotlib.pyplot.show(*args, **kw)>"
      ]
     },
     "execution_count": 601,
     "metadata": {},
     "output_type": "execute_result"
    },
    {
     "data": {
      "text/plain": [
       "<Figure size 432x288 with 0 Axes>"
      ]
     },
     "metadata": {},
     "output_type": "display_data"
    },
    {
     "data": {
      "image/png": "[encoded data removed]",
      "text/plain": [
       "<Figure size 504x504 with 1 Axes>"
      ]
     },
     "metadata": {
      "needs_background": "light"
     },
     "output_type": "display_data"
    }
   ],
   "source": [
    "plt.close()\n",
    "plt.clf()\n",
    "\n",
    "#Prepare plot\n",
    "fig, ax = plt.subplots(1,1, figsize=(7,7))\n",
    "plt.grid(False)\n",
    "\n",
    "ax.axhline(1, ls='-', color='black')\n",
    "ax.axvline(1, ls='-', color='black')\n",
    "\n",
    "ax.axhline(2, ls='--', color='gray')\n",
    "ax.axhline(0.5, ls='--', color='gray')\n",
    "\n",
    "ax.set_ylabel(\"Ribo-Seq (ISRIB/UT)\", fontsize=16)\n",
    "ax.set_xlabel(\"mRNA-Seq (ISRIB/UT)\", fontsize=16)\n",
    "ax.set_xlim(.125,8.5)\n",
    "ax.set_ylim(.125,8.5)\n",
    "ax.set_facecolor(\"#FFFFFF\")\n",
    "\n",
    "for index, row in data_fig1c_mitocarta.iterrows():\n",
    "    if index == 'ACCS':\n",
    "        ax.text(row[1] + 0.05, row[0], str(index), horizontalalignment='left', size='medium', color='#be00be', weight='semibold')\n",
    "    elif index == 'CPT1B':\n",
    "        ax.text(row[1] + 0.05, row[0] + 0.05, str(index), horizontalalignment='left', size='medium', color='#be00be', weight='semibold')\n",
    "    elif index == 'NGRN':\n",
    "        ax.text(row[1] + 0.05, row[0] - 0.05, str(index), horizontalalignment='left', size='medium', color='#be00be', weight='semibold')\n",
    "    elif index == 'MTHFD2L':\n",
    "        ax.text(row[1] - 0.05, row[0] - 0.05, str(index), horizontalalignment='right', size='medium', color='#be00be', weight='semibold')\n",
    "    elif index ==  'UCP2':\n",
    "        ax.text(row[1] - 0.05, row[0] - 0.05, str(index), horizontalalignment='right', size='medium', color='#be00be', weight='semibold')\n",
    "    elif index == 'CPS1':\n",
    "        ax.text(row[1] - 0.05, row[0] - 0.025, str(index), horizontalalignment='right', size='medium', color='#be00be', weight='semibold')\n",
    "    elif index in ['SLMO1', 'OBSCN']:\n",
    "        ax.text(row[1] + 0.05, row[0] - 0.05, str(index), horizontalalignment='left', size='medium', color='#be00be', weight='semibold')\n",
    "    else:\n",
    "        pass\n",
    "\n",
    "x = [.125,.250,.500,1,2,4,8]\n",
    "ticks = [\"1/8\",\"1/4\",\"1/2\",\"1\",\"2\",\"4\",\"8\"]\n",
    "\n",
    "ax.set_xscale('log', basex=2)\n",
    "ax.set_xticks(x)\n",
    "ax.set_xticklabels(ticks, fontsize=12)\n",
    "ax.set_xticklabels([\"\"]*len(xm), minor=True)\n",
    "\n",
    "ax.set_yscale('log', basey=2)\n",
    "ax.set_yticks(x)\n",
    "ax.set_yticklabels(ticks, fontsize=12)\n",
    "ax.set_yticklabels([\"\"]*len(xm), minor=True)\n",
    "\n",
    "#Prep data\n",
    "#All\n",
    "ribo_all = data_fig1c[['ribo_fc']].sum(axis=1).values.tolist()\n",
    "ribo_all = np.array(ribo_all).astype(np.float)\n",
    "ribo_all = np.ndarray.tolist(ribo_all)\n",
    "\n",
    "rna_all = data_fig1c[['rna_fc']].sum(axis=1).values.tolist()\n",
    "rna_all = np.array(rna_all).astype(np.float)\n",
    "rna_all = np.ndarray.tolist(rna_all)\n",
    "\n",
    "#ORFs\n",
    "ribo_mito = data_fig1c_mitocarta[['ribo_fc']].sum(axis=1).values.tolist()\n",
    "ribo_mito = np.array(ribo_mito).astype(np.float)\n",
    "ribo_mito = np.ndarray.tolist(ribo_mito)\n",
    "\n",
    "rna_mito = data_fig1c_mitocarta[['rna_fc']].sum(axis=1).values.tolist()\n",
    "rna_mito = np.array(rna_mito).astype(np.float)\n",
    "rna_mito = np.ndarray.tolist(rna_mito)\n",
    "\n",
    "#Plot data\n",
    "ax.scatter(rna_all, ribo_all, s=.5,c='gray')\n",
    "ax.scatter(rna_mito, ribo_mito, s=10,c='#002c80')\n",
    "\n",
    "plt.savefig('./plots/isrib_mitocarta_1hr.pdf', dpi=1800, bbox_inches='tight')\n",
    "\n",
    "plt.show"
   ]
  },
  {
   "cell_type": "code",
   "execution_count": 554,
   "metadata": {},
   "outputs": [
    {
     "data": {
      "text/html": [
       "<div>\n",
       "<style scoped>\n",
       "    .dataframe tbody tr th:only-of-type {\n",
       "        vertical-align: middle;\n",
       "    }\n",
       "\n",
       "    .dataframe tbody tr th {\n",
       "        vertical-align: top;\n",
       "    }\n",
       "\n",
       "    .dataframe thead th {\n",
       "        text-align: right;\n",
       "    }\n",
       "</style>\n",
       "<table border=\"1\" class=\"dataframe\">\n",
       "  <thead>\n",
       "    <tr style=\"text-align: right;\">\n",
       "      <th></th>\n",
       "      <th>ribo_fc</th>\n",
       "      <th>rna_fc</th>\n",
       "    </tr>\n",
       "  </thead>\n",
       "  <tbody>\n",
       "  </tbody>\n",
       "</table>\n",
       "</div>"
      ],
      "text/plain": [
       "Empty DataFrame\n",
       "Columns: [ribo_fc, rna_fc]\n",
       "Index: []"
      ]
     },
     "execution_count": 554,
     "metadata": {},
     "output_type": "execute_result"
    }
   ],
   "source": [
    "data_fig1c_mitocarta.loc[data_fig1c_mitocarta['ribo_fc'] > 2]"
   ]
  },
  {
   "cell_type": "code",
   "execution_count": 555,
   "metadata": {},
   "outputs": [
    {
     "data": {
      "text/html": [
       "<div>\n",
       "<style scoped>\n",
       "    .dataframe tbody tr th:only-of-type {\n",
       "        vertical-align: middle;\n",
       "    }\n",
       "\n",
       "    .dataframe tbody tr th {\n",
       "        vertical-align: top;\n",
       "    }\n",
       "\n",
       "    .dataframe thead th {\n",
       "        text-align: right;\n",
       "    }\n",
       "</style>\n",
       "<table border=\"1\" class=\"dataframe\">\n",
       "  <thead>\n",
       "    <tr style=\"text-align: right;\">\n",
       "      <th></th>\n",
       "      <th>ribo_fc</th>\n",
       "      <th>rna_fc</th>\n",
       "    </tr>\n",
       "  </thead>\n",
       "  <tbody>\n",
       "    <tr>\n",
       "      <th>ACCS</th>\n",
       "      <td>0.474</td>\n",
       "      <td>0.918171</td>\n",
       "    </tr>\n",
       "  </tbody>\n",
       "</table>\n",
       "</div>"
      ],
      "text/plain": [
       "      ribo_fc    rna_fc\n",
       "ACCS    0.474  0.918171"
      ]
     },
     "execution_count": 555,
     "metadata": {},
     "output_type": "execute_result"
    }
   ],
   "source": [
    "data_fig1c_mitocarta.loc[data_fig1c_mitocarta['ribo_fc'] < 0.5]"
   ]
  },
  {
   "cell_type": "markdown",
   "metadata": {},
   "source": [
    "##### Metabolic Enzymes"
   ]
  },
  {
   "cell_type": "code",
   "execution_count": 642,
   "metadata": {},
   "outputs": [
    {
     "name": "stdout",
     "output_type": "stream",
     "text": [
      "(2118, 2)\n"
     ]
    }
   ],
   "source": [
    "data_fig1a_enzymes = data_fig1a_plot.reindex(labels=enzymes)\n",
    "print(data_fig1a_enzymes.shape)"
   ]
  },
  {
   "cell_type": "code",
   "execution_count": 644,
   "metadata": {},
   "outputs": [
    {
     "data": {
      "text/plain": [
       "<function matplotlib.pyplot.show(*args, **kw)>"
      ]
     },
     "execution_count": 644,
     "metadata": {},
     "output_type": "execute_result"
    },
    {
     "data": {
      "text/plain": [
       "<Figure size 432x288 with 0 Axes>"
      ]
     },
     "metadata": {},
     "output_type": "display_data"
    },
    {
     "data": {
      "image/png": "[encoded data removed]",
      "text/plain": [
       "<Figure size 504x504 with 1 Axes>"
      ]
     },
     "metadata": {
      "needs_background": "light"
     },
     "output_type": "display_data"
    }
   ],
   "source": [
    "plt.close()\n",
    "plt.clf()\n",
    "\n",
    "#Prepare plot\n",
    "fig, ax = plt.subplots(1,1, figsize=(7,7))\n",
    "plt.grid(False)\n",
    "\n",
    "ax.axhline(1, ls='-', color='black')\n",
    "ax.axvline(1, ls='-', color='black')\n",
    "\n",
    "ax.axhline(2, ls='--', color='gray')\n",
    "ax.axhline(0.5, ls='--', color='gray')\n",
    "\n",
    "ax.set_ylabel(\"Ribo-Seq (Tm/UT)\", fontsize=16)\n",
    "ax.set_xlabel(\"mRNA-Seq (Tm/UT)\", fontsize=16)\n",
    "ax.set_xlim(.125,8.5)\n",
    "ax.set_ylim(.125,8.5)\n",
    "ax.set_facecolor(\"#FFFFFF\")\n",
    "\n",
    "\n",
    "\n",
    "x = [.125,.250,.500,1,2,4,8]\n",
    "ticks = [\"1/8\",\"1/4\",\"1/2\",\"1\",\"2\",\"4\",\"8\"]\n",
    "\n",
    "ax.set_xscale('log', basex=2)\n",
    "ax.set_xticks(x)\n",
    "ax.set_xticklabels(ticks, fontsize=12)\n",
    "ax.set_xticklabels([\"\"]*len(xm), minor=True)\n",
    "\n",
    "ax.set_yscale('log', basey=2)\n",
    "ax.set_yticks(x)\n",
    "ax.set_yticklabels(ticks, fontsize=12)\n",
    "ax.set_yticklabels([\"\"]*len(xm), minor=True)\n",
    "\n",
    "#Prep data\n",
    "#All\n",
    "ribo_all = data_fig1a[['ribo_fc']].sum(axis=1).values.tolist()\n",
    "ribo_all = np.array(ribo_all).astype(np.float)\n",
    "ribo_all = np.ndarray.tolist(ribo_all)\n",
    "\n",
    "rna_all = data_fig1a[['rna_fc']].sum(axis=1).values.tolist()\n",
    "rna_all = np.array(rna_all).astype(np.float)\n",
    "rna_all = np.ndarray.tolist(rna_all)\n",
    "\n",
    "#ORFs\n",
    "ribo_mito = data_fig1a_enzymes[['ribo_fc']].sum(axis=1).values.tolist()\n",
    "ribo_mito = np.array(ribo_mito).astype(np.float)\n",
    "ribo_mito = np.ndarray.tolist(ribo_mito)\n",
    "\n",
    "rna_mito = data_fig1a_enzymes[['rna_fc']].sum(axis=1).values.tolist()\n",
    "rna_mito = np.array(rna_mito).astype(np.float)\n",
    "rna_mito = np.ndarray.tolist(rna_mito)\n",
    "\n",
    "#Plot data\n",
    "ax.scatter(rna_all, ribo_all, s=.5,c='gray')\n",
    "ax.scatter(rna_mito, ribo_mito, s=10,c='#ffa500')\n",
    "\n",
    "for index, row in data_fig1a_enzymes.iterrows():\n",
    "    if index in [ 'CPS1', 'CPT1B', 'UCP2', 'ST3GAL3', 'OAZ1', 'SAT1', 'ABCA1', 'PLCD1', 'ADRA2C', 'PLCD1']:\n",
    "        ax.text(row[1] + 0.025, row[0], str(index), horizontalalignment='left', size='medium', color='#016a86', weight='semibold')\n",
    "    else:\n",
    "        pass\n",
    "\n",
    "plt.savefig('./plots/tm_enzymes.pdf', dpi=1800, bbox_inches='tight')\n",
    "\n",
    "plt.show"
   ]
  },
  {
   "cell_type": "code",
   "execution_count": 561,
   "metadata": {},
   "outputs": [
    {
     "data": {
      "text/html": [
       "<div>\n",
       "<style scoped>\n",
       "    .dataframe tbody tr th:only-of-type {\n",
       "        vertical-align: middle;\n",
       "    }\n",
       "\n",
       "    .dataframe tbody tr th {\n",
       "        vertical-align: top;\n",
       "    }\n",
       "\n",
       "    .dataframe thead th {\n",
       "        text-align: right;\n",
       "    }\n",
       "</style>\n",
       "<table border=\"1\" class=\"dataframe\">\n",
       "  <thead>\n",
       "    <tr style=\"text-align: right;\">\n",
       "      <th></th>\n",
       "      <th>ribo_fc</th>\n",
       "      <th>rna_fc</th>\n",
       "    </tr>\n",
       "  </thead>\n",
       "  <tbody>\n",
       "    <tr>\n",
       "      <th>CHST2</th>\n",
       "      <td>21.297727</td>\n",
       "      <td>0.753911</td>\n",
       "    </tr>\n",
       "    <tr>\n",
       "      <th>CPS1</th>\n",
       "      <td>2.113614</td>\n",
       "      <td>0.897192</td>\n",
       "    </tr>\n",
       "    <tr>\n",
       "      <th>CPT1B</th>\n",
       "      <td>2.168714</td>\n",
       "      <td>1.002855</td>\n",
       "    </tr>\n",
       "    <tr>\n",
       "      <th>UCP2</th>\n",
       "      <td>3.050365</td>\n",
       "      <td>0.440413</td>\n",
       "    </tr>\n",
       "    <tr>\n",
       "      <th>ST3GAL3</th>\n",
       "      <td>2.043694</td>\n",
       "      <td>0.915975</td>\n",
       "    </tr>\n",
       "    <tr>\n",
       "      <th>OAZ1</th>\n",
       "      <td>2.092680</td>\n",
       "      <td>1.134720</td>\n",
       "    </tr>\n",
       "    <tr>\n",
       "      <th>SAT1</th>\n",
       "      <td>2.382764</td>\n",
       "      <td>1.012906</td>\n",
       "    </tr>\n",
       "    <tr>\n",
       "      <th>ABCA1</th>\n",
       "      <td>2.530167</td>\n",
       "      <td>0.630767</td>\n",
       "    </tr>\n",
       "    <tr>\n",
       "      <th>PLCD1</th>\n",
       "      <td>2.724307</td>\n",
       "      <td>0.877997</td>\n",
       "    </tr>\n",
       "  </tbody>\n",
       "</table>\n",
       "</div>"
      ],
      "text/plain": [
       "           ribo_fc    rna_fc\n",
       "CHST2    21.297727  0.753911\n",
       "CPS1      2.113614  0.897192\n",
       "CPT1B     2.168714  1.002855\n",
       "UCP2      3.050365  0.440413\n",
       "ST3GAL3   2.043694  0.915975\n",
       "OAZ1      2.092680  1.134720\n",
       "SAT1      2.382764  1.012906\n",
       "ABCA1     2.530167  0.630767\n",
       "PLCD1     2.724307  0.877997"
      ]
     },
     "execution_count": 561,
     "metadata": {},
     "output_type": "execute_result"
    }
   ],
   "source": [
    "data_fig1a_enzymes.loc[data_fig1a_enzymes['ribo_fc'] > 2]"
   ]
  },
  {
   "cell_type": "code",
   "execution_count": 562,
   "metadata": {},
   "outputs": [
    {
     "data": {
      "text/html": [
       "<div>\n",
       "<style scoped>\n",
       "    .dataframe tbody tr th:only-of-type {\n",
       "        vertical-align: middle;\n",
       "    }\n",
       "\n",
       "    .dataframe tbody tr th {\n",
       "        vertical-align: top;\n",
       "    }\n",
       "\n",
       "    .dataframe thead th {\n",
       "        text-align: right;\n",
       "    }\n",
       "</style>\n",
       "<table border=\"1\" class=\"dataframe\">\n",
       "  <thead>\n",
       "    <tr style=\"text-align: right;\">\n",
       "      <th></th>\n",
       "      <th>ribo_fc</th>\n",
       "      <th>rna_fc</th>\n",
       "    </tr>\n",
       "  </thead>\n",
       "  <tbody>\n",
       "    <tr>\n",
       "      <th>PPARA</th>\n",
       "      <td>0.357937</td>\n",
       "      <td>0.922434</td>\n",
       "    </tr>\n",
       "  </tbody>\n",
       "</table>\n",
       "</div>"
      ],
      "text/plain": [
       "        ribo_fc    rna_fc\n",
       "PPARA  0.357937  0.922434"
      ]
     },
     "execution_count": 562,
     "metadata": {},
     "output_type": "execute_result"
    }
   ],
   "source": [
    "data_fig1a_enzymes.loc[data_fig1a_enzymes['ribo_fc'] < 0.5]"
   ]
  },
  {
   "cell_type": "code",
   "execution_count": 563,
   "metadata": {},
   "outputs": [
    {
     "name": "stdout",
     "output_type": "stream",
     "text": [
      "(2118, 2)\n"
     ]
    }
   ],
   "source": [
    "data_fig1b_enzymes = data_fig1b_plot.reindex(labels=enzymes)\n",
    "print(data_fig1b_enzymes.shape)"
   ]
  },
  {
   "cell_type": "code",
   "execution_count": 645,
   "metadata": {},
   "outputs": [
    {
     "data": {
      "text/plain": [
       "<function matplotlib.pyplot.show(*args, **kw)>"
      ]
     },
     "execution_count": 645,
     "metadata": {},
     "output_type": "execute_result"
    },
    {
     "data": {
      "text/plain": [
       "<Figure size 432x288 with 0 Axes>"
      ]
     },
     "metadata": {},
     "output_type": "display_data"
    },
    {
     "data": {
      "image/png": "[encoded data removed]",
      "text/plain": [
       "<Figure size 504x504 with 1 Axes>"
      ]
     },
     "metadata": {
      "needs_background": "light"
     },
     "output_type": "display_data"
    }
   ],
   "source": [
    "plt.close()\n",
    "plt.clf()\n",
    "\n",
    "#Prepare plot\n",
    "fig, ax = plt.subplots(1,1, figsize=(7,7))\n",
    "plt.grid(False)\n",
    "\n",
    "ax.axhline(1, ls='-', color='black')\n",
    "ax.axvline(1, ls='-', color='black')\n",
    "\n",
    "ax.axhline(2, ls='--', color='gray')\n",
    "ax.axhline(0.5, ls='--', color='gray')\n",
    "\n",
    "ax.set_ylabel(\"Ribo-Seq (Tm + ISRIB/UT)\", fontsize=16)\n",
    "ax.set_xlabel(\"mRNA-Seq (Tm + ISRIB/UT)\", fontsize=16)\n",
    "ax.set_xlim(.125,8.5)\n",
    "ax.set_ylim(.125,8.5)\n",
    "ax.set_facecolor(\"#FFFFFF\")\n",
    "\n",
    "x = [.125,.250,.500,1,2,4,8]\n",
    "ticks = [\"1/8\",\"1/4\",\"1/2\",\"1\",\"2\",\"4\",\"8\"]\n",
    "\n",
    "ax.set_xscale('log', basex=2)\n",
    "ax.set_xticks(x)\n",
    "ax.set_xticklabels(ticks, fontsize=12)\n",
    "ax.set_xticklabels([\"\"]*len(xm), minor=True)\n",
    "\n",
    "ax.set_yscale('log', basey=2)\n",
    "ax.set_yticks(x)\n",
    "ax.set_yticklabels(ticks, fontsize=12)\n",
    "ax.set_yticklabels([\"\"]*len(xm), minor=True)\n",
    "\n",
    "#Prep data\n",
    "#All\n",
    "ribo_all = data_fig1b[['ribo_fc']].sum(axis=1).values.tolist()\n",
    "ribo_all = np.array(ribo_all).astype(np.float)\n",
    "ribo_all = np.ndarray.tolist(ribo_all)\n",
    "\n",
    "rna_all = data_fig1b[['rna_fc']].sum(axis=1).values.tolist()\n",
    "rna_all = np.array(rna_all).astype(np.float)\n",
    "rna_all = np.ndarray.tolist(rna_all)\n",
    "\n",
    "#ORFs\n",
    "ribo_mito = data_fig1b_enzymes[['ribo_fc']].sum(axis=1).values.tolist()\n",
    "ribo_mito = np.array(ribo_mito).astype(np.float)\n",
    "ribo_mito = np.ndarray.tolist(ribo_mito)\n",
    "\n",
    "rna_mito = data_fig1b_enzymes[['rna_fc']].sum(axis=1).values.tolist()\n",
    "rna_mito = np.array(rna_mito).astype(np.float)\n",
    "rna_mito = np.ndarray.tolist(rna_mito)\n",
    "\n",
    "#Plot data\n",
    "ax.scatter(rna_all, ribo_all, s=.5,c='gray')\n",
    "ax.scatter(rna_mito, ribo_mito, s=10,c='#ffa500')\n",
    "\n",
    "for index, row in data_fig1b_enzymes.iterrows():\n",
    "    if index in [ 'CPS1', 'CPT1B', 'UCP2', 'ST3GAL3', 'OAZ1', 'SAT1', 'ABCA1', 'PLCD1', 'ADRA2C', 'PLCD1']:\n",
    "        ax.text(row[1] + 0.025, row[0], str(index), horizontalalignment='left', size='medium', color='#016a86', weight='semibold')\n",
    "    else:\n",
    "        pass\n",
    "\n",
    "plt.savefig('./plots/tmisrib_enzymes.pdf', dpi=1800, bbox_inches='tight')\n",
    "\n",
    "plt.show"
   ]
  },
  {
   "cell_type": "code",
   "execution_count": 631,
   "metadata": {},
   "outputs": [
    {
     "data": {
      "text/plain": [
       "ribo_fc    11.810668\n",
       "rna_fc      0.862957\n",
       "Name: CHST2, dtype: float64"
      ]
     },
     "execution_count": 631,
     "metadata": {},
     "output_type": "execute_result"
    }
   ],
   "source": [
    "data_fig1b_enzymes.loc['CHST2']"
   ]
  },
  {
   "cell_type": "code",
   "execution_count": 572,
   "metadata": {},
   "outputs": [
    {
     "data": {
      "text/html": [
       "<div>\n",
       "<style scoped>\n",
       "    .dataframe tbody tr th:only-of-type {\n",
       "        vertical-align: middle;\n",
       "    }\n",
       "\n",
       "    .dataframe tbody tr th {\n",
       "        vertical-align: top;\n",
       "    }\n",
       "\n",
       "    .dataframe thead th {\n",
       "        text-align: right;\n",
       "    }\n",
       "</style>\n",
       "<table border=\"1\" class=\"dataframe\">\n",
       "  <thead>\n",
       "    <tr style=\"text-align: right;\">\n",
       "      <th></th>\n",
       "      <th>ribo_fc</th>\n",
       "      <th>rna_fc</th>\n",
       "    </tr>\n",
       "  </thead>\n",
       "  <tbody>\n",
       "    <tr>\n",
       "      <th>CHST2</th>\n",
       "      <td>11.810668</td>\n",
       "      <td>0.862957</td>\n",
       "    </tr>\n",
       "    <tr>\n",
       "      <th>CPT1B</th>\n",
       "      <td>3.297108</td>\n",
       "      <td>0.942314</td>\n",
       "    </tr>\n",
       "    <tr>\n",
       "      <th>ADRA2C</th>\n",
       "      <td>2.531533</td>\n",
       "      <td>1.182848</td>\n",
       "    </tr>\n",
       "    <tr>\n",
       "      <th>PLCD1</th>\n",
       "      <td>2.155057</td>\n",
       "      <td>0.843942</td>\n",
       "    </tr>\n",
       "  </tbody>\n",
       "</table>\n",
       "</div>"
      ],
      "text/plain": [
       "          ribo_fc    rna_fc\n",
       "CHST2   11.810668  0.862957\n",
       "CPT1B    3.297108  0.942314\n",
       "ADRA2C   2.531533  1.182848\n",
       "PLCD1    2.155057  0.843942"
      ]
     },
     "execution_count": 572,
     "metadata": {},
     "output_type": "execute_result"
    }
   ],
   "source": [
    "data_fig1b_enzymes.loc[data_fig1b_enzymes['ribo_fc'] > 2]"
   ]
  },
  {
   "cell_type": "code",
   "execution_count": 573,
   "metadata": {},
   "outputs": [
    {
     "data": {
      "text/html": [
       "<div>\n",
       "<style scoped>\n",
       "    .dataframe tbody tr th:only-of-type {\n",
       "        vertical-align: middle;\n",
       "    }\n",
       "\n",
       "    .dataframe tbody tr th {\n",
       "        vertical-align: top;\n",
       "    }\n",
       "\n",
       "    .dataframe thead th {\n",
       "        text-align: right;\n",
       "    }\n",
       "</style>\n",
       "<table border=\"1\" class=\"dataframe\">\n",
       "  <thead>\n",
       "    <tr style=\"text-align: right;\">\n",
       "      <th></th>\n",
       "      <th>ribo_fc</th>\n",
       "      <th>rna_fc</th>\n",
       "    </tr>\n",
       "  </thead>\n",
       "  <tbody>\n",
       "    <tr>\n",
       "      <th>MTHFD2L</th>\n",
       "      <td>0.496379</td>\n",
       "      <td>0.910554</td>\n",
       "    </tr>\n",
       "  </tbody>\n",
       "</table>\n",
       "</div>"
      ],
      "text/plain": [
       "          ribo_fc    rna_fc\n",
       "MTHFD2L  0.496379  0.910554"
      ]
     },
     "execution_count": 573,
     "metadata": {},
     "output_type": "execute_result"
    }
   ],
   "source": [
    "data_fig1b_enzymes.loc[data_fig1b_enzymes['ribo_fc'] < 0.5]"
   ]
  },
  {
   "cell_type": "code",
   "execution_count": 574,
   "metadata": {},
   "outputs": [
    {
     "name": "stdout",
     "output_type": "stream",
     "text": [
      "(2118, 2)\n"
     ]
    }
   ],
   "source": [
    "data_fig1c_enzymes = data_fig1c_plot.reindex(labels=enzymes)\n",
    "print(data_fig1c_enzymes.shape)"
   ]
  },
  {
   "cell_type": "code",
   "execution_count": 646,
   "metadata": {},
   "outputs": [
    {
     "data": {
      "text/plain": [
       "<function matplotlib.pyplot.show(*args, **kw)>"
      ]
     },
     "execution_count": 646,
     "metadata": {},
     "output_type": "execute_result"
    },
    {
     "data": {
      "text/plain": [
       "<Figure size 432x288 with 0 Axes>"
      ]
     },
     "metadata": {},
     "output_type": "display_data"
    },
    {
     "data": {
      "image/png": "[encoded data removed]",
      "text/plain": [
       "<Figure size 504x504 with 1 Axes>"
      ]
     },
     "metadata": {
      "needs_background": "light"
     },
     "output_type": "display_data"
    }
   ],
   "source": [
    "plt.close()\n",
    "plt.clf()\n",
    "\n",
    "#Prepare plot\n",
    "fig, ax = plt.subplots(1,1, figsize=(7,7))\n",
    "plt.grid(False)\n",
    "\n",
    "ax.axhline(1, ls='-', color='black')\n",
    "ax.axvline(1, ls='-', color='black')\n",
    "\n",
    "ax.axhline(2, ls='--', color='gray')\n",
    "ax.axhline(0.5, ls='--', color='gray')\n",
    "\n",
    "ax.set_ylabel(\"Ribo-Seq (ISRIB/UT)\", fontsize=16)\n",
    "ax.set_xlabel(\"mRNA-Seq (ISRIB/UT)\", fontsize=16)\n",
    "ax.set_xlim(.125,8.5)\n",
    "ax.set_ylim(.125,8.5)\n",
    "ax.set_facecolor(\"#FFFFFF\")\n",
    "\n",
    "x = [.125,.250,.500,1,2,4,8]\n",
    "ticks = [\"1/8\",\"1/4\",\"1/2\",\"1\",\"2\",\"4\",\"8\"]\n",
    "\n",
    "ax.set_xscale('log', basex=2)\n",
    "ax.set_xticks(x)\n",
    "ax.set_xticklabels(ticks, fontsize=12)\n",
    "ax.set_xticklabels([\"\"]*len(xm), minor=True)\n",
    "\n",
    "ax.set_yscale('log', basey=2)\n",
    "ax.set_yticks(x)\n",
    "ax.set_yticklabels(ticks, fontsize=12)\n",
    "ax.set_yticklabels([\"\"]*len(xm), minor=True)\n",
    "\n",
    "#Prep data\n",
    "#All\n",
    "ribo_all = data_fig1c[['ribo_fc']].sum(axis=1).values.tolist()\n",
    "ribo_all = np.array(ribo_all).astype(np.float)\n",
    "ribo_all = np.ndarray.tolist(ribo_all)\n",
    "\n",
    "rna_all = data_fig1c[['rna_fc']].sum(axis=1).values.tolist()\n",
    "rna_all = np.array(rna_all).astype(np.float)\n",
    "rna_all = np.ndarray.tolist(rna_all)\n",
    "\n",
    "#ORFs\n",
    "ribo_mito = data_fig1c_enzymes[['ribo_fc']].sum(axis=1).values.tolist()\n",
    "ribo_mito = np.array(ribo_mito).astype(np.float)\n",
    "ribo_mito = np.ndarray.tolist(ribo_mito)\n",
    "\n",
    "rna_mito = data_fig1c_enzymes[['rna_fc']].sum(axis=1).values.tolist()\n",
    "rna_mito = np.array(rna_mito).astype(np.float)\n",
    "rna_mito = np.ndarray.tolist(rna_mito)\n",
    "\n",
    "#Plot data\n",
    "ax.scatter(rna_all, ribo_all, s=.5,c='gray')\n",
    "ax.scatter(rna_mito, ribo_mito, s=10,c='#ffa500')\n",
    "\n",
    "for index, row in data_fig1c_enzymes.iterrows():\n",
    "    if index in [ 'CPS1', 'CPT1B', 'UCP2', 'ST3GAL3', 'OAZ1', 'SAT1', 'ABCA1', 'PLCD1', 'ADRA2C', 'PLCD1']:\n",
    "        ax.text(row[1] + 0.025, row[0], str(index), horizontalalignment='left', size='medium', color='#016a86', weight='semibold')\n",
    "    else:\n",
    "        pass\n",
    "    \n",
    "plt.savefig('./plots/isrib_enzymes.pdf', dpi=1800, bbox_inches='tight')\n",
    "\n",
    "plt.show"
   ]
  },
  {
   "cell_type": "code",
   "execution_count": 576,
   "metadata": {},
   "outputs": [
    {
     "data": {
      "text/html": [
       "<div>\n",
       "<style scoped>\n",
       "    .dataframe tbody tr th:only-of-type {\n",
       "        vertical-align: middle;\n",
       "    }\n",
       "\n",
       "    .dataframe tbody tr th {\n",
       "        vertical-align: top;\n",
       "    }\n",
       "\n",
       "    .dataframe thead th {\n",
       "        text-align: right;\n",
       "    }\n",
       "</style>\n",
       "<table border=\"1\" class=\"dataframe\">\n",
       "  <thead>\n",
       "    <tr style=\"text-align: right;\">\n",
       "      <th></th>\n",
       "      <th>ribo_fc</th>\n",
       "      <th>rna_fc</th>\n",
       "    </tr>\n",
       "  </thead>\n",
       "  <tbody>\n",
       "    <tr>\n",
       "      <th>CHST2</th>\n",
       "      <td>5.127726</td>\n",
       "      <td>0.874063</td>\n",
       "    </tr>\n",
       "    <tr>\n",
       "      <th>ADRA2C</th>\n",
       "      <td>2.247355</td>\n",
       "      <td>1.146820</td>\n",
       "    </tr>\n",
       "  </tbody>\n",
       "</table>\n",
       "</div>"
      ],
      "text/plain": [
       "         ribo_fc    rna_fc\n",
       "CHST2   5.127726  0.874063\n",
       "ADRA2C  2.247355  1.146820"
      ]
     },
     "execution_count": 576,
     "metadata": {},
     "output_type": "execute_result"
    }
   ],
   "source": [
    "data_fig1c_enzymes.loc[data_fig1c_enzymes['ribo_fc'] > 2]"
   ]
  },
  {
   "cell_type": "code",
   "execution_count": 577,
   "metadata": {},
   "outputs": [
    {
     "data": {
      "text/html": [
       "<div>\n",
       "<style scoped>\n",
       "    .dataframe tbody tr th:only-of-type {\n",
       "        vertical-align: middle;\n",
       "    }\n",
       "\n",
       "    .dataframe tbody tr th {\n",
       "        vertical-align: top;\n",
       "    }\n",
       "\n",
       "    .dataframe thead th {\n",
       "        text-align: right;\n",
       "    }\n",
       "</style>\n",
       "<table border=\"1\" class=\"dataframe\">\n",
       "  <thead>\n",
       "    <tr style=\"text-align: right;\">\n",
       "      <th></th>\n",
       "      <th>ribo_fc</th>\n",
       "      <th>rna_fc</th>\n",
       "    </tr>\n",
       "  </thead>\n",
       "  <tbody>\n",
       "    <tr>\n",
       "      <th>NMRAL1</th>\n",
       "      <td>0.491047</td>\n",
       "      <td>1.073825</td>\n",
       "    </tr>\n",
       "    <tr>\n",
       "      <th>PIP5K1B</th>\n",
       "      <td>0.372499</td>\n",
       "      <td>1.676863</td>\n",
       "    </tr>\n",
       "    <tr>\n",
       "      <th>CSAD</th>\n",
       "      <td>0.429304</td>\n",
       "      <td>1.044388</td>\n",
       "    </tr>\n",
       "  </tbody>\n",
       "</table>\n",
       "</div>"
      ],
      "text/plain": [
       "          ribo_fc    rna_fc\n",
       "NMRAL1   0.491047  1.073825\n",
       "PIP5K1B  0.372499  1.676863\n",
       "CSAD     0.429304  1.044388"
      ]
     },
     "execution_count": 577,
     "metadata": {},
     "output_type": "execute_result"
    }
   ],
   "source": [
    "data_fig1c_enzymes.loc[data_fig1c_enzymes['ribo_fc'] < 0.5]"
   ]
  },
  {
   "cell_type": "markdown",
   "metadata": {},
   "source": [
    "##### Tracking analysis of gene groups"
   ]
  },
  {
   "cell_type": "code",
   "execution_count": 583,
   "metadata": {},
   "outputs": [],
   "source": [
    "data_logte_avg = data_logte.copy()\n",
    "\n",
    "data_logte_avg['untr'] = (data_logte_avg['untr_a'] + data_logte_avg['untr_b']) / 2\n",
    "data_logte_avg['tm'] = (data_logte_avg['tm_a'] + data_logte_avg['tm_b']) / 2\n",
    "data_logte_avg['tmisrib'] = (data_logte_avg['tmisrib_a'] + data_logte_avg['tmisrib_b']) / 2\n",
    "data_logte_avg['isrib'] = (data_logte_avg['isrib_a'] + data_logte_avg['isrib_b']) / 2\n",
    "\n",
    "data_logte_avg = data_logte_avg[['untr','tm','tmisrib','isrib']]\n",
    "\n",
    "data_logte_avg = data_logte_avg[~data_logte_avg.index.duplicated(keep='first')]"
   ]
  },
  {
   "cell_type": "code",
   "execution_count": 584,
   "metadata": {},
   "outputs": [
    {
     "name": "stdout",
     "output_type": "stream",
     "text": [
      "(1158, 4)\n"
     ]
    }
   ],
   "source": [
    "data_logte_avg_mitocarta = data_logte_avg.reindex(labels=mitocarta)\n",
    "print(data_logte_avg_mitocarta.shape)"
   ]
  },
  {
   "cell_type": "code",
   "execution_count": null,
   "metadata": {},
   "outputs": [],
   "source": []
  },
  {
   "cell_type": "code",
   "execution_count": 586,
   "metadata": {},
   "outputs": [
    {
     "name": "stdout",
     "output_type": "stream",
     "text": [
      "(2118, 4)\n"
     ]
    }
   ],
   "source": [
    "data_logte_avg_enzymes = data_logte_avg.reindex(labels=enzymes)\n",
    "print(data_logte_avg_enzymes.shape)"
   ]
  },
  {
   "cell_type": "code",
   "execution_count": null,
   "metadata": {},
   "outputs": [],
   "source": []
  },
  {
   "cell_type": "code",
   "execution_count": 708,
   "metadata": {},
   "outputs": [
    {
     "data": {
      "text/html": [
       "<div>\n",
       "<style scoped>\n",
       "    .dataframe tbody tr th:only-of-type {\n",
       "        vertical-align: middle;\n",
       "    }\n",
       "\n",
       "    .dataframe tbody tr th {\n",
       "        vertical-align: top;\n",
       "    }\n",
       "\n",
       "    .dataframe thead th {\n",
       "        text-align: right;\n",
       "    }\n",
       "</style>\n",
       "<table border=\"1\" class=\"dataframe\">\n",
       "  <thead>\n",
       "    <tr style=\"text-align: right;\">\n",
       "      <th></th>\n",
       "      <th>isrib_a_hek_mrna</th>\n",
       "      <th>isrib_b_hek_mrna</th>\n",
       "      <th>tm_a_hek_mrna</th>\n",
       "      <th>tm_b_hek_mrna</th>\n",
       "      <th>tmisrib_a_hek_mrna</th>\n",
       "      <th>tmisrib_b_hek_mrna</th>\n",
       "      <th>untr_a_hek_mrna</th>\n",
       "      <th>untr_b_hek_mrna</th>\n",
       "      <th>ribo_isrib_a_ribo</th>\n",
       "      <th>ribo_isrib_b_ribo</th>\n",
       "      <th>ribo_tm_a_ribo</th>\n",
       "      <th>ribo_tm_b_ribo</th>\n",
       "      <th>ribo_tmisrib_a_ribo</th>\n",
       "      <th>ribo_tmisrib_b_ribo</th>\n",
       "      <th>ribo_untr_a_ribo</th>\n",
       "      <th>ribo_untr_b_ribo</th>\n",
       "    </tr>\n",
       "  </thead>\n",
       "  <tbody>\n",
       "    <tr>\n",
       "      <th>NPIP</th>\n",
       "      <td>74.965372</td>\n",
       "      <td>112.181646</td>\n",
       "      <td>61.455536</td>\n",
       "      <td>70.956679</td>\n",
       "      <td>66.372511</td>\n",
       "      <td>67.660387</td>\n",
       "      <td>84.710947</td>\n",
       "      <td>72.355504</td>\n",
       "      <td>0.190384</td>\n",
       "      <td>0.428962</td>\n",
       "      <td>2.963875</td>\n",
       "      <td>1.447615</td>\n",
       "      <td>5.912666</td>\n",
       "      <td>1.894173</td>\n",
       "      <td>1.410059</td>\n",
       "      <td>0.445541</td>\n",
       "    </tr>\n",
       "    <tr>\n",
       "      <th>NPIP</th>\n",
       "      <td>61.437628</td>\n",
       "      <td>90.087044</td>\n",
       "      <td>54.172778</td>\n",
       "      <td>60.973737</td>\n",
       "      <td>58.891823</td>\n",
       "      <td>55.170901</td>\n",
       "      <td>56.950611</td>\n",
       "      <td>49.706353</td>\n",
       "      <td>0.000000</td>\n",
       "      <td>0.000000</td>\n",
       "      <td>3.521331</td>\n",
       "      <td>1.444705</td>\n",
       "      <td>5.043403</td>\n",
       "      <td>1.800348</td>\n",
       "      <td>1.443308</td>\n",
       "      <td>0.370538</td>\n",
       "    </tr>\n",
       "    <tr>\n",
       "      <th>NPIP</th>\n",
       "      <td>69.949398</td>\n",
       "      <td>107.186769</td>\n",
       "      <td>59.643107</td>\n",
       "      <td>69.764908</td>\n",
       "      <td>62.338767</td>\n",
       "      <td>64.366242</td>\n",
       "      <td>79.944578</td>\n",
       "      <td>68.064140</td>\n",
       "      <td>0.180049</td>\n",
       "      <td>0.270450</td>\n",
       "      <td>3.603831</td>\n",
       "      <td>1.369030</td>\n",
       "      <td>5.018186</td>\n",
       "      <td>1.919300</td>\n",
       "      <td>1.743825</td>\n",
       "      <td>0.491581</td>\n",
       "    </tr>\n",
       "  </tbody>\n",
       "</table>\n",
       "</div>"
      ],
      "text/plain": [
       "      isrib_a_hek_mrna  isrib_b_hek_mrna  tm_a_hek_mrna  tm_b_hek_mrna  \\\n",
       "NPIP         74.965372        112.181646      61.455536      70.956679   \n",
       "NPIP         61.437628         90.087044      54.172778      60.973737   \n",
       "NPIP         69.949398        107.186769      59.643107      69.764908   \n",
       "\n",
       "      tmisrib_a_hek_mrna  tmisrib_b_hek_mrna  untr_a_hek_mrna  \\\n",
       "NPIP           66.372511           67.660387        84.710947   \n",
       "NPIP           58.891823           55.170901        56.950611   \n",
       "NPIP           62.338767           64.366242        79.944578   \n",
       "\n",
       "      untr_b_hek_mrna  ribo_isrib_a_ribo  ribo_isrib_b_ribo  ribo_tm_a_ribo  \\\n",
       "NPIP        72.355504           0.190384           0.428962        2.963875   \n",
       "NPIP        49.706353           0.000000           0.000000        3.521331   \n",
       "NPIP        68.064140           0.180049           0.270450        3.603831   \n",
       "\n",
       "      ribo_tm_b_ribo  ribo_tmisrib_a_ribo  ribo_tmisrib_b_ribo  \\\n",
       "NPIP        1.447615             5.912666             1.894173   \n",
       "NPIP        1.444705             5.043403             1.800348   \n",
       "NPIP        1.369030             5.018186             1.919300   \n",
       "\n",
       "      ribo_untr_a_ribo  ribo_untr_b_ribo  \n",
       "NPIP          1.410059          0.445541  \n",
       "NPIP          1.443308          0.370538  \n",
       "NPIP          1.743825          0.491581  "
      ]
     },
     "execution_count": 708,
     "metadata": {},
     "output_type": "execute_result"
    }
   ],
   "source": [
    "data_tpm.loc['NPIP']"
   ]
  },
  {
   "cell_type": "code",
   "execution_count": 717,
   "metadata": {},
   "outputs": [
    {
     "data": {
      "text/html": [
       "<div>\n",
       "<style scoped>\n",
       "    .dataframe tbody tr th:only-of-type {\n",
       "        vertical-align: middle;\n",
       "    }\n",
       "\n",
       "    .dataframe tbody tr th {\n",
       "        vertical-align: top;\n",
       "    }\n",
       "\n",
       "    .dataframe thead th {\n",
       "        text-align: right;\n",
       "    }\n",
       "</style>\n",
       "<table border=\"1\" class=\"dataframe\">\n",
       "  <thead>\n",
       "    <tr style=\"text-align: right;\">\n",
       "      <th></th>\n",
       "      <th>isrib_a_hek_mrna</th>\n",
       "      <th>isrib_b_hek_mrna</th>\n",
       "      <th>tm_a_hek_mrna</th>\n",
       "      <th>tm_b_hek_mrna</th>\n",
       "      <th>tmisrib_a_hek_mrna</th>\n",
       "      <th>tmisrib_b_hek_mrna</th>\n",
       "      <th>untr_a_hek_mrna</th>\n",
       "      <th>untr_b_hek_mrna</th>\n",
       "      <th>ribo_isrib_a_ribo</th>\n",
       "      <th>ribo_isrib_b_ribo</th>\n",
       "      <th>ribo_tm_a_ribo</th>\n",
       "      <th>ribo_tm_b_ribo</th>\n",
       "      <th>ribo_tmisrib_a_ribo</th>\n",
       "      <th>ribo_tmisrib_b_ribo</th>\n",
       "      <th>ribo_untr_a_ribo</th>\n",
       "      <th>ribo_untr_b_ribo</th>\n",
       "    </tr>\n",
       "    <tr>\n",
       "      <th>idx</th>\n",
       "      <th></th>\n",
       "      <th></th>\n",
       "      <th></th>\n",
       "      <th></th>\n",
       "      <th></th>\n",
       "      <th></th>\n",
       "      <th></th>\n",
       "      <th></th>\n",
       "      <th></th>\n",
       "      <th></th>\n",
       "      <th></th>\n",
       "      <th></th>\n",
       "      <th></th>\n",
       "      <th></th>\n",
       "      <th></th>\n",
       "      <th></th>\n",
       "    </tr>\n",
       "  </thead>\n",
       "  <tbody>\n",
       "    <tr>\n",
       "      <th>ZYG11B</th>\n",
       "      <td>43.321929</td>\n",
       "      <td>47.046555</td>\n",
       "      <td>44.923735</td>\n",
       "      <td>41.923452</td>\n",
       "      <td>42.465060</td>\n",
       "      <td>41.809121</td>\n",
       "      <td>42.076703</td>\n",
       "      <td>37.771979</td>\n",
       "      <td>27.901436</td>\n",
       "      <td>24.545711</td>\n",
       "      <td>32.089281</td>\n",
       "      <td>28.551366</td>\n",
       "      <td>26.855948</td>\n",
       "      <td>27.858526</td>\n",
       "      <td>28.276140</td>\n",
       "      <td>25.019758</td>\n",
       "    </tr>\n",
       "    <tr>\n",
       "      <th>ZYX</th>\n",
       "      <td>10.346416</td>\n",
       "      <td>17.787715</td>\n",
       "      <td>7.783968</td>\n",
       "      <td>9.178593</td>\n",
       "      <td>7.461681</td>\n",
       "      <td>10.382348</td>\n",
       "      <td>12.636185</td>\n",
       "      <td>10.525205</td>\n",
       "      <td>58.231141</td>\n",
       "      <td>57.256760</td>\n",
       "      <td>60.063844</td>\n",
       "      <td>49.735662</td>\n",
       "      <td>61.252724</td>\n",
       "      <td>59.036689</td>\n",
       "      <td>63.364602</td>\n",
       "      <td>59.647485</td>\n",
       "    </tr>\n",
       "    <tr>\n",
       "      <th>ZZEF1</th>\n",
       "      <td>19.816373</td>\n",
       "      <td>26.603339</td>\n",
       "      <td>16.806596</td>\n",
       "      <td>18.263424</td>\n",
       "      <td>15.946830</td>\n",
       "      <td>18.568951</td>\n",
       "      <td>23.153117</td>\n",
       "      <td>23.827227</td>\n",
       "      <td>8.567949</td>\n",
       "      <td>8.687141</td>\n",
       "      <td>11.504411</td>\n",
       "      <td>11.531126</td>\n",
       "      <td>11.956997</td>\n",
       "      <td>9.848752</td>\n",
       "      <td>9.445399</td>\n",
       "      <td>8.621876</td>\n",
       "    </tr>\n",
       "    <tr>\n",
       "      <th>ZZZ3</th>\n",
       "      <td>105.806090</td>\n",
       "      <td>114.742104</td>\n",
       "      <td>100.576457</td>\n",
       "      <td>101.110250</td>\n",
       "      <td>99.920139</td>\n",
       "      <td>102.882464</td>\n",
       "      <td>107.046432</td>\n",
       "      <td>104.159981</td>\n",
       "      <td>9.694963</td>\n",
       "      <td>8.780462</td>\n",
       "      <td>8.244057</td>\n",
       "      <td>7.588517</td>\n",
       "      <td>9.196223</td>\n",
       "      <td>8.916204</td>\n",
       "      <td>10.315813</td>\n",
       "      <td>8.952995</td>\n",
       "    </tr>\n",
       "    <tr>\n",
       "      <th>hCG_1995134</th>\n",
       "      <td>7.966539</td>\n",
       "      <td>10.138741</td>\n",
       "      <td>8.062058</td>\n",
       "      <td>9.057901</td>\n",
       "      <td>7.277442</td>\n",
       "      <td>7.927741</td>\n",
       "      <td>7.767341</td>\n",
       "      <td>8.582483</td>\n",
       "      <td>0.000000</td>\n",
       "      <td>0.000000</td>\n",
       "      <td>0.000000</td>\n",
       "      <td>0.000000</td>\n",
       "      <td>0.000000</td>\n",
       "      <td>0.000000</td>\n",
       "      <td>0.000000</td>\n",
       "      <td>0.000000</td>\n",
       "    </tr>\n",
       "  </tbody>\n",
       "</table>\n",
       "</div>"
      ],
      "text/plain": [
       "             isrib_a_hek_mrna  isrib_b_hek_mrna  tm_a_hek_mrna  tm_b_hek_mrna  \\\n",
       "idx                                                                             \n",
       "ZYG11B              43.321929         47.046555      44.923735      41.923452   \n",
       "ZYX                 10.346416         17.787715       7.783968       9.178593   \n",
       "ZZEF1               19.816373         26.603339      16.806596      18.263424   \n",
       "ZZZ3               105.806090        114.742104     100.576457     101.110250   \n",
       "hCG_1995134          7.966539         10.138741       8.062058       9.057901   \n",
       "\n",
       "             tmisrib_a_hek_mrna  tmisrib_b_hek_mrna  untr_a_hek_mrna  \\\n",
       "idx                                                                    \n",
       "ZYG11B                42.465060           41.809121        42.076703   \n",
       "ZYX                    7.461681           10.382348        12.636185   \n",
       "ZZEF1                 15.946830           18.568951        23.153117   \n",
       "ZZZ3                  99.920139          102.882464       107.046432   \n",
       "hCG_1995134            7.277442            7.927741         7.767341   \n",
       "\n",
       "             untr_b_hek_mrna  ribo_isrib_a_ribo  ribo_isrib_b_ribo  \\\n",
       "idx                                                                  \n",
       "ZYG11B             37.771979          27.901436          24.545711   \n",
       "ZYX                10.525205          58.231141          57.256760   \n",
       "ZZEF1              23.827227           8.567949           8.687141   \n",
       "ZZZ3              104.159981           9.694963           8.780462   \n",
       "hCG_1995134         8.582483           0.000000           0.000000   \n",
       "\n",
       "             ribo_tm_a_ribo  ribo_tm_b_ribo  ribo_tmisrib_a_ribo  \\\n",
       "idx                                                                \n",
       "ZYG11B            32.089281       28.551366            26.855948   \n",
       "ZYX               60.063844       49.735662            61.252724   \n",
       "ZZEF1             11.504411       11.531126            11.956997   \n",
       "ZZZ3               8.244057        7.588517             9.196223   \n",
       "hCG_1995134        0.000000        0.000000             0.000000   \n",
       "\n",
       "             ribo_tmisrib_b_ribo  ribo_untr_a_ribo  ribo_untr_b_ribo  \n",
       "idx                                                                   \n",
       "ZYG11B                 27.858526         28.276140         25.019758  \n",
       "ZYX                    59.036689         63.364602         59.647485  \n",
       "ZZEF1                   9.848752          9.445399          8.621876  \n",
       "ZZZ3                    8.916204         10.315813          8.952995  \n",
       "hCG_1995134             0.000000          0.000000          0.000000  "
      ]
     },
     "execution_count": 717,
     "metadata": {},
     "output_type": "execute_result"
    }
   ],
   "source": [
    "data_tpm_c = data_tpm.copy()\n",
    "\n",
    "data_tpm_c['idx'] = data_tpm_c.index\n",
    "data_tpm_c = data_tpm_c.sort_values(by=['idx'], axis=0)\n",
    "\n",
    "data_tpm_c = data_tpm_c.groupby('idx').mean()\n",
    "\n",
    "data_tpm_c.tail()"
   ]
  },
  {
   "cell_type": "code",
   "execution_count": 723,
   "metadata": {},
   "outputs": [
    {
     "data": {
      "text/plain": [
       "0.18118091020321184"
      ]
     },
     "execution_count": 723,
     "metadata": {},
     "output_type": "execute_result"
    }
   ],
   "source": [
    "(data_tpm_c.loc['NPIP']['ribo_isrib_a_ribo'] + data_tpm_c.loc['NPIP']['ribo_isrib_b_ribo']) / (data_tpm_c.loc['NPIP']['ribo_untr_a_ribo'] + data_tpm_c.loc['NPIP']['ribo_untr_b_ribo'])"
   ]
  },
  {
   "cell_type": "code",
   "execution_count": 724,
   "metadata": {},
   "outputs": [
    {
     "data": {
      "text/plain": [
       "-1.7082592430025831"
      ]
     },
     "execution_count": 724,
     "metadata": {},
     "output_type": "execute_result"
    }
   ],
   "source": [
    "np.log(0.18118091020321184)"
   ]
  },
  {
   "cell_type": "code",
   "execution_count": 727,
   "metadata": {},
   "outputs": [
    {
     "data": {
      "text/plain": [
       "isrib_a_hek_mrna       6.818155\n",
       "isrib_b_hek_mrna       8.952700\n",
       "tm_a_hek_mrna          6.674015\n",
       "tm_b_hek_mrna          7.285899\n",
       "tmisrib_a_hek_mrna     6.043531\n",
       "tmisrib_b_hek_mrna     5.682717\n",
       "untr_a_hek_mrna        8.467867\n",
       "untr_b_hek_mrna        6.772637\n",
       "ribo_isrib_a_ribo      0.679431\n",
       "ribo_isrib_b_ribo      0.510284\n",
       "ribo_tm_a_ribo         1.511040\n",
       "ribo_tm_b_ribo         1.549846\n",
       "ribo_tmisrib_a_ribo    1.082089\n",
       "ribo_tmisrib_b_ribo    0.724264\n",
       "ribo_untr_a_ribo       0.967716\n",
       "ribo_untr_b_ribo       0.530006\n",
       "Name: ST3GAL3, dtype: float64"
      ]
     },
     "execution_count": 727,
     "metadata": {},
     "output_type": "execute_result"
    }
   ],
   "source": [
    "data_tpm_c.loc['ST3GAL3']"
   ]
  },
  {
   "cell_type": "code",
   "execution_count": 728,
   "metadata": {},
   "outputs": [
    {
     "name": "stdout",
     "output_type": "stream",
     "text": [
      "0.07074186047030293\n",
      "0.27971157762470683\n"
     ]
    }
   ],
   "source": [
    "### TM\n",
    "#Footprint\n",
    "statistic, p_value = stats.ttest_ind([1.511040,1.549846], [0.967716,0.530006])\n",
    "print(p_value)\n",
    "\n",
    "#mRNA\n",
    "statistic, p_value = stats.ttest_ind([6.674015,5.682717], [8.467867,6.772637])\n",
    "print(p_value)"
   ]
  },
  {
   "cell_type": "code",
   "execution_count": 729,
   "metadata": {},
   "outputs": [
    {
     "name": "stdout",
     "output_type": "stream",
     "text": [
      "0.6398855906174504\n",
      "0.17979772454277626\n"
     ]
    }
   ],
   "source": [
    "### TM ISRIB\n",
    "#Footprint\n",
    "statistic, p_value = stats.ttest_ind([1.082089,0.724264], [0.967716,0.530006])\n",
    "print(p_value)\n",
    "\n",
    "#mRNA\n",
    "statistic, p_value = stats.ttest_ind([6.043531,5.682717], [8.467867,6.772637])\n",
    "print(p_value)"
   ]
  },
  {
   "cell_type": "code",
   "execution_count": 730,
   "metadata": {},
   "outputs": [
    {
     "data": {
      "text/plain": [
       "isrib_a_hek_mrna       3.330840\n",
       "isrib_b_hek_mrna       2.787582\n",
       "tm_a_hek_mrna          2.579677\n",
       "tm_b_hek_mrna          3.118664\n",
       "tmisrib_a_hek_mrna     3.317482\n",
       "tmisrib_b_hek_mrna     2.993154\n",
       "untr_a_hek_mrna        2.319682\n",
       "untr_b_hek_mrna        3.015436\n",
       "ribo_isrib_a_ribo      0.853507\n",
       "ribo_isrib_b_ribo      0.747860\n",
       "ribo_tm_a_ribo         0.790908\n",
       "ribo_tm_b_ribo         0.000000\n",
       "ribo_tmisrib_a_ribo    0.792941\n",
       "ribo_tmisrib_b_ribo    1.010918\n",
       "ribo_untr_a_ribo       0.324174\n",
       "ribo_untr_b_ribo       0.388382\n",
       "Name: ADRA2C, dtype: float64"
      ]
     },
     "execution_count": 730,
     "metadata": {},
     "output_type": "execute_result"
    }
   ],
   "source": [
    "data_tpm_c.loc['ADRA2C']"
   ]
  },
  {
   "cell_type": "code",
   "execution_count": 733,
   "metadata": {},
   "outputs": [
    {
     "name": "stdout",
     "output_type": "stream",
     "text": [
      "0.9303491080702512\n",
      "0.71985841756863\n"
     ]
    }
   ],
   "source": [
    "### TM\n",
    "#Footprint\n",
    "statistic, p_value = stats.ttest_ind([0.790908,0.000000], [0.324174,0.388382])\n",
    "print(p_value)\n",
    "\n",
    "#mRNA\n",
    "statistic, p_value = stats.ttest_ind([2.579677,3.118664], [2.319682,3.015436])\n",
    "print(p_value)"
   ]
  },
  {
   "cell_type": "code",
   "execution_count": 734,
   "metadata": {},
   "outputs": [
    {
     "name": "stdout",
     "output_type": "stream",
     "text": [
      "0.04072738230385198\n",
      "0.33161117228670967\n"
     ]
    }
   ],
   "source": [
    "### TM ISRIB \n",
    "#Footprint\n",
    "statistic, p_value = stats.ttest_ind([0.792941,1.010918], [0.324174,0.388382])\n",
    "print(p_value)\n",
    "\n",
    "#mRNA\n",
    "statistic, p_value = stats.ttest_ind([3.317482,2.993154], [2.319682,3.015436])\n",
    "print(p_value)"
   ]
  },
  {
   "cell_type": "code",
   "execution_count": null,
   "metadata": {},
   "outputs": [],
   "source": []
  },
  {
   "cell_type": "code",
   "execution_count": null,
   "metadata": {},
   "outputs": [],
   "source": []
  },
  {
   "cell_type": "code",
   "execution_count": null,
   "metadata": {},
   "outputs": [],
   "source": []
  },
  {
   "cell_type": "code",
   "execution_count": null,
   "metadata": {},
   "outputs": [],
   "source": []
  },
  {
   "cell_type": "code",
   "execution_count": null,
   "metadata": {},
   "outputs": [],
   "source": []
  },
  {
   "cell_type": "code",
   "execution_count": 799,
   "metadata": {},
   "outputs": [
    {
     "data": {
      "text/html": [
       "<div>\n",
       "<style scoped>\n",
       "    .dataframe tbody tr th:only-of-type {\n",
       "        vertical-align: middle;\n",
       "    }\n",
       "\n",
       "    .dataframe tbody tr th {\n",
       "        vertical-align: top;\n",
       "    }\n",
       "\n",
       "    .dataframe thead th {\n",
       "        text-align: right;\n",
       "    }\n",
       "</style>\n",
       "<table border=\"1\" class=\"dataframe\">\n",
       "  <thead>\n",
       "    <tr style=\"text-align: right;\">\n",
       "      <th></th>\n",
       "      <th>RNA_Tuni_Rep1_0h</th>\n",
       "      <th>RNA_Tuni_Rep1_1h</th>\n",
       "      <th>RNA_Tuni_Rep1_4h</th>\n",
       "      <th>RNA_Tuni_Rep1_8h</th>\n",
       "      <th>RNA_Tuni_Rep2_0h</th>\n",
       "      <th>RNA_Tuni_Rep2_1h</th>\n",
       "      <th>RNA_Tuni_Rep2_4h</th>\n",
       "      <th>RNA_Tuni_Rep2_8h</th>\n",
       "      <th>RNA_Tuni_Rep3_0h</th>\n",
       "      <th>RNA_Tuni_Rep3_1h</th>\n",
       "      <th>...</th>\n",
       "      <th>RPF_H2O2_Rep1_4h</th>\n",
       "      <th>RPF_H2O2_Rep1_8h</th>\n",
       "      <th>RPF_H2O2_Rep2_0h</th>\n",
       "      <th>RPF_H2O2_Rep2_1h</th>\n",
       "      <th>RPF_H2O2_Rep2_4h</th>\n",
       "      <th>RPF_H2O2_Rep2_8h</th>\n",
       "      <th>RPF_H2O2_Rep3_0h</th>\n",
       "      <th>RPF_H2O2_Rep3_1h</th>\n",
       "      <th>RPF_H2O2_Rep3_4h</th>\n",
       "      <th>RPF_H2O2_Rep3_8h</th>\n",
       "    </tr>\n",
       "  </thead>\n",
       "  <tbody>\n",
       "    <tr>\n",
       "      <th>ENSG00000000003</th>\n",
       "      <td>1540</td>\n",
       "      <td>1089</td>\n",
       "      <td>1902</td>\n",
       "      <td>1459</td>\n",
       "      <td>1232</td>\n",
       "      <td>988</td>\n",
       "      <td>1566</td>\n",
       "      <td>1000</td>\n",
       "      <td>1630</td>\n",
       "      <td>946</td>\n",
       "      <td>...</td>\n",
       "      <td>842</td>\n",
       "      <td>929</td>\n",
       "      <td>623</td>\n",
       "      <td>688</td>\n",
       "      <td>923</td>\n",
       "      <td>868</td>\n",
       "      <td>669</td>\n",
       "      <td>754</td>\n",
       "      <td>469</td>\n",
       "      <td>571</td>\n",
       "    </tr>\n",
       "    <tr>\n",
       "      <th>ENSG00000000005</th>\n",
       "      <td>0</td>\n",
       "      <td>0</td>\n",
       "      <td>0</td>\n",
       "      <td>0</td>\n",
       "      <td>0</td>\n",
       "      <td>0</td>\n",
       "      <td>0</td>\n",
       "      <td>0</td>\n",
       "      <td>0</td>\n",
       "      <td>0</td>\n",
       "      <td>...</td>\n",
       "      <td>0</td>\n",
       "      <td>0</td>\n",
       "      <td>0</td>\n",
       "      <td>0</td>\n",
       "      <td>0</td>\n",
       "      <td>0</td>\n",
       "      <td>0</td>\n",
       "      <td>0</td>\n",
       "      <td>0</td>\n",
       "      <td>0</td>\n",
       "    </tr>\n",
       "    <tr>\n",
       "      <th>ENSG00000000419</th>\n",
       "      <td>1488</td>\n",
       "      <td>1270</td>\n",
       "      <td>1673</td>\n",
       "      <td>1648</td>\n",
       "      <td>990</td>\n",
       "      <td>998</td>\n",
       "      <td>1387</td>\n",
       "      <td>1135</td>\n",
       "      <td>1482</td>\n",
       "      <td>1169</td>\n",
       "      <td>...</td>\n",
       "      <td>1076</td>\n",
       "      <td>1124</td>\n",
       "      <td>1031</td>\n",
       "      <td>1000</td>\n",
       "      <td>1327</td>\n",
       "      <td>1386</td>\n",
       "      <td>1089</td>\n",
       "      <td>1199</td>\n",
       "      <td>559</td>\n",
       "      <td>762</td>\n",
       "    </tr>\n",
       "    <tr>\n",
       "      <th>ENSG00000000457</th>\n",
       "      <td>220</td>\n",
       "      <td>153</td>\n",
       "      <td>273</td>\n",
       "      <td>201</td>\n",
       "      <td>164</td>\n",
       "      <td>125</td>\n",
       "      <td>274</td>\n",
       "      <td>188</td>\n",
       "      <td>244</td>\n",
       "      <td>160</td>\n",
       "      <td>...</td>\n",
       "      <td>53</td>\n",
       "      <td>62</td>\n",
       "      <td>50</td>\n",
       "      <td>56</td>\n",
       "      <td>61</td>\n",
       "      <td>92</td>\n",
       "      <td>85</td>\n",
       "      <td>56</td>\n",
       "      <td>38</td>\n",
       "      <td>47</td>\n",
       "    </tr>\n",
       "    <tr>\n",
       "      <th>ENSG00000000460</th>\n",
       "      <td>592</td>\n",
       "      <td>362</td>\n",
       "      <td>741</td>\n",
       "      <td>476</td>\n",
       "      <td>417</td>\n",
       "      <td>375</td>\n",
       "      <td>671</td>\n",
       "      <td>370</td>\n",
       "      <td>670</td>\n",
       "      <td>399</td>\n",
       "      <td>...</td>\n",
       "      <td>305</td>\n",
       "      <td>325</td>\n",
       "      <td>293</td>\n",
       "      <td>245</td>\n",
       "      <td>392</td>\n",
       "      <td>373</td>\n",
       "      <td>367</td>\n",
       "      <td>340</td>\n",
       "      <td>194</td>\n",
       "      <td>192</td>\n",
       "    </tr>\n",
       "  </tbody>\n",
       "</table>\n",
       "<p>5 rows × 48 columns</p>\n",
       "</div>"
      ],
      "text/plain": [
       "                 RNA_Tuni_Rep1_0h  RNA_Tuni_Rep1_1h  RNA_Tuni_Rep1_4h  \\\n",
       "ENSG00000000003              1540              1089              1902   \n",
       "ENSG00000000005                 0                 0                 0   \n",
       "ENSG00000000419              1488              1270              1673   \n",
       "ENSG00000000457               220               153               273   \n",
       "ENSG00000000460               592               362               741   \n",
       "\n",
       "                 RNA_Tuni_Rep1_8h  RNA_Tuni_Rep2_0h  RNA_Tuni_Rep2_1h  \\\n",
       "ENSG00000000003              1459              1232               988   \n",
       "ENSG00000000005                 0                 0                 0   \n",
       "ENSG00000000419              1648               990               998   \n",
       "ENSG00000000457               201               164               125   \n",
       "ENSG00000000460               476               417               375   \n",
       "\n",
       "                 RNA_Tuni_Rep2_4h  RNA_Tuni_Rep2_8h  RNA_Tuni_Rep3_0h  \\\n",
       "ENSG00000000003              1566              1000              1630   \n",
       "ENSG00000000005                 0                 0                 0   \n",
       "ENSG00000000419              1387              1135              1482   \n",
       "ENSG00000000457               274               188               244   \n",
       "ENSG00000000460               671               370               670   \n",
       "\n",
       "                 RNA_Tuni_Rep3_1h        ...         RPF_H2O2_Rep1_4h  \\\n",
       "ENSG00000000003               946        ...                      842   \n",
       "ENSG00000000005                 0        ...                        0   \n",
       "ENSG00000000419              1169        ...                     1076   \n",
       "ENSG00000000457               160        ...                       53   \n",
       "ENSG00000000460               399        ...                      305   \n",
       "\n",
       "                 RPF_H2O2_Rep1_8h  RPF_H2O2_Rep2_0h  RPF_H2O2_Rep2_1h  \\\n",
       "ENSG00000000003               929               623               688   \n",
       "ENSG00000000005                 0                 0                 0   \n",
       "ENSG00000000419              1124              1031              1000   \n",
       "ENSG00000000457                62                50                56   \n",
       "ENSG00000000460               325               293               245   \n",
       "\n",
       "                 RPF_H2O2_Rep2_4h  RPF_H2O2_Rep2_8h  RPF_H2O2_Rep3_0h  \\\n",
       "ENSG00000000003               923               868               669   \n",
       "ENSG00000000005                 0                 0                 0   \n",
       "ENSG00000000419              1327              1386              1089   \n",
       "ENSG00000000457                61                92                85   \n",
       "ENSG00000000460               392               373               367   \n",
       "\n",
       "                 RPF_H2O2_Rep3_1h  RPF_H2O2_Rep3_4h  RPF_H2O2_Rep3_8h  \n",
       "ENSG00000000003               754               469               571  \n",
       "ENSG00000000005                 0                 0                 0  \n",
       "ENSG00000000419              1199               559               762  \n",
       "ENSG00000000457                56                38                47  \n",
       "ENSG00000000460               340               194               192  \n",
       "\n",
       "[5 rows x 48 columns]"
      ]
     },
     "execution_count": 799,
     "metadata": {},
     "output_type": "execute_result"
    }
   ],
   "source": []
  },
  {
   "cell_type": "code",
   "execution_count": 785,
   "metadata": {},
   "outputs": [],
   "source": []
  },
  {
   "cell_type": "code",
   "execution_count": 786,
   "metadata": {},
   "outputs": [],
   "source": []
  },
  {
   "cell_type": "code",
   "execution_count": 787,
   "metadata": {},
   "outputs": [],
   "source": []
  },
  {
   "cell_type": "code",
   "execution_count": 788,
   "metadata": {},
   "outputs": [],
   "source": [
    "\n"
   ]
  },
  {
   "cell_type": "code",
   "execution_count": 797,
   "metadata": {},
   "outputs": [
    {
     "data": {
      "text/html": [
       "<div>\n",
       "<style scoped>\n",
       "    .dataframe tbody tr th:only-of-type {\n",
       "        vertical-align: middle;\n",
       "    }\n",
       "\n",
       "    .dataframe tbody tr th {\n",
       "        vertical-align: top;\n",
       "    }\n",
       "\n",
       "    .dataframe thead th {\n",
       "        text-align: right;\n",
       "    }\n",
       "</style>\n",
       "<table border=\"1\" class=\"dataframe\">\n",
       "  <thead>\n",
       "    <tr style=\"text-align: right;\">\n",
       "      <th></th>\n",
       "      <th>RNA_Tuni_Rep1_0h_13</th>\n",
       "      <th>RNA_Tuni_Rep1_1h_14</th>\n",
       "      <th>RNA_Tuni_Rep1_4h_15</th>\n",
       "      <th>RNA_Tuni_Rep1_8h_16</th>\n",
       "      <th>RNA_Tuni_Rep2_0h_17</th>\n",
       "      <th>RNA_Tuni_Rep2_1h_18</th>\n",
       "      <th>RNA_Tuni_Rep2_4h_19</th>\n",
       "      <th>RNA_Tuni_Rep2_8h_20</th>\n",
       "      <th>RNA_Tuni_Rep3_0h_21</th>\n",
       "      <th>RNA_Tuni_Rep3_1h_22</th>\n",
       "      <th>...</th>\n",
       "      <th>RPF_H2O2_Rep1_4h_3</th>\n",
       "      <th>RPF_H2O2_Rep1_8h_4</th>\n",
       "      <th>RPF_H2O2_Rep2_0h_5</th>\n",
       "      <th>RPF_H2O2_Rep2_1h_6</th>\n",
       "      <th>RPF_H2O2_Rep2_4h_7</th>\n",
       "      <th>RPF_H2O2_Rep2_8h_8</th>\n",
       "      <th>RPF_H2O2_Rep3_0h_9</th>\n",
       "      <th>RPF_H2O2_Rep3_1h_10</th>\n",
       "      <th>RPF_H2O2_Rep3_4h_11</th>\n",
       "      <th>RPF_H2O2_Rep3_8h_12</th>\n",
       "    </tr>\n",
       "  </thead>\n",
       "  <tbody>\n",
       "    <tr>\n",
       "      <th>ENSG00000000003</th>\n",
       "      <td>1540</td>\n",
       "      <td>1089</td>\n",
       "      <td>1902</td>\n",
       "      <td>1459</td>\n",
       "      <td>1232</td>\n",
       "      <td>988</td>\n",
       "      <td>1566</td>\n",
       "      <td>1000</td>\n",
       "      <td>1630</td>\n",
       "      <td>946</td>\n",
       "      <td>...</td>\n",
       "      <td>842</td>\n",
       "      <td>929</td>\n",
       "      <td>623</td>\n",
       "      <td>688</td>\n",
       "      <td>923</td>\n",
       "      <td>868</td>\n",
       "      <td>669</td>\n",
       "      <td>754</td>\n",
       "      <td>469</td>\n",
       "      <td>571</td>\n",
       "    </tr>\n",
       "    <tr>\n",
       "      <th>ENSG00000000005</th>\n",
       "      <td>0</td>\n",
       "      <td>0</td>\n",
       "      <td>0</td>\n",
       "      <td>0</td>\n",
       "      <td>0</td>\n",
       "      <td>0</td>\n",
       "      <td>0</td>\n",
       "      <td>0</td>\n",
       "      <td>0</td>\n",
       "      <td>0</td>\n",
       "      <td>...</td>\n",
       "      <td>0</td>\n",
       "      <td>0</td>\n",
       "      <td>0</td>\n",
       "      <td>0</td>\n",
       "      <td>0</td>\n",
       "      <td>0</td>\n",
       "      <td>0</td>\n",
       "      <td>0</td>\n",
       "      <td>0</td>\n",
       "      <td>0</td>\n",
       "    </tr>\n",
       "    <tr>\n",
       "      <th>ENSG00000000419</th>\n",
       "      <td>1488</td>\n",
       "      <td>1270</td>\n",
       "      <td>1673</td>\n",
       "      <td>1648</td>\n",
       "      <td>990</td>\n",
       "      <td>998</td>\n",
       "      <td>1387</td>\n",
       "      <td>1135</td>\n",
       "      <td>1482</td>\n",
       "      <td>1169</td>\n",
       "      <td>...</td>\n",
       "      <td>1076</td>\n",
       "      <td>1124</td>\n",
       "      <td>1031</td>\n",
       "      <td>1000</td>\n",
       "      <td>1327</td>\n",
       "      <td>1386</td>\n",
       "      <td>1089</td>\n",
       "      <td>1199</td>\n",
       "      <td>559</td>\n",
       "      <td>762</td>\n",
       "    </tr>\n",
       "    <tr>\n",
       "      <th>ENSG00000000457</th>\n",
       "      <td>220</td>\n",
       "      <td>153</td>\n",
       "      <td>273</td>\n",
       "      <td>201</td>\n",
       "      <td>164</td>\n",
       "      <td>125</td>\n",
       "      <td>274</td>\n",
       "      <td>188</td>\n",
       "      <td>244</td>\n",
       "      <td>160</td>\n",
       "      <td>...</td>\n",
       "      <td>53</td>\n",
       "      <td>62</td>\n",
       "      <td>50</td>\n",
       "      <td>56</td>\n",
       "      <td>61</td>\n",
       "      <td>92</td>\n",
       "      <td>85</td>\n",
       "      <td>56</td>\n",
       "      <td>38</td>\n",
       "      <td>47</td>\n",
       "    </tr>\n",
       "    <tr>\n",
       "      <th>ENSG00000000460</th>\n",
       "      <td>592</td>\n",
       "      <td>362</td>\n",
       "      <td>741</td>\n",
       "      <td>476</td>\n",
       "      <td>417</td>\n",
       "      <td>375</td>\n",
       "      <td>671</td>\n",
       "      <td>370</td>\n",
       "      <td>670</td>\n",
       "      <td>399</td>\n",
       "      <td>...</td>\n",
       "      <td>305</td>\n",
       "      <td>325</td>\n",
       "      <td>293</td>\n",
       "      <td>245</td>\n",
       "      <td>392</td>\n",
       "      <td>373</td>\n",
       "      <td>367</td>\n",
       "      <td>340</td>\n",
       "      <td>194</td>\n",
       "      <td>192</td>\n",
       "    </tr>\n",
       "  </tbody>\n",
       "</table>\n",
       "<p>5 rows × 48 columns</p>\n",
       "</div>"
      ],
      "text/plain": [
       "                 RNA_Tuni_Rep1_0h_13  RNA_Tuni_Rep1_1h_14  \\\n",
       "ENSG00000000003                 1540                 1089   \n",
       "ENSG00000000005                    0                    0   \n",
       "ENSG00000000419                 1488                 1270   \n",
       "ENSG00000000457                  220                  153   \n",
       "ENSG00000000460                  592                  362   \n",
       "\n",
       "                 RNA_Tuni_Rep1_4h_15  RNA_Tuni_Rep1_8h_16  \\\n",
       "ENSG00000000003                 1902                 1459   \n",
       "ENSG00000000005                    0                    0   \n",
       "ENSG00000000419                 1673                 1648   \n",
       "ENSG00000000457                  273                  201   \n",
       "ENSG00000000460                  741                  476   \n",
       "\n",
       "                 RNA_Tuni_Rep2_0h_17  RNA_Tuni_Rep2_1h_18  \\\n",
       "ENSG00000000003                 1232                  988   \n",
       "ENSG00000000005                    0                    0   \n",
       "ENSG00000000419                  990                  998   \n",
       "ENSG00000000457                  164                  125   \n",
       "ENSG00000000460                  417                  375   \n",
       "\n",
       "                 RNA_Tuni_Rep2_4h_19  RNA_Tuni_Rep2_8h_20  \\\n",
       "ENSG00000000003                 1566                 1000   \n",
       "ENSG00000000005                    0                    0   \n",
       "ENSG00000000419                 1387                 1135   \n",
       "ENSG00000000457                  274                  188   \n",
       "ENSG00000000460                  671                  370   \n",
       "\n",
       "                 RNA_Tuni_Rep3_0h_21  RNA_Tuni_Rep3_1h_22  \\\n",
       "ENSG00000000003                 1630                  946   \n",
       "ENSG00000000005                    0                    0   \n",
       "ENSG00000000419                 1482                 1169   \n",
       "ENSG00000000457                  244                  160   \n",
       "ENSG00000000460                  670                  399   \n",
       "\n",
       "                        ...           RPF_H2O2_Rep1_4h_3  RPF_H2O2_Rep1_8h_4  \\\n",
       "ENSG00000000003         ...                          842                 929   \n",
       "ENSG00000000005         ...                            0                   0   \n",
       "ENSG00000000419         ...                         1076                1124   \n",
       "ENSG00000000457         ...                           53                  62   \n",
       "ENSG00000000460         ...                          305                 325   \n",
       "\n",
       "                 RPF_H2O2_Rep2_0h_5  RPF_H2O2_Rep2_1h_6  RPF_H2O2_Rep2_4h_7  \\\n",
       "ENSG00000000003                 623                 688                 923   \n",
       "ENSG00000000005                   0                   0                   0   \n",
       "ENSG00000000419                1031                1000                1327   \n",
       "ENSG00000000457                  50                  56                  61   \n",
       "ENSG00000000460                 293                 245                 392   \n",
       "\n",
       "                 RPF_H2O2_Rep2_8h_8  RPF_H2O2_Rep3_0h_9  RPF_H2O2_Rep3_1h_10  \\\n",
       "ENSG00000000003                 868                 669                  754   \n",
       "ENSG00000000005                   0                   0                    0   \n",
       "ENSG00000000419                1386                1089                 1199   \n",
       "ENSG00000000457                  92                  85                   56   \n",
       "ENSG00000000460                 373                 367                  340   \n",
       "\n",
       "                 RPF_H2O2_Rep3_4h_11  RPF_H2O2_Rep3_8h_12  \n",
       "ENSG00000000003                  469                  571  \n",
       "ENSG00000000005                    0                    0  \n",
       "ENSG00000000419                  559                  762  \n",
       "ENSG00000000457                   38                   47  \n",
       "ENSG00000000460                  194                  192  \n",
       "\n",
       "[5 rows x 48 columns]"
      ]
     },
     "execution_count": 797,
     "metadata": {},
     "output_type": "execute_result"
    }
   ],
   "source": []
  },
  {
   "cell_type": "code",
   "execution_count": null,
   "metadata": {},
   "outputs": [],
   "source": []
  }
 ],
 "metadata": {
  "kernelspec": {
   "display_name": "Python 3",
   "language": "python",
   "name": "python3"
  },
  "language_info": {
   "codemirror_mode": {
    "name": "ipython",
    "version": 3
   },
   "file_extension": ".py",
   "mimetype": "text/x-python",
   "name": "python",
   "nbconvert_exporter": "python",
   "pygments_lexer": "ipython3",
   "version": "3.6.6"
  }
 },
 "nbformat": 4,
 "nbformat_minor": 2
}
