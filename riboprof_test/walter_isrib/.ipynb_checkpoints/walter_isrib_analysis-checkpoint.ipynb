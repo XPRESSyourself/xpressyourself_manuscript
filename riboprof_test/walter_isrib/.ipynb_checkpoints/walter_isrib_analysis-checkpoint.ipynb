{
 "cells": [
  {
   "cell_type": "code",
   "execution_count": 499,
   "metadata": {},
   "outputs": [],
   "source": [
    "import pandas as pd \n",
    "import xpresstools as xp\n",
    "from scipy import stats\n",
    "import numpy as np\n",
    "import matplotlib\n",
    "import matplotlib.pyplot as plt \n",
    "import matplotlib.patches as patches\n",
    "\n",
    "from rpy2.robjects.packages import importr\n",
    "from rpy2.robjects.vectors import FloatVector\n",
    "\n",
    "\n",
    "\n",
    "%matplotlib inline"
   ]
  },
  {
   "cell_type": "markdown",
   "metadata": {},
   "source": [
    "### Get data and clean up formatting"
   ]
  },
  {
   "cell_type": "code",
   "execution_count": 495,
   "metadata": {},
   "outputs": [
    {
     "data": {
      "text/plain": [
       "(10941, 16)"
      ]
     },
     "execution_count": 495,
     "metadata": {},
     "output_type": "execute_result"
    }
   ],
   "source": [
    "data = pd.read_csv('isrib_raw_counts.txt',sep='\\t', index_col=0)\n",
    "\n",
    "data.shape"
   ]
  },
  {
   "cell_type": "markdown",
   "metadata": {},
   "source": [
    "### Threshold"
   ]
  },
  {
   "cell_type": "code",
   "execution_count": 496,
   "metadata": {},
   "outputs": [
    {
     "name": "stdout",
     "output_type": "stream",
     "text": [
      "10941 genes before thresholding\n",
      "10941 genes before thresholding\n"
     ]
    }
   ],
   "source": [
    "data_t = data.loc[data.max(axis=1) > 25]\n",
    "\n",
    "print(str(data.shape[0]) + ' genes before thresholding')\n",
    "print(str(data_t.shape[0]) + ' genes before thresholding')"
   ]
  },
  {
   "cell_type": "markdown",
   "metadata": {},
   "source": [
    "### TPM Normalize"
   ]
  },
  {
   "cell_type": "code",
   "execution_count": 497,
   "metadata": {},
   "outputs": [
    {
     "data": {
      "text/html": [
       "<div>\n",
       "<style scoped>\n",
       "    .dataframe tbody tr th:only-of-type {\n",
       "        vertical-align: middle;\n",
       "    }\n",
       "\n",
       "    .dataframe tbody tr th {\n",
       "        vertical-align: top;\n",
       "    }\n",
       "\n",
       "    .dataframe thead th {\n",
       "        text-align: right;\n",
       "    }\n",
       "</style>\n",
       "<table border=\"1\" class=\"dataframe\">\n",
       "  <thead>\n",
       "    <tr style=\"text-align: right;\">\n",
       "      <th></th>\n",
       "      <th>isrib_a_hek_mrna</th>\n",
       "      <th>isrib_b_hek_mrna</th>\n",
       "      <th>tm_a_hek_mrna</th>\n",
       "      <th>tm_b_hek_mrna</th>\n",
       "      <th>tmisrib_a_hek_mrna</th>\n",
       "      <th>tmisrib_b_hek_mrna</th>\n",
       "      <th>untr_a_hek_mrna</th>\n",
       "      <th>untr_b_hek_mrna</th>\n",
       "      <th>ribo_isrib_a_ribo</th>\n",
       "      <th>ribo_isrib_b_ribo</th>\n",
       "      <th>ribo_tm_a_ribo</th>\n",
       "      <th>ribo_tm_b_ribo</th>\n",
       "      <th>ribo_tmisrib_a_ribo</th>\n",
       "      <th>ribo_tmisrib_b_ribo</th>\n",
       "      <th>ribo_untr_a_ribo</th>\n",
       "      <th>ribo_untr_b_ribo</th>\n",
       "    </tr>\n",
       "  </thead>\n",
       "  <tbody>\n",
       "    <tr>\n",
       "      <th>LOC388312</th>\n",
       "      <td>9.742608</td>\n",
       "      <td>18.786491</td>\n",
       "      <td>8.122820</td>\n",
       "      <td>8.833557</td>\n",
       "      <td>7.481222</td>\n",
       "      <td>11.797209</td>\n",
       "      <td>15.759706</td>\n",
       "      <td>13.798049</td>\n",
       "      <td>1.390087</td>\n",
       "      <td>0.348006</td>\n",
       "      <td>1.030507</td>\n",
       "      <td>0.704648</td>\n",
       "      <td>5.903748</td>\n",
       "      <td>3.622208</td>\n",
       "      <td>2.639873</td>\n",
       "      <td>0.000000</td>\n",
       "    </tr>\n",
       "    <tr>\n",
       "      <th>SAMD11</th>\n",
       "      <td>25.928557</td>\n",
       "      <td>32.097845</td>\n",
       "      <td>29.634458</td>\n",
       "      <td>24.589847</td>\n",
       "      <td>25.928541</td>\n",
       "      <td>28.482259</td>\n",
       "      <td>28.163063</td>\n",
       "      <td>30.076059</td>\n",
       "      <td>16.373065</td>\n",
       "      <td>15.728615</td>\n",
       "      <td>16.830579</td>\n",
       "      <td>13.752345</td>\n",
       "      <td>17.283179</td>\n",
       "      <td>16.032821</td>\n",
       "      <td>16.595313</td>\n",
       "      <td>17.524626</td>\n",
       "    </tr>\n",
       "    <tr>\n",
       "      <th>NOC2L</th>\n",
       "      <td>149.866311</td>\n",
       "      <td>155.806060</td>\n",
       "      <td>146.893739</td>\n",
       "      <td>148.565905</td>\n",
       "      <td>146.732157</td>\n",
       "      <td>137.700798</td>\n",
       "      <td>134.736761</td>\n",
       "      <td>149.486663</td>\n",
       "      <td>165.398731</td>\n",
       "      <td>169.735454</td>\n",
       "      <td>190.065040</td>\n",
       "      <td>179.980616</td>\n",
       "      <td>168.212348</td>\n",
       "      <td>157.847069</td>\n",
       "      <td>164.953761</td>\n",
       "      <td>172.255233</td>\n",
       "    </tr>\n",
       "    <tr>\n",
       "      <th>KLHL17</th>\n",
       "      <td>8.797207</td>\n",
       "      <td>10.184308</td>\n",
       "      <td>8.927144</td>\n",
       "      <td>6.797443</td>\n",
       "      <td>7.591076</td>\n",
       "      <td>8.087762</td>\n",
       "      <td>9.331282</td>\n",
       "      <td>7.964181</td>\n",
       "      <td>4.349506</td>\n",
       "      <td>3.798462</td>\n",
       "      <td>3.936769</td>\n",
       "      <td>4.460886</td>\n",
       "      <td>4.269083</td>\n",
       "      <td>4.600569</td>\n",
       "      <td>4.091592</td>\n",
       "      <td>3.866364</td>\n",
       "    </tr>\n",
       "    <tr>\n",
       "      <th>HES4</th>\n",
       "      <td>46.959197</td>\n",
       "      <td>53.755404</td>\n",
       "      <td>46.390760</td>\n",
       "      <td>45.794558</td>\n",
       "      <td>51.394651</td>\n",
       "      <td>55.270519</td>\n",
       "      <td>63.226923</td>\n",
       "      <td>69.279684</td>\n",
       "      <td>38.371897</td>\n",
       "      <td>37.253882</td>\n",
       "      <td>30.180595</td>\n",
       "      <td>27.041740</td>\n",
       "      <td>34.531083</td>\n",
       "      <td>40.349635</td>\n",
       "      <td>38.923758</td>\n",
       "      <td>40.032183</td>\n",
       "    </tr>\n",
       "  </tbody>\n",
       "</table>\n",
       "</div>"
      ],
      "text/plain": [
       "           isrib_a_hek_mrna  isrib_b_hek_mrna  tm_a_hek_mrna  tm_b_hek_mrna  \\\n",
       "LOC388312          9.742608         18.786491       8.122820       8.833557   \n",
       "SAMD11            25.928557         32.097845      29.634458      24.589847   \n",
       "NOC2L            149.866311        155.806060     146.893739     148.565905   \n",
       "KLHL17             8.797207         10.184308       8.927144       6.797443   \n",
       "HES4              46.959197         53.755404      46.390760      45.794558   \n",
       "\n",
       "           tmisrib_a_hek_mrna  tmisrib_b_hek_mrna  untr_a_hek_mrna  \\\n",
       "LOC388312            7.481222           11.797209        15.759706   \n",
       "SAMD11              25.928541           28.482259        28.163063   \n",
       "NOC2L              146.732157          137.700798       134.736761   \n",
       "KLHL17               7.591076            8.087762         9.331282   \n",
       "HES4                51.394651           55.270519        63.226923   \n",
       "\n",
       "           untr_b_hek_mrna  ribo_isrib_a_ribo  ribo_isrib_b_ribo  \\\n",
       "LOC388312        13.798049           1.390087           0.348006   \n",
       "SAMD11           30.076059          16.373065          15.728615   \n",
       "NOC2L           149.486663         165.398731         169.735454   \n",
       "KLHL17            7.964181           4.349506           3.798462   \n",
       "HES4             69.279684          38.371897          37.253882   \n",
       "\n",
       "           ribo_tm_a_ribo  ribo_tm_b_ribo  ribo_tmisrib_a_ribo  \\\n",
       "LOC388312        1.030507        0.704648             5.903748   \n",
       "SAMD11          16.830579       13.752345            17.283179   \n",
       "NOC2L          190.065040      179.980616           168.212348   \n",
       "KLHL17           3.936769        4.460886             4.269083   \n",
       "HES4            30.180595       27.041740            34.531083   \n",
       "\n",
       "           ribo_tmisrib_b_ribo  ribo_untr_a_ribo  ribo_untr_b_ribo  \n",
       "LOC388312             3.622208          2.639873          0.000000  \n",
       "SAMD11               16.032821         16.595313         17.524626  \n",
       "NOC2L               157.847069        164.953761        172.255233  \n",
       "KLHL17                4.600569          4.091592          3.866364  \n",
       "HES4                 40.349635         38.923758         40.032183  "
      ]
     },
     "execution_count": 497,
     "metadata": {},
     "output_type": "execute_result"
    }
   ],
   "source": [
    "#Create length dictionary\n",
    "len_dict = pd.read_csv('length_dict.txt',sep='\\t', header=None, index_col=0)\n",
    "del len_dict.index.name\n",
    "len_dict.columns = ['length']\n",
    "len_dict.length = len_dict.length / 1e3\n",
    "\n",
    "#Perform RPK calculations\n",
    "data_c = data_t.copy()\n",
    "data_rpk = data_c.div(len_dict.length, axis=0)\n",
    "data_rpk = data_rpk.dropna(axis=0)\n",
    "\n",
    "#Perform per-million calculations\n",
    "data_tpm = xp.rpm(data_rpk)\n",
    "\n",
    "data_tpm.head()"
   ]
  },
  {
   "cell_type": "markdown",
   "metadata": {},
   "source": [
    "### Check replicate and RPF to RNA correlations (Fig 1E)"
   ]
  },
  {
   "cell_type": "code",
   "execution_count": 500,
   "metadata": {},
   "outputs": [
    {
     "data": {
      "image/png": "[encoded data removed]",
      "text/plain": [
       "<Figure size 288x288 with 1 Axes>"
      ]
     },
     "metadata": {
      "needs_background": "light"
     },
     "output_type": "display_data"
    }
   ],
   "source": [
    "data_c = data_tpm.copy()\n",
    "\n",
    "gene_a = data_c[['isrib_a_hek_mrna']].sum(axis=1).values.tolist()\n",
    "gene_a = [x + 1 for x in gene_a]\n",
    "gene_a = np.array(gene_a).astype(np.float)\n",
    "gene_a = np.ndarray.tolist(gene_a)\n",
    "\n",
    "gene_b = data_c[['ribo_isrib_a_ribo']].sum(axis=1).values.tolist()\n",
    "gene_b = [x + 1 for x in gene_b]\n",
    "gene_b = np.array(gene_b).astype(np.float)\n",
    "gene_b = np.ndarray.tolist(gene_b)\n",
    "\n",
    "gene_a = np.log2(gene_a)\n",
    "gene_b = np.log2(gene_b)\n",
    "\n",
    "slope, intercept, r_value, p_value, std_err = stats.linregress(gene_a, gene_b)\n",
    "x = np.linspace(np.amin(gene_a), np.amax(gene_b), 100)\n",
    "y = (slope * x) + intercept\n",
    "\n",
    "fig, ax = plt.subplots(1,1, figsize=(4,4))\n",
    "\n",
    "ax.scatter(gene_a, gene_b, s=1,c='black')\n",
    "ax.set_title('R = ' + str(r_value) + '\\np-value ' + str(p_value))\n",
    "ax.plot(x, y, '-r')\n",
    "\n",
    "plt.show()"
   ]
  },
  {
   "cell_type": "markdown",
   "metadata": {},
   "source": [
    "### Perform Translation Efficiency Normalizations"
   ]
  },
  {
   "cell_type": "code",
   "execution_count": 504,
   "metadata": {},
   "outputs": [
    {
     "data": {
      "text/html": [
       "<div>\n",
       "<style scoped>\n",
       "    .dataframe tbody tr th:only-of-type {\n",
       "        vertical-align: middle;\n",
       "    }\n",
       "\n",
       "    .dataframe tbody tr th {\n",
       "        vertical-align: top;\n",
       "    }\n",
       "\n",
       "    .dataframe thead th {\n",
       "        text-align: right;\n",
       "    }\n",
       "</style>\n",
       "<table border=\"1\" class=\"dataframe\">\n",
       "  <thead>\n",
       "    <tr style=\"text-align: right;\">\n",
       "      <th></th>\n",
       "      <th>untr_a</th>\n",
       "      <th>untr_b</th>\n",
       "      <th>tm_a</th>\n",
       "      <th>tm_b</th>\n",
       "      <th>isrib_a</th>\n",
       "      <th>isrib_b</th>\n",
       "      <th>tmisrib_a</th>\n",
       "      <th>tmisrib_b</th>\n",
       "    </tr>\n",
       "  </thead>\n",
       "  <tbody>\n",
       "    <tr>\n",
       "      <th>LOC388312</th>\n",
       "      <td>0.167508</td>\n",
       "      <td>0.000000</td>\n",
       "      <td>0.126866</td>\n",
       "      <td>0.079769</td>\n",
       "      <td>0.142681</td>\n",
       "      <td>0.018524</td>\n",
       "      <td>0.789142</td>\n",
       "      <td>0.307039</td>\n",
       "    </tr>\n",
       "    <tr>\n",
       "      <th>SAMD11</th>\n",
       "      <td>0.589258</td>\n",
       "      <td>0.582677</td>\n",
       "      <td>0.567939</td>\n",
       "      <td>0.559269</td>\n",
       "      <td>0.631468</td>\n",
       "      <td>0.490021</td>\n",
       "      <td>0.666570</td>\n",
       "      <td>0.562906</td>\n",
       "    </tr>\n",
       "    <tr>\n",
       "      <th>NOC2L</th>\n",
       "      <td>1.224267</td>\n",
       "      <td>1.152312</td>\n",
       "      <td>1.293895</td>\n",
       "      <td>1.211453</td>\n",
       "      <td>1.103642</td>\n",
       "      <td>1.089402</td>\n",
       "      <td>1.146390</td>\n",
       "      <td>1.146305</td>\n",
       "    </tr>\n",
       "    <tr>\n",
       "      <th>KLHL17</th>\n",
       "      <td>0.438481</td>\n",
       "      <td>0.485469</td>\n",
       "      <td>0.440989</td>\n",
       "      <td>0.656259</td>\n",
       "      <td>0.494419</td>\n",
       "      <td>0.372972</td>\n",
       "      <td>0.562382</td>\n",
       "      <td>0.568831</td>\n",
       "    </tr>\n",
       "    <tr>\n",
       "      <th>HES4</th>\n",
       "      <td>0.615620</td>\n",
       "      <td>0.577834</td>\n",
       "      <td>0.650573</td>\n",
       "      <td>0.590501</td>\n",
       "      <td>0.817133</td>\n",
       "      <td>0.693026</td>\n",
       "      <td>0.671881</td>\n",
       "      <td>0.730039</td>\n",
       "    </tr>\n",
       "  </tbody>\n",
       "</table>\n",
       "</div>"
      ],
      "text/plain": [
       "             untr_a    untr_b      tm_a      tm_b   isrib_a   isrib_b  \\\n",
       "LOC388312  0.167508  0.000000  0.126866  0.079769  0.142681  0.018524   \n",
       "SAMD11     0.589258  0.582677  0.567939  0.559269  0.631468  0.490021   \n",
       "NOC2L      1.224267  1.152312  1.293895  1.211453  1.103642  1.089402   \n",
       "KLHL17     0.438481  0.485469  0.440989  0.656259  0.494419  0.372972   \n",
       "HES4       0.615620  0.577834  0.650573  0.590501  0.817133  0.693026   \n",
       "\n",
       "           tmisrib_a  tmisrib_b  \n",
       "LOC388312   0.789142   0.307039  \n",
       "SAMD11      0.666570   0.562906  \n",
       "NOC2L       1.146390   1.146305  \n",
       "KLHL17      0.562382   0.568831  \n",
       "HES4        0.671881   0.730039  "
      ]
     },
     "execution_count": 504,
     "metadata": {},
     "output_type": "execute_result"
    }
   ],
   "source": [
    "data_te = data_tpm.copy()\n",
    "\n",
    "data_te['isrib_a'] = data_te['ribo_isrib_a_ribo'] / data_te['isrib_a_hek_mrna']\n",
    "data_te['isrib_b'] = data_te['ribo_isrib_b_ribo'] / data_te['isrib_b_hek_mrna']\n",
    "data_te['tm_a'] = data_te['ribo_tm_a_ribo'] / data_te['tm_a_hek_mrna']\n",
    "data_te['tm_b'] = data_te['ribo_tm_b_ribo'] / data_te['tm_b_hek_mrna']\n",
    "data_te['tmisrib_a'] = data_te['ribo_tmisrib_a_ribo'] / data_te['tmisrib_a_hek_mrna']\n",
    "data_te['tmisrib_b'] = data_te['ribo_tmisrib_b_ribo'] / data_te['tmisrib_b_hek_mrna']\n",
    "data_te['untr_a'] = data_te['ribo_untr_a_ribo'] / data_te['untr_a_hek_mrna']\n",
    "data_te['untr_b'] = data_te['ribo_untr_b_ribo'] / data_te['untr_b_hek_mrna']\n",
    "\n",
    "data_te = data_te[['untr_a','untr_b','tm_a','tm_b','isrib_a','isrib_b','tmisrib_a','tmisrib_b']]\n",
    "\n",
    "data_te.head()"
   ]
  },
  {
   "cell_type": "code",
   "execution_count": 505,
   "metadata": {},
   "outputs": [
    {
     "data": {
      "text/html": [
       "<div>\n",
       "<style scoped>\n",
       "    .dataframe tbody tr th:only-of-type {\n",
       "        vertical-align: middle;\n",
       "    }\n",
       "\n",
       "    .dataframe tbody tr th {\n",
       "        vertical-align: top;\n",
       "    }\n",
       "\n",
       "    .dataframe thead th {\n",
       "        text-align: right;\n",
       "    }\n",
       "</style>\n",
       "<table border=\"1\" class=\"dataframe\">\n",
       "  <thead>\n",
       "    <tr style=\"text-align: right;\">\n",
       "      <th></th>\n",
       "      <th>untr_a</th>\n",
       "      <th>untr_b</th>\n",
       "      <th>tm_a</th>\n",
       "      <th>tm_b</th>\n",
       "      <th>isrib_a</th>\n",
       "      <th>isrib_b</th>\n",
       "      <th>tmisrib_a</th>\n",
       "      <th>tmisrib_b</th>\n",
       "    </tr>\n",
       "  </thead>\n",
       "  <tbody>\n",
       "    <tr>\n",
       "      <th>SAMD11</th>\n",
       "      <td>-0.763028</td>\n",
       "      <td>-0.779232</td>\n",
       "      <td>-0.816191</td>\n",
       "      <td>-0.838385</td>\n",
       "      <td>-0.663217</td>\n",
       "      <td>-1.029085</td>\n",
       "      <td>-0.585172</td>\n",
       "      <td>-0.829035</td>\n",
       "    </tr>\n",
       "    <tr>\n",
       "      <th>NOC2L</th>\n",
       "      <td>0.291918</td>\n",
       "      <td>0.204531</td>\n",
       "      <td>0.371720</td>\n",
       "      <td>0.276738</td>\n",
       "      <td>0.142272</td>\n",
       "      <td>0.123537</td>\n",
       "      <td>0.197099</td>\n",
       "      <td>0.196991</td>\n",
       "    </tr>\n",
       "    <tr>\n",
       "      <th>KLHL17</th>\n",
       "      <td>-1.189413</td>\n",
       "      <td>-1.042548</td>\n",
       "      <td>-1.181187</td>\n",
       "      <td>-0.607662</td>\n",
       "      <td>-1.016194</td>\n",
       "      <td>-1.422861</td>\n",
       "      <td>-0.830378</td>\n",
       "      <td>-0.813928</td>\n",
       "    </tr>\n",
       "    <tr>\n",
       "      <th>HES4</th>\n",
       "      <td>-0.699888</td>\n",
       "      <td>-0.791272</td>\n",
       "      <td>-0.620216</td>\n",
       "      <td>-0.759988</td>\n",
       "      <td>-0.291358</td>\n",
       "      <td>-0.529019</td>\n",
       "      <td>-0.573723</td>\n",
       "      <td>-0.453955</td>\n",
       "    </tr>\n",
       "    <tr>\n",
       "      <th>AGRN</th>\n",
       "      <td>0.362573</td>\n",
       "      <td>0.918413</td>\n",
       "      <td>1.275283</td>\n",
       "      <td>0.777286</td>\n",
       "      <td>0.951994</td>\n",
       "      <td>0.485732</td>\n",
       "      <td>1.703246</td>\n",
       "      <td>1.177124</td>\n",
       "    </tr>\n",
       "  </tbody>\n",
       "</table>\n",
       "</div>"
      ],
      "text/plain": [
       "          untr_a    untr_b      tm_a      tm_b   isrib_a   isrib_b  tmisrib_a  \\\n",
       "SAMD11 -0.763028 -0.779232 -0.816191 -0.838385 -0.663217 -1.029085  -0.585172   \n",
       "NOC2L   0.291918  0.204531  0.371720  0.276738  0.142272  0.123537   0.197099   \n",
       "KLHL17 -1.189413 -1.042548 -1.181187 -0.607662 -1.016194 -1.422861  -0.830378   \n",
       "HES4   -0.699888 -0.791272 -0.620216 -0.759988 -0.291358 -0.529019  -0.573723   \n",
       "AGRN    0.362573  0.918413  1.275283  0.777286  0.951994  0.485732   1.703246   \n",
       "\n",
       "        tmisrib_b  \n",
       "SAMD11  -0.829035  \n",
       "NOC2L    0.196991  \n",
       "KLHL17  -0.813928  \n",
       "HES4    -0.453955  \n",
       "AGRN     1.177124  "
      ]
     },
     "execution_count": 505,
     "metadata": {},
     "output_type": "execute_result"
    }
   ],
   "source": [
    "#Remove samples with 0 log-fold change and log2 transform\n",
    "data_logte = data_te.copy()\n",
    "\n",
    "data_logte = data_logte[(data_logte != 0).all(1)]\n",
    "\n",
    "data_logte = np.log2(data_logte)\n",
    "\n",
    "data_logte.head()"
   ]
  },
  {
   "cell_type": "code",
   "execution_count": 506,
   "metadata": {},
   "outputs": [
    {
     "data": {
      "image/png": "[encoded data removed]",
      "text/plain": [
       "<Figure size 576x192 with 1 Axes>"
      ]
     },
     "metadata": {
      "needs_background": "light"
     },
     "output_type": "display_data"
    }
   ],
   "source": [
    "xp.check_samples(data_logte)"
   ]
  },
  {
   "cell_type": "markdown",
   "metadata": {},
   "source": [
    "### Reproduce Figure 1 from DOI: 10.7554/eLife.05033 (original paper)"
   ]
  },
  {
   "cell_type": "markdown",
   "metadata": {},
   "source": [
    "##### Tm treatment vs Untreated"
   ]
  },
  {
   "cell_type": "code",
   "execution_count": 507,
   "metadata": {},
   "outputs": [
    {
     "data": {
      "text/html": [
       "<div>\n",
       "<style scoped>\n",
       "    .dataframe tbody tr th:only-of-type {\n",
       "        vertical-align: middle;\n",
       "    }\n",
       "\n",
       "    .dataframe tbody tr th {\n",
       "        vertical-align: top;\n",
       "    }\n",
       "\n",
       "    .dataframe thead th {\n",
       "        text-align: right;\n",
       "    }\n",
       "</style>\n",
       "<table border=\"1\" class=\"dataframe\">\n",
       "  <thead>\n",
       "    <tr style=\"text-align: right;\">\n",
       "      <th></th>\n",
       "      <th>ribo_fc</th>\n",
       "      <th>rna_fc</th>\n",
       "    </tr>\n",
       "  </thead>\n",
       "  <tbody>\n",
       "    <tr>\n",
       "      <th>LOC388312</th>\n",
       "      <td>0.657287</td>\n",
       "      <td>0.573669</td>\n",
       "    </tr>\n",
       "    <tr>\n",
       "      <th>SAMD11</th>\n",
       "      <td>0.896336</td>\n",
       "      <td>0.931063</td>\n",
       "    </tr>\n",
       "    <tr>\n",
       "      <th>NOC2L</th>\n",
       "      <td>1.097378</td>\n",
       "      <td>1.039533</td>\n",
       "    </tr>\n",
       "    <tr>\n",
       "      <th>KLHL17</th>\n",
       "      <td>1.055253</td>\n",
       "      <td>0.909174</td>\n",
       "    </tr>\n",
       "    <tr>\n",
       "      <th>HES4</th>\n",
       "      <td>0.724738</td>\n",
       "      <td>0.695704</td>\n",
       "    </tr>\n",
       "  </tbody>\n",
       "</table>\n",
       "</div>"
      ],
      "text/plain": [
       "            ribo_fc    rna_fc\n",
       "LOC388312  0.657287  0.573669\n",
       "SAMD11     0.896336  0.931063\n",
       "NOC2L      1.097378  1.039533\n",
       "KLHL17     1.055253  0.909174\n",
       "HES4       0.724738  0.695704"
      ]
     },
     "execution_count": 507,
     "metadata": {},
     "output_type": "execute_result"
    }
   ],
   "source": [
    "data_fig1a = data_tpm.copy()\n",
    "data_fig1a = data_fig1a[['ribo_tm_a_ribo','ribo_tm_b_ribo','tm_a_hek_mrna','tm_b_hek_mrna',\n",
    "                         'ribo_untr_a_ribo','ribo_untr_b_ribo','untr_a_hek_mrna','untr_b_hek_mrna']]\n",
    "\n",
    "data_fig1a['ribo_tm'] = data_fig1a['ribo_tm_a_ribo'] + data_fig1a['ribo_tm_b_ribo']\n",
    "data_fig1a['rna_tm'] = data_fig1a['tm_a_hek_mrna'] + data_fig1a['tm_b_hek_mrna']\n",
    "data_fig1a['ribo_untr'] = data_fig1a['ribo_untr_a_ribo'] + data_fig1a['ribo_untr_b_ribo']\n",
    "data_fig1a['rna_untr'] = data_fig1a['untr_a_hek_mrna'] + data_fig1a['untr_b_hek_mrna']\n",
    "\n",
    "data_fig1a['ribo_fc'] = data_fig1a['ribo_tm'] / data_fig1a['ribo_untr']\n",
    "data_fig1a['rna_fc'] = data_fig1a['rna_tm'] / data_fig1a['rna_untr']\n",
    "\n",
    "data_fig1a_plot = data_fig1a[['ribo_fc','rna_fc']]\n",
    "\n",
    "data_fig1a_plot = data_fig1a_plot[(data_fig1a_plot != 0).all(1)]\n",
    "data_fig1a_plot = data_fig1a_plot.replace([np.inf, -np.inf], np.nan).dropna()\n",
    "\n",
    "#Remove duplicate indices\n",
    "data_fig1a_plot = data_fig1a_plot[~data_fig1a_plot.index.duplicated(keep='first')]\n",
    "\n",
    "data_fig1a_plot.head()"
   ]
  },
  {
   "cell_type": "code",
   "execution_count": 508,
   "metadata": {},
   "outputs": [],
   "source": [
    "data_fig1a = data_fig1a[(data_fig1a != 0).all(1)]\n",
    "data_fig1a = data_fig1a.replace([np.inf, -np.inf], np.nan).dropna()\n",
    "\n",
    "data_signif = xp.calculate_p(data_fig1a, 'ribo_tm_', 'ribo_untr_')\n",
    "data_signif['p_value'] = 10 ** -data_signif['-log$_1$$_0$(P-Value)']\n",
    "\n",
    "#Use R's padjust BH\n",
    "stats = importr('stats')\n",
    "p_adjust = stats.p_adjust(FloatVector(data_signif['p_value'].values.tolist()), method = 'BH')\n",
    "data_signif['fdr'] = np.asarray(p_adjust).tolist()"
   ]
  },
  {
   "cell_type": "code",
   "execution_count": 509,
   "metadata": {},
   "outputs": [
    {
     "name": "stdout",
     "output_type": "stream",
     "text": [
      "(1386, 2)\n",
      "(7, 2)\n",
      "(4, 2)\n"
     ]
    }
   ],
   "source": [
    "sig_list = data_signif.loc[data_signif['p_value'] < 0.05].index.tolist()\n",
    "data_fig1a_threshold = data_fig1a_plot.reindex(labels=sig_list, axis=0)\n",
    "print(data_fig1a_threshold.shape)\n",
    "\n",
    "data_fig1a_orf = data_fig1a_plot.loc[['SLC35A4','PTP4A1','UCP2','PNRC2','C7orf31','BCL2L11','SAT1']]\n",
    "print(data_fig1a_orf.shape)\n",
    "\n",
    "data_fig1a_isr = data_fig1a_plot.loc[['ATF5','ATF4','DDIT3','PPP1R15A']]\n",
    "print(data_fig1a_isr.shape)"
   ]
  },
  {
   "cell_type": "code",
   "execution_count": 510,
   "metadata": {},
   "outputs": [
    {
     "data": {
      "text/plain": [
       "<function matplotlib.pyplot.show(*args, **kw)>"
      ]
     },
     "execution_count": 510,
     "metadata": {},
     "output_type": "execute_result"
    },
    {
     "data": {
      "text/plain": [
       "<Figure size 432x288 with 0 Axes>"
      ]
     },
     "metadata": {},
     "output_type": "display_data"
    },
    {
     "data": {
      "image/png": "[encoded data removed]",
      "text/plain": [
       "<Figure size 504x504 with 1 Axes>"
      ]
     },
     "metadata": {
      "needs_background": "light"
     },
     "output_type": "display_data"
    }
   ],
   "source": [
    "plt.close()\n",
    "plt.clf()\n",
    "\n",
    "#Prepare plot\n",
    "fig, ax = plt.subplots(1,1, figsize=(7,7))\n",
    "plt.grid(False)\n",
    "\n",
    "for index, row in data_fig1a_orf.iterrows():\n",
    "    if index == 'BCL2L11' or index == 'PNRC2':\n",
    "        ax.text(row[1], row[0] - 0.3, str(index), horizontalalignment='right', size='medium', color='green', weight='semibold')\n",
    "    else:\n",
    "        ax.text(row[1] - 0.05, row[0] - 0.1, str(index), horizontalalignment='right', size='medium', color='green', weight='semibold')\n",
    "for index, row in data_fig1a_isr.iterrows():\n",
    "    ax.text(row[1] + 0.1, row[0] , str(index), horizontalalignment='left', size='medium', color='#be00be', weight='semibold')\n",
    "    \n",
    "    \n",
    "ax.axhline(1, ls='-', color='black')\n",
    "ax.axvline(1, ls='-', color='black')\n",
    "\n",
    "rect = patches.Rectangle((.5,.5),1.5,1.5,linewidth=1.5,edgecolor='gray',facecolor='none')\n",
    "ax.add_patch(rect)\n",
    "\n",
    "ax.set_ylabel(\"Ribo-Seq (Tm/UT)\", fontsize=16)\n",
    "ax.set_xlabel(\"mRNA-Seq (Tm/UT)\", fontsize=16)\n",
    "ax.set_xlim(.125,8.5)\n",
    "ax.set_ylim(.125,8.5)\n",
    "ax.set_facecolor(\"#FFFFFF\")\n",
    "\n",
    "x = [.125,.250,.500,1,2,4,8]\n",
    "ticks = [\"1/8\",\"1/4\",\"1/2\",\"1\",\"2\",\"4\",\"8\"]\n",
    "\n",
    "ax.set_xscale('log', basex=2)\n",
    "ax.set_xticks(x)\n",
    "ax.set_xticklabels(ticks, fontsize=12)\n",
    "ax.set_xticklabels([\"\"]*len(xm), minor=True)\n",
    "\n",
    "ax.set_yscale('log', basey=2)\n",
    "ax.set_yticks(x)\n",
    "ax.set_yticklabels(ticks, fontsize=12)\n",
    "ax.set_yticklabels([\"\"]*len(xm), minor=True)\n",
    "\n",
    "#Prep data\n",
    "#All\n",
    "ribo_all = data_fig1a[['ribo_fc']].sum(axis=1).values.tolist()\n",
    "ribo_all = np.array(ribo_all).astype(np.float)\n",
    "ribo_all = np.ndarray.tolist(ribo_all)\n",
    "\n",
    "rna_all = data_fig1a[['rna_fc']].sum(axis=1).values.tolist()\n",
    "rna_all = np.array(rna_all).astype(np.float)\n",
    "rna_all = np.ndarray.tolist(rna_all)\n",
    "\n",
    "#ORFs\n",
    "ribo_orf = data_fig1a_orf[['ribo_fc']].sum(axis=1).values.tolist()\n",
    "ribo_orf = np.array(ribo_orf).astype(np.float)\n",
    "ribo_orf = np.ndarray.tolist(ribo_orf)\n",
    "\n",
    "rna_orf = data_fig1a_orf[['rna_fc']].sum(axis=1).values.tolist()\n",
    "rna_orf = np.array(rna_orf).astype(np.float)\n",
    "rna_orf = np.ndarray.tolist(rna_orf)\n",
    "\n",
    "#ISR\n",
    "ribo_isr = data_fig1a_isr[['ribo_fc']].sum(axis=1).values.tolist()\n",
    "ribo_isr = np.array(ribo_isr).astype(np.float)\n",
    "ribo_isr = np.ndarray.tolist(ribo_isr)\n",
    "\n",
    "rna_isr = data_fig1a_isr[['rna_fc']].sum(axis=1).values.tolist()\n",
    "rna_isr = np.array(rna_isr).astype(np.float)\n",
    "rna_isr = np.ndarray.tolist(rna_isr)\n",
    "\n",
    "#Plot data\n",
    "ax.scatter(rna_all, ribo_all, s=.5,c='gray')\n",
    "#ax.scatter(rna_thres, ribo_thres, s=5,c='black',alpha=0.7)\n",
    "ax.scatter(rna_orf, ribo_orf, s=25,c='green')\n",
    "ax.scatter(rna_isr, ribo_isr, s=25,c='#be00be')\n",
    "\n",
    "plt.savefig('./plots/tm_1a.pdf', dpi=1800, bbox_inches='tight')\n",
    "\n",
    "plt.show"
   ]
  },
  {
   "cell_type": "markdown",
   "metadata": {},
   "source": [
    "##### Tm + ISRIB treament vs untreated"
   ]
  },
  {
   "cell_type": "code",
   "execution_count": 511,
   "metadata": {},
   "outputs": [
    {
     "data": {
      "text/html": [
       "<div>\n",
       "<style scoped>\n",
       "    .dataframe tbody tr th:only-of-type {\n",
       "        vertical-align: middle;\n",
       "    }\n",
       "\n",
       "    .dataframe tbody tr th {\n",
       "        vertical-align: top;\n",
       "    }\n",
       "\n",
       "    .dataframe thead th {\n",
       "        text-align: right;\n",
       "    }\n",
       "</style>\n",
       "<table border=\"1\" class=\"dataframe\">\n",
       "  <thead>\n",
       "    <tr style=\"text-align: right;\">\n",
       "      <th></th>\n",
       "      <th>ribo_fc</th>\n",
       "      <th>rna_fc</th>\n",
       "    </tr>\n",
       "  </thead>\n",
       "  <tbody>\n",
       "    <tr>\n",
       "      <th>LOC388312</th>\n",
       "      <td>3.608490</td>\n",
       "      <td>0.652229</td>\n",
       "    </tr>\n",
       "    <tr>\n",
       "      <th>SAMD11</th>\n",
       "      <td>0.976438</td>\n",
       "      <td>0.934265</td>\n",
       "    </tr>\n",
       "    <tr>\n",
       "      <th>NOC2L</th>\n",
       "      <td>0.966936</td>\n",
       "      <td>1.000737</td>\n",
       "    </tr>\n",
       "    <tr>\n",
       "      <th>KLHL17</th>\n",
       "      <td>1.114564</td>\n",
       "      <td>0.906529</td>\n",
       "    </tr>\n",
       "    <tr>\n",
       "      <th>HES4</th>\n",
       "      <td>0.948386</td>\n",
       "      <td>0.804980</td>\n",
       "    </tr>\n",
       "  </tbody>\n",
       "</table>\n",
       "</div>"
      ],
      "text/plain": [
       "            ribo_fc    rna_fc\n",
       "LOC388312  3.608490  0.652229\n",
       "SAMD11     0.976438  0.934265\n",
       "NOC2L      0.966936  1.000737\n",
       "KLHL17     1.114564  0.906529\n",
       "HES4       0.948386  0.804980"
      ]
     },
     "execution_count": 511,
     "metadata": {},
     "output_type": "execute_result"
    }
   ],
   "source": [
    "data_fig1b = data_tpm.copy()\n",
    "data_fig1b = data_fig1b[['ribo_tmisrib_a_ribo','ribo_tmisrib_b_ribo','tmisrib_a_hek_mrna','tmisrib_b_hek_mrna',\n",
    "                         'ribo_untr_a_ribo','ribo_untr_b_ribo','untr_a_hek_mrna','untr_b_hek_mrna']]\n",
    "\n",
    "data_fig1b['ribo_tmisrib'] = data_fig1b['ribo_tmisrib_a_ribo'] + data_fig1b['ribo_tmisrib_b_ribo']\n",
    "data_fig1b['rna_tmisrib'] = data_fig1b['tmisrib_a_hek_mrna'] + data_fig1b['tmisrib_b_hek_mrna']\n",
    "data_fig1b['ribo_untr'] = data_fig1b['ribo_untr_a_ribo'] + data_fig1b['ribo_untr_b_ribo']\n",
    "data_fig1b['rna_untr'] = data_fig1b['untr_a_hek_mrna'] + data_fig1b['untr_b_hek_mrna']\n",
    "\n",
    "data_fig1b['ribo_fc'] = data_fig1b['ribo_tmisrib'] / data_fig1b['ribo_untr']\n",
    "data_fig1b['rna_fc'] = data_fig1b['rna_tmisrib'] / data_fig1b['rna_untr']\n",
    "\n",
    "data_fig1b_plot = data_fig1b[['ribo_fc','rna_fc']]\n",
    "\n",
    "data_fig1b_plot = data_fig1b_plot[(data_fig1b_plot != 0).all(1)]\n",
    "data_fig1b_plot = data_fig1b_plot.replace([np.inf, -np.inf], np.nan).dropna()\n",
    "\n",
    "#Remove duplicate indices\n",
    "data_fig1b_plot = data_fig1b_plot[~data_fig1b_plot.index.duplicated(keep='first')]\n",
    "\n",
    "data_fig1b_plot.head()"
   ]
  },
  {
   "cell_type": "code",
   "execution_count": 512,
   "metadata": {},
   "outputs": [],
   "source": [
    "data_fig1b = data_fig1b[(data_fig1b != 0).all(1)]\n",
    "data_fig1b = data_fig1b.replace([np.inf, -np.inf], np.nan).dropna()\n",
    "\n",
    "data_signif_1b = xp.calculate_p(data_fig1b, 'ribo_tmisrib_', 'ribo_untr_')\n",
    "data_signif_1b['p_value'] = 10 ** -data_signif_1b['-log$_1$$_0$(P-Value)']\n",
    "\n",
    "#Use R's padjust BH\n",
    "stats = importr('stats')\n",
    "p_adjust_1b = stats.p_adjust(FloatVector(data_signif_1b['p_value'].values.tolist()), method = 'BH')\n",
    "data_signif_1b['fdr'] = np.asarray(p_adjust_1b).tolist()"
   ]
  },
  {
   "cell_type": "code",
   "execution_count": 513,
   "metadata": {},
   "outputs": [
    {
     "name": "stdout",
     "output_type": "stream",
     "text": [
      "(782, 2)\n",
      "(7, 2)\n",
      "(4, 2)\n"
     ]
    }
   ],
   "source": [
    "sig_list = data_signif_1b.loc[data_signif_1b['p_value'] < 0.05].index.tolist()\n",
    "data_fig1b_threshold = data_fig1b_plot.reindex(labels=sig_list, axis=0)\n",
    "print(data_fig1b_threshold.shape)\n",
    "\n",
    "data_fig1b_orf = data_fig1b_plot.loc[['SLC35A4','PTP4A1','UCP2','PNRC2','C7orf31','BCL2L11','SAT1']]\n",
    "print(data_fig1b_orf.shape)\n",
    "\n",
    "data_fig1b_isr = data_fig1b_plot.loc[['ATF5','ATF4','DDIT3','PPP1R15A']]\n",
    "print(data_fig1b_isr.shape)"
   ]
  },
  {
   "cell_type": "code",
   "execution_count": 514,
   "metadata": {},
   "outputs": [
    {
     "data": {
      "text/plain": [
       "<function matplotlib.pyplot.show(*args, **kw)>"
      ]
     },
     "execution_count": 514,
     "metadata": {},
     "output_type": "execute_result"
    },
    {
     "data": {
      "text/plain": [
       "<Figure size 432x288 with 0 Axes>"
      ]
     },
     "metadata": {},
     "output_type": "display_data"
    },
    {
     "data": {
      "image/png": "[encoded data removed]",
      "text/plain": [
       "<Figure size 504x504 with 1 Axes>"
      ]
     },
     "metadata": {
      "needs_background": "light"
     },
     "output_type": "display_data"
    }
   ],
   "source": [
    "plt.close()\n",
    "plt.clf()\n",
    "\n",
    "#Prepare plot\n",
    "fig, ax = plt.subplots(1,1, figsize=(7,7))\n",
    "plt.grid(False)\n",
    "\n",
    "for index, row in data_fig1b_orf.iterrows():\n",
    "    ax.text(row[1] - 0.1, row[0] - 0.05, str(index), horizontalalignment='right', size='medium', color='green', weight='semibold')\n",
    "for index, row in data_fig1b_isr.iterrows():\n",
    "    if index == 'DDIT3':\n",
    "        ax.text(row[1], row[0], str(index), horizontalalignment='right', size='medium', color='#be00be', weight='semibold')\n",
    "    else:\n",
    "        ax.text(row[1] + 0.1, row[0] , str(index), horizontalalignment='left', size='medium', color='#be00be', weight='semibold')\n",
    "    \n",
    "ax.axhline(1, ls='-', color='black')\n",
    "ax.axvline(1, ls='-', color='black')\n",
    "\n",
    "rect = patches.Rectangle((.5,.5),1.5,1.5,linewidth=1.5,edgecolor='gray',facecolor='none')\n",
    "ax.add_patch(rect)\n",
    "\n",
    "ax.set_ylabel(\"Ribo-Seq (Tm + ISRIB/UT)\", fontsize=16)\n",
    "ax.set_xlabel(\"mRNA-Seq (Tm + ISRIB/UT)\", fontsize=16)\n",
    "ax.set_xlim(.125,8.5)\n",
    "ax.set_ylim(.125,8.5)\n",
    "ax.set_facecolor(\"#FFFFFF\")\n",
    "\n",
    "x = [.125,.250,.500,1,2,4,8]\n",
    "ticks = [\"1/8\",\"1/4\",\"1/2\",\"1\",\"2\",\"4\",\"8\"]\n",
    "\n",
    "ax.set_xscale('log', basex=2)\n",
    "ax.set_xticks(x)\n",
    "ax.set_xticklabels(ticks, fontsize=12)\n",
    "ax.set_xticklabels([\"\"]*len(xm), minor=True)\n",
    "\n",
    "ax.set_yscale('log', basey=2)\n",
    "ax.set_yticks(x)\n",
    "ax.set_yticklabels(ticks, fontsize=12)\n",
    "ax.set_yticklabels([\"\"]*len(xm), minor=True)\n",
    "\n",
    "#Prep data\n",
    "#All\n",
    "ribo_all = data_fig1b[['ribo_fc']].sum(axis=1).values.tolist()\n",
    "ribo_all = np.array(ribo_all).astype(np.float)\n",
    "ribo_all = np.ndarray.tolist(ribo_all)\n",
    "\n",
    "rna_all = data_fig1b[['rna_fc']].sum(axis=1).values.tolist()\n",
    "rna_all = np.array(rna_all).astype(np.float)\n",
    "rna_all = np.ndarray.tolist(rna_all)\n",
    "\n",
    "#ORFs\n",
    "ribo_orf = data_fig1b_orf[['ribo_fc']].sum(axis=1).values.tolist()\n",
    "ribo_orf = np.array(ribo_orf).astype(np.float)\n",
    "ribo_orf = np.ndarray.tolist(ribo_orf)\n",
    "\n",
    "rna_orf = data_fig1b_orf[['rna_fc']].sum(axis=1).values.tolist()\n",
    "rna_orf = np.array(rna_orf).astype(np.float)\n",
    "rna_orf = np.ndarray.tolist(rna_orf)\n",
    "\n",
    "#ISR\n",
    "ribo_isr = data_fig1b_isr[['ribo_fc']].sum(axis=1).values.tolist()\n",
    "ribo_isr = np.array(ribo_isr).astype(np.float)\n",
    "ribo_isr = np.ndarray.tolist(ribo_isr)\n",
    "\n",
    "rna_isr = data_fig1b_isr[['rna_fc']].sum(axis=1).values.tolist()\n",
    "rna_isr = np.array(rna_isr).astype(np.float)\n",
    "rna_isr = np.ndarray.tolist(rna_isr)\n",
    "\n",
    "#Plot data\n",
    "ax.scatter(rna_all, ribo_all, s=.5,c='gray')\n",
    "#ax.scatter(rna_thres, ribo_thres, s=5,c='black',alpha=0.7)\n",
    "ax.scatter(rna_orf, ribo_orf, s=25,c='green')\n",
    "ax.scatter(rna_isr, ribo_isr, s=25,c='#be00be')\n",
    "\n",
    "plt.savefig('./plots/tmisrib_1b.pdf', dpi=1800, bbox_inches='tight')\n",
    "\n",
    "plt.show"
   ]
  },
  {
   "cell_type": "markdown",
   "metadata": {},
   "source": [
    "##### ISRIB treament vs untreated"
   ]
  },
  {
   "cell_type": "code",
   "execution_count": 515,
   "metadata": {},
   "outputs": [
    {
     "data": {
      "text/html": [
       "<div>\n",
       "<style scoped>\n",
       "    .dataframe tbody tr th:only-of-type {\n",
       "        vertical-align: middle;\n",
       "    }\n",
       "\n",
       "    .dataframe tbody tr th {\n",
       "        vertical-align: top;\n",
       "    }\n",
       "\n",
       "    .dataframe thead th {\n",
       "        text-align: right;\n",
       "    }\n",
       "</style>\n",
       "<table border=\"1\" class=\"dataframe\">\n",
       "  <thead>\n",
       "    <tr style=\"text-align: right;\">\n",
       "      <th></th>\n",
       "      <th>ribo_fc</th>\n",
       "      <th>rna_fc</th>\n",
       "    </tr>\n",
       "  </thead>\n",
       "  <tbody>\n",
       "    <tr>\n",
       "      <th>LOC388312</th>\n",
       "      <td>0.658400</td>\n",
       "      <td>0.965198</td>\n",
       "    </tr>\n",
       "    <tr>\n",
       "      <th>SAMD11</th>\n",
       "      <td>0.940848</td>\n",
       "      <td>0.996347</td>\n",
       "    </tr>\n",
       "    <tr>\n",
       "      <th>NOC2L</th>\n",
       "      <td>0.993847</td>\n",
       "      <td>1.075465</td>\n",
       "    </tr>\n",
       "    <tr>\n",
       "      <th>KLHL17</th>\n",
       "      <td>1.023877</td>\n",
       "      <td>1.097485</td>\n",
       "    </tr>\n",
       "    <tr>\n",
       "      <th>HES4</th>\n",
       "      <td>0.957823</td>\n",
       "      <td>0.760072</td>\n",
       "    </tr>\n",
       "  </tbody>\n",
       "</table>\n",
       "</div>"
      ],
      "text/plain": [
       "            ribo_fc    rna_fc\n",
       "LOC388312  0.658400  0.965198\n",
       "SAMD11     0.940848  0.996347\n",
       "NOC2L      0.993847  1.075465\n",
       "KLHL17     1.023877  1.097485\n",
       "HES4       0.957823  0.760072"
      ]
     },
     "execution_count": 515,
     "metadata": {},
     "output_type": "execute_result"
    }
   ],
   "source": [
    "data_fig1c = data_tpm.copy()\n",
    "data_fig1c = data_fig1c[['ribo_isrib_a_ribo','ribo_isrib_b_ribo','isrib_a_hek_mrna','isrib_b_hek_mrna',\n",
    "                         'ribo_untr_a_ribo','ribo_untr_b_ribo','untr_a_hek_mrna','untr_b_hek_mrna']]\n",
    "\n",
    "data_fig1c['ribo_isrib'] = data_fig1c['ribo_isrib_a_ribo'] + data_fig1c['ribo_isrib_b_ribo']\n",
    "data_fig1c['rna_isrib'] = data_fig1c['isrib_a_hek_mrna'] + data_fig1c['isrib_b_hek_mrna']\n",
    "data_fig1c['ribo_untr'] = data_fig1c['ribo_untr_a_ribo'] + data_fig1c['ribo_untr_b_ribo']\n",
    "data_fig1c['rna_untr'] = data_fig1c['untr_a_hek_mrna'] + data_fig1c['untr_b_hek_mrna']\n",
    "\n",
    "data_fig1c['ribo_fc'] = data_fig1c['ribo_isrib'] / data_fig1c['ribo_untr']\n",
    "data_fig1c['rna_fc'] = data_fig1c['rna_isrib'] / data_fig1c['rna_untr']\n",
    "\n",
    "data_fig1c_plot = data_fig1c[['ribo_fc','rna_fc']]\n",
    "\n",
    "data_fig1c_plot = data_fig1c_plot[(data_fig1c_plot != 0).all(1)]\n",
    "data_fig1c_plot = data_fig1c_plot.replace([np.inf, -np.inf], np.nan).dropna()\n",
    "\n",
    "#Remove duplicate indices\n",
    "data_fig1c_plot = data_fig1c_plot[~data_fig1c_plot.index.duplicated(keep='first')]\n",
    "\n",
    "data_fig1c_plot.head()"
   ]
  },
  {
   "cell_type": "code",
   "execution_count": 516,
   "metadata": {},
   "outputs": [],
   "source": [
    "data_fig1c = data_fig1c[(data_fig1c != 0).all(1)]\n",
    "data_fig1c = data_fig1c.replace([np.inf, -np.inf], np.nan).dropna()\n",
    "\n",
    "data_signif_1c = xp.calculate_p(data_fig1c, 'ribo_isrib_', 'ribo_untr_')\n",
    "data_signif_1c['p_value'] = 10 ** -data_signif_1c['-log$_1$$_0$(P-Value)']\n",
    "\n",
    "#Use R's padjust BH\n",
    "stats = importr('stats')\n",
    "p_adjust_1c = stats.p_adjust(FloatVector(data_signif_1c['p_value'].values.tolist()), method = 'BH')\n",
    "data_signif_1c['fdr'] = np.asarray(p_adjust_1c).tolist()"
   ]
  },
  {
   "cell_type": "code",
   "execution_count": 517,
   "metadata": {},
   "outputs": [
    {
     "name": "stdout",
     "output_type": "stream",
     "text": [
      "(468, 2)\n",
      "(7, 2)\n",
      "(4, 2)\n"
     ]
    }
   ],
   "source": [
    "sig_list = data_signif_1c.loc[data_signif_1c['p_value'] < 0.05].index.tolist()\n",
    "data_fig1c_threshold = data_fig1c_plot.reindex(labels=sig_list, axis=0)\n",
    "print(data_fig1c_threshold.shape)\n",
    "\n",
    "data_fig1c_orf = data_fig1c_plot.loc[['SLC35A4','PTP4A1','UCP2','PNRC2','C7orf31','BCL2L11','SAT1']]\n",
    "print(data_fig1c_orf.shape)\n",
    "\n",
    "data_fig1c_isr = data_fig1c_plot.loc[['ATF5','ATF4','DDIT3','PPP1R15A']]\n",
    "print(data_fig1c_isr.shape)"
   ]
  },
  {
   "cell_type": "code",
   "execution_count": 518,
   "metadata": {},
   "outputs": [
    {
     "data": {
      "text/plain": [
       "<function matplotlib.pyplot.show(*args, **kw)>"
      ]
     },
     "execution_count": 518,
     "metadata": {},
     "output_type": "execute_result"
    },
    {
     "data": {
      "text/plain": [
       "<Figure size 432x288 with 0 Axes>"
      ]
     },
     "metadata": {},
     "output_type": "display_data"
    },
    {
     "data": {
      "image/png": "[encoded data removed]",
      "text/plain": [
       "<Figure size 504x504 with 1 Axes>"
      ]
     },
     "metadata": {
      "needs_background": "light"
     },
     "output_type": "display_data"
    }
   ],
   "source": [
    "plt.close()\n",
    "plt.clf()\n",
    "\n",
    "#Prepare plot\n",
    "fig, ax = plt.subplots(1,1, figsize=(7,7))\n",
    "plt.grid(False)\n",
    "\n",
    "for index, row in data_fig1c_orf.iterrows():\n",
    "    ax.text(row[1] + 0.1, row[0], str(index), horizontalalignment='left', size='medium', color='green', weight='semibold')\n",
    "for index, row in data_fig1c_isr.iterrows():\n",
    "    ax.text(row[1] - 0.1, row[0] - 0.05, str(index), horizontalalignment='right', size='medium', color='#be00be', weight='semibold')\n",
    "\n",
    "ax.axhline(1, ls='-', color='black')\n",
    "ax.axvline(1, ls='-', color='black')\n",
    "\n",
    "rect = patches.Rectangle((.5,.5),1.5,1.5,linewidth=1.5,edgecolor='gray',facecolor='none')\n",
    "ax.add_patch(rect)\n",
    "\n",
    "ax.set_ylabel(\"Ribo-Seq (ISRIB/UT)\", fontsize=16)\n",
    "ax.set_xlabel(\"mRNA-Seq (ISRIB/UT)\", fontsize=16)\n",
    "ax.set_xlim(.125,8.5)\n",
    "ax.set_ylim(.125,8.5)\n",
    "ax.set_facecolor(\"#FFFFFF\")\n",
    "\n",
    "x = [.125,.250,.500,1,2,4,8]\n",
    "ticks = [\"1/8\",\"1/4\",\"1/2\",\"1\",\"2\",\"4\",\"8\"]\n",
    "\n",
    "ax.set_xscale('log', basex=2)\n",
    "ax.set_xticks(x)\n",
    "ax.set_xticklabels(ticks, fontsize=12)\n",
    "ax.set_xticklabels([\"\"]*len(xm), minor=True)\n",
    "\n",
    "ax.set_yscale('log', basey=2)\n",
    "ax.set_yticks(x)\n",
    "ax.set_yticklabels(ticks, fontsize=12)\n",
    "ax.set_yticklabels([\"\"]*len(xm), minor=True)\n",
    "\n",
    "#Prep data\n",
    "#All\n",
    "ribo_all = data_fig1c[['ribo_fc']].sum(axis=1).values.tolist()\n",
    "ribo_all = np.array(ribo_all).astype(np.float)\n",
    "ribo_all = np.ndarray.tolist(ribo_all)\n",
    "\n",
    "rna_all = data_fig1c[['rna_fc']].sum(axis=1).values.tolist()\n",
    "rna_all = np.array(rna_all).astype(np.float)\n",
    "rna_all = np.ndarray.tolist(rna_all)\n",
    "\n",
    "#ORFs\n",
    "ribo_orf = data_fig1c_orf[['ribo_fc']].sum(axis=1).values.tolist()\n",
    "ribo_orf = np.array(ribo_orf).astype(np.float)\n",
    "ribo_orf = np.ndarray.tolist(ribo_orf)\n",
    "\n",
    "rna_orf = data_fig1c_orf[['rna_fc']].sum(axis=1).values.tolist()\n",
    "rna_orf = np.array(rna_orf).astype(np.float)\n",
    "rna_orf = np.ndarray.tolist(rna_orf)\n",
    "\n",
    "#ISR\n",
    "ribo_isr = data_fig1c_isr[['ribo_fc']].sum(axis=1).values.tolist()\n",
    "ribo_isr = np.array(ribo_isr).astype(np.float)\n",
    "ribo_isr = np.ndarray.tolist(ribo_isr)\n",
    "\n",
    "rna_isr = data_fig1c_isr[['rna_fc']].sum(axis=1).values.tolist()\n",
    "rna_isr = np.array(rna_isr).astype(np.float)\n",
    "rna_isr = np.ndarray.tolist(rna_isr)\n",
    "\n",
    "#Plot data\n",
    "ax.scatter(rna_all, ribo_all, s=.5,c='gray')\n",
    "#ax.scatter(rna_thres, ribo_thres, s=5,c='black',alpha=0.7)\n",
    "ax.scatter(rna_orf, ribo_orf, s=25,c='green')\n",
    "ax.scatter(rna_isr, ribo_isr, s=25,c='#be00be')\n",
    "\n",
    "plt.savefig('./plots/isrib_1c.pdf', dpi=1800, bbox_inches='tight')\n",
    "\n",
    "plt.show"
   ]
  },
  {
   "cell_type": "markdown",
   "metadata": {},
   "source": [
    "### Metabolism analysis"
   ]
  },
  {
   "cell_type": "code",
   "execution_count": 533,
   "metadata": {},
   "outputs": [],
   "source": [
    "mitocarta = pd.read_csv('./human_mitocarta_gene_list.txt',sep='\\t', header=None)\n",
    "mitocarta = mitocarta[0].tolist()\n",
    "\n",
    "enzymes = pd.read_csv('./reactome_metabolism_enzymes_gene_list.txt',sep='\\t', header=None)\n",
    "enzymes = enzymes[0].tolist()"
   ]
  },
  {
   "cell_type": "markdown",
   "metadata": {},
   "source": [
    "##### Mitocarta"
   ]
  },
  {
   "cell_type": "code",
   "execution_count": 557,
   "metadata": {},
   "outputs": [
    {
     "name": "stdout",
     "output_type": "stream",
     "text": [
      "(1158, 2)\n"
     ]
    }
   ],
   "source": [
    "data_fig1a_mitocarta = data_fig1a_plot.reindex(labels=mitocarta)\n",
    "print(data_fig1a_mitocarta.shape)"
   ]
  },
  {
   "cell_type": "code",
   "execution_count": 549,
   "metadata": {},
   "outputs": [
    {
     "data": {
      "text/plain": [
       "<function matplotlib.pyplot.show(*args, **kw)>"
      ]
     },
     "execution_count": 549,
     "metadata": {},
     "output_type": "execute_result"
    },
    {
     "data": {
      "text/plain": [
       "<Figure size 432x288 with 0 Axes>"
      ]
     },
     "metadata": {},
     "output_type": "display_data"
    },
    {
     "data": {
      "image/png": "[encoded data removed]",
      "text/plain": [
       "<Figure size 504x504 with 1 Axes>"
      ]
     },
     "metadata": {
      "needs_background": "light"
     },
     "output_type": "display_data"
    }
   ],
   "source": [
    "plt.close()\n",
    "plt.clf()\n",
    "\n",
    "#Prepare plot\n",
    "fig, ax = plt.subplots(1,1, figsize=(7,7))\n",
    "plt.grid(False)\n",
    "\n",
    "ax.axhline(1, ls='-', color='black')\n",
    "ax.axvline(1, ls='-', color='black')\n",
    "\n",
    "ax.axhline(2, ls='--', color='gray')\n",
    "ax.axhline(0.5, ls='--', color='gray')\n",
    "\n",
    "ax.set_ylabel(\"Ribo-Seq (Tm/UT)\", fontsize=16)\n",
    "ax.set_xlabel(\"mRNA-Seq (Tm/UT)\", fontsize=16)\n",
    "ax.set_xlim(.125,8.5)\n",
    "ax.set_ylim(.125,8.5)\n",
    "ax.set_facecolor(\"#FFFFFF\")\n",
    "\n",
    "x = [.125,.250,.500,1,2,4,8]\n",
    "ticks = [\"1/8\",\"1/4\",\"1/2\",\"1\",\"2\",\"4\",\"8\"]\n",
    "\n",
    "ax.set_xscale('log', basex=2)\n",
    "ax.set_xticks(x)\n",
    "ax.set_xticklabels(ticks, fontsize=12)\n",
    "ax.set_xticklabels([\"\"]*len(xm), minor=True)\n",
    "\n",
    "ax.set_yscale('log', basey=2)\n",
    "ax.set_yticks(x)\n",
    "ax.set_yticklabels(ticks, fontsize=12)\n",
    "ax.set_yticklabels([\"\"]*len(xm), minor=True)\n",
    "\n",
    "#Prep data\n",
    "#All\n",
    "ribo_all = data_fig1a[['ribo_fc']].sum(axis=1).values.tolist()\n",
    "ribo_all = np.array(ribo_all).astype(np.float)\n",
    "ribo_all = np.ndarray.tolist(ribo_all)\n",
    "\n",
    "rna_all = data_fig1a[['rna_fc']].sum(axis=1).values.tolist()\n",
    "rna_all = np.array(rna_all).astype(np.float)\n",
    "rna_all = np.ndarray.tolist(rna_all)\n",
    "\n",
    "#ORFs\n",
    "ribo_mito = data_fig1a_mitocarta[['ribo_fc']].sum(axis=1).values.tolist()\n",
    "ribo_mito = np.array(ribo_mito).astype(np.float)\n",
    "ribo_mito = np.ndarray.tolist(ribo_mito)\n",
    "\n",
    "rna_mito = data_fig1a_mitocarta[['rna_fc']].sum(axis=1).values.tolist()\n",
    "rna_mito = np.array(rna_mito).astype(np.float)\n",
    "rna_mito = np.ndarray.tolist(rna_mito)\n",
    "\n",
    "#Plot data\n",
    "ax.scatter(rna_all, ribo_all, s=.5,c='gray')\n",
    "ax.scatter(rna_mito, ribo_mito, s=10,c='#002c80')\n",
    "\n",
    "plt.savefig('./plots/tm_mitocarta.pdf', dpi=1800, bbox_inches='tight')\n",
    "\n",
    "plt.show"
   ]
  },
  {
   "cell_type": "code",
   "execution_count": 547,
   "metadata": {},
   "outputs": [
    {
     "data": {
      "text/html": [
       "<div>\n",
       "<style scoped>\n",
       "    .dataframe tbody tr th:only-of-type {\n",
       "        vertical-align: middle;\n",
       "    }\n",
       "\n",
       "    .dataframe tbody tr th {\n",
       "        vertical-align: top;\n",
       "    }\n",
       "\n",
       "    .dataframe thead th {\n",
       "        text-align: right;\n",
       "    }\n",
       "</style>\n",
       "<table border=\"1\" class=\"dataframe\">\n",
       "  <thead>\n",
       "    <tr style=\"text-align: right;\">\n",
       "      <th></th>\n",
       "      <th>ribo_fc</th>\n",
       "      <th>rna_fc</th>\n",
       "    </tr>\n",
       "  </thead>\n",
       "  <tbody>\n",
       "    <tr>\n",
       "      <th>CPS1</th>\n",
       "      <td>2.113614</td>\n",
       "      <td>0.897192</td>\n",
       "    </tr>\n",
       "    <tr>\n",
       "      <th>NGRN</th>\n",
       "      <td>2.057518</td>\n",
       "      <td>1.002305</td>\n",
       "    </tr>\n",
       "    <tr>\n",
       "      <th>SLMO1</th>\n",
       "      <td>2.375756</td>\n",
       "      <td>0.678539</td>\n",
       "    </tr>\n",
       "    <tr>\n",
       "      <th>CPT1B</th>\n",
       "      <td>2.168714</td>\n",
       "      <td>1.002855</td>\n",
       "    </tr>\n",
       "    <tr>\n",
       "      <th>UCP2</th>\n",
       "      <td>3.050365</td>\n",
       "      <td>0.440413</td>\n",
       "    </tr>\n",
       "    <tr>\n",
       "      <th>OBSCN</th>\n",
       "      <td>2.634064</td>\n",
       "      <td>0.622835</td>\n",
       "    </tr>\n",
       "  </tbody>\n",
       "</table>\n",
       "</div>"
      ],
      "text/plain": [
       "        ribo_fc    rna_fc\n",
       "CPS1   2.113614  0.897192\n",
       "NGRN   2.057518  1.002305\n",
       "SLMO1  2.375756  0.678539\n",
       "CPT1B  2.168714  1.002855\n",
       "UCP2   3.050365  0.440413\n",
       "OBSCN  2.634064  0.622835"
      ]
     },
     "execution_count": 547,
     "metadata": {},
     "output_type": "execute_result"
    }
   ],
   "source": [
    "data_fig1a_mitocarta.loc[data_fig1a_mitocarta['ribo_fc'] > 2]"
   ]
  },
  {
   "cell_type": "code",
   "execution_count": 548,
   "metadata": {},
   "outputs": [
    {
     "data": {
      "text/html": [
       "<div>\n",
       "<style scoped>\n",
       "    .dataframe tbody tr th:only-of-type {\n",
       "        vertical-align: middle;\n",
       "    }\n",
       "\n",
       "    .dataframe tbody tr th {\n",
       "        vertical-align: top;\n",
       "    }\n",
       "\n",
       "    .dataframe thead th {\n",
       "        text-align: right;\n",
       "    }\n",
       "</style>\n",
       "<table border=\"1\" class=\"dataframe\">\n",
       "  <thead>\n",
       "    <tr style=\"text-align: right;\">\n",
       "      <th></th>\n",
       "      <th>ribo_fc</th>\n",
       "      <th>rna_fc</th>\n",
       "    </tr>\n",
       "  </thead>\n",
       "  <tbody>\n",
       "    <tr>\n",
       "      <th>ACCS</th>\n",
       "      <td>0.315986</td>\n",
       "      <td>0.760235</td>\n",
       "    </tr>\n",
       "  </tbody>\n",
       "</table>\n",
       "</div>"
      ],
      "text/plain": [
       "       ribo_fc    rna_fc\n",
       "ACCS  0.315986  0.760235"
      ]
     },
     "execution_count": 548,
     "metadata": {},
     "output_type": "execute_result"
    }
   ],
   "source": [
    "data_fig1a_mitocarta.loc[data_fig1a_mitocarta['ribo_fc'] < .5]"
   ]
  },
  {
   "cell_type": "code",
   "execution_count": 540,
   "metadata": {},
   "outputs": [
    {
     "name": "stdout",
     "output_type": "stream",
     "text": [
      "(1158, 2)\n"
     ]
    }
   ],
   "source": [
    "data_fig1b_mitocarta = data_fig1b_plot.reindex(labels=mitocarta)\n",
    "print(data_fig1b_mitocarta.shape)"
   ]
  },
  {
   "cell_type": "code",
   "execution_count": 550,
   "metadata": {},
   "outputs": [
    {
     "data": {
      "text/plain": [
       "<function matplotlib.pyplot.show(*args, **kw)>"
      ]
     },
     "execution_count": 550,
     "metadata": {},
     "output_type": "execute_result"
    },
    {
     "data": {
      "text/plain": [
       "<Figure size 432x288 with 0 Axes>"
      ]
     },
     "metadata": {},
     "output_type": "display_data"
    },
    {
     "data": {
      "image/png": "[encoded data removed]",
      "text/plain": [
       "<Figure size 504x504 with 1 Axes>"
      ]
     },
     "metadata": {
      "needs_background": "light"
     },
     "output_type": "display_data"
    }
   ],
   "source": [
    "plt.close()\n",
    "plt.clf()\n",
    "\n",
    "#Prepare plot\n",
    "fig, ax = plt.subplots(1,1, figsize=(7,7))\n",
    "plt.grid(False)\n",
    "\n",
    "ax.axhline(1, ls='-', color='black')\n",
    "ax.axvline(1, ls='-', color='black')\n",
    "\n",
    "ax.axhline(2, ls='--', color='gray')\n",
    "ax.axhline(0.5, ls='--', color='gray')\n",
    "\n",
    "ax.set_ylabel(\"Ribo-Seq (Tm + ISRIB/UT)\", fontsize=16)\n",
    "ax.set_xlabel(\"mRNA-Seq (Tm + ISRIB/UT)\", fontsize=16)\n",
    "ax.set_xlim(.125,8.5)\n",
    "ax.set_ylim(.125,8.5)\n",
    "ax.set_facecolor(\"#FFFFFF\")\n",
    "\n",
    "x = [.125,.250,.500,1,2,4,8]\n",
    "ticks = [\"1/8\",\"1/4\",\"1/2\",\"1\",\"2\",\"4\",\"8\"]\n",
    "\n",
    "ax.set_xscale('log', basex=2)\n",
    "ax.set_xticks(x)\n",
    "ax.set_xticklabels(ticks, fontsize=12)\n",
    "ax.set_xticklabels([\"\"]*len(xm), minor=True)\n",
    "\n",
    "ax.set_yscale('log', basey=2)\n",
    "ax.set_yticks(x)\n",
    "ax.set_yticklabels(ticks, fontsize=12)\n",
    "ax.set_yticklabels([\"\"]*len(xm), minor=True)\n",
    "\n",
    "#Prep data\n",
    "#All\n",
    "ribo_all = data_fig1b[['ribo_fc']].sum(axis=1).values.tolist()\n",
    "ribo_all = np.array(ribo_all).astype(np.float)\n",
    "ribo_all = np.ndarray.tolist(ribo_all)\n",
    "\n",
    "rna_all = data_fig1b[['rna_fc']].sum(axis=1).values.tolist()\n",
    "rna_all = np.array(rna_all).astype(np.float)\n",
    "rna_all = np.ndarray.tolist(rna_all)\n",
    "\n",
    "#ORFs\n",
    "ribo_mito = data_fig1b_mitocarta[['ribo_fc']].sum(axis=1).values.tolist()\n",
    "ribo_mito = np.array(ribo_mito).astype(np.float)\n",
    "ribo_mito = np.ndarray.tolist(ribo_mito)\n",
    "\n",
    "rna_mito = data_fig1b_mitocarta[['rna_fc']].sum(axis=1).values.tolist()\n",
    "rna_mito = np.array(rna_mito).astype(np.float)\n",
    "rna_mito = np.ndarray.tolist(rna_mito)\n",
    "\n",
    "#Plot data\n",
    "ax.scatter(rna_all, ribo_all, s=.5,c='gray')\n",
    "ax.scatter(rna_mito, ribo_mito, s=10,c='#002c80')\n",
    "\n",
    "plt.savefig('./plots/tmisrib_mitocarta.pdf', dpi=1800, bbox_inches='tight')\n",
    "\n",
    "plt.show"
   ]
  },
  {
   "cell_type": "code",
   "execution_count": 551,
   "metadata": {},
   "outputs": [
    {
     "data": {
      "text/html": [
       "<div>\n",
       "<style scoped>\n",
       "    .dataframe tbody tr th:only-of-type {\n",
       "        vertical-align: middle;\n",
       "    }\n",
       "\n",
       "    .dataframe tbody tr th {\n",
       "        vertical-align: top;\n",
       "    }\n",
       "\n",
       "    .dataframe thead th {\n",
       "        text-align: right;\n",
       "    }\n",
       "</style>\n",
       "<table border=\"1\" class=\"dataframe\">\n",
       "  <thead>\n",
       "    <tr style=\"text-align: right;\">\n",
       "      <th></th>\n",
       "      <th>ribo_fc</th>\n",
       "      <th>rna_fc</th>\n",
       "    </tr>\n",
       "  </thead>\n",
       "  <tbody>\n",
       "    <tr>\n",
       "      <th>CPT1B</th>\n",
       "      <td>3.297108</td>\n",
       "      <td>0.942314</td>\n",
       "    </tr>\n",
       "  </tbody>\n",
       "</table>\n",
       "</div>"
      ],
      "text/plain": [
       "        ribo_fc    rna_fc\n",
       "CPT1B  3.297108  0.942314"
      ]
     },
     "execution_count": 551,
     "metadata": {},
     "output_type": "execute_result"
    }
   ],
   "source": [
    "data_fig1b_mitocarta.loc[data_fig1b_mitocarta['ribo_fc'] > 2]"
   ]
  },
  {
   "cell_type": "code",
   "execution_count": 552,
   "metadata": {},
   "outputs": [
    {
     "data": {
      "text/html": [
       "<div>\n",
       "<style scoped>\n",
       "    .dataframe tbody tr th:only-of-type {\n",
       "        vertical-align: middle;\n",
       "    }\n",
       "\n",
       "    .dataframe tbody tr th {\n",
       "        vertical-align: top;\n",
       "    }\n",
       "\n",
       "    .dataframe thead th {\n",
       "        text-align: right;\n",
       "    }\n",
       "</style>\n",
       "<table border=\"1\" class=\"dataframe\">\n",
       "  <thead>\n",
       "    <tr style=\"text-align: right;\">\n",
       "      <th></th>\n",
       "      <th>ribo_fc</th>\n",
       "      <th>rna_fc</th>\n",
       "    </tr>\n",
       "  </thead>\n",
       "  <tbody>\n",
       "    <tr>\n",
       "      <th>MTHFD2L</th>\n",
       "      <td>0.496379</td>\n",
       "      <td>0.910554</td>\n",
       "    </tr>\n",
       "    <tr>\n",
       "      <th>ACCS</th>\n",
       "      <td>0.360912</td>\n",
       "      <td>0.765878</td>\n",
       "    </tr>\n",
       "  </tbody>\n",
       "</table>\n",
       "</div>"
      ],
      "text/plain": [
       "          ribo_fc    rna_fc\n",
       "MTHFD2L  0.496379  0.910554\n",
       "ACCS     0.360912  0.765878"
      ]
     },
     "execution_count": 552,
     "metadata": {},
     "output_type": "execute_result"
    }
   ],
   "source": [
    "data_fig1b_mitocarta.loc[data_fig1b_mitocarta['ribo_fc'] < .5]"
   ]
  },
  {
   "cell_type": "code",
   "execution_count": 545,
   "metadata": {},
   "outputs": [
    {
     "name": "stdout",
     "output_type": "stream",
     "text": [
      "(1158, 2)\n"
     ]
    }
   ],
   "source": [
    "data_fig1c_mitocarta = data_fig1c_plot.reindex(labels=mitocarta)\n",
    "print(data_fig1c_mitocarta.shape)"
   ]
  },
  {
   "cell_type": "code",
   "execution_count": 553,
   "metadata": {},
   "outputs": [
    {
     "data": {
      "text/plain": [
       "<function matplotlib.pyplot.show(*args, **kw)>"
      ]
     },
     "execution_count": 553,
     "metadata": {},
     "output_type": "execute_result"
    },
    {
     "data": {
      "text/plain": [
       "<Figure size 432x288 with 0 Axes>"
      ]
     },
     "metadata": {},
     "output_type": "display_data"
    },
    {
     "data": {
      "image/png": "[encoded data removed]",
      "text/plain": [
       "<Figure size 504x504 with 1 Axes>"
      ]
     },
     "metadata": {
      "needs_background": "light"
     },
     "output_type": "display_data"
    }
   ],
   "source": [
    "plt.close()\n",
    "plt.clf()\n",
    "\n",
    "#Prepare plot\n",
    "fig, ax = plt.subplots(1,1, figsize=(7,7))\n",
    "plt.grid(False)\n",
    "\n",
    "ax.axhline(1, ls='-', color='black')\n",
    "ax.axvline(1, ls='-', color='black')\n",
    "\n",
    "ax.axhline(2, ls='--', color='gray')\n",
    "ax.axhline(0.5, ls='--', color='gray')\n",
    "\n",
    "ax.set_ylabel(\"Ribo-Seq (ISRIB/UT)\", fontsize=16)\n",
    "ax.set_xlabel(\"mRNA-Seq (ISRIB/UT)\", fontsize=16)\n",
    "ax.set_xlim(.125,8.5)\n",
    "ax.set_ylim(.125,8.5)\n",
    "ax.set_facecolor(\"#FFFFFF\")\n",
    "\n",
    "x = [.125,.250,.500,1,2,4,8]\n",
    "ticks = [\"1/8\",\"1/4\",\"1/2\",\"1\",\"2\",\"4\",\"8\"]\n",
    "\n",
    "ax.set_xscale('log', basex=2)\n",
    "ax.set_xticks(x)\n",
    "ax.set_xticklabels(ticks, fontsize=12)\n",
    "ax.set_xticklabels([\"\"]*len(xm), minor=True)\n",
    "\n",
    "ax.set_yscale('log', basey=2)\n",
    "ax.set_yticks(x)\n",
    "ax.set_yticklabels(ticks, fontsize=12)\n",
    "ax.set_yticklabels([\"\"]*len(xm), minor=True)\n",
    "\n",
    "#Prep data\n",
    "#All\n",
    "ribo_all = data_fig1c[['ribo_fc']].sum(axis=1).values.tolist()\n",
    "ribo_all = np.array(ribo_all).astype(np.float)\n",
    "ribo_all = np.ndarray.tolist(ribo_all)\n",
    "\n",
    "rna_all = data_fig1c[['rna_fc']].sum(axis=1).values.tolist()\n",
    "rna_all = np.array(rna_all).astype(np.float)\n",
    "rna_all = np.ndarray.tolist(rna_all)\n",
    "\n",
    "#ORFs\n",
    "ribo_mito = data_fig1c_mitocarta[['ribo_fc']].sum(axis=1).values.tolist()\n",
    "ribo_mito = np.array(ribo_mito).astype(np.float)\n",
    "ribo_mito = np.ndarray.tolist(ribo_mito)\n",
    "\n",
    "rna_mito = data_fig1c_mitocarta[['rna_fc']].sum(axis=1).values.tolist()\n",
    "rna_mito = np.array(rna_mito).astype(np.float)\n",
    "rna_mito = np.ndarray.tolist(rna_mito)\n",
    "\n",
    "#Plot data\n",
    "ax.scatter(rna_all, ribo_all, s=.5,c='gray')\n",
    "ax.scatter(rna_mito, ribo_mito, s=10,c='#002c80')\n",
    "\n",
    "plt.savefig('./plots/isrib_mitocarta.pdf', dpi=1800, bbox_inches='tight')\n",
    "\n",
    "plt.show"
   ]
  },
  {
   "cell_type": "code",
   "execution_count": 554,
   "metadata": {},
   "outputs": [
    {
     "data": {
      "text/html": [
       "<div>\n",
       "<style scoped>\n",
       "    .dataframe tbody tr th:only-of-type {\n",
       "        vertical-align: middle;\n",
       "    }\n",
       "\n",
       "    .dataframe tbody tr th {\n",
       "        vertical-align: top;\n",
       "    }\n",
       "\n",
       "    .dataframe thead th {\n",
       "        text-align: right;\n",
       "    }\n",
       "</style>\n",
       "<table border=\"1\" class=\"dataframe\">\n",
       "  <thead>\n",
       "    <tr style=\"text-align: right;\">\n",
       "      <th></th>\n",
       "      <th>ribo_fc</th>\n",
       "      <th>rna_fc</th>\n",
       "    </tr>\n",
       "  </thead>\n",
       "  <tbody>\n",
       "  </tbody>\n",
       "</table>\n",
       "</div>"
      ],
      "text/plain": [
       "Empty DataFrame\n",
       "Columns: [ribo_fc, rna_fc]\n",
       "Index: []"
      ]
     },
     "execution_count": 554,
     "metadata": {},
     "output_type": "execute_result"
    }
   ],
   "source": [
    "data_fig1c_mitocarta.loc[data_fig1c_mitocarta['ribo_fc'] > 2]"
   ]
  },
  {
   "cell_type": "code",
   "execution_count": 555,
   "metadata": {},
   "outputs": [
    {
     "data": {
      "text/html": [
       "<div>\n",
       "<style scoped>\n",
       "    .dataframe tbody tr th:only-of-type {\n",
       "        vertical-align: middle;\n",
       "    }\n",
       "\n",
       "    .dataframe tbody tr th {\n",
       "        vertical-align: top;\n",
       "    }\n",
       "\n",
       "    .dataframe thead th {\n",
       "        text-align: right;\n",
       "    }\n",
       "</style>\n",
       "<table border=\"1\" class=\"dataframe\">\n",
       "  <thead>\n",
       "    <tr style=\"text-align: right;\">\n",
       "      <th></th>\n",
       "      <th>ribo_fc</th>\n",
       "      <th>rna_fc</th>\n",
       "    </tr>\n",
       "  </thead>\n",
       "  <tbody>\n",
       "    <tr>\n",
       "      <th>ACCS</th>\n",
       "      <td>0.474</td>\n",
       "      <td>0.918171</td>\n",
       "    </tr>\n",
       "  </tbody>\n",
       "</table>\n",
       "</div>"
      ],
      "text/plain": [
       "      ribo_fc    rna_fc\n",
       "ACCS    0.474  0.918171"
      ]
     },
     "execution_count": 555,
     "metadata": {},
     "output_type": "execute_result"
    }
   ],
   "source": [
    "data_fig1c_mitocarta.loc[data_fig1c_mitocarta['ribo_fc'] < 0.5]"
   ]
  },
  {
   "cell_type": "markdown",
   "metadata": {},
   "source": [
    "##### Metabolic Enzymes"
   ]
  },
  {
   "cell_type": "code",
   "execution_count": 558,
   "metadata": {},
   "outputs": [
    {
     "name": "stdout",
     "output_type": "stream",
     "text": [
      "(2118, 2)\n"
     ]
    }
   ],
   "source": [
    "data_fig1a_enzymes = data_fig1a_plot.reindex(labels=enzymes)\n",
    "print(data_fig1a_enzymes.shape)"
   ]
  },
  {
   "cell_type": "code",
   "execution_count": 560,
   "metadata": {},
   "outputs": [
    {
     "data": {
      "text/plain": [
       "<function matplotlib.pyplot.show(*args, **kw)>"
      ]
     },
     "execution_count": 560,
     "metadata": {},
     "output_type": "execute_result"
    },
    {
     "data": {
      "text/plain": [
       "<Figure size 432x288 with 0 Axes>"
      ]
     },
     "metadata": {},
     "output_type": "display_data"
    },
    {
     "data": {
      "image/png": "[encoded data removed]",
      "text/plain": [
       "<Figure size 504x504 with 1 Axes>"
      ]
     },
     "metadata": {
      "needs_background": "light"
     },
     "output_type": "display_data"
    }
   ],
   "source": [
    "plt.close()\n",
    "plt.clf()\n",
    "\n",
    "#Prepare plot\n",
    "fig, ax = plt.subplots(1,1, figsize=(7,7))\n",
    "plt.grid(False)\n",
    "\n",
    "ax.axhline(1, ls='-', color='black')\n",
    "ax.axvline(1, ls='-', color='black')\n",
    "\n",
    "ax.axhline(2, ls='--', color='gray')\n",
    "ax.axhline(0.5, ls='--', color='gray')\n",
    "\n",
    "ax.set_ylabel(\"Ribo-Seq (Tm/UT)\", fontsize=16)\n",
    "ax.set_xlabel(\"mRNA-Seq (Tm/UT)\", fontsize=16)\n",
    "ax.set_xlim(.125,8.5)\n",
    "ax.set_ylim(.125,8.5)\n",
    "ax.set_facecolor(\"#FFFFFF\")\n",
    "\n",
    "x = [.125,.250,.500,1,2,4,8]\n",
    "ticks = [\"1/8\",\"1/4\",\"1/2\",\"1\",\"2\",\"4\",\"8\"]\n",
    "\n",
    "ax.set_xscale('log', basex=2)\n",
    "ax.set_xticks(x)\n",
    "ax.set_xticklabels(ticks, fontsize=12)\n",
    "ax.set_xticklabels([\"\"]*len(xm), minor=True)\n",
    "\n",
    "ax.set_yscale('log', basey=2)\n",
    "ax.set_yticks(x)\n",
    "ax.set_yticklabels(ticks, fontsize=12)\n",
    "ax.set_yticklabels([\"\"]*len(xm), minor=True)\n",
    "\n",
    "#Prep data\n",
    "#All\n",
    "ribo_all = data_fig1a[['ribo_fc']].sum(axis=1).values.tolist()\n",
    "ribo_all = np.array(ribo_all).astype(np.float)\n",
    "ribo_all = np.ndarray.tolist(ribo_all)\n",
    "\n",
    "rna_all = data_fig1a[['rna_fc']].sum(axis=1).values.tolist()\n",
    "rna_all = np.array(rna_all).astype(np.float)\n",
    "rna_all = np.ndarray.tolist(rna_all)\n",
    "\n",
    "#ORFs\n",
    "ribo_mito = data_fig1a_enzymes[['ribo_fc']].sum(axis=1).values.tolist()\n",
    "ribo_mito = np.array(ribo_mito).astype(np.float)\n",
    "ribo_mito = np.ndarray.tolist(ribo_mito)\n",
    "\n",
    "rna_mito = data_fig1a_enzymes[['rna_fc']].sum(axis=1).values.tolist()\n",
    "rna_mito = np.array(rna_mito).astype(np.float)\n",
    "rna_mito = np.ndarray.tolist(rna_mito)\n",
    "\n",
    "#Plot data\n",
    "ax.scatter(rna_all, ribo_all, s=.5,c='gray')\n",
    "ax.scatter(rna_mito, ribo_mito, s=10,c='#ffa500')\n",
    "\n",
    "plt.savefig('./plots/tm_enzymes.pdf', dpi=1800, bbox_inches='tight')\n",
    "\n",
    "plt.show"
   ]
  },
  {
   "cell_type": "code",
   "execution_count": 561,
   "metadata": {},
   "outputs": [
    {
     "data": {
      "text/html": [
       "<div>\n",
       "<style scoped>\n",
       "    .dataframe tbody tr th:only-of-type {\n",
       "        vertical-align: middle;\n",
       "    }\n",
       "\n",
       "    .dataframe tbody tr th {\n",
       "        vertical-align: top;\n",
       "    }\n",
       "\n",
       "    .dataframe thead th {\n",
       "        text-align: right;\n",
       "    }\n",
       "</style>\n",
       "<table border=\"1\" class=\"dataframe\">\n",
       "  <thead>\n",
       "    <tr style=\"text-align: right;\">\n",
       "      <th></th>\n",
       "      <th>ribo_fc</th>\n",
       "      <th>rna_fc</th>\n",
       "    </tr>\n",
       "  </thead>\n",
       "  <tbody>\n",
       "    <tr>\n",
       "      <th>CHST2</th>\n",
       "      <td>21.297727</td>\n",
       "      <td>0.753911</td>\n",
       "    </tr>\n",
       "    <tr>\n",
       "      <th>CPS1</th>\n",
       "      <td>2.113614</td>\n",
       "      <td>0.897192</td>\n",
       "    </tr>\n",
       "    <tr>\n",
       "      <th>CPT1B</th>\n",
       "      <td>2.168714</td>\n",
       "      <td>1.002855</td>\n",
       "    </tr>\n",
       "    <tr>\n",
       "      <th>UCP2</th>\n",
       "      <td>3.050365</td>\n",
       "      <td>0.440413</td>\n",
       "    </tr>\n",
       "    <tr>\n",
       "      <th>ST3GAL3</th>\n",
       "      <td>2.043694</td>\n",
       "      <td>0.915975</td>\n",
       "    </tr>\n",
       "    <tr>\n",
       "      <th>OAZ1</th>\n",
       "      <td>2.092680</td>\n",
       "      <td>1.134720</td>\n",
       "    </tr>\n",
       "    <tr>\n",
       "      <th>SAT1</th>\n",
       "      <td>2.382764</td>\n",
       "      <td>1.012906</td>\n",
       "    </tr>\n",
       "    <tr>\n",
       "      <th>ABCA1</th>\n",
       "      <td>2.530167</td>\n",
       "      <td>0.630767</td>\n",
       "    </tr>\n",
       "    <tr>\n",
       "      <th>PLCD1</th>\n",
       "      <td>2.724307</td>\n",
       "      <td>0.877997</td>\n",
       "    </tr>\n",
       "  </tbody>\n",
       "</table>\n",
       "</div>"
      ],
      "text/plain": [
       "           ribo_fc    rna_fc\n",
       "CHST2    21.297727  0.753911\n",
       "CPS1      2.113614  0.897192\n",
       "CPT1B     2.168714  1.002855\n",
       "UCP2      3.050365  0.440413\n",
       "ST3GAL3   2.043694  0.915975\n",
       "OAZ1      2.092680  1.134720\n",
       "SAT1      2.382764  1.012906\n",
       "ABCA1     2.530167  0.630767\n",
       "PLCD1     2.724307  0.877997"
      ]
     },
     "execution_count": 561,
     "metadata": {},
     "output_type": "execute_result"
    }
   ],
   "source": [
    "data_fig1a_enzymes.loc[data_fig1a_enzymes['ribo_fc'] > 2]"
   ]
  },
  {
   "cell_type": "code",
   "execution_count": 562,
   "metadata": {},
   "outputs": [
    {
     "data": {
      "text/html": [
       "<div>\n",
       "<style scoped>\n",
       "    .dataframe tbody tr th:only-of-type {\n",
       "        vertical-align: middle;\n",
       "    }\n",
       "\n",
       "    .dataframe tbody tr th {\n",
       "        vertical-align: top;\n",
       "    }\n",
       "\n",
       "    .dataframe thead th {\n",
       "        text-align: right;\n",
       "    }\n",
       "</style>\n",
       "<table border=\"1\" class=\"dataframe\">\n",
       "  <thead>\n",
       "    <tr style=\"text-align: right;\">\n",
       "      <th></th>\n",
       "      <th>ribo_fc</th>\n",
       "      <th>rna_fc</th>\n",
       "    </tr>\n",
       "  </thead>\n",
       "  <tbody>\n",
       "    <tr>\n",
       "      <th>PPARA</th>\n",
       "      <td>0.357937</td>\n",
       "      <td>0.922434</td>\n",
       "    </tr>\n",
       "  </tbody>\n",
       "</table>\n",
       "</div>"
      ],
      "text/plain": [
       "        ribo_fc    rna_fc\n",
       "PPARA  0.357937  0.922434"
      ]
     },
     "execution_count": 562,
     "metadata": {},
     "output_type": "execute_result"
    }
   ],
   "source": [
    "data_fig1a_enzymes.loc[data_fig1a_enzymes['ribo_fc'] < 0.5]"
   ]
  },
  {
   "cell_type": "code",
   "execution_count": 563,
   "metadata": {},
   "outputs": [
    {
     "name": "stdout",
     "output_type": "stream",
     "text": [
      "(2118, 2)\n"
     ]
    }
   ],
   "source": [
    "data_fig1b_enzymes = data_fig1b_plot.reindex(labels=enzymes)\n",
    "print(data_fig1b_enzymes.shape)"
   ]
  },
  {
   "cell_type": "code",
   "execution_count": 571,
   "metadata": {},
   "outputs": [
    {
     "data": {
      "text/plain": [
       "<function matplotlib.pyplot.show(*args, **kw)>"
      ]
     },
     "execution_count": 571,
     "metadata": {},
     "output_type": "execute_result"
    },
    {
     "data": {
      "text/plain": [
       "<Figure size 432x288 with 0 Axes>"
      ]
     },
     "metadata": {},
     "output_type": "display_data"
    },
    {
     "data": {
      "image/png": "[encoded data removed]",
      "text/plain": [
       "<Figure size 504x504 with 1 Axes>"
      ]
     },
     "metadata": {
      "needs_background": "light"
     },
     "output_type": "display_data"
    }
   ],
   "source": [
    "plt.close()\n",
    "plt.clf()\n",
    "\n",
    "#Prepare plot\n",
    "fig, ax = plt.subplots(1,1, figsize=(7,7))\n",
    "plt.grid(False)\n",
    "\n",
    "ax.axhline(1, ls='-', color='black')\n",
    "ax.axvline(1, ls='-', color='black')\n",
    "\n",
    "ax.axhline(2, ls='--', color='gray')\n",
    "ax.axhline(0.5, ls='--', color='gray')\n",
    "\n",
    "ax.set_ylabel(\"Ribo-Seq (Tm + ISRIB/UT)\", fontsize=16)\n",
    "ax.set_xlabel(\"mRNA-Seq (Tm + ISRIB/UT)\", fontsize=16)\n",
    "ax.set_xlim(.125,8.5)\n",
    "ax.set_ylim(.125,8.5)\n",
    "ax.set_facecolor(\"#FFFFFF\")\n",
    "\n",
    "x = [.125,.250,.500,1,2,4,8]\n",
    "ticks = [\"1/8\",\"1/4\",\"1/2\",\"1\",\"2\",\"4\",\"8\"]\n",
    "\n",
    "ax.set_xscale('log', basex=2)\n",
    "ax.set_xticks(x)\n",
    "ax.set_xticklabels(ticks, fontsize=12)\n",
    "ax.set_xticklabels([\"\"]*len(xm), minor=True)\n",
    "\n",
    "ax.set_yscale('log', basey=2)\n",
    "ax.set_yticks(x)\n",
    "ax.set_yticklabels(ticks, fontsize=12)\n",
    "ax.set_yticklabels([\"\"]*len(xm), minor=True)\n",
    "\n",
    "#Prep data\n",
    "#All\n",
    "ribo_all = data_fig1b[['ribo_fc']].sum(axis=1).values.tolist()\n",
    "ribo_all = np.array(ribo_all).astype(np.float)\n",
    "ribo_all = np.ndarray.tolist(ribo_all)\n",
    "\n",
    "rna_all = data_fig1b[['rna_fc']].sum(axis=1).values.tolist()\n",
    "rna_all = np.array(rna_all).astype(np.float)\n",
    "rna_all = np.ndarray.tolist(rna_all)\n",
    "\n",
    "#ORFs\n",
    "ribo_mito = data_fig1b_enzymes[['ribo_fc']].sum(axis=1).values.tolist()\n",
    "ribo_mito = np.array(ribo_mito).astype(np.float)\n",
    "ribo_mito = np.ndarray.tolist(ribo_mito)\n",
    "\n",
    "rna_mito = data_fig1b_enzymes[['rna_fc']].sum(axis=1).values.tolist()\n",
    "rna_mito = np.array(rna_mito).astype(np.float)\n",
    "rna_mito = np.ndarray.tolist(rna_mito)\n",
    "\n",
    "#Plot data\n",
    "ax.scatter(rna_all, ribo_all, s=.5,c='gray')\n",
    "ax.scatter(rna_mito, ribo_mito, s=10,c='#ffa500')\n",
    "\n",
    "plt.savefig('./plots/tmisrib_enzymes.pdf', dpi=1800, bbox_inches='tight')\n",
    "\n",
    "plt.show"
   ]
  },
  {
   "cell_type": "code",
   "execution_count": 572,
   "metadata": {},
   "outputs": [
    {
     "data": {
      "text/html": [
       "<div>\n",
       "<style scoped>\n",
       "    .dataframe tbody tr th:only-of-type {\n",
       "        vertical-align: middle;\n",
       "    }\n",
       "\n",
       "    .dataframe tbody tr th {\n",
       "        vertical-align: top;\n",
       "    }\n",
       "\n",
       "    .dataframe thead th {\n",
       "        text-align: right;\n",
       "    }\n",
       "</style>\n",
       "<table border=\"1\" class=\"dataframe\">\n",
       "  <thead>\n",
       "    <tr style=\"text-align: right;\">\n",
       "      <th></th>\n",
       "      <th>ribo_fc</th>\n",
       "      <th>rna_fc</th>\n",
       "    </tr>\n",
       "  </thead>\n",
       "  <tbody>\n",
       "    <tr>\n",
       "      <th>CHST2</th>\n",
       "      <td>11.810668</td>\n",
       "      <td>0.862957</td>\n",
       "    </tr>\n",
       "    <tr>\n",
       "      <th>CPT1B</th>\n",
       "      <td>3.297108</td>\n",
       "      <td>0.942314</td>\n",
       "    </tr>\n",
       "    <tr>\n",
       "      <th>ADRA2C</th>\n",
       "      <td>2.531533</td>\n",
       "      <td>1.182848</td>\n",
       "    </tr>\n",
       "    <tr>\n",
       "      <th>PLCD1</th>\n",
       "      <td>2.155057</td>\n",
       "      <td>0.843942</td>\n",
       "    </tr>\n",
       "  </tbody>\n",
       "</table>\n",
       "</div>"
      ],
      "text/plain": [
       "          ribo_fc    rna_fc\n",
       "CHST2   11.810668  0.862957\n",
       "CPT1B    3.297108  0.942314\n",
       "ADRA2C   2.531533  1.182848\n",
       "PLCD1    2.155057  0.843942"
      ]
     },
     "execution_count": 572,
     "metadata": {},
     "output_type": "execute_result"
    }
   ],
   "source": [
    "data_fig1b_enzymes.loc[data_fig1b_enzymes['ribo_fc'] > 2]"
   ]
  },
  {
   "cell_type": "code",
   "execution_count": 573,
   "metadata": {},
   "outputs": [
    {
     "data": {
      "text/html": [
       "<div>\n",
       "<style scoped>\n",
       "    .dataframe tbody tr th:only-of-type {\n",
       "        vertical-align: middle;\n",
       "    }\n",
       "\n",
       "    .dataframe tbody tr th {\n",
       "        vertical-align: top;\n",
       "    }\n",
       "\n",
       "    .dataframe thead th {\n",
       "        text-align: right;\n",
       "    }\n",
       "</style>\n",
       "<table border=\"1\" class=\"dataframe\">\n",
       "  <thead>\n",
       "    <tr style=\"text-align: right;\">\n",
       "      <th></th>\n",
       "      <th>ribo_fc</th>\n",
       "      <th>rna_fc</th>\n",
       "    </tr>\n",
       "  </thead>\n",
       "  <tbody>\n",
       "    <tr>\n",
       "      <th>MTHFD2L</th>\n",
       "      <td>0.496379</td>\n",
       "      <td>0.910554</td>\n",
       "    </tr>\n",
       "  </tbody>\n",
       "</table>\n",
       "</div>"
      ],
      "text/plain": [
       "          ribo_fc    rna_fc\n",
       "MTHFD2L  0.496379  0.910554"
      ]
     },
     "execution_count": 573,
     "metadata": {},
     "output_type": "execute_result"
    }
   ],
   "source": [
    "data_fig1b_enzymes.loc[data_fig1b_enzymes['ribo_fc'] < 0.5]"
   ]
  },
  {
   "cell_type": "code",
   "execution_count": 574,
   "metadata": {},
   "outputs": [
    {
     "name": "stdout",
     "output_type": "stream",
     "text": [
      "(2118, 2)\n"
     ]
    }
   ],
   "source": [
    "data_fig1c_enzymes = data_fig1c_plot.reindex(labels=enzymes)\n",
    "print(data_fig1c_enzymes.shape)"
   ]
  },
  {
   "cell_type": "code",
   "execution_count": 575,
   "metadata": {},
   "outputs": [
    {
     "data": {
      "text/plain": [
       "<function matplotlib.pyplot.show(*args, **kw)>"
      ]
     },
     "execution_count": 575,
     "metadata": {},
     "output_type": "execute_result"
    },
    {
     "data": {
      "text/plain": [
       "<Figure size 432x288 with 0 Axes>"
      ]
     },
     "metadata": {},
     "output_type": "display_data"
    },
    {
     "data": {
      "image/png": "[encoded data removed]",
      "text/plain": [
       "<Figure size 504x504 with 1 Axes>"
      ]
     },
     "metadata": {
      "needs_background": "light"
     },
     "output_type": "display_data"
    }
   ],
   "source": [
    "plt.close()\n",
    "plt.clf()\n",
    "\n",
    "#Prepare plot\n",
    "fig, ax = plt.subplots(1,1, figsize=(7,7))\n",
    "plt.grid(False)\n",
    "\n",
    "ax.axhline(1, ls='-', color='black')\n",
    "ax.axvline(1, ls='-', color='black')\n",
    "\n",
    "ax.axhline(2, ls='--', color='gray')\n",
    "ax.axhline(0.5, ls='--', color='gray')\n",
    "\n",
    "ax.set_ylabel(\"Ribo-Seq (ISRIB/UT)\", fontsize=16)\n",
    "ax.set_xlabel(\"mRNA-Seq (ISRIB/UT)\", fontsize=16)\n",
    "ax.set_xlim(.125,8.5)\n",
    "ax.set_ylim(.125,8.5)\n",
    "ax.set_facecolor(\"#FFFFFF\")\n",
    "\n",
    "x = [.125,.250,.500,1,2,4,8]\n",
    "ticks = [\"1/8\",\"1/4\",\"1/2\",\"1\",\"2\",\"4\",\"8\"]\n",
    "\n",
    "ax.set_xscale('log', basex=2)\n",
    "ax.set_xticks(x)\n",
    "ax.set_xticklabels(ticks, fontsize=12)\n",
    "ax.set_xticklabels([\"\"]*len(xm), minor=True)\n",
    "\n",
    "ax.set_yscale('log', basey=2)\n",
    "ax.set_yticks(x)\n",
    "ax.set_yticklabels(ticks, fontsize=12)\n",
    "ax.set_yticklabels([\"\"]*len(xm), minor=True)\n",
    "\n",
    "#Prep data\n",
    "#All\n",
    "ribo_all = data_fig1c[['ribo_fc']].sum(axis=1).values.tolist()\n",
    "ribo_all = np.array(ribo_all).astype(np.float)\n",
    "ribo_all = np.ndarray.tolist(ribo_all)\n",
    "\n",
    "rna_all = data_fig1c[['rna_fc']].sum(axis=1).values.tolist()\n",
    "rna_all = np.array(rna_all).astype(np.float)\n",
    "rna_all = np.ndarray.tolist(rna_all)\n",
    "\n",
    "#ORFs\n",
    "ribo_mito = data_fig1c_enzymes[['ribo_fc']].sum(axis=1).values.tolist()\n",
    "ribo_mito = np.array(ribo_mito).astype(np.float)\n",
    "ribo_mito = np.ndarray.tolist(ribo_mito)\n",
    "\n",
    "rna_mito = data_fig1c_enzymes[['rna_fc']].sum(axis=1).values.tolist()\n",
    "rna_mito = np.array(rna_mito).astype(np.float)\n",
    "rna_mito = np.ndarray.tolist(rna_mito)\n",
    "\n",
    "#Plot data\n",
    "ax.scatter(rna_all, ribo_all, s=.5,c='gray')\n",
    "ax.scatter(rna_mito, ribo_mito, s=10,c='#ffa500')\n",
    "\n",
    "plt.savefig('./plots/isrib_enzymes.pdf', dpi=1800, bbox_inches='tight')\n",
    "\n",
    "plt.show"
   ]
  },
  {
   "cell_type": "code",
   "execution_count": 576,
   "metadata": {},
   "outputs": [
    {
     "data": {
      "text/html": [
       "<div>\n",
       "<style scoped>\n",
       "    .dataframe tbody tr th:only-of-type {\n",
       "        vertical-align: middle;\n",
       "    }\n",
       "\n",
       "    .dataframe tbody tr th {\n",
       "        vertical-align: top;\n",
       "    }\n",
       "\n",
       "    .dataframe thead th {\n",
       "        text-align: right;\n",
       "    }\n",
       "</style>\n",
       "<table border=\"1\" class=\"dataframe\">\n",
       "  <thead>\n",
       "    <tr style=\"text-align: right;\">\n",
       "      <th></th>\n",
       "      <th>ribo_fc</th>\n",
       "      <th>rna_fc</th>\n",
       "    </tr>\n",
       "  </thead>\n",
       "  <tbody>\n",
       "    <tr>\n",
       "      <th>CHST2</th>\n",
       "      <td>5.127726</td>\n",
       "      <td>0.874063</td>\n",
       "    </tr>\n",
       "    <tr>\n",
       "      <th>ADRA2C</th>\n",
       "      <td>2.247355</td>\n",
       "      <td>1.146820</td>\n",
       "    </tr>\n",
       "  </tbody>\n",
       "</table>\n",
       "</div>"
      ],
      "text/plain": [
       "         ribo_fc    rna_fc\n",
       "CHST2   5.127726  0.874063\n",
       "ADRA2C  2.247355  1.146820"
      ]
     },
     "execution_count": 576,
     "metadata": {},
     "output_type": "execute_result"
    }
   ],
   "source": [
    "data_fig1c_enzymes.loc[data_fig1c_enzymes['ribo_fc'] > 2]"
   ]
  },
  {
   "cell_type": "code",
   "execution_count": 577,
   "metadata": {},
   "outputs": [
    {
     "data": {
      "text/html": [
       "<div>\n",
       "<style scoped>\n",
       "    .dataframe tbody tr th:only-of-type {\n",
       "        vertical-align: middle;\n",
       "    }\n",
       "\n",
       "    .dataframe tbody tr th {\n",
       "        vertical-align: top;\n",
       "    }\n",
       "\n",
       "    .dataframe thead th {\n",
       "        text-align: right;\n",
       "    }\n",
       "</style>\n",
       "<table border=\"1\" class=\"dataframe\">\n",
       "  <thead>\n",
       "    <tr style=\"text-align: right;\">\n",
       "      <th></th>\n",
       "      <th>ribo_fc</th>\n",
       "      <th>rna_fc</th>\n",
       "    </tr>\n",
       "  </thead>\n",
       "  <tbody>\n",
       "    <tr>\n",
       "      <th>NMRAL1</th>\n",
       "      <td>0.491047</td>\n",
       "      <td>1.073825</td>\n",
       "    </tr>\n",
       "    <tr>\n",
       "      <th>PIP5K1B</th>\n",
       "      <td>0.372499</td>\n",
       "      <td>1.676863</td>\n",
       "    </tr>\n",
       "    <tr>\n",
       "      <th>CSAD</th>\n",
       "      <td>0.429304</td>\n",
       "      <td>1.044388</td>\n",
       "    </tr>\n",
       "  </tbody>\n",
       "</table>\n",
       "</div>"
      ],
      "text/plain": [
       "          ribo_fc    rna_fc\n",
       "NMRAL1   0.491047  1.073825\n",
       "PIP5K1B  0.372499  1.676863\n",
       "CSAD     0.429304  1.044388"
      ]
     },
     "execution_count": 577,
     "metadata": {},
     "output_type": "execute_result"
    }
   ],
   "source": [
    "data_fig1c_enzymes.loc[data_fig1c_enzymes['ribo_fc'] < 0.5]"
   ]
  },
  {
   "cell_type": "code",
   "execution_count": null,
   "metadata": {},
   "outputs": [],
   "source": []
  }
 ],
 "metadata": {
  "kernelspec": {
   "display_name": "Python 3",
   "language": "python",
   "name": "python3"
  },
  "language_info": {
   "codemirror_mode": {
    "name": "ipython",
    "version": 3
   },
   "file_extension": ".py",
   "mimetype": "text/x-python",
   "name": "python",
   "nbconvert_exporter": "python",
   "pygments_lexer": "ipython3",
   "version": "3.6.6"
  }
 },
 "nbformat": 4,
 "nbformat_minor": 2
}
