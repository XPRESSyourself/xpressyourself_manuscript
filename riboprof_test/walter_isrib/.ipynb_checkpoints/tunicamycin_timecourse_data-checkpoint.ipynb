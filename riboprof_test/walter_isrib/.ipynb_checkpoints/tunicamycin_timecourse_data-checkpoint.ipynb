{
 "cells": [
  {
   "cell_type": "markdown",
   "metadata": {},
   "source": [
    "# New insights into the cellular temporal response to proteostatic stress\n",
    "\n",
    "DOI: https://doi.org/10.7554/eLife.39054   \n",
    "\n",
    "This dataset contains two experiments:\n",
    "1. \"Replicate samples at four time points (0, 1, 4, and 8 hr) from human cervical cancer cells treated with tunicamycin\"\n",
    "2. \"Cells treated with hydrogen peroxide to elicit oxidative stress\""
   ]
  },
  {
   "cell_type": "code",
   "execution_count": 1,
   "metadata": {},
   "outputs": [],
   "source": [
    "import pandas as pd \n",
    "import xpresstools as xp\n",
    "from scipy import stats\n",
    "import numpy as np\n",
    "import matplotlib\n",
    "import matplotlib.pyplot as plt \n",
    "import matplotlib.patches as patches\n",
    "\n",
    "from rpy2.robjects.packages import importr\n",
    "from rpy2.robjects.vectors import FloatVector\n",
    "\n",
    "%matplotlib inline"
   ]
  },
  {
   "cell_type": "markdown",
   "metadata": {},
   "source": [
    "# Prepare data\n",
    "\n",
    "##### Get data"
   ]
  },
  {
   "cell_type": "code",
   "execution_count": 2,
   "metadata": {},
   "outputs": [
    {
     "name": "stdout",
     "output_type": "stream",
     "text": [
      "Mapping reads per sample:\n",
      "GSM3098446_RNA_Tuni_Rep1_0h_13_exon_counts.txt       22885903.0\n",
      "GSM3098447_RNA_Tuni_Rep1_1h_14_exon_counts.txt       18435954.0\n",
      "GSM3098448_RNA_Tuni_Rep1_4h_15_exon_counts.txt       27019380.0\n",
      "GSM3098449_RNA_Tuni_Rep1_8h_16_exon_counts.txt       22411989.0\n",
      "GSM3098450_RNA_Tuni_Rep2_0h_17_exon_counts.txt       18087212.0\n",
      "GSM3098451_RNA_Tuni_Rep2_1h_18_exon_counts.txt       17019330.0\n",
      "GSM3098452_RNA_Tuni_Rep2_4h_19_exon_counts.txt       25918639.0\n",
      "GSM3098453_RNA_Tuni_Rep2_8h_20_exon_counts.txt       17689578.0\n",
      "GSM3098454_RNA_Tuni_Rep3_0h_21_exon_counts.txt       25090302.0\n",
      "GSM3098455_RNA_Tuni_Rep3_1h_22_exon_counts.txt       16953174.0\n",
      "GSM3098456_RNA_Tuni_Rep3_4h_23_exon_counts.txt       23099830.0\n",
      "GSM3098457_RNA_Tuni_Rep3_8h_24_exon_counts.txt       15619020.0\n",
      "GSM3098458_RPF_Tuni_Rep1_0h_13_CDS_counts.txt        13670565.0\n",
      "GSM3098459_RPF_Tuni_Rep1_1h_14_CDS_counts.txt        11738655.0\n",
      "GSM3098460_RPF_Tuni_Rep1_4h_15_CDS_counts.txt        11044251.0\n",
      "GSM3098461_RPF_Tuni_Rep1_8h_16_CDS_counts.txt         7325933.0\n",
      "GSM3098462_RPF_Tuni_Rep2_0h_17_CDS_counts.txt        14508258.0\n",
      "GSM3098463_RPF_Tuni_Rep2_1h_18_CDS_counts.txt         8588854.0\n",
      "GSM3098464_RPF_Tuni_Rep2_4h_19_CDS_counts.txt         9240565.0\n",
      "GSM3098465_RPF_Tuni_Rep2_8h_20_CDS_counts.txt         6060717.0\n",
      "GSM3098466_RPF_Tuni_Rep3_0h_21_CDS_counts.txt         6167984.0\n",
      "GSM3098467_RPF_Tuni_Rep3_1h_22_CDS_counts.txt         8126863.0\n",
      "GSM3098468_RPF_Tuni_Rep3_4h_23_CDS_counts.txt         6076563.0\n",
      "GSM3098469_RPF_Tuni_Rep3_8h_24_CDS_counts.txt        10339899.0\n",
      "GSM3098470_POP_MDC_Tuni_Rep1_0h_13_UTR_counts.txt     5747712.0\n",
      "GSM3098471_POP_MDC_Tuni_Rep1_1h_14_UTR_counts.txt     6893271.0\n",
      "GSM3098472_POP_MDC_Tuni_Rep1_4h_15_UTR_counts.txt     5287537.0\n",
      "GSM3098473_POP_MDC_Tuni_Rep1_8h_16_UTR_counts.txt     7785563.0\n",
      "GSM3098474_POP_MDC_Tuni_Rep2_0h_17_UTR_counts.txt     5376395.0\n",
      "GSM3098475_POP_MDC_Tuni_Rep2_1h_18_UTR_counts.txt     5203784.0\n",
      "                                                        ...    \n",
      "GSM3098488_RNA_H2O2_Rep2_4h_7_exon_counts.txt        19639088.0\n",
      "GSM3098489_RNA_H2O2_Rep2_8h_8_exon_counts.txt        18601423.0\n",
      "GSM3098490_RNA_H2O2_Rep3_0h_9_exon_counts.txt        24071459.0\n",
      "GSM3098491_RNA_H2O2_Rep3_1h_10_exon_counts.txt       21990905.0\n",
      "GSM3098492_RNA_H2O2_Rep3_4h_11_exon_counts.txt       18933434.0\n",
      "GSM3098493_RNA_H2O2_Rep3_8h_12_exon_counts.txt       15487759.0\n",
      "GSM3098494_RPF_H2O2_Rep1_0h_1_CDS_counts.txt         12955603.0\n",
      "GSM3098495_RPF_H2O2_Rep1_1h_2_CDS_counts.txt         10958025.0\n",
      "GSM3098496_RPF_H2O2_Rep1_4h_3_CDS_counts.txt         10005095.0\n",
      "GSM3098497_RPF_H2O2_Rep1_8h_4_CDS_counts.txt         10599661.0\n",
      "GSM3098498_RPF_H2O2_Rep2_0h_5_CDS_counts.txt          8447371.0\n",
      "GSM3098499_RPF_H2O2_Rep2_1h_6_CDS_counts.txt          7931230.0\n",
      "GSM3098500_RPF_H2O2_Rep2_4h_7_CDS_counts.txt         11988543.0\n",
      "GSM3098501_RPF_H2O2_Rep2_8h_8_CDS_counts.txt         11354184.0\n",
      "GSM3098502_RPF_H2O2_Rep3_0h_9_CDS_counts.txt         10237894.0\n",
      "GSM3098503_RPF_H2O2_Rep3_1h_10_CDS_counts.txt        10360845.0\n",
      "GSM3098504_RPF_H2O2_Rep3_4h_11_CDS_counts.txt         6297105.0\n",
      "GSM3098505_RPF_H2O2_Rep3_8h_12_CDS_counts.txt         6674885.0\n",
      "GSM3098506_POP_MDC_H2O2_Rep1_0h_1_UTR_counts.txt      4351298.0\n",
      "GSM3098507_POP_MDC_H2O2_Rep1_1h_2_UTR_counts.txt      5128737.0\n",
      "GSM3098508_POP_MDC_H2O2_Rep1_4h_3_UTR_counts.txt      4676338.0\n",
      "GSM3098509_POP_MDC_H2O2_Rep1_8h_4_UTR_counts.txt      7297104.0\n",
      "GSM3098510_POP_MDC_H2O2_Rep2_0h_5_UTR_counts.txt      4297467.0\n",
      "GSM3098511_POP_MDC_H2O2_Rep2_1h_6_UTR_counts.txt      6685596.0\n",
      "GSM3098512_POP_MDC_H2O2_Rep2_4h_7_UTR_counts.txt      5077324.0\n",
      "GSM3098513_POP_MDC_H2O2_Rep2_8h_8_UTR_counts.txt      6039083.0\n",
      "GSM3098514_POP_MDC_H2O2_Rep3_0h_9_UTR_counts.txt      5720317.0\n",
      "GSM3098515_POP_MDC_H2O2_Rep3_1h_10_UTR_counts.txt     6867912.0\n",
      "GSM3098516_POP_MDC_H2O2_Rep3_4h_11_UTR_counts.txt     9001792.0\n",
      "GSM3098517_POP_MDC_H2O2_Rep3_8h_12_UTR_counts.txt     9374605.0\n",
      "Length: 72, dtype: float64\n"
     ]
    },
    {
     "data": {
      "text/html": [
       "<div>\n",
       "<style scoped>\n",
       "    .dataframe tbody tr th:only-of-type {\n",
       "        vertical-align: middle;\n",
       "    }\n",
       "\n",
       "    .dataframe tbody tr th {\n",
       "        vertical-align: top;\n",
       "    }\n",
       "\n",
       "    .dataframe thead th {\n",
       "        text-align: right;\n",
       "    }\n",
       "</style>\n",
       "<table border=\"1\" class=\"dataframe\">\n",
       "  <thead>\n",
       "    <tr style=\"text-align: right;\">\n",
       "      <th></th>\n",
       "      <th>RNA_Tuni_Rep1_0h</th>\n",
       "      <th>RNA_Tuni_Rep1_1h</th>\n",
       "      <th>RNA_Tuni_Rep1_4h</th>\n",
       "      <th>RNA_Tuni_Rep1_8h</th>\n",
       "      <th>RNA_Tuni_Rep2_0h</th>\n",
       "      <th>RNA_Tuni_Rep2_1h</th>\n",
       "      <th>RNA_Tuni_Rep2_4h</th>\n",
       "      <th>RNA_Tuni_Rep2_8h</th>\n",
       "      <th>RNA_Tuni_Rep3_0h</th>\n",
       "      <th>RNA_Tuni_Rep3_1h</th>\n",
       "      <th>...</th>\n",
       "      <th>RPF_H2O2_Rep1_4h</th>\n",
       "      <th>RPF_H2O2_Rep1_8h</th>\n",
       "      <th>RPF_H2O2_Rep2_0h</th>\n",
       "      <th>RPF_H2O2_Rep2_1h</th>\n",
       "      <th>RPF_H2O2_Rep2_4h</th>\n",
       "      <th>RPF_H2O2_Rep2_8h</th>\n",
       "      <th>RPF_H2O2_Rep3_0h</th>\n",
       "      <th>RPF_H2O2_Rep3_1h</th>\n",
       "      <th>RPF_H2O2_Rep3_4h</th>\n",
       "      <th>RPF_H2O2_Rep3_8h</th>\n",
       "    </tr>\n",
       "  </thead>\n",
       "  <tbody>\n",
       "    <tr>\n",
       "      <th>ENSG00000000003</th>\n",
       "      <td>1540</td>\n",
       "      <td>1089</td>\n",
       "      <td>1902</td>\n",
       "      <td>1459</td>\n",
       "      <td>1232</td>\n",
       "      <td>988</td>\n",
       "      <td>1566</td>\n",
       "      <td>1000</td>\n",
       "      <td>1630</td>\n",
       "      <td>946</td>\n",
       "      <td>...</td>\n",
       "      <td>842</td>\n",
       "      <td>929</td>\n",
       "      <td>623</td>\n",
       "      <td>688</td>\n",
       "      <td>923</td>\n",
       "      <td>868</td>\n",
       "      <td>669</td>\n",
       "      <td>754</td>\n",
       "      <td>469</td>\n",
       "      <td>571</td>\n",
       "    </tr>\n",
       "    <tr>\n",
       "      <th>ENSG00000000005</th>\n",
       "      <td>0</td>\n",
       "      <td>0</td>\n",
       "      <td>0</td>\n",
       "      <td>0</td>\n",
       "      <td>0</td>\n",
       "      <td>0</td>\n",
       "      <td>0</td>\n",
       "      <td>0</td>\n",
       "      <td>0</td>\n",
       "      <td>0</td>\n",
       "      <td>...</td>\n",
       "      <td>0</td>\n",
       "      <td>0</td>\n",
       "      <td>0</td>\n",
       "      <td>0</td>\n",
       "      <td>0</td>\n",
       "      <td>0</td>\n",
       "      <td>0</td>\n",
       "      <td>0</td>\n",
       "      <td>0</td>\n",
       "      <td>0</td>\n",
       "    </tr>\n",
       "    <tr>\n",
       "      <th>ENSG00000000419</th>\n",
       "      <td>1488</td>\n",
       "      <td>1270</td>\n",
       "      <td>1673</td>\n",
       "      <td>1648</td>\n",
       "      <td>990</td>\n",
       "      <td>998</td>\n",
       "      <td>1387</td>\n",
       "      <td>1135</td>\n",
       "      <td>1482</td>\n",
       "      <td>1169</td>\n",
       "      <td>...</td>\n",
       "      <td>1076</td>\n",
       "      <td>1124</td>\n",
       "      <td>1031</td>\n",
       "      <td>1000</td>\n",
       "      <td>1327</td>\n",
       "      <td>1386</td>\n",
       "      <td>1089</td>\n",
       "      <td>1199</td>\n",
       "      <td>559</td>\n",
       "      <td>762</td>\n",
       "    </tr>\n",
       "    <tr>\n",
       "      <th>ENSG00000000457</th>\n",
       "      <td>220</td>\n",
       "      <td>153</td>\n",
       "      <td>273</td>\n",
       "      <td>201</td>\n",
       "      <td>164</td>\n",
       "      <td>125</td>\n",
       "      <td>274</td>\n",
       "      <td>188</td>\n",
       "      <td>244</td>\n",
       "      <td>160</td>\n",
       "      <td>...</td>\n",
       "      <td>53</td>\n",
       "      <td>62</td>\n",
       "      <td>50</td>\n",
       "      <td>56</td>\n",
       "      <td>61</td>\n",
       "      <td>92</td>\n",
       "      <td>85</td>\n",
       "      <td>56</td>\n",
       "      <td>38</td>\n",
       "      <td>47</td>\n",
       "    </tr>\n",
       "    <tr>\n",
       "      <th>ENSG00000000460</th>\n",
       "      <td>592</td>\n",
       "      <td>362</td>\n",
       "      <td>741</td>\n",
       "      <td>476</td>\n",
       "      <td>417</td>\n",
       "      <td>375</td>\n",
       "      <td>671</td>\n",
       "      <td>370</td>\n",
       "      <td>670</td>\n",
       "      <td>399</td>\n",
       "      <td>...</td>\n",
       "      <td>305</td>\n",
       "      <td>325</td>\n",
       "      <td>293</td>\n",
       "      <td>245</td>\n",
       "      <td>392</td>\n",
       "      <td>373</td>\n",
       "      <td>367</td>\n",
       "      <td>340</td>\n",
       "      <td>194</td>\n",
       "      <td>192</td>\n",
       "    </tr>\n",
       "  </tbody>\n",
       "</table>\n",
       "<p>5 rows × 48 columns</p>\n",
       "</div>"
      ],
      "text/plain": [
       "                 RNA_Tuni_Rep1_0h  RNA_Tuni_Rep1_1h  RNA_Tuni_Rep1_4h  \\\n",
       "ENSG00000000003              1540              1089              1902   \n",
       "ENSG00000000005                 0                 0                 0   \n",
       "ENSG00000000419              1488              1270              1673   \n",
       "ENSG00000000457               220               153               273   \n",
       "ENSG00000000460               592               362               741   \n",
       "\n",
       "                 RNA_Tuni_Rep1_8h  RNA_Tuni_Rep2_0h  RNA_Tuni_Rep2_1h  \\\n",
       "ENSG00000000003              1459              1232               988   \n",
       "ENSG00000000005                 0                 0                 0   \n",
       "ENSG00000000419              1648               990               998   \n",
       "ENSG00000000457               201               164               125   \n",
       "ENSG00000000460               476               417               375   \n",
       "\n",
       "                 RNA_Tuni_Rep2_4h  RNA_Tuni_Rep2_8h  RNA_Tuni_Rep3_0h  \\\n",
       "ENSG00000000003              1566              1000              1630   \n",
       "ENSG00000000005                 0                 0                 0   \n",
       "ENSG00000000419              1387              1135              1482   \n",
       "ENSG00000000457               274               188               244   \n",
       "ENSG00000000460               671               370               670   \n",
       "\n",
       "                 RNA_Tuni_Rep3_1h        ...         RPF_H2O2_Rep1_4h  \\\n",
       "ENSG00000000003               946        ...                      842   \n",
       "ENSG00000000005                 0        ...                        0   \n",
       "ENSG00000000419              1169        ...                     1076   \n",
       "ENSG00000000457               160        ...                       53   \n",
       "ENSG00000000460               399        ...                      305   \n",
       "\n",
       "                 RPF_H2O2_Rep1_8h  RPF_H2O2_Rep2_0h  RPF_H2O2_Rep2_1h  \\\n",
       "ENSG00000000003               929               623               688   \n",
       "ENSG00000000005                 0                 0                 0   \n",
       "ENSG00000000419              1124              1031              1000   \n",
       "ENSG00000000457                62                50                56   \n",
       "ENSG00000000460               325               293               245   \n",
       "\n",
       "                 RPF_H2O2_Rep2_4h  RPF_H2O2_Rep2_8h  RPF_H2O2_Rep3_0h  \\\n",
       "ENSG00000000003               923               868               669   \n",
       "ENSG00000000005                 0                 0                 0   \n",
       "ENSG00000000419              1327              1386              1089   \n",
       "ENSG00000000457                61                92                85   \n",
       "ENSG00000000460               392               373               367   \n",
       "\n",
       "                 RPF_H2O2_Rep3_1h  RPF_H2O2_Rep3_4h  RPF_H2O2_Rep3_8h  \n",
       "ENSG00000000003               754               469               571  \n",
       "ENSG00000000005                 0                 0                 0  \n",
       "ENSG00000000419              1199               559               762  \n",
       "ENSG00000000457                56                38                47  \n",
       "ENSG00000000460               340               194               192  \n",
       "\n",
       "[5 rows x 48 columns]"
      ]
     },
     "execution_count": 2,
     "metadata": {},
     "output_type": "execute_result"
    }
   ],
   "source": [
    "tuni_data = xp.catenate_files('./GSE113171_RAW/')\n",
    "\n",
    "print('Mapping reads per sample:')\n",
    "print(tuni_data.sum(axis=0))\n",
    "\n",
    "tuni_data.index = tuni_data.index.str.split('.').str[0]\n",
    "tuni_data.columns = tuni_data.columns.str[11:]\n",
    "tuni_data.columns = tuni_data.columns.str.replace('_exon_counts.txt','')\n",
    "tuni_data.columns = tuni_data.columns.str.replace('_CDS_counts.txt','')\n",
    "tuni_data = tuni_data[[x for x in tuni_data.columns if not x.startswith('POP')]]\n",
    "\n",
    "li = []\n",
    "\n",
    "for x in tuni_data.columns.tolist():\n",
    "    li.append(x[:(x.rfind('_'))])\n",
    "    \n",
    "tuni_data.columns = li\n",
    "\n",
    "tuni_data.head()"
   ]
  },
  {
   "cell_type": "markdown",
   "metadata": {},
   "source": [
    "##### Threshold genes"
   ]
  },
  {
   "cell_type": "code",
   "execution_count": 3,
   "metadata": {},
   "outputs": [
    {
     "name": "stdout",
     "output_type": "stream",
     "text": [
      "20365 genes before thresholding\n",
      "12288 genes before thresholding\n"
     ]
    }
   ],
   "source": [
    "data_t = tuni_data.loc[tuni_data.max(axis=1) > 25]\n",
    "\n",
    "print(str(tuni_data.shape[0]) + ' genes before thresholding')\n",
    "print(str(data_t.shape[0]) + ' genes before thresholding')"
   ]
  },
  {
   "cell_type": "markdown",
   "metadata": {},
   "source": [
    "##### TPM Normalize"
   ]
  },
  {
   "cell_type": "code",
   "execution_count": 4,
   "metadata": {},
   "outputs": [],
   "source": [
    "data_tpm = xp.tpm(tuni_data, '/Users/jordan/Desktop/Homo_sapiens.GRCh38.95.gtf')\n",
    "data_t_tpm = xp.tpm(data_t, '/Users/jordan/Desktop/Homo_sapiens.GRCh38.95.gtf')"
   ]
  },
  {
   "cell_type": "markdown",
   "metadata": {},
   "source": [
    "##### Check that thresholded and non-thresholded give similiar TPM tables "
   ]
  },
  {
   "cell_type": "code",
   "execution_count": 5,
   "metadata": {},
   "outputs": [
    {
     "data": {
      "image/png": "[encoded data removed]",
      "text/plain": [
       "<Figure size 288x288 with 1 Axes>"
      ]
     },
     "metadata": {
      "needs_background": "light"
     },
     "output_type": "display_data"
    }
   ],
   "source": [
    "#Only get genes that passed the threshold\n",
    "data_tpm_test = data_tpm.reindex(labels=data_t_tpm.index.tolist())\n",
    "\n",
    "gene_a = data_tpm_test[['RPF_H2O2_Rep2_8h']].sum(axis=1).values.tolist()\n",
    "gene_a = [x + 1 for x in gene_a]\n",
    "gene_a = np.array(gene_a).astype(np.float)\n",
    "gene_a = np.ndarray.tolist(gene_a)\n",
    "\n",
    "gene_b = data_t_tpm[['RPF_H2O2_Rep2_8h']].sum(axis=1).values.tolist()\n",
    "gene_b = [x + 1 for x in gene_b]\n",
    "gene_b = np.array(gene_b).astype(np.float)\n",
    "gene_b = np.ndarray.tolist(gene_b)\n",
    "\n",
    "gene_a = np.log2(gene_a)\n",
    "gene_b = np.log2(gene_b)\n",
    "\n",
    "slope, intercept, r_value, p_value, std_err = stats.linregress(gene_a, gene_b)\n",
    "x = np.linspace(np.amin(gene_a), np.amax(gene_b), 100)\n",
    "y = (slope * x) + intercept\n",
    "\n",
    "fig, ax = plt.subplots(1,1, figsize=(4,4))\n",
    "\n",
    "ax.scatter(gene_a, gene_b, s=1,c='black')\n",
    "ax.set_title('R$^2$ = ' + str(r_value ** 2) + '\\np-value ' + str(p_value))\n",
    "ax.plot(x, y, '-r')\n",
    "\n",
    "plt.show()"
   ]
  },
  {
   "cell_type": "code",
   "execution_count": 6,
   "metadata": {},
   "outputs": [
    {
     "data": {
      "image/png": "[encoded data removed]",
      "text/plain": [
       "<Figure size 288x288 with 1 Axes>"
      ]
     },
     "metadata": {
      "needs_background": "light"
     },
     "output_type": "display_data"
    }
   ],
   "source": [
    "gene_a = data_t_tpm[['RPF_H2O2_Rep2_8h']].sum(axis=1).values.tolist()\n",
    "gene_a = [x + 1 for x in gene_a]\n",
    "gene_a = np.array(gene_a).astype(np.float)\n",
    "gene_a = np.ndarray.tolist(gene_a)\n",
    "\n",
    "gene_b = data_t_tpm[['RNA_H2O2_Rep2_8h']].sum(axis=1).values.tolist()\n",
    "gene_b = [x + 1 for x in gene_b]\n",
    "gene_b = np.array(gene_b).astype(np.float)\n",
    "gene_b = np.ndarray.tolist(gene_b)\n",
    "\n",
    "gene_a = np.log2(gene_a)\n",
    "gene_b = np.log2(gene_b)\n",
    "\n",
    "slope, intercept, r_value, p_value, std_err = stats.linregress(gene_a, gene_b)\n",
    "x = np.linspace(np.amin(gene_a), np.amax(gene_b), 100)\n",
    "y = (slope * x) + intercept\n",
    "\n",
    "fig, ax = plt.subplots(1,1, figsize=(4,4))\n",
    "\n",
    "ax.scatter(gene_a, gene_b, s=1,c='black')\n",
    "ax.set_title('R$^2$ = ' + str(r_value ** 2) + '\\np-value ' + str(p_value))\n",
    "ax.plot(x, y, '-r')\n",
    "\n",
    "plt.show()"
   ]
  },
  {
   "cell_type": "markdown",
   "metadata": {},
   "source": [
    "##### Convert gene names"
   ]
  },
  {
   "cell_type": "code",
   "execution_count": 7,
   "metadata": {},
   "outputs": [],
   "source": [
    "data_t_tpm = xp.convert_names_gtf(data_t_tpm, '/Users/jordan/Desktop/Homo_sapiens.GRCh38.95.gtf')"
   ]
  },
  {
   "cell_type": "markdown",
   "metadata": {},
   "source": [
    "##### Create subset datasets"
   ]
  },
  {
   "cell_type": "code",
   "execution_count": 8,
   "metadata": {},
   "outputs": [],
   "source": [
    "data_t_tpm_er = data_t_tpm[[x for x in data_t_tpm.columns if 'Tuni' in x]]\n",
    "\n",
    "data_t_tpm_ox = data_t_tpm[[x for x in data_t_tpm.columns if 'H2O2' in x]]"
   ]
  },
  {
   "cell_type": "code",
   "execution_count": 9,
   "metadata": {},
   "outputs": [],
   "source": [
    "data_rna = data_t_tpm[[x for x in data_t_tpm.columns if x.startswith('RNA')]]\n",
    "data_rpf = data_t_tpm[[x for x in data_t_tpm.columns if x.startswith('RPF')]]\n",
    "\n",
    "data_rna_er = data_rna[[x for x in data_rna.columns if 'Tuni' in x]]\n",
    "data_rna_ox = data_rna[[x for x in data_rna.columns if 'H2O2' in x]]\n",
    "\n",
    "data_rpf_er = data_rpf[[x for x in data_rpf.columns if 'Tuni' in x]]\n",
    "data_rpf_ox = data_rpf[[x for x in data_rpf.columns if 'H2O2' in x]]"
   ]
  },
  {
   "cell_type": "code",
   "execution_count": 10,
   "metadata": {},
   "outputs": [],
   "source": [
    "rna_er_info = pd.DataFrame({\n",
    "    0:['RNA_Tuni_Rep1_0h','RNA_Tuni_Rep1_1h','RNA_Tuni_Rep1_4h','RNA_Tuni_Rep1_8h',\n",
    "       'RNA_Tuni_Rep2_0h','RNA_Tuni_Rep2_1h','RNA_Tuni_Rep2_4h','RNA_Tuni_Rep2_8h',\n",
    "       'RNA_Tuni_Rep3_0h','RNA_Tuni_Rep3_1h','RNA_Tuni_Rep3_4h','RNA_Tuni_Rep3_8h'\n",
    "      ],\n",
    "    1:['tuni_0h','tuni_1h','tuni_4h','tuni_8h',\n",
    "       'tuni_0h','tuni_1h','tuni_4h','tuni_8h',\n",
    "       'tuni_0h','tuni_1h','tuni_4h','tuni_8h'\n",
    "      ]\n",
    "})\n",
    "\n",
    "rna_ox_info = pd.DataFrame({\n",
    "    0:['RNA_H2O2_Rep1_0h', 'RNA_H2O2_Rep1_1h', 'RNA_H2O2_Rep1_4h',\n",
    "       'RNA_H2O2_Rep1_8h', 'RNA_H2O2_Rep2_0h', 'RNA_H2O2_Rep2_1h',\n",
    "       'RNA_H2O2_Rep2_4h', 'RNA_H2O2_Rep2_8h', 'RNA_H2O2_Rep3_0h',\n",
    "       'RNA_H2O2_Rep3_1h', 'RNA_H2O2_Rep3_4h', 'RNA_H2O2_Rep3_8h'],\n",
    "    1:['h2o2_0h','h2o2_1h','h2o2_4h','h2o2_8h',\n",
    "       'h2o2_0h','h2o2_1h','h2o2_4h','h2o2_8h',\n",
    "       'h2o2_0h','h2o2_1h','h2o2_4h','h2o2_8h'\n",
    "      ]\n",
    "})"
   ]
  },
  {
   "cell_type": "markdown",
   "metadata": {},
   "source": [
    "##### Calculate translation efficiencies"
   ]
  },
  {
   "cell_type": "code",
   "execution_count": 11,
   "metadata": {},
   "outputs": [],
   "source": [
    "data_te = data_t_tpm.copy()\n",
    "\n",
    "#Tunicamycin (ER stress)\n",
    "data_te['Tuni_Rep1_0h'] = data_te['RPF_Tuni_Rep1_0h'] / data_te['RNA_Tuni_Rep1_0h']\n",
    "data_te['Tuni_Rep1_1h'] = data_te['RPF_Tuni_Rep1_1h'] / data_te['RNA_Tuni_Rep1_1h']\n",
    "data_te['Tuni_Rep1_4h'] = data_te['RPF_Tuni_Rep1_4h'] / data_te['RNA_Tuni_Rep1_4h']\n",
    "data_te['Tuni_Rep1_8h'] = data_te['RPF_Tuni_Rep1_8h'] / data_te['RNA_Tuni_Rep1_8h']\n",
    "\n",
    "data_te['Tuni_Rep2_0h'] = data_te['RPF_Tuni_Rep2_0h'] / data_te['RNA_Tuni_Rep2_0h']\n",
    "data_te['Tuni_Rep2_1h'] = data_te['RPF_Tuni_Rep2_1h'] / data_te['RNA_Tuni_Rep2_1h']\n",
    "data_te['Tuni_Rep2_4h'] = data_te['RPF_Tuni_Rep2_4h'] / data_te['RNA_Tuni_Rep2_4h']\n",
    "data_te['Tuni_Rep2_8h'] = data_te['RPF_Tuni_Rep2_8h'] / data_te['RNA_Tuni_Rep2_8h']\n",
    "\n",
    "data_te['Tuni_Rep3_0h'] = data_te['RPF_Tuni_Rep3_0h'] / data_te['RNA_Tuni_Rep3_0h']\n",
    "data_te['Tuni_Rep3_1h'] = data_te['RPF_Tuni_Rep3_1h'] / data_te['RNA_Tuni_Rep3_1h']\n",
    "data_te['Tuni_Rep3_4h'] = data_te['RPF_Tuni_Rep3_4h'] / data_te['RNA_Tuni_Rep3_4h']\n",
    "data_te['Tuni_Rep3_8h'] = data_te['RPF_Tuni_Rep3_8h'] / data_te['RNA_Tuni_Rep3_8h']\n",
    "\n",
    "#H2O2 (oxidative stress)\n",
    "data_te['H2O2_Rep1_0h'] = data_te['RPF_H2O2_Rep1_0h'] / data_te['RNA_H2O2_Rep1_0h']\n",
    "data_te['H2O2_Rep1_1h'] = data_te['RPF_H2O2_Rep1_1h'] / data_te['RNA_H2O2_Rep1_1h']\n",
    "data_te['H2O2_Rep1_4h'] = data_te['RPF_H2O2_Rep1_4h'] / data_te['RNA_H2O2_Rep1_4h']\n",
    "data_te['H2O2_Rep1_8h'] = data_te['RPF_H2O2_Rep1_8h'] / data_te['RNA_H2O2_Rep1_8h']\n",
    "\n",
    "data_te['H2O2_Rep2_0h'] = data_te['RPF_H2O2_Rep2_0h'] / data_te['RNA_H2O2_Rep2_0h']\n",
    "data_te['H2O2_Rep2_1h'] = data_te['RPF_H2O2_Rep2_1h'] / data_te['RNA_H2O2_Rep2_1h']\n",
    "data_te['H2O2_Rep2_4h'] = data_te['RPF_H2O2_Rep2_4h'] / data_te['RNA_H2O2_Rep2_4h']\n",
    "data_te['H2O2_Rep2_8h'] = data_te['RPF_H2O2_Rep2_8h'] / data_te['RNA_H2O2_Rep2_8h']\n",
    "\n",
    "data_te['H2O2_Rep3_0h'] = data_te['RPF_H2O2_Rep3_0h'] / data_te['RNA_H2O2_Rep3_0h']\n",
    "data_te['H2O2_Rep3_1h'] = data_te['RPF_H2O2_Rep3_1h'] / data_te['RNA_H2O2_Rep3_1h']\n",
    "data_te['H2O2_Rep3_4h'] = data_te['RPF_H2O2_Rep3_4h'] / data_te['RNA_H2O2_Rep3_4h']\n",
    "data_te['H2O2_Rep3_8h'] = data_te['RPF_H2O2_Rep3_8h'] / data_te['RNA_H2O2_Rep3_8h']\n",
    "\n",
    "data_te = data_te[['Tuni_Rep1_0h','Tuni_Rep1_1h','Tuni_Rep1_4h','Tuni_Rep1_8h',\n",
    "                   'Tuni_Rep2_0h','Tuni_Rep2_1h','Tuni_Rep2_4h','Tuni_Rep2_8h',\n",
    "                   'Tuni_Rep3_0h','Tuni_Rep3_1h','Tuni_Rep3_4h','Tuni_Rep3_8h',\n",
    "                   'H2O2_Rep1_0h','H2O2_Rep1_1h','H2O2_Rep1_4h','H2O2_Rep1_8h',\n",
    "                   'H2O2_Rep2_0h','H2O2_Rep2_1h','H2O2_Rep2_4h','H2O2_Rep2_8h',\n",
    "                   'H2O2_Rep3_0h','H2O2_Rep3_1h','H2O2_Rep3_4h','H2O2_Rep3_8h'\n",
    "                  ]]\n",
    "\n",
    "data_logte = data_te.copy()\n",
    "data_logte = data_logte[(data_logte != 0).all(1)]\n",
    "\n",
    "data_logte = np.log2(data_logte)\n",
    "\n",
    "data_logte_er = data_logte[[x for x in data_logte.columns if 'Tuni' in x]]\n",
    "data_logte_ox = data_logte[[x for x in data_logte.columns if 'H2O2' in x]]"
   ]
  },
  {
   "cell_type": "markdown",
   "metadata": {},
   "source": [
    "##### TE info table"
   ]
  },
  {
   "cell_type": "code",
   "execution_count": 12,
   "metadata": {},
   "outputs": [],
   "source": [
    "te_info = pd.DataFrame({\n",
    "    0:['Tuni_Rep1_0h','Tuni_Rep1_1h','Tuni_Rep1_4h','Tuni_Rep1_8h',\n",
    "       'Tuni_Rep2_0h','Tuni_Rep2_1h','Tuni_Rep2_4h','Tuni_Rep2_8h',\n",
    "       'Tuni_Rep3_0h','Tuni_Rep3_1h','Tuni_Rep3_4h','Tuni_Rep3_8h',\n",
    "       'H2O2_Rep1_0h','H2O2_Rep1_1h','H2O2_Rep1_4h','H2O2_Rep1_8h',\n",
    "       'H2O2_Rep2_0h','H2O2_Rep2_1h','H2O2_Rep2_4h','H2O2_Rep2_8h',\n",
    "       'H2O2_Rep3_0h','H2O2_Rep3_1h','H2O2_Rep3_4h','H2O2_Rep3_8h'\n",
    "      ],\n",
    "    1:['tuni_0h','tuni_1h','tuni_4h','tuni_8h',\n",
    "       'tuni_0h','tuni_1h','tuni_4h','tuni_8h',\n",
    "       'tuni_0h','tuni_1h','tuni_4h','tuni_8h',\n",
    "       'h2o2_0h','h2o2_1h','h2o2_4h','h2o2_8h',\n",
    "       'h2o2_0h','h2o2_1h','h2o2_4h','h2o2_8h',\n",
    "       'h2o2_0h','h2o2_1h','h2o2_4h','h2o2_8h'\n",
    "      ]\n",
    "})"
   ]
  },
  {
   "cell_type": "markdown",
   "metadata": {},
   "source": [
    "# Analysis"
   ]
  },
  {
   "cell_type": "code",
   "execution_count": 13,
   "metadata": {},
   "outputs": [],
   "source": [
    "data_t_tpm_er = data_t_tpm_er[['RNA_Tuni_Rep1_0h','RNA_Tuni_Rep2_0h','RNA_Tuni_Rep3_0h',\n",
    "                              'RNA_Tuni_Rep1_1h','RNA_Tuni_Rep2_1h','RNA_Tuni_Rep3_1h',\n",
    "                              'RNA_Tuni_Rep1_4h','RNA_Tuni_Rep2_4h','RNA_Tuni_Rep3_4h',\n",
    "                               'RNA_Tuni_Rep1_8h','RNA_Tuni_Rep2_8h','RNA_Tuni_Rep3_8h',\n",
    "                               \n",
    "                               'RPF_Tuni_Rep1_0h','RPF_Tuni_Rep2_0h','RPF_Tuni_Rep3_0h',\n",
    "                              'RPF_Tuni_Rep1_1h','RPF_Tuni_Rep2_1h','RPF_Tuni_Rep3_1h',\n",
    "                              'RPF_Tuni_Rep1_4h','RPF_Tuni_Rep2_4h','RPF_Tuni_Rep3_4h',\n",
    "                               'RPF_Tuni_Rep1_8h','RPF_Tuni_Rep2_8h','RPF_Tuni_Rep3_8h'\n",
    "                              ]]"
   ]
  },
  {
   "cell_type": "code",
   "execution_count": 14,
   "metadata": {},
   "outputs": [],
   "source": [
    "mitocarta = pd.read_csv('./human_mitocarta_gene_list.txt',sep='\\t', header=None)\n",
    "mitocarta = mitocarta[0].tolist()\n",
    "\n",
    "enzymes = pd.read_csv('./reactome_metabolism_enzymes_gene_list.txt',sep='\\t', header=None)\n",
    "enzymes = enzymes[0].tolist()"
   ]
  },
  {
   "cell_type": "code",
   "execution_count": null,
   "metadata": {},
   "outputs": [],
   "source": []
  },
  {
   "cell_type": "code",
   "execution_count": 78,
   "metadata": {},
   "outputs": [],
   "source": [
    "data_er = data_t_tpm_er.copy()\n",
    "\n",
    "data_er = data_er[~data_er.index.duplicated(keep='first')]\n",
    "\n",
    "data_er_mitocarta_1hr = data_er[['RNA_Tuni_Rep1_0h','RNA_Tuni_Rep2_0h','RNA_Tuni_Rep3_0h',\n",
    "                                 'RNA_Tuni_Rep1_1h','RNA_Tuni_Rep2_1h','RNA_Tuni_Rep3_1h',\n",
    "                                 'RPF_Tuni_Rep1_0h','RPF_Tuni_Rep2_0h','RPF_Tuni_Rep3_0h',\n",
    "                                 'RPF_Tuni_Rep1_1h','RPF_Tuni_Rep2_1h','RPF_Tuni_Rep3_1h'\n",
    "                                ]]\n",
    "\n",
    "data_er_mitocarta_4hr = data_er[['RNA_Tuni_Rep1_0h','RNA_Tuni_Rep2_0h','RNA_Tuni_Rep3_0h',\n",
    "                                 'RNA_Tuni_Rep1_4h','RNA_Tuni_Rep2_4h','RNA_Tuni_Rep3_4h',\n",
    "                                 'RPF_Tuni_Rep1_0h','RPF_Tuni_Rep2_0h','RPF_Tuni_Rep3_0h',\n",
    "                                 'RPF_Tuni_Rep1_4h','RPF_Tuni_Rep2_4h','RPF_Tuni_Rep3_4h']]\n",
    "\n",
    "data_er_mitocarta_8hr = data_er[['RNA_Tuni_Rep1_0h','RNA_Tuni_Rep2_0h','RNA_Tuni_Rep3_0h',\n",
    "                                 'RNA_Tuni_Rep1_8h','RNA_Tuni_Rep2_8h','RNA_Tuni_Rep3_8h',\n",
    "                                 'RPF_Tuni_Rep1_0h','RPF_Tuni_Rep2_0h','RPF_Tuni_Rep3_0h',\n",
    "                                 'RPF_Tuni_Rep1_8h','RPF_Tuni_Rep2_8h','RPF_Tuni_Rep3_8h']]"
   ]
  },
  {
   "cell_type": "code",
   "execution_count": null,
   "metadata": {},
   "outputs": [],
   "source": []
  },
  {
   "cell_type": "code",
   "execution_count": 79,
   "metadata": {},
   "outputs": [],
   "source": [
    "#Aggregate fold changes for 1hr timepoint\n",
    "data_er_mitocarta_1hr['RNA_Tuni_0h'] = data_er_mitocarta_1hr['RNA_Tuni_Rep1_0h'] \\\n",
    "                                        + data_er_mitocarta_1hr['RNA_Tuni_Rep2_0h'] \\\n",
    "                                        + data_er_mitocarta_1hr['RNA_Tuni_Rep3_0h']\n",
    "data_er_mitocarta_1hr['RNA_Tuni_1h'] = data_er_mitocarta_1hr['RNA_Tuni_Rep1_1h'] \\\n",
    "                                        + data_er_mitocarta_1hr['RNA_Tuni_Rep2_1h'] \\\n",
    "                                        + data_er_mitocarta_1hr['RNA_Tuni_Rep3_1h']\n",
    "data_er_mitocarta_1hr['RPF_Tuni_0h'] = data_er_mitocarta_1hr['RPF_Tuni_Rep1_0h'] \\\n",
    "                                        + data_er_mitocarta_1hr['RPF_Tuni_Rep2_0h'] \\\n",
    "                                        + data_er_mitocarta_1hr['RPF_Tuni_Rep3_0h']\n",
    "data_er_mitocarta_1hr['RPF_Tuni_1h'] = data_er_mitocarta_1hr['RPF_Tuni_Rep1_1h'] \\\n",
    "                                        + data_er_mitocarta_1hr['RPF_Tuni_Rep2_1h'] \\\n",
    "                                        + data_er_mitocarta_1hr['RPF_Tuni_Rep3_1h']\n",
    "data_er_mitocarta_1hr['RNA_fc'] = data_er_mitocarta_1hr['RNA_Tuni_1h'] \\\n",
    "                                    / data_er_mitocarta_1hr['RNA_Tuni_0h']\n",
    "data_er_mitocarta_1hr['RPF_fc'] = data_er_mitocarta_1hr['RPF_Tuni_1h'] \\\n",
    "                                    / data_er_mitocarta_1hr['RPF_Tuni_0h']\n",
    "data_er_mitocarta_1hr = data_er_mitocarta_1hr[['RNA_fc','RPF_fc']]\n",
    "\n",
    "\n",
    "#Aggregate fold changes for 4hr timepoint\n",
    "data_er_mitocarta_4hr['RNA_Tuni_0h'] = data_er_mitocarta_4hr['RNA_Tuni_Rep1_0h'] \\\n",
    "                                        + data_er_mitocarta_4hr['RNA_Tuni_Rep2_0h'] \\\n",
    "                                        + data_er_mitocarta_4hr['RNA_Tuni_Rep3_0h']\n",
    "data_er_mitocarta_4hr['RNA_Tuni_4h'] = data_er_mitocarta_4hr['RNA_Tuni_Rep1_4h'] \\\n",
    "                                        + data_er_mitocarta_4hr['RNA_Tuni_Rep2_4h'] \\\n",
    "                                        + data_er_mitocarta_4hr['RNA_Tuni_Rep3_4h']\n",
    "data_er_mitocarta_4hr['RPF_Tuni_0h'] = data_er_mitocarta_4hr['RPF_Tuni_Rep1_0h'] \\\n",
    "                                        + data_er_mitocarta_4hr['RPF_Tuni_Rep2_0h'] \\\n",
    "                                        + data_er_mitocarta_4hr['RPF_Tuni_Rep3_0h']\n",
    "data_er_mitocarta_4hr['RPF_Tuni_4h'] = data_er_mitocarta_4hr['RPF_Tuni_Rep1_4h'] \\\n",
    "                                        + data_er_mitocarta_4hr['RPF_Tuni_Rep2_4h'] \\\n",
    "                                        + data_er_mitocarta_4hr['RPF_Tuni_Rep3_4h']\n",
    "data_er_mitocarta_4hr['RNA_fc'] = data_er_mitocarta_4hr['RNA_Tuni_4h'] \\\n",
    "                                        / data_er_mitocarta_4hr['RNA_Tuni_0h']\n",
    "data_er_mitocarta_4hr['RPF_fc'] = data_er_mitocarta_4hr['RPF_Tuni_4h'] \\\n",
    "                                        / data_er_mitocarta_4hr['RPF_Tuni_0h']\n",
    "data_er_mitocarta_4hr = data_er_mitocarta_4hr[['RNA_fc','RPF_fc']]\n",
    "\n",
    "\n",
    "#Aggregate fold changes for 8hr timepoint\n",
    "data_er_mitocarta_8hr['RNA_Tuni_0h'] = data_er_mitocarta_8hr['RNA_Tuni_Rep1_0h'] \\\n",
    "                                        + data_er_mitocarta_8hr['RNA_Tuni_Rep2_0h'] \\\n",
    "                                        + data_er_mitocarta_8hr['RNA_Tuni_Rep3_0h']\n",
    "data_er_mitocarta_8hr['RNA_Tuni_8h'] = data_er_mitocarta_8hr['RNA_Tuni_Rep1_8h'] \\\n",
    "                                        + data_er_mitocarta_8hr['RNA_Tuni_Rep2_8h'] \\\n",
    "                                        + data_er_mitocarta_8hr['RNA_Tuni_Rep3_8h']\n",
    "data_er_mitocarta_8hr['RPF_Tuni_0h'] = data_er_mitocarta_8hr['RPF_Tuni_Rep1_0h'] \\\n",
    "                                        + data_er_mitocarta_8hr['RPF_Tuni_Rep2_0h'] \\\n",
    "                                        + data_er_mitocarta_8hr['RPF_Tuni_Rep3_0h']\n",
    "data_er_mitocarta_8hr['RPF_Tuni_8h'] = data_er_mitocarta_8hr['RPF_Tuni_Rep1_8h'] \\\n",
    "                                        + data_er_mitocarta_8hr['RPF_Tuni_Rep2_8h'] \\\n",
    "                                        + data_er_mitocarta_8hr['RPF_Tuni_Rep3_8h']\n",
    "data_er_mitocarta_8hr['RNA_fc'] = data_er_mitocarta_8hr['RNA_Tuni_8h'] \\\n",
    "                                        / data_er_mitocarta_8hr['RNA_Tuni_0h']\n",
    "data_er_mitocarta_8hr['RPF_fc'] = data_er_mitocarta_8hr['RPF_Tuni_8h'] \\\n",
    "                                        / data_er_mitocarta_8hr['RPF_Tuni_0h']\n",
    "data_er_mitocarta_8hr = data_er_mitocarta_8hr[['RNA_fc','RPF_fc']]"
   ]
  },
  {
   "cell_type": "code",
   "execution_count": 80,
   "metadata": {},
   "outputs": [],
   "source": [
    "data_er_mitocarta_1hr = data_er_mitocarta_1hr.dropna()\n",
    "data_er_mitocarta_4hr = data_er_mitocarta_4hr.dropna()\n",
    "data_er_mitocarta_8hr = data_er_mitocarta_8hr.dropna()"
   ]
  },
  {
   "cell_type": "code",
   "execution_count": 81,
   "metadata": {},
   "outputs": [
    {
     "name": "stdout",
     "output_type": "stream",
     "text": [
      "(1158, 2)\n"
     ]
    }
   ],
   "source": [
    "data_er_mitocarta_1hr_sub = data_er_mitocarta_1hr.reindex(labels=mitocarta)\n",
    "print(data_er_mitocarta_1hr_sub.shape)"
   ]
  },
  {
   "cell_type": "code",
   "execution_count": 99,
   "metadata": {},
   "outputs": [
    {
     "data": {
      "text/plain": [
       "<function matplotlib.pyplot.show(*args, **kw)>"
      ]
     },
     "execution_count": 99,
     "metadata": {},
     "output_type": "execute_result"
    },
    {
     "data": {
      "text/plain": [
       "<Figure size 432x288 with 0 Axes>"
      ]
     },
     "metadata": {},
     "output_type": "display_data"
    },
    {
     "data": {
      "image/png": "[encoded data removed]",
      "text/plain": [
       "<Figure size 504x504 with 1 Axes>"
      ]
     },
     "metadata": {
      "needs_background": "light"
     },
     "output_type": "display_data"
    }
   ],
   "source": [
    "plt.close()\n",
    "plt.clf()\n",
    "\n",
    "#Prepare plot\n",
    "fig, ax = plt.subplots(1,1, figsize=(7,7))\n",
    "plt.grid(False)\n",
    "\n",
    "ax.axhline(1, ls='-', color='black')\n",
    "ax.axvline(1, ls='-', color='black')\n",
    "\n",
    "ax.axhline(2, ls='--', color='gray')\n",
    "ax.axhline(0.5, ls='--', color='gray')\n",
    "\n",
    "ax.set_ylabel(\"Ribo-Seq (1hr Tm/0hr Tm)\", fontsize=16)\n",
    "ax.set_xlabel(\"mRNA-Seq (1hr Tm/0hr Tm)\", fontsize=16)\n",
    "ax.set_xlim(.125,8.5)\n",
    "ax.set_ylim(.125,8.5)\n",
    "ax.set_facecolor(\"#FFFFFF\")\n",
    "\n",
    "for index, row in data_er_mitocarta_1hr.iterrows():\n",
    "    if index in ['CPS1', 'NGRN', 'SLMO1', 'CPT1B', 'UCP2', 'OBSCN', 'ACCS']:\n",
    "        ax.text(row[0] + 0.05, row[1], str(index), horizontalalignment='left', size='medium', color='#be00be', weight='semibold')\n",
    "    elif index in ['HOGA1','SLC25A27','TUBB3','MTCP1']:\n",
    "        ax.text(row[0] + 0.05, row[1], str(index), horizontalalignment='left', size='medium', color='green', weight='semibold')\n",
    "    else:\n",
    "        pass\n",
    "\n",
    "x = [.125,.250,.500,1,2,4,8]\n",
    "ticks = [\"1/8\",\"1/4\",\"1/2\",\"1\",\"2\",\"4\",\"8\"]\n",
    "\n",
    "ax.set_xscale('log', basex=2)\n",
    "ax.set_xticks(x)\n",
    "ax.set_xticklabels(ticks, fontsize=12)\n",
    "ax.set_xticklabels([\"\"]*len(x), minor=True)\n",
    "\n",
    "ax.set_yscale('log', basey=2)\n",
    "ax.set_yticks(x)\n",
    "ax.set_yticklabels(ticks, fontsize=12)\n",
    "ax.set_yticklabels([\"\"]*len(x), minor=True)\n",
    "\n",
    "#Prep data\n",
    "#All\n",
    "ribo_all = data_er_mitocarta_1hr[['RPF_fc']].sum(axis=1).values.tolist()\n",
    "ribo_all = np.array(ribo_all).astype(np.float)\n",
    "ribo_all = np.ndarray.tolist(ribo_all)\n",
    "\n",
    "rna_all = data_er_mitocarta_1hr[['RNA_fc']].sum(axis=1).values.tolist()\n",
    "rna_all = np.array(rna_all).astype(np.float)\n",
    "rna_all = np.ndarray.tolist(rna_all)\n",
    "\n",
    "#ORFs\n",
    "ribo_mito = data_er_mitocarta_1hr_sub[['RPF_fc']].sum(axis=1).values.tolist()\n",
    "ribo_mito = np.array(ribo_mito).astype(np.float)\n",
    "ribo_mito = np.ndarray.tolist(ribo_mito)\n",
    "\n",
    "rna_mito = data_er_mitocarta_1hr_sub[['RNA_fc']].sum(axis=1).values.tolist()\n",
    "rna_mito = np.array(rna_mito).astype(np.float)\n",
    "rna_mito = np.ndarray.tolist(rna_mito)\n",
    "\n",
    "#Plot data\n",
    "ax.scatter(rna_all, ribo_all, s=.5,c='gray')\n",
    "ax.scatter(rna_mito, ribo_mito, s=10,c='#002c80')\n",
    "\n",
    "plt.savefig('./plots/tm_cancer_mitocarta_1hr.pdf', dpi=1800, bbox_inches='tight')\n",
    "\n",
    "plt.show"
   ]
  },
  {
   "cell_type": "code",
   "execution_count": null,
   "metadata": {},
   "outputs": [],
   "source": []
  },
  {
   "cell_type": "code",
   "execution_count": 42,
   "metadata": {},
   "outputs": [
    {
     "name": "stdout",
     "output_type": "stream",
     "text": [
      "(1158, 2)\n"
     ]
    }
   ],
   "source": [
    "data_er_mitocarta_4hr_sub = data_er_mitocarta_4hr.reindex(labels=mitocarta)\n",
    "print(data_er_mitocarta_4hr_sub.shape)"
   ]
  },
  {
   "cell_type": "code",
   "execution_count": 100,
   "metadata": {},
   "outputs": [
    {
     "data": {
      "text/plain": [
       "<function matplotlib.pyplot.show(*args, **kw)>"
      ]
     },
     "execution_count": 100,
     "metadata": {},
     "output_type": "execute_result"
    },
    {
     "data": {
      "text/plain": [
       "<Figure size 432x288 with 0 Axes>"
      ]
     },
     "metadata": {},
     "output_type": "display_data"
    },
    {
     "data": {
      "image/png": "[encoded data removed]",
      "text/plain": [
       "<Figure size 504x504 with 1 Axes>"
      ]
     },
     "metadata": {
      "needs_background": "light"
     },
     "output_type": "display_data"
    }
   ],
   "source": [
    "plt.close()\n",
    "plt.clf()\n",
    "\n",
    "#Prepare plot\n",
    "fig, ax = plt.subplots(1,1, figsize=(7,7))\n",
    "plt.grid(False)\n",
    "\n",
    "ax.axhline(1, ls='-', color='black')\n",
    "ax.axvline(1, ls='-', color='black')\n",
    "\n",
    "ax.axhline(2, ls='--', color='gray')\n",
    "ax.axhline(0.5, ls='--', color='gray')\n",
    "\n",
    "ax.set_ylabel(\"Ribo-Seq (4hr Tm/0hr Tm)\", fontsize=16)\n",
    "ax.set_xlabel(\"mRNA-Seq (4hr Tm/0hr Tm)\", fontsize=16)\n",
    "ax.set_xlim(.125,8.5)\n",
    "ax.set_ylim(.125,8.5)\n",
    "ax.set_facecolor(\"#FFFFFF\")\n",
    "\n",
    "for index, row in data_er_mitocarta_4hr.iterrows():\n",
    "    if index in ['CPS1', 'NGRN', 'SLMO1', 'CPT1B', 'UCP2', 'OBSCN', 'ACCS']:\n",
    "        ax.text(row[0] + 0.05, row[1], str(index), horizontalalignment='left', size='medium', color='#be00be', weight='semibold')\n",
    "    elif index in ['HOGA1','SLC25A27','TUBB3','MTCP1']:\n",
    "        ax.text(row[0] + 0.05, row[1], str(index), horizontalalignment='left', size='medium', color='green', weight='semibold')\n",
    "    else:\n",
    "        pass\n",
    "\n",
    "x = [.125,.250,.500,1,2,4,8]\n",
    "ticks = [\"1/8\",\"1/4\",\"1/2\",\"1\",\"2\",\"4\",\"8\"]\n",
    "\n",
    "ax.set_xscale('log', basex=2)\n",
    "ax.set_xticks(x)\n",
    "ax.set_xticklabels(ticks, fontsize=12)\n",
    "ax.set_xticklabels([\"\"]*len(x), minor=True)\n",
    "\n",
    "ax.set_yscale('log', basey=2)\n",
    "ax.set_yticks(x)\n",
    "ax.set_yticklabels(ticks, fontsize=12)\n",
    "ax.set_yticklabels([\"\"]*len(x), minor=True)\n",
    "\n",
    "#Prep data\n",
    "#All\n",
    "ribo_all = data_er_mitocarta_4hr[['RPF_fc']].sum(axis=1).values.tolist()\n",
    "ribo_all = np.array(ribo_all).astype(np.float)\n",
    "ribo_all = np.ndarray.tolist(ribo_all)\n",
    "\n",
    "rna_all = data_er_mitocarta_4hr[['RNA_fc']].sum(axis=1).values.tolist()\n",
    "rna_all = np.array(rna_all).astype(np.float)\n",
    "rna_all = np.ndarray.tolist(rna_all)\n",
    "\n",
    "#ORFs\n",
    "ribo_mito = data_er_mitocarta_4hr_sub[['RPF_fc']].sum(axis=1).values.tolist()\n",
    "ribo_mito = np.array(ribo_mito).astype(np.float)\n",
    "ribo_mito = np.ndarray.tolist(ribo_mito)\n",
    "\n",
    "rna_mito = data_er_mitocarta_4hr_sub[['RNA_fc']].sum(axis=1).values.tolist()\n",
    "rna_mito = np.array(rna_mito).astype(np.float)\n",
    "rna_mito = np.ndarray.tolist(rna_mito)\n",
    "\n",
    "#Plot data\n",
    "ax.scatter(rna_all, ribo_all, s=.5,c='gray')\n",
    "ax.scatter(rna_mito, ribo_mito, s=10,c='#002c80')\n",
    "\n",
    "plt.savefig('./plots/tm_cancer_mitocarta_4hr.pdf', dpi=1800, bbox_inches='tight')\n",
    "\n",
    "plt.show"
   ]
  },
  {
   "cell_type": "code",
   "execution_count": 66,
   "metadata": {},
   "outputs": [
    {
     "name": "stdout",
     "output_type": "stream",
     "text": [
      "(1158, 2)\n"
     ]
    }
   ],
   "source": [
    "data_er_mitocarta_8hr_sub = data_er_mitocarta_8hr.reindex(labels=mitocarta)\n",
    "print(data_er_mitocarta_8hr_sub.shape)"
   ]
  },
  {
   "cell_type": "code",
   "execution_count": 69,
   "metadata": {},
   "outputs": [
    {
     "data": {
      "text/html": [
       "<div>\n",
       "<style scoped>\n",
       "    .dataframe tbody tr th:only-of-type {\n",
       "        vertical-align: middle;\n",
       "    }\n",
       "\n",
       "    .dataframe tbody tr th {\n",
       "        vertical-align: top;\n",
       "    }\n",
       "\n",
       "    .dataframe thead th {\n",
       "        text-align: right;\n",
       "    }\n",
       "</style>\n",
       "<table border=\"1\" class=\"dataframe\">\n",
       "  <thead>\n",
       "    <tr style=\"text-align: right;\">\n",
       "      <th></th>\n",
       "      <th>RNA_fc</th>\n",
       "      <th>RPF_fc</th>\n",
       "    </tr>\n",
       "  </thead>\n",
       "  <tbody>\n",
       "    <tr>\n",
       "      <th>CPS1</th>\n",
       "      <td>1.056202</td>\n",
       "      <td>1.102840</td>\n",
       "    </tr>\n",
       "    <tr>\n",
       "      <th>NGRN</th>\n",
       "      <td>0.886946</td>\n",
       "      <td>1.332534</td>\n",
       "    </tr>\n",
       "    <tr>\n",
       "      <th>SLMO1</th>\n",
       "      <td>NaN</td>\n",
       "      <td>NaN</td>\n",
       "    </tr>\n",
       "    <tr>\n",
       "      <th>CPT1B</th>\n",
       "      <td>NaN</td>\n",
       "      <td>NaN</td>\n",
       "    </tr>\n",
       "    <tr>\n",
       "      <th>UCP2</th>\n",
       "      <td>0.915873</td>\n",
       "      <td>1.286483</td>\n",
       "    </tr>\n",
       "    <tr>\n",
       "      <th>OBSCN</th>\n",
       "      <td>1.246752</td>\n",
       "      <td>1.265971</td>\n",
       "    </tr>\n",
       "    <tr>\n",
       "      <th>ACCS</th>\n",
       "      <td>1.207008</td>\n",
       "      <td>0.824497</td>\n",
       "    </tr>\n",
       "  </tbody>\n",
       "</table>\n",
       "</div>"
      ],
      "text/plain": [
       "         RNA_fc    RPF_fc\n",
       "CPS1   1.056202  1.102840\n",
       "NGRN   0.886946  1.332534\n",
       "SLMO1       NaN       NaN\n",
       "CPT1B       NaN       NaN\n",
       "UCP2   0.915873  1.286483\n",
       "OBSCN  1.246752  1.265971\n",
       "ACCS   1.207008  0.824497"
      ]
     },
     "execution_count": 69,
     "metadata": {},
     "output_type": "execute_result"
    }
   ],
   "source": [
    "data_er_mitocarta_8hr_sub.reindex(labels=['CPS1', 'NGRN', 'SLMO1', 'CPT1B', 'UCP2', 'OBSCN', 'ACCS'])"
   ]
  },
  {
   "cell_type": "code",
   "execution_count": 101,
   "metadata": {},
   "outputs": [
    {
     "data": {
      "text/plain": [
       "<function matplotlib.pyplot.show(*args, **kw)>"
      ]
     },
     "execution_count": 101,
     "metadata": {},
     "output_type": "execute_result"
    },
    {
     "data": {
      "text/plain": [
       "<Figure size 432x288 with 0 Axes>"
      ]
     },
     "metadata": {},
     "output_type": "display_data"
    },
    {
     "data": {
      "image/png": "[encoded data removed]",
      "text/plain": [
       "<Figure size 504x504 with 1 Axes>"
      ]
     },
     "metadata": {
      "needs_background": "light"
     },
     "output_type": "display_data"
    }
   ],
   "source": [
    "plt.close()\n",
    "plt.clf()\n",
    "\n",
    "#Prepare plot\n",
    "fig, ax = plt.subplots(1,1, figsize=(7,7))\n",
    "plt.grid(False)\n",
    "\n",
    "ax.axhline(1, ls='-', color='black')\n",
    "ax.axvline(1, ls='-', color='black')\n",
    "\n",
    "ax.axhline(2, ls='--', color='gray')\n",
    "ax.axhline(0.5, ls='--', color='gray')\n",
    "\n",
    "ax.set_ylabel(\"Ribo-Seq (8hr Tm/0hr Tm)\", fontsize=16)\n",
    "ax.set_xlabel(\"mRNA-Seq (8hr Tm/0hr Tm)\", fontsize=16)\n",
    "ax.set_xlim(.125,8.5)\n",
    "ax.set_ylim(.125,8.5)\n",
    "ax.set_facecolor(\"#FFFFFF\")\n",
    "\n",
    "for index, row in data_er_mitocarta_8hr.iterrows():\n",
    "    if index in ['CPS1', 'NGRN', 'SLMO1', 'CPT1B', 'UCP2', 'OBSCN', 'ACCS']:\n",
    "        ax.text(row[0] + 0.05, row[1], str(index), horizontalalignment='left', size='medium', color='#be00be', weight='semibold')\n",
    "    elif index in ['HOGA1','SLC25A27','TUBB3','MTCP1']:\n",
    "        ax.text(row[0] + 0.05, row[1], str(index), horizontalalignment='left', size='medium', color='green', weight='semibold')\n",
    "    else:\n",
    "        pass\n",
    "\n",
    "x = [.125,.250,.500,1,2,4,8]\n",
    "ticks = [\"1/8\",\"1/4\",\"1/2\",\"1\",\"2\",\"4\",\"8\"]\n",
    "\n",
    "ax.set_xscale('log', basex=2)\n",
    "ax.set_xticks(x)\n",
    "ax.set_xticklabels(ticks, fontsize=12)\n",
    "ax.set_xticklabels([\"\"]*len(x), minor=True)\n",
    "\n",
    "ax.set_yscale('log', basey=2)\n",
    "ax.set_yticks(x)\n",
    "ax.set_yticklabels(ticks, fontsize=12)\n",
    "ax.set_yticklabels([\"\"]*len(x), minor=True)\n",
    "\n",
    "#Prep data\n",
    "#All\n",
    "ribo_all = data_er_mitocarta_8hr[['RPF_fc']].sum(axis=1).values.tolist()\n",
    "ribo_all = np.array(ribo_all).astype(np.float)\n",
    "ribo_all = np.ndarray.tolist(ribo_all)\n",
    "\n",
    "rna_all = data_er_mitocarta_8hr[['RNA_fc']].sum(axis=1).values.tolist()\n",
    "rna_all = np.array(rna_all).astype(np.float)\n",
    "rna_all = np.ndarray.tolist(rna_all)\n",
    "\n",
    "#ORFs\n",
    "ribo_mito = data_er_mitocarta_8hr_sub[['RPF_fc']].sum(axis=1).values.tolist()\n",
    "ribo_mito = np.array(ribo_mito).astype(np.float)\n",
    "ribo_mito = np.ndarray.tolist(ribo_mito)\n",
    "\n",
    "rna_mito = data_er_mitocarta_8hr_sub[['RNA_fc']].sum(axis=1).values.tolist()\n",
    "rna_mito = np.array(rna_mito).astype(np.float)\n",
    "rna_mito = np.ndarray.tolist(rna_mito)\n",
    "\n",
    "#Plot data\n",
    "ax.scatter(rna_all, ribo_all, s=.5,c='gray')\n",
    "ax.scatter(rna_mito, ribo_mito, s=10,c='#002c80')\n",
    "\n",
    "plt.savefig('./plots/tm_cancer_mitocarta_8hr.pdf', dpi=1800, bbox_inches='tight')\n",
    "\n",
    "plt.show"
   ]
  },
  {
   "cell_type": "code",
   "execution_count": null,
   "metadata": {},
   "outputs": [],
   "source": []
  },
  {
   "cell_type": "code",
   "execution_count": null,
   "metadata": {},
   "outputs": [],
   "source": []
  },
  {
   "cell_type": "code",
   "execution_count": null,
   "metadata": {},
   "outputs": [],
   "source": []
  },
  {
   "cell_type": "code",
   "execution_count": 53,
   "metadata": {},
   "outputs": [
    {
     "data": {
      "text/html": [
       "<div>\n",
       "<style scoped>\n",
       "    .dataframe tbody tr th:only-of-type {\n",
       "        vertical-align: middle;\n",
       "    }\n",
       "\n",
       "    .dataframe tbody tr th {\n",
       "        vertical-align: top;\n",
       "    }\n",
       "\n",
       "    .dataframe thead th {\n",
       "        text-align: right;\n",
       "    }\n",
       "</style>\n",
       "<table border=\"1\" class=\"dataframe\">\n",
       "  <thead>\n",
       "    <tr style=\"text-align: right;\">\n",
       "      <th></th>\n",
       "      <th>RNA_fc</th>\n",
       "      <th>RPF_fc</th>\n",
       "    </tr>\n",
       "  </thead>\n",
       "  <tbody>\n",
       "    <tr>\n",
       "      <th>LETM2</th>\n",
       "      <td>0.849796</td>\n",
       "      <td>2.011269</td>\n",
       "    </tr>\n",
       "  </tbody>\n",
       "</table>\n",
       "</div>"
      ],
      "text/plain": [
       "         RNA_fc    RPF_fc\n",
       "LETM2  0.849796  2.011269"
      ]
     },
     "execution_count": 53,
     "metadata": {},
     "output_type": "execute_result"
    }
   ],
   "source": [
    "data_er_mitocarta_1hr_sub[data_er_mitocarta_1hr_sub['RPF_fc'] > 2]"
   ]
  },
  {
   "cell_type": "code",
   "execution_count": 54,
   "metadata": {},
   "outputs": [
    {
     "data": {
      "text/html": [
       "<div>\n",
       "<style scoped>\n",
       "    .dataframe tbody tr th:only-of-type {\n",
       "        vertical-align: middle;\n",
       "    }\n",
       "\n",
       "    .dataframe tbody tr th {\n",
       "        vertical-align: top;\n",
       "    }\n",
       "\n",
       "    .dataframe thead th {\n",
       "        text-align: right;\n",
       "    }\n",
       "</style>\n",
       "<table border=\"1\" class=\"dataframe\">\n",
       "  <thead>\n",
       "    <tr style=\"text-align: right;\">\n",
       "      <th></th>\n",
       "      <th>RNA_fc</th>\n",
       "      <th>RPF_fc</th>\n",
       "    </tr>\n",
       "  </thead>\n",
       "  <tbody>\n",
       "    <tr>\n",
       "      <th>HOGA1</th>\n",
       "      <td>0.970985</td>\n",
       "      <td>0.441492</td>\n",
       "    </tr>\n",
       "    <tr>\n",
       "      <th>SLC25A27</th>\n",
       "      <td>1.175499</td>\n",
       "      <td>0.178335</td>\n",
       "    </tr>\n",
       "    <tr>\n",
       "      <th>TUBB3</th>\n",
       "      <td>1.174143</td>\n",
       "      <td>0.489091</td>\n",
       "    </tr>\n",
       "    <tr>\n",
       "      <th>MTCP1</th>\n",
       "      <td>0.976272</td>\n",
       "      <td>0.400290</td>\n",
       "    </tr>\n",
       "    <tr>\n",
       "      <th>ASAH2</th>\n",
       "      <td>0.865641</td>\n",
       "      <td>0.000000</td>\n",
       "    </tr>\n",
       "  </tbody>\n",
       "</table>\n",
       "</div>"
      ],
      "text/plain": [
       "            RNA_fc    RPF_fc\n",
       "HOGA1     0.970985  0.441492\n",
       "SLC25A27  1.175499  0.178335\n",
       "TUBB3     1.174143  0.489091\n",
       "MTCP1     0.976272  0.400290\n",
       "ASAH2     0.865641  0.000000"
      ]
     },
     "execution_count": 54,
     "metadata": {},
     "output_type": "execute_result"
    }
   ],
   "source": [
    "data_er_mitocarta_1hr_sub[data_er_mitocarta_1hr_sub['RPF_fc'] < 0.5]"
   ]
  },
  {
   "cell_type": "code",
   "execution_count": 55,
   "metadata": {},
   "outputs": [
    {
     "data": {
      "text/html": [
       "<div>\n",
       "<style scoped>\n",
       "    .dataframe tbody tr th:only-of-type {\n",
       "        vertical-align: middle;\n",
       "    }\n",
       "\n",
       "    .dataframe tbody tr th {\n",
       "        vertical-align: top;\n",
       "    }\n",
       "\n",
       "    .dataframe thead th {\n",
       "        text-align: right;\n",
       "    }\n",
       "</style>\n",
       "<table border=\"1\" class=\"dataframe\">\n",
       "  <thead>\n",
       "    <tr style=\"text-align: right;\">\n",
       "      <th></th>\n",
       "      <th>RNA_fc</th>\n",
       "      <th>RPF_fc</th>\n",
       "    </tr>\n",
       "  </thead>\n",
       "  <tbody>\n",
       "    <tr>\n",
       "      <th>HOGA1</th>\n",
       "      <td>1.148415</td>\n",
       "      <td>2.921565</td>\n",
       "    </tr>\n",
       "    <tr>\n",
       "      <th>LETM2</th>\n",
       "      <td>0.783002</td>\n",
       "      <td>2.017663</td>\n",
       "    </tr>\n",
       "  </tbody>\n",
       "</table>\n",
       "</div>"
      ],
      "text/plain": [
       "         RNA_fc    RPF_fc\n",
       "HOGA1  1.148415  2.921565\n",
       "LETM2  0.783002  2.017663"
      ]
     },
     "execution_count": 55,
     "metadata": {},
     "output_type": "execute_result"
    }
   ],
   "source": [
    "data_er_mitocarta_4hr_sub[data_er_mitocarta_4hr_sub['RPF_fc'] > 2]"
   ]
  },
  {
   "cell_type": "code",
   "execution_count": 56,
   "metadata": {},
   "outputs": [
    {
     "data": {
      "text/html": [
       "<div>\n",
       "<style scoped>\n",
       "    .dataframe tbody tr th:only-of-type {\n",
       "        vertical-align: middle;\n",
       "    }\n",
       "\n",
       "    .dataframe tbody tr th {\n",
       "        vertical-align: top;\n",
       "    }\n",
       "\n",
       "    .dataframe thead th {\n",
       "        text-align: right;\n",
       "    }\n",
       "</style>\n",
       "<table border=\"1\" class=\"dataframe\">\n",
       "  <thead>\n",
       "    <tr style=\"text-align: right;\">\n",
       "      <th></th>\n",
       "      <th>RNA_fc</th>\n",
       "      <th>RPF_fc</th>\n",
       "    </tr>\n",
       "  </thead>\n",
       "  <tbody>\n",
       "    <tr>\n",
       "      <th>SLC25A27</th>\n",
       "      <td>1.390011</td>\n",
       "      <td>0.228401</td>\n",
       "    </tr>\n",
       "    <tr>\n",
       "      <th>PAM16</th>\n",
       "      <td>0.818582</td>\n",
       "      <td>0.459915</td>\n",
       "    </tr>\n",
       "    <tr>\n",
       "      <th>NT5M</th>\n",
       "      <td>0.724440</td>\n",
       "      <td>0.381531</td>\n",
       "    </tr>\n",
       "    <tr>\n",
       "      <th>BCL2</th>\n",
       "      <td>1.013041</td>\n",
       "      <td>0.413921</td>\n",
       "    </tr>\n",
       "  </tbody>\n",
       "</table>\n",
       "</div>"
      ],
      "text/plain": [
       "            RNA_fc    RPF_fc\n",
       "SLC25A27  1.390011  0.228401\n",
       "PAM16     0.818582  0.459915\n",
       "NT5M      0.724440  0.381531\n",
       "BCL2      1.013041  0.413921"
      ]
     },
     "execution_count": 56,
     "metadata": {},
     "output_type": "execute_result"
    }
   ],
   "source": [
    "data_er_mitocarta_4hr_sub[data_er_mitocarta_4hr_sub['RPF_fc'] < 0.5]"
   ]
  },
  {
   "cell_type": "code",
   "execution_count": 57,
   "metadata": {},
   "outputs": [
    {
     "data": {
      "text/html": [
       "<div>\n",
       "<style scoped>\n",
       "    .dataframe tbody tr th:only-of-type {\n",
       "        vertical-align: middle;\n",
       "    }\n",
       "\n",
       "    .dataframe tbody tr th {\n",
       "        vertical-align: top;\n",
       "    }\n",
       "\n",
       "    .dataframe thead th {\n",
       "        text-align: right;\n",
       "    }\n",
       "</style>\n",
       "<table border=\"1\" class=\"dataframe\">\n",
       "  <thead>\n",
       "    <tr style=\"text-align: right;\">\n",
       "      <th></th>\n",
       "      <th>RNA_fc</th>\n",
       "      <th>RPF_fc</th>\n",
       "    </tr>\n",
       "  </thead>\n",
       "  <tbody>\n",
       "    <tr>\n",
       "      <th>BCKDHA</th>\n",
       "      <td>1.000191</td>\n",
       "      <td>2.380176</td>\n",
       "    </tr>\n",
       "    <tr>\n",
       "      <th>ALDH1L2</th>\n",
       "      <td>3.151000</td>\n",
       "      <td>2.344494</td>\n",
       "    </tr>\n",
       "    <tr>\n",
       "      <th>HOGA1</th>\n",
       "      <td>0.987247</td>\n",
       "      <td>3.122776</td>\n",
       "    </tr>\n",
       "    <tr>\n",
       "      <th>PCK2</th>\n",
       "      <td>2.086876</td>\n",
       "      <td>2.592411</td>\n",
       "    </tr>\n",
       "    <tr>\n",
       "      <th>NT5M</th>\n",
       "      <td>0.670859</td>\n",
       "      <td>2.463268</td>\n",
       "    </tr>\n",
       "    <tr>\n",
       "      <th>PMAIP1</th>\n",
       "      <td>1.824296</td>\n",
       "      <td>2.180353</td>\n",
       "    </tr>\n",
       "    <tr>\n",
       "      <th>MTCP1</th>\n",
       "      <td>0.790539</td>\n",
       "      <td>2.524293</td>\n",
       "    </tr>\n",
       "  </tbody>\n",
       "</table>\n",
       "</div>"
      ],
      "text/plain": [
       "           RNA_fc    RPF_fc\n",
       "BCKDHA   1.000191  2.380176\n",
       "ALDH1L2  3.151000  2.344494\n",
       "HOGA1    0.987247  3.122776\n",
       "PCK2     2.086876  2.592411\n",
       "NT5M     0.670859  2.463268\n",
       "PMAIP1   1.824296  2.180353\n",
       "MTCP1    0.790539  2.524293"
      ]
     },
     "execution_count": 57,
     "metadata": {},
     "output_type": "execute_result"
    }
   ],
   "source": [
    "data_er_mitocarta_8hr_sub[data_er_mitocarta_8hr_sub['RPF_fc'] > 2]"
   ]
  },
  {
   "cell_type": "code",
   "execution_count": 58,
   "metadata": {},
   "outputs": [
    {
     "data": {
      "text/html": [
       "<div>\n",
       "<style scoped>\n",
       "    .dataframe tbody tr th:only-of-type {\n",
       "        vertical-align: middle;\n",
       "    }\n",
       "\n",
       "    .dataframe tbody tr th {\n",
       "        vertical-align: top;\n",
       "    }\n",
       "\n",
       "    .dataframe thead th {\n",
       "        text-align: right;\n",
       "    }\n",
       "</style>\n",
       "<table border=\"1\" class=\"dataframe\">\n",
       "  <thead>\n",
       "    <tr style=\"text-align: right;\">\n",
       "      <th></th>\n",
       "      <th>RNA_fc</th>\n",
       "      <th>RPF_fc</th>\n",
       "    </tr>\n",
       "  </thead>\n",
       "  <tbody>\n",
       "    <tr>\n",
       "      <th>SLC25A35</th>\n",
       "      <td>0.747215</td>\n",
       "      <td>0.350772</td>\n",
       "    </tr>\n",
       "    <tr>\n",
       "      <th>SLC25A27</th>\n",
       "      <td>1.618530</td>\n",
       "      <td>0.389129</td>\n",
       "    </tr>\n",
       "    <tr>\n",
       "      <th>PAM16</th>\n",
       "      <td>0.830383</td>\n",
       "      <td>0.247952</td>\n",
       "    </tr>\n",
       "    <tr>\n",
       "      <th>ARL2</th>\n",
       "      <td>0.704337</td>\n",
       "      <td>0.400344</td>\n",
       "    </tr>\n",
       "    <tr>\n",
       "      <th>CPT1C</th>\n",
       "      <td>0.724134</td>\n",
       "      <td>0.462876</td>\n",
       "    </tr>\n",
       "    <tr>\n",
       "      <th>ASAH2</th>\n",
       "      <td>0.928405</td>\n",
       "      <td>0.000000</td>\n",
       "    </tr>\n",
       "  </tbody>\n",
       "</table>\n",
       "</div>"
      ],
      "text/plain": [
       "            RNA_fc    RPF_fc\n",
       "SLC25A35  0.747215  0.350772\n",
       "SLC25A27  1.618530  0.389129\n",
       "PAM16     0.830383  0.247952\n",
       "ARL2      0.704337  0.400344\n",
       "CPT1C     0.724134  0.462876\n",
       "ASAH2     0.928405  0.000000"
      ]
     },
     "execution_count": 58,
     "metadata": {},
     "output_type": "execute_result"
    }
   ],
   "source": [
    "data_er_mitocarta_8hr_sub[data_er_mitocarta_8hr_sub['RPF_fc'] < 0.5]"
   ]
  },
  {
   "cell_type": "code",
   "execution_count": null,
   "metadata": {},
   "outputs": [],
   "source": []
  }
 ],
 "metadata": {
  "kernelspec": {
   "display_name": "Python 3",
   "language": "python",
   "name": "python3"
  },
  "language_info": {
   "codemirror_mode": {
    "name": "ipython",
    "version": 3
   },
   "file_extension": ".py",
   "mimetype": "text/x-python",
   "name": "python",
   "nbconvert_exporter": "python",
   "pygments_lexer": "ipython3",
   "version": "3.6.6"
  }
 },
 "nbformat": 4,
 "nbformat_minor": 2
}
